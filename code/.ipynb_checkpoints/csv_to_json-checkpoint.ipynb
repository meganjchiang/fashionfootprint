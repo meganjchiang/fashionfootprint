{
 "cells": [
  {
   "cell_type": "code",
   "execution_count": 7,
   "id": "a44f28a2-88a5-4710-ad3b-c9c48c9ca402",
   "metadata": {},
   "outputs": [],
   "source": [
    "import csv\n",
    "import json\n",
    "import os"
   ]
  },
  {
   "cell_type": "code",
   "execution_count": 8,
   "id": "cbe50823-d0be-4a4e-8541-1c947cb837d0",
   "metadata": {},
   "outputs": [],
   "source": [
    "def csv_to_json(csv_file_path, json_file_path):\n",
    "    with open(csv_file_path, 'r') as csv_file:\n",
    "        csv_reader = csv.DictReader(csv_file)\n",
    "        json_data = [row for row in csv_reader]\n",
    "\n",
    "    with open(json_file_path, 'w') as json_file:\n",
    "        json.dump(json_data, json_file, indent=4)"
   ]
  },
  {
   "cell_type": "code",
   "execution_count": 9,
   "id": "24d2f063-90ef-42c8-b8ba-2ac34ec0c836",
   "metadata": {},
   "outputs": [],
   "source": [
    "# input csv file path\n",
    "csv_file_path = 'data/small_aritzia_scores.csv'\n",
    "\n",
    "# output folder path\n",
    "output_folder = 'data/json_data/'\n",
    "json_file_path = os.path.join(output_folder, 'small_aritzia_scores.json')\n",
    "\n",
    "csv_to_json(csv_file_path, json_file_path)"
   ]
  },
  {
   "cell_type": "code",
   "execution_count": null,
   "id": "d99f27f4-e8d6-4762-8024-0080d3405a20",
   "metadata": {},
   "outputs": [],
   "source": []
  }
 ],
 "metadata": {
  "kernelspec": {
   "display_name": "Python 3 (ipykernel)",
   "language": "python",
   "name": "python3"
  },
  "language_info": {
   "codemirror_mode": {
    "name": "ipython",
    "version": 3
   },
   "file_extension": ".py",
   "mimetype": "text/x-python",
   "name": "python",
   "nbconvert_exporter": "python",
   "pygments_lexer": "ipython3",
   "version": "3.11.7"
  }
 },
 "nbformat": 4,
 "nbformat_minor": 5
}
