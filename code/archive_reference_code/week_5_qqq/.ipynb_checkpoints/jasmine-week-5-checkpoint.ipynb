{
 "cells": [
  {
   "cell_type": "markdown",
   "metadata": {},
   "source": [
    "## **Q#** How can I calculate a score based on the materials? *(Jasmine)*\n",
    "\n",
    "### Qualitative:\n",
    "#### Problem -\n",
    "- We have extracted the materials from 30 brands, how do we automatically calculate a score for the materials?\n",
    "#### Hypothesis & Assumptions -\n",
    "- \n",
    "#### Context, Motivation & Rationale -\n",
    "- We want the Chrome Extension to access the links provided in the description of YouTube hauls on clothing, so that we can find the material and generate a sustainability score for the items featured in the video\n",
    "#### Definitions, Data, and Methods -\n",
    "- [Higg Materials Sustainability Index (Higg MSI)](https://howtohigg.org/higg-msi/an-introduction-to-msi/) - \"material assessment tool that calculates the environmental impacts of materials used in consumer goods industries.\"\n",
    "- Higg MSI measures environmental impact in 5 areas:\n",
    "    - Global warming\n",
    "    - Nutrient pollution in water (eutrophication)\n",
    "    - Water scarcity\n",
    "    - Abiotic resource depletion, use of fossil fuels\n",
    "    - Chemistry\n",
    "- [Material Score Calculator](https://www.selflessclothes.com/blog/sustainability-calculator/) - \n",
    "#### Biases & Assumptions\n",
    "- "
   ]
  }
 ],
 "metadata": {
  "kernelspec": {
   "display_name": "base",
   "language": "python",
   "name": "python3"
  },
  "language_info": {
   "codemirror_mode": {
    "name": "ipython",
    "version": 3
   },
   "file_extension": ".py",
   "mimetype": "text/x-python",
   "name": "python",
   "nbconvert_exporter": "python",
   "pygments_lexer": "ipython3",
   "version": "3.11.7"
  }
 },
 "nbformat": 4,
 "nbformat_minor": 2
}
