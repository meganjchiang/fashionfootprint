{
 "cells": [
  {
   "cell_type": "markdown",
   "metadata": {},
   "source": [
    "# This was a workspace, f21_ver2.ipynb works the best"
   ]
  },
  {
   "cell_type": "code",
   "execution_count": 30,
   "metadata": {},
   "outputs": [],
   "source": [
    "from selenium import webdriver\n",
    "from selenium.webdriver.chrome.options import Options\n",
    "from selenium.webdriver.common.by import By\n",
    "from selenium.webdriver.support.ui import WebDriverWait\n",
    "from selenium.webdriver.support import expected_conditions as EC\n",
    "from lxml import html\n",
    "from bs4 import BeautifulSoup\n",
    "import requests\n",
    "import time\n",
    "import re"
   ]
  },
  {
   "cell_type": "code",
   "execution_count": 6,
   "metadata": {},
   "outputs": [
    {
     "name": "stdout",
     "output_type": "stream",
     "text": [
      "('Bubble-Hem Babydoll Mini Dress', '- Shell: 77% rayon, 23% nylon\\n- Lining: 100% polyester\\n- Hand wash cold')\n"
     ]
    }
   ],
   "source": [
    "# USES SELENIUM\n",
    "def scrape_f21(url, target_element_xpath, wait_time=10):\n",
    "    try:\n",
    "        chrome_options = Options()\n",
    "\n",
    "        driver = webdriver.Chrome(options=chrome_options)\n",
    "        \n",
    "        driver.get(url)\n",
    "\n",
    "        product_name_element = WebDriverWait(driver, wait_time).until(\n",
    "            EC.visibility_of_element_located((By.CLASS_NAME, \"pdp__name\"))\n",
    "        )\n",
    "        product_name = product_name_element.text\n",
    "\n",
    "        target_element = WebDriverWait(driver, wait_time).until(\n",
    "            EC.visibility_of_element_located((By.XPATH, target_element_xpath))\n",
    "        )\n",
    "\n",
    "        dynamic_content = target_element.text\n",
    "        \n",
    "        return product_name, dynamic_content\n",
    "        \n",
    "    except Exception as e:\n",
    "        print(f\"An error occurred: {str(e)}\")\n",
    "        return None\n",
    "        \n",
    "    finally:\n",
    "        # Close the WebDriver\n",
    "        driver.quit()\n",
    "\n",
    "url = \"https://www.forever21.com/us/2001274878.html\"\n",
    "target_element_xpath = '//*[@id=\"main\"]/div[2]/div[1]/div[2]/div[3]/div/div[6]/div/div[1]/section[2]/div'\n",
    "\n",
    "dynamic_content = scrape_f21(url, target_element_xpath)\n",
    "if dynamic_content:\n",
    "    print(dynamic_content)"
   ]
  },
  {
   "cell_type": "markdown",
   "metadata": {},
   "source": [
    "Below uses beautiful soup and requests!"
   ]
  },
  {
   "cell_type": "code",
   "execution_count": 43,
   "metadata": {},
   "outputs": [
    {
     "name": "stdout",
     "output_type": "stream",
     "text": [
      "scraping link https://www.forever21.com/us/2001274878.html\n",
      "('Bubble-Hem Babydoll Mini Dress', '- Shell: 77% rayon, 23% nylon- Lining: 100% polyester- Hand wash cold')\n",
      "scraping link https://www.forever21.com/us/20012736030102.html\n",
      "HTTP error occurred: 403 Client Error: Forbidden for url: https://www.forever21.com/us/20012736030102.html\n",
      "scraping link https://www.forever21.com/us/2001274138.html\n",
      "('Mesh Floral Print Midi Skirt', '- Shell: 94% polyester, 6% spandex- Lining: 96% polyester, 4% spandex- Hand wash cold')\n",
      "scraping link https://www.forever21.com/us/20004974310102.html\n",
      "('Mesh Draped-Sleeve Mini Dress', '- Shell, Lining, & Other contents: 100% polyester- Hand wash cold')\n",
      "scraping link https://www.forever21.com/us/20004709370602.html?source=shoppingads&glCountry=US&glCurrency=USD&utm_source=google&utm_medium=cpc&utm_campaign=FPMX_StandardShopping_BrandTEST&utm_id=71700000118295495&gad_source=1&gclid=Cj0KCQjw0MexBhD3ARIsAEI3WHKdcjYy1wEfkj2sr7imRFNivlIrBz1F4zPtTliRnHGlzHzy-3CWRDMaAmhpEALw_wcB&gclsrc=aw.ds\n",
      "('Mesh Slip Mini Dress', '- Shell 1: 95% polyester, 5% spandex- Shell 2: 90% nylon, 10% spandex- Lining: 100% polyester- Hand wash cold')\n",
      "scraping link https://www.forever21.com/us/20012730370205.html\n",
      "HTTP error occurred: 403 Client Error: Forbidden for url: https://www.forever21.com/us/20012730370205.html\n"
     ]
    }
   ],
   "source": [
    "def scrape_f21(url):\n",
    "    try:\n",
    "        headers = {\n",
    "            'User-Agent': 'Mozilla/5.0 (Windows NT 10.0; Win64; x64) AppleWebKit/537.36 (KHTML, like Gecko) Chrome/58.0.3029.110 Safari/537.36'\n",
    "        }\n",
    "        response = requests.get(url, headers=headers)\n",
    "        response.raise_for_status() \n",
    "\n",
    "        soup = BeautifulSoup(response.text, 'html.parser')\n",
    "\n",
    "        product_name = soup.find('h1', class_='pdp__name')\n",
    "        product_name = product_name.get_text(strip=True) if product_name else \"Product name not found\"\n",
    "\n",
    "        content = soup.find('h3', string='Content + Care').find_next('div', class_='d_content').get_text(strip=True)\n",
    "\n",
    "\n",
    "        return product_name, content\n",
    "\n",
    "    except requests.HTTPError as e:\n",
    "        print(f\"HTTP error occurred: {str(e)}\")\n",
    "    except Exception as e:\n",
    "        print(f\"An error occurred: {str(e)}\")\n",
    "    return None\n",
    "\n",
    "urls = [\n",
    "    \"https://www.forever21.com/us/2001274878.html\",\n",
    "    \"https://www.forever21.com/us/20012736030102.html\",\n",
    "    \"https://www.forever21.com/us/2001274138.html\",\n",
    "    \"https://www.forever21.com/us/20004974310102.html\",\n",
    "    \"https://www.forever21.com/us/20004709370602.html?source=shoppingads&glCountry=US&glCurrency=USD&utm_source=google&utm_medium=cpc&utm_campaign=FPMX_StandardShopping_BrandTEST&utm_id=71700000118295495&gad_source=1&gclid=Cj0KCQjw0MexBhD3ARIsAEI3WHKdcjYy1wEfkj2sr7imRFNivlIrBz1F4zPtTliRnHGlzHzy-3CWRDMaAmhpEALw_wcB&gclsrc=aw.ds\",\n",
    "    \"https://www.forever21.com/us/20012730370205.html\"\n",
    "]\n",
    "\n",
    "for url in urls:\n",
    "    print(\"scraping link\", url)\n",
    "    product_info = scrape_f21(url)\n",
    "    if product_info:\n",
    "        print(product_info)\n",
    "    \n"
   ]
  },
  {
   "cell_type": "code",
   "execution_count": 41,
   "metadata": {},
   "outputs": [
    {
     "name": "stdout",
     "output_type": "stream",
     "text": [
      "An error occurred: too many values to unpack (expected 2)\n",
      "{'error': 'error occurred'}\n",
      "Attempt 1: HTTP error 403 encountered. Retrying...\n",
      "An error occurred: too many values to unpack (expected 2)\n",
      "{'error': 'error occurred'}\n",
      "An error occurred: too many values to unpack (expected 2)\n",
      "{'error': 'error occurred'}\n",
      "An error occurred: too many values to unpack (expected 2)\n",
      "{'error': 'error occurred'}\n",
      "An error occurred: too many values to unpack (expected 2)\n",
      "{'error': 'error occurred'}\n",
      "Attempt 1: HTTP error 403 encountered. Retrying...\n",
      "Attempt 2: HTTP error 403 encountered. Retrying...\n",
      "An error occurred: too many values to unpack (expected 2)\n",
      "{'error': 'error occurred'}\n"
     ]
    }
   ],
   "source": [
    "import requests\n",
    "from bs4 import BeautifulSoup\n",
    "from time import sleep\n",
    "import random\n",
    "\n",
    "USER_AGENTS = [\n",
    "    'Mozilla/5.0 (Windows NT 10.0; Win64; x64) AppleWebKit/537.36 (KHTML, like Gecko) Chrome/58.0.3029.110 Safari/537.36',\n",
    "    'Mozilla/5.0 (Macintosh; Intel Mac OS X 10_15_7) AppleWebKit/605.1.15 (KHTML, like Gecko) Version/14.0.3 Safari/605.1.15',\n",
    "    'Mozilla/5.0 (Windows NT 10.0; Win64; x64; rv:77.0) Gecko/20100101 Firefox/77.0',\n",
    "]\n",
    "\n",
    "def scrape_f21(url, max_retries=3):\n",
    "    session = requests.Session()  \n",
    "    retries = 0\n",
    "\n",
    "    while retries < max_retries:\n",
    "        try:\n",
    "            headers = {'User-Agent': random.choice(USER_AGENTS)}\n",
    "            response = session.get(url, headers=headers)\n",
    "            response.raise_for_status()\n",
    "\n",
    "            soup = BeautifulSoup(response.text, 'html.parser')\n",
    "\n",
    "            product_name = soup.find('h1', class_='pdp__name')\n",
    "            product_name = product_name.get_text(strip=True) if product_name else \"Product name not found\"\n",
    "            content = soup.find('h3', string='Content + Care').find_next('div', class_='d_content').get_text(strip=True)\n",
    "            \n",
    "            product = (product_name, content)\n",
    "\n",
    "            return format_product_info(product)\n",
    "\n",
    "        except requests.HTTPError as e:\n",
    "            if e.response.status_code == 403:\n",
    "                print(f\"Attempt {retries+1}: HTTP error 403 encountered. Retrying...\")\n",
    "                retries += 1\n",
    "                sleep(5) \n",
    "            else:\n",
    "                print(f\"HTTP error occurred: {str(e)}\")\n",
    "                break\n",
    "        except Exception as e:\n",
    "            print(f\"An error occurred: {str(e)}\")\n",
    "            break\n",
    "    return {'error': \"error occurred\"}\n",
    "\n",
    "urls = [\n",
    "    \"https://www.forever21.com/us/2001274878.html\",\n",
    "    \"https://www.forever21.com/us/20012736030102.html\",\n",
    "    \"https://www.forever21.com/us/2001274138.html\",\n",
    "    \"https://www.forever21.com/us/20004974310102.html\",\n",
    "    \"https://www.forever21.com/us/20004709370602.html?source=shoppingads&glCountry=US&glCurrency=USD&utm_source=google&utm_medium=cpc&utm_campaign=FPMX_StandardShopping_BrandTEST&utm_id=71700000118295495&gad_source=1&gclid=Cj0KCQjw0MexBhD3ARIsAEI3WHKdcjYy1wEfkj2sr7imRFNivlIrBz1F4zPtTliRnHGlzHzy-3CWRDMaAmhpEALw_wcB&gclsrc=aw.ds\",\n",
    "    \"https://www.forever21.com/us/20012730370205.html\"\n",
    "]\n",
    "\n",
    "scraped_data = []\n",
    "\n",
    "for url in urls:\n",
    "    # print(\"Scraping link\", url)\n",
    "    product_info = scrape_f21(url)\n",
    "    if product_info:\n",
    "        print(product_info)\n",
    "        scraped_data.append(product_info)\n"
   ]
  },
  {
   "cell_type": "code",
   "execution_count": 32,
   "metadata": {},
   "outputs": [
    {
     "data": {
      "text/plain": [
       "[]"
      ]
     },
     "execution_count": 32,
     "metadata": {},
     "output_type": "execute_result"
    }
   ],
   "source": [
    "scraped_data"
   ]
  },
  {
   "cell_type": "code",
   "execution_count": 40,
   "metadata": {},
   "outputs": [
    {
     "name": "stdout",
     "output_type": "stream",
     "text": [
      "- Shell: 77% rayon, 23% nylon- Lining: 100% polyester- Hand wash cold\n",
      "- 100% polyester- Hand wash cold\n",
      "- Shell: 94% polyester, 6% spandex- Lining: 96% polyester, 4% spandex- Hand wash cold\n",
      "- Shell, Lining, & Other contents: 100% polyester- Hand wash cold\n",
      "- Shell 1: 95% polyester, 5% spandex- Shell 2: 90% nylon, 10% spandex- Lining: 100% polyester- Hand wash cold\n",
      "- 97% polyester, 3% spandex- Hand wash cold\n",
      "{'item': 'Bubble-Hem Babydoll Mini Dress', 'rayon': 77, 'nylon': 23}\n",
      "{'item': 'Tiered Drawstring Maxi Skirt', 'polyester': 100}\n",
      "{'item': 'Mesh Floral Print Midi Skirt', 'polyester': 94, 'spandex': 6}\n",
      "{'item': 'Mesh Draped-Sleeve Mini Dress', 'polyester': 100}\n",
      "{'item': 'Mesh Slip Mini Dress', 'polyester': 95, 'spandex': 5}\n",
      "{'item': 'Lace-Trim Tube Mini Dress', 'polyester': 97, 'spandex': 3}\n"
     ]
    }
   ],
   "source": [
    "def parse_materials(content):\n",
    "    print(content)\n",
    "    material_dict = {}\n",
    "\n",
    "    pattern = r'(\\d+)%\\s*([a-zA-Z]+)'\n",
    "\n",
    "    # Prioritize \"Shell 1\" over \"Shell 2\", and \"Shell\" over \"Lining\"\n",
    "    if \"Shell 1:\" in content:\n",
    "        # Extract the content specifically for \"Shell 1\"\n",
    "        content = content.split(\"Shell 1:\")[1].split(\"-\")[0]\n",
    "    elif \"Shell:\" in content:\n",
    "        # Split the content and avoid considering \"Lining\" or \"Other contents\" if \"Shell\" is present\n",
    "        content = content.split(\"Shell:\")[1].split(\"-\")[0]\n",
    "\n",
    "    matches = re.findall(pattern, content)\n",
    "    for match in matches:\n",
    "        percentage, material = match\n",
    "        material_dict[material.lower()] = int(percentage)\n",
    "\n",
    "    return material_dict\n",
    "\n",
    "def format_product_info(products):\n",
    "    formatted_products = []\n",
    "\n",
    "    for name, content in products:\n",
    "        \n",
    "        material_info = parse_materials(content)\n",
    "        product_dict = {'item': name}\n",
    "        product_dict.update(material_info)\n",
    "        formatted_products.append(product_dict)\n",
    "\n",
    "    return formatted_products\n",
    "\n",
    "\n",
    "product_info = [\n",
    "    ('Bubble-Hem Babydoll Mini Dress', '- Shell: 77% rayon, 23% nylon- Lining: 100% polyester- Hand wash cold'),\n",
    "    ('Tiered Drawstring Maxi Skirt', '- 100% polyester- Hand wash cold'),\n",
    "    ('Mesh Floral Print Midi Skirt', '- Shell: 94% polyester, 6% spandex- Lining: 96% polyester, 4% spandex- Hand wash cold'),\n",
    "    ('Mesh Draped-Sleeve Mini Dress', '- Shell, Lining, & Other contents: 100% polyester- Hand wash cold'),\n",
    "    ('Mesh Slip Mini Dress', '- Shell 1: 95% polyester, 5% spandex- Shell 2: 90% nylon, 10% spandex- Lining: 100% polyester- Hand wash cold'),\n",
    "    ('Lace-Trim Tube Mini Dress', '- 97% polyester, 3% spandex- Hand wash cold')\n",
    "]\n",
    "\n",
    "formatted_products = format_product_info(product_info)\n",
    "for product in formatted_products:\n",
    "    print(product)\n"
   ]
  },
  {
   "cell_type": "code",
   "execution_count": 42,
   "metadata": {},
   "outputs": [
    {
     "name": "stdout",
     "output_type": "stream",
     "text": [
      "- Shell: 77% rayon, 23% nylon- Lining: 100% polyester- Hand wash cold\n",
      "- 100% polyester- Hand wash cold\n",
      "- Shell: 94% polyester, 6% spandex- Lining: 96% polyester, 4% spandex- Hand wash cold\n",
      "- Shell, Lining, & Other contents: 100% polyester- Hand wash cold\n",
      "- Shell 1: 95% polyester, 5% spandex- Shell 2: 90% nylon, 10% spandex- Lining: 100% polyester- Hand wash cold\n",
      "- 97% polyester, 3% spandex- Hand wash cold\n",
      "{'item': 'Bubble-Hem Babydoll Mini Dress', 'rayon': 77, 'nylon': 23}\n",
      "{'item': 'Tiered Drawstring Maxi Skirt', 'polyester': 100}\n",
      "{'item': 'Mesh Floral Print Midi Skirt', 'polyester': 94, 'spandex': 6}\n",
      "{'item': 'Mesh Draped-Sleeve Mini Dress', 'polyester': 100}\n",
      "{'item': 'Mesh Slip Mini Dress', 'polyester': 95, 'spandex': 5}\n",
      "{'item': 'Lace-Trim Tube Mini Dress', 'polyester': 97, 'spandex': 3}\n"
     ]
    }
   ],
   "source": [
    "import re\n",
    "\n",
    "def format_product_info(products):\n",
    "    formatted_products = []\n",
    "\n",
    "    pattern = r'(\\d+)%\\s*([a-zA-Z]+)'\n",
    "    \n",
    "    for name, content in products:\n",
    "        print(content)  \n",
    "        material_dict = {}\n",
    "\n",
    "        # Prioritize \"Shell 1\" over \"Shell 2\", and \"Shell\" over \"Lining\"\n",
    "        if \"Shell 1:\" in content:\n",
    "            # Extract the content specifically for \"Shell 1\"\n",
    "            content = content.split(\"Shell 1:\")[1].split(\"-\")[0]\n",
    "        elif \"Shell:\" in content:\n",
    "            # Split the content and avoid considering \"Lining\" or \"Other contents\" if \"Shell\" is present\n",
    "            content = content.split(\"Shell:\")[1].split(\"-\")[0]\n",
    "\n",
    "        matches = re.findall(pattern, content)\n",
    "        for match in matches:\n",
    "            percentage, material = match\n",
    "            material_dict[material.lower()] = int(percentage)\n",
    "\n",
    "        product_dict = {'item': name}\n",
    "        product_dict.update(material_dict)\n",
    "        formatted_products.append(product_dict)\n",
    "\n",
    "    return formatted_products\n",
    "\n",
    "product_info = [\n",
    "    ('Bubble-Hem Babydoll Mini Dress', '- Shell: 77% rayon, 23% nylon- Lining: 100% polyester- Hand wash cold'),\n",
    "    ('Tiered Drawstring Maxi Skirt', '- 100% polyester- Hand wash cold'),\n",
    "    ('Mesh Floral Print Midi Skirt', '- Shell: 94% polyester, 6% spandex- Lining: 96% polyester, 4% spandex- Hand wash cold'),\n",
    "    ('Mesh Draped-Sleeve Mini Dress', '- Shell, Lining, & Other contents: 100% polyester- Hand wash cold'),\n",
    "    ('Mesh Slip Mini Dress', '- Shell 1: 95% polyester, 5% spandex- Shell 2: 90% nylon, 10% spandex- Lining: 100% polyester- Hand wash cold'),\n",
    "    ('Lace-Trim Tube Mini Dress', '- 97% polyester, 3% spandex- Hand wash cold')\n",
    "]\n",
    "\n",
    "formatted_products = format_product_info(product_info)\n",
    "for product in formatted_products:\n",
    "    print(product)\n"
   ]
  }
 ],
 "metadata": {
  "kernelspec": {
   "display_name": "Python 3",
   "language": "python",
   "name": "python3"
  },
  "language_info": {
   "codemirror_mode": {
    "name": "ipython",
    "version": 3
   },
   "file_extension": ".py",
   "mimetype": "text/x-python",
   "name": "python",
   "nbconvert_exporter": "python",
   "pygments_lexer": "ipython3",
   "version": "3.9.16"
  }
 },
 "nbformat": 4,
 "nbformat_minor": 2
}
