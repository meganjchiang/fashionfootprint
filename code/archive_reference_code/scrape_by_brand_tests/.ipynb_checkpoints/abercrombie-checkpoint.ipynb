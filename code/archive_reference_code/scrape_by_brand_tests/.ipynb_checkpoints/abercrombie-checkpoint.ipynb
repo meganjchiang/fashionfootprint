{
 "cells": [
  {
   "cell_type": "code",
   "execution_count": 8,
   "metadata": {},
   "outputs": [],
   "source": [
    "import pandas as pd"
   ]
  },
  {
   "cell_type": "code",
   "execution_count": 4,
   "metadata": {},
   "outputs": [],
   "source": [
    "from selenium import webdriver\n",
    "from selenium.webdriver.chrome.options import Options\n",
    "from selenium.webdriver.common.by import By\n",
    "from selenium.webdriver.support.ui import WebDriverWait\n",
    "from selenium.webdriver.support import expected_conditions as EC\n",
    "from lxml import html\n",
    "from bs4 import BeautifulSoup\n",
    "import requests\n",
    "import time"
   ]
  },
  {
   "cell_type": "code",
   "execution_count": 39,
   "metadata": {},
   "outputs": [],
   "source": [
    "def scrape_abercrombie(url):\n",
    "    try:\n",
    "        # Set Chrome options for headless mode\n",
    "        chrome_options = Options()\n",
    "        chrome_options.add_argument(\"--headless\")\n",
    "        \n",
    "        # Initialize the WebDriver\n",
    "        with webdriver.Chrome(options=chrome_options) as driver:\n",
    "            driver.get(url)\n",
    "            \n",
    "            # Wait for the page to fully load\n",
    "            WebDriverWait(driver, 25).until(EC.presence_of_element_located((By.CSS_SELECTOR, 'body')))\n",
    "            \n",
    "            # Get the page source after interactions\n",
    "            page_source = driver.page_source\n",
    "        \n",
    "        # Parse the page source with Beautiful Soup\n",
    "        soup = BeautifulSoup(page_source, \"html.parser\")\n",
    "        \n",
    "        # Find the <div> tag with class \"product__description rte\"\n",
    "        data_element = soup.find(\"h4\", class_=\"h4 fabric-care-mfe__label\")\n",
    "        \n",
    "        if data_element:\n",
    "            return data_element.text.strip()\n",
    "        else:\n",
    "            return \"Link no longer available.\"\n",
    "            \n",
    "    except Exception as e:\n",
    "        return f\"An error occurred: {str(e)}\""
   ]
  },
  {
   "cell_type": "code",
   "execution_count": 6,
   "metadata": {},
   "outputs": [],
   "source": [
    "abercrombie_videos = pd.read_csv(\"../../data/youtube_data/abercombie_youtube_data.csv\")\n"
   ]
  },
  {
   "cell_type": "code",
   "execution_count": 19,
   "metadata": {},
   "outputs": [],
   "source": [
    "def extract_links(links_str):\n",
    "    return links_str.split('\\n')"
   ]
  },
  {
   "cell_type": "code",
   "execution_count": 40,
   "metadata": {},
   "outputs": [
    {
     "name": "stdout",
     "output_type": "stream",
     "text": [
      "Scraping data from link: https://rstyle.me/+WRzqX5-AH-oR2gB_pKUUYw\n",
      "Pocket Bag:70% Polyester, 30% Cotton / Body:99% Cotton, 1% Elastane\n",
      "\n",
      "Scraping data from link: https://rstyle.me/+Js6thosPvSR3LDBsbGquSQ\n",
      "Body:88% Nylon, 12% Elastane / Lining:88% Nylon, 12% Elastane\n",
      "\n",
      "Scraping data from link: https://rstyle.me/+Z27ocdHpKhN8ooTp_e-3sQ\n",
      "Link no longer available.\n",
      "\n",
      "Scraping data from link: https://rstyle.me/+es1IN05es3_lCKR0HCpHTg\n",
      "Body:70% Cotton, 30% Polyester\n",
      "\n",
      "Scraping data from link: https://rstyle.me/+DORpnddCSEBxyL0gYV6thQ\n",
      "Link no longer available.\n",
      "\n",
      "Scraping data from link: https://rstyle.me/+p54bZE8TDimYLM1tsx8Ctw\\\n",
      "Body And Lining:95% Cotton, 5% Elastane\n",
      "\n",
      "Scraping data from link: https://rstyle.me/+5YJI9VyyIC_2kJAVAnt_CA\n",
      "Body:80% Polyester, 16% Viscose, 4% Elastane\n",
      "\n",
      "Scraping data from link: https://rstyle.me/+YJ-aMyJFxI6FMNlr3UTVUg\n",
      "Body:56% Polyester, 44% Viscose / Elastic:52% Polyester, 48% Elastodiene / Upper Body Lining:56% Polyester, 44% Viscose\n",
      "\n",
      "Scraping data from link: https://rstyle.me/+3r-Or1spSjtwK_oIr0TylQ\n",
      "Link no longer available.\n",
      "\n",
      "Scraping data from link: https://rstyle.me/+9FgNa5XklXtrLynuE0ks9g\n",
      "Body:99% Cotton, 1% Elastane\n",
      "\n",
      "Scraping data from link: https://rstyle.me/+dDITybnJN891vh2XUD6d6g\n",
      "Body:100% Polyester / Lining:97% Polyester, 3% Elastane\n",
      "\n",
      "Scraping data from link: https://rstyle.me/+pf_McMPn9qA2irhudNdL9g\n",
      "Link no longer available.\n",
      "\n"
     ]
    }
   ],
   "source": [
    "df = pd.read_csv(\"../../data/youtube_data/abercombie_youtube_data.csv\")\n",
    "top_row = df.iloc[0]\n",
    "links_list = top_row[\"Links\"].split('\\n')\n",
    "\n",
    "for link in links_list:\n",
    "    print(f\"Scraping data from link: {link}\")\n",
    "    scraped_data = scrape_abercrombie(link)\n",
    "    print(scraped_data + \"\\n\")\n",
    "    time.sleep(3)"
   ]
  }
 ],
 "metadata": {
  "kernelspec": {
   "display_name": "base",
   "language": "python",
   "name": "python3"
  },
  "language_info": {
   "codemirror_mode": {
    "name": "ipython",
    "version": 3
   },
   "file_extension": ".py",
   "mimetype": "text/x-python",
   "name": "python",
   "nbconvert_exporter": "python",
   "pygments_lexer": "ipython3",
   "version": "3.11.7"
  }
 },
 "nbformat": 4,
 "nbformat_minor": 2
}
