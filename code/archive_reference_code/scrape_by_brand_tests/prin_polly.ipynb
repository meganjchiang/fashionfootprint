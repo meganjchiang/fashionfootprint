{
 "cells": [
  {
   "cell_type": "code",
   "execution_count": 1,
   "metadata": {},
   "outputs": [],
   "source": [
    "# import statements\n",
    "import pandas as pd\n",
    "from selenium import webdriver\n",
    "from selenium.webdriver.chrome.options import Options\n",
    "from selenium.webdriver.common.by import By\n",
    "from selenium.webdriver.support.ui import WebDriverWait\n",
    "from selenium.webdriver.support import expected_conditions as EC\n",
    "from lxml import html\n",
    "from bs4 import BeautifulSoup\n",
    "import requests\n",
    "import time\n",
    "import re"
   ]
  },
  {
   "cell_type": "code",
   "execution_count": 3,
   "metadata": {},
   "outputs": [
    {
     "data": {
      "text/html": [
       "<div>\n",
       "<style scoped>\n",
       "    .dataframe tbody tr th:only-of-type {\n",
       "        vertical-align: middle;\n",
       "    }\n",
       "\n",
       "    .dataframe tbody tr th {\n",
       "        vertical-align: top;\n",
       "    }\n",
       "\n",
       "    .dataframe thead th {\n",
       "        text-align: right;\n",
       "    }\n",
       "</style>\n",
       "<table border=\"1\" class=\"dataframe\">\n",
       "  <thead>\n",
       "    <tr style=\"text-align: right;\">\n",
       "      <th></th>\n",
       "      <th>Title</th>\n",
       "      <th>Links</th>\n",
       "      <th>VideoLink</th>\n",
       "    </tr>\n",
       "  </thead>\n",
       "  <tbody>\n",
       "    <tr>\n",
       "      <th>0</th>\n",
       "      <td>Cozy Winter clothing haul🤎 best basics! prince...</td>\n",
       "      <td>https://us.princesspolly.com\\nhttps://youtu.be...</td>\n",
       "      <td>https://www.youtube.com/watch?v=aelUoWXyVRs</td>\n",
       "    </tr>\n",
       "    <tr>\n",
       "      <th>1</th>\n",
       "      <td>HUGE PRINCESS POLLY SPRING/SUMMER TRY-ON HAUL!...</td>\n",
       "      <td>https://us.princesspolly.com/\\nhttps://us.prin...</td>\n",
       "      <td>https://www.youtube.com/watch?v=HU45aY6OYnk</td>\n",
       "    </tr>\n",
       "  </tbody>\n",
       "</table>\n",
       "</div>"
      ],
      "text/plain": [
       "                                               Title  \\\n",
       "0  Cozy Winter clothing haul🤎 best basics! prince...   \n",
       "1  HUGE PRINCESS POLLY SPRING/SUMMER TRY-ON HAUL!...   \n",
       "\n",
       "                                               Links  \\\n",
       "0  https://us.princesspolly.com\\nhttps://youtu.be...   \n",
       "1  https://us.princesspolly.com/\\nhttps://us.prin...   \n",
       "\n",
       "                                     VideoLink  \n",
       "0  https://www.youtube.com/watch?v=aelUoWXyVRs  \n",
       "1  https://www.youtube.com/watch?v=HU45aY6OYnk  "
      ]
     },
     "execution_count": 3,
     "metadata": {},
     "output_type": "execute_result"
    }
   ],
   "source": [
    "df = pd.read_csv(\"../../data/youtube_data/princess_polly_youtube_data.csv\")\n",
    "df.head(2)"
   ]
  },
  {
   "cell_type": "code",
   "execution_count": 12,
   "metadata": {},
   "outputs": [],
   "source": [
    "def scrape_princess_polly(url):\n",
    "    try:\n",
    "        # Set Chrome options for headless mode\n",
    "        chrome_options = Options()\n",
    "        chrome_options.add_argument(\"--headless\")\n",
    "        # Initialize the WebDriver\n",
    "        driver = webdriver.Chrome(options=chrome_options)\n",
    "        driver.get(url)\n",
    "\n",
    "        if not (driver.current_url.startswith('https://www.princesspolly.com') or driver.current_url.startswith('https://us.princesspolly.com')):\n",
    "            return {'item': 'Unsupported URL', 'url': url}\n",
    "\n",
    "        # Get the page source after interactions\n",
    "        page_source = driver.page_source\n",
    "        # Close the WebDriver once done to avoid multiple instances\n",
    "        driver.quit()\n",
    "        # Parse the page source with Beautiful Soup\n",
    "        soup = BeautifulSoup(page_source, \"html.parser\")\n",
    "\n",
    "        # get name of product\n",
    "        title_element = soup.find(\"h1\", class_=\"product__title\")\n",
    "        title = title_element.text.strip()\n",
    " \n",
    "        description_list = soup.find(\"div\", class_=\"product-details__content-inner\")\n",
    "        description_items = description_list.text.split('\\n')\n",
    "        description_items = [item for item in description_items if item.find('%') != -1]\n",
    "        \n",
    "        composition = (description_items[0]).split(',')[0]\n",
    "        if composition.find(': ') != -1:\n",
    "           composition = composition.split(': ')[1]\n",
    "\n",
    "        pattern = r'(\\d+)%\\s*([\\w\\s-]+?(?=\\s*\\d+%|$))'\n",
    "        fabric_percentages = re.findall(pattern, composition)\n",
    "\n",
    "        materials = {}\n",
    "\n",
    "        for percent, fabric in fabric_percentages:\n",
    "            fabric = fabric.lower()\n",
    "            fabric = fabric.replace('\\xa0', '')\n",
    "            materials[fabric] = percent\n",
    "\n",
    "        final_data = {'item': title}\n",
    "        final_data.update(materials)\n",
    "\n",
    "        return final_data\n",
    "        # else:\n",
    "        #     return \"Data element not found on the page.\"\n",
    "    except Exception as e:\n",
    "        return {'item': 'Unsupported URL', 'url': url}"
   ]
  },
  {
   "cell_type": "code",
   "execution_count": 13,
   "metadata": {},
   "outputs": [
    {
     "name": "stdout",
     "output_type": "stream",
     "text": [
      "{'item': 'Layla high cut bikini bottoms brown', 'reclaimed nylon': '80', 'spandex': '20'}\n"
     ]
    }
   ],
   "source": [
    "# URL of the webpage you want to scrape\n",
    "url = 'https://us.princesspolly.com/products/recycled-nylon-layla-bikini-bottoms-brown?variant=39501925318740' # 80% reclaimed nylon 20% spandex\n",
    "\n",
    "# Call the function to scrape the website\n",
    "data = scrape_princess_polly(url)\n",
    "print(data)"
   ]
  },
  {
   "cell_type": "code",
   "execution_count": 18,
   "metadata": {},
   "outputs": [],
   "source": [
    "def scrape_and_update(row):\n",
    "    links_list = row[\"Links\"].split('\\n')\n",
    "    scraped_data_combined = \"\"\n",
    "\n",
    "    curr = 1\n",
    "\n",
    "    for link in links_list:\n",
    "        print(str(curr) + '/' + str(len(links_list)))\n",
    "\n",
    "        print(f\"Scraping data from link: {link}\")\n",
    "        scraped_data = scrape_princess_polly(link)\n",
    "        if scraped_data:\n",
    "            scraped_data_combined += str(scraped_data) + \"\\n\"\n",
    "            print(scraped_data)\n",
    "        # time.sleep(3)\n",
    "        print()\n",
    "\n",
    "        curr += 1\n",
    "\n",
    "    return scraped_data_combined"
   ]
  },
  {
   "cell_type": "code",
   "execution_count": 19,
   "metadata": {},
   "outputs": [
    {
     "name": "stdout",
     "output_type": "stream",
     "text": [
      "1/14\n",
      "Scraping data from link: https://us.princesspolly.com\n"
     ]
    },
    {
     "name": "stdout",
     "output_type": "stream",
     "text": [
      "{'item': 'Unsupported URL', 'url': 'https://us.princesspolly.com'}\n",
      "\n",
      "2/14\n",
      "Scraping data from link: https://youtu.be/6FDM52XfzSU\n",
      "{'item': 'Unsupported URL', 'url': 'https://youtu.be/6FDM52XfzSU'}\n",
      "\n",
      "3/14\n",
      "Scraping data from link: https://us.princesspolly.com/products/fawcett-jeans-dark-wash-denim-petite\n",
      "{'item': 'Fawcett jeans dark wash denim petite', 'cotton': '100'}\n",
      "\n",
      "4/14\n",
      "Scraping data from link: https://us.princesspolly.com/products/juelz-sweater-beige\n",
      "{'item': 'Juelz sweater beige', 'polyester': '100'}\n",
      "\n",
      "5/14\n",
      "Scraping data from link: https://us.princesspolly.com/products/endman-knit-pants-beige\n",
      "{'item': 'Endman knit pants beige', 'acrylic': '41'}\n",
      "\n",
      "6/14\n",
      "Scraping data from link: https://us.princesspolly.com/products/endman-zip-knit-top-beige\n",
      "{'item': 'Endman zip knit top beige', 'polyester': '100'}\n",
      "\n",
      "7/14\n",
      "Scraping data from link: https://us.princesspolly.com/products/arnim-eco-nylon-long-sleeve-top-brown?variant=39666998378580\n",
      "{'item': 'Arnim long sleeve top latte', 'reclaimed nylon': '86', 'elastane': '14'}\n",
      "\n",
      "8/14\n",
      "Scraping data from link: https://us.princesspolly.com/products/stacks-ring-pack-gold\n",
      "{'item': 'Stacks ring pack gold', 'reclaimedzinc': '100'}\n",
      "\n",
      "9/14\n",
      "Scraping data from link: https://us.princesspolly.com/products/elysium-eco-nylon-long-sleeve-turtleneck-top-bone\n",
      "{'item': 'Elysium long sleeve turtleneck top bone', 'reclaimed nylon': '86', 'elastane': '14'}\n",
      "\n",
      "10/14\n",
      "Scraping data from link: https://us.princesspolly.com/products/princess-polly-hooded-sweatshirt-bubble-text-stone-slate\n",
      "{'item': 'Princess polly hooded sweatshirt bubble text stone / slate', 'reclaimed polyester': '52', 'organic cotton': '48'}\n",
      "\n",
      "11/14\n",
      "Scraping data from link: https://us.princesspolly.com/products/sonoma-teddy-coat-brown\n",
      "{'item': 'Sonoma teddy coat brown', 'polyester': '100'}\n",
      "\n",
      "12/14\n",
      "Scraping data from link: https://us.princesspolly.com/products/devera-jumpsuit-black\n",
      "{'item': 'Devera jumpsuit black', 'rayon': '95', 'elastane': '5'}\n",
      "\n",
      "13/14\n",
      "Scraping data from link: https://us.princesspolly.com/products/tagula-off-the-shoulder-top-beige\n",
      "{'item': 'Tagula off the shoulder top beige', 'reclaimed polyester': '63', 'polyester': '25', 'nylon': '12'}\n",
      "\n",
      "14/14\n",
      "Scraping data from link: https://amzn.to/3Y3KcyP\n",
      "{'item': 'Unsupported URL', 'url': 'https://amzn.to/3Y3KcyP'}\n",
      "\n",
      "1/28\n",
      "Scraping data from link: https://us.princesspolly.com/\n",
      "{'item': 'Unsupported URL', 'url': 'https://us.princesspolly.com/'}\n",
      "\n",
      "2/28\n",
      "Scraping data from link: https://us.princesspolly.com/products/granno-mini-dress-white?variant=39909850873940\n",
      "{'item': 'Granno mini dress white', 'polyester': '100'}\n",
      "\n",
      "3/28\n",
      "Scraping data from link: https://us.princesspolly.com/products/fusili-romper-white-floral?variant=40270696710228\n",
      "{'item': 'Fusili romper white floral', 'cotton': '100'}\n",
      "\n",
      "4/28\n",
      "Scraping data from link: https://us.princesspolly.com/products/amoret-maxi-dress-multi?variant=40144090366036\n",
      "{'item': 'Amoret maxi dress multi', 'reclaimed polyester': '93', 'elastane': '7'}\n",
      "\n",
      "5/28\n",
      "Scraping data from link: https://us.princesspolly.com/products/emily-maxi-skirt-leopard-print?variant=40080192929876\n",
      "{'item': 'Emily maxi skirt leopard print', 'polyester': '100'}\n",
      "\n",
      "6/28\n",
      "Scraping data from link: https://us.princesspolly.com/products/rendezvous-top-crimson?variant=40197461344340\n",
      "{'item': 'Rendezvous top crimson', 'nylon': '88', 'elastane': '12'}\n",
      "\n",
      "7/28\n",
      "Scraping data from link: https://us.princesspolly.com/products/viney-top-white?variant=40146952945748\n",
      "{'item': 'Viney top white', 'cotton': '30'}\n",
      "\n",
      "8/28\n",
      "Scraping data from link: https://us.princesspolly.com/products/ansilin-top-brown-check?variant=40280808915028\n",
      "{'item': 'Ansilin top brown check', 'polyester': '65', 'cotton': '35'}\n",
      "\n",
      "9/28\n",
      "Scraping data from link: https://us.princesspolly.com/products/long-summer-nights-top-ivory-low-impact?variant=39929528483924\n",
      "{'item': 'Long summer nights top ivory low impact', 'organic cotton': '97', 'elastane': '3'}\n",
      "\n",
      "10/28\n",
      "Scraping data from link: https://us.princesspolly.com/products/back-in-time-eco-nylon-top-red?variant=39676139569236\n",
      "{'item': 'Back in time top red', 'reclaimed nylon': '86', 'elastane': '14'}\n",
      "\n",
      "11/28\n",
      "Scraping data from link: https://us.princesspolly.com/products/zoe-eco-nylon-top-black?variant=39676139110484\n",
      "{'item': 'Zoe top black', 'reclaimed nylon': '86', 'elastane': '14'}\n",
      "\n",
      "12/28\n",
      "Scraping data from link: https://us.princesspolly.com/products/caraliia-shirt-black-cream?variant=40112617324628\n",
      "{'item': 'Caraliia shirt black / cream'}\n",
      "\n",
      "13/28\n",
      "Scraping data from link: https://us.princesspolly.com/products/abner-cable-cardigan-grey-marle?variant=40138619158612\n",
      "{'item': 'Abner cable cardigan light grey', 'reclaimed polyester': '70', 'acrylic': '30'}\n",
      "\n",
      "14/28\n",
      "Scraping data from link: https://us.princesspolly.com/products/artha-cardigan-beige?variant=40178658541652\n",
      "{'item': 'Artha cardigan beige', 'acrylic': '100'}\n",
      "\n",
      "15/28\n",
      "Scraping data from link: https://us.princesspolly.com/products/shoreside-sandal-natural?variant=39431517470804\n",
      "{'item': 'Shoreside sandals natural', 'textile': '100'}\n",
      "\n",
      "16/28\n",
      "Scraping data from link: https://us.princesspolly.com/products/get-together-belt-red?variant=40197394202708\n",
      "{'item': 'Get together belt red', 'reclaimed pu': '80', 'steel': '20'}\n",
      "\n",
      "17/28\n",
      "Scraping data from link: https://us.princesspolly.com/products/weekend-travels-belt-brown?variant=40045387055188\n",
      "{'item': 'Weekend travels belt brown', 'reclaimed pu': '100'}\n",
      "\n",
      "18/28\n",
      "Scraping data from link: https://us.princesspolly.com/products/cassianer-sunglasses-black?variant=40129754234964\n",
      "{'item': 'Cassianer sunglasses black', 'pc': '100'}\n",
      "\n",
      "19/28\n",
      "Scraping data from link: https://us.princesspolly.com/products/winnick-sunglasses-tort?variant=39727003500628\n",
      "{'item': 'Winnick sunglasses tort', 'pc': '70', 'ac': '30'}\n",
      "\n",
      "20/28\n",
      "Scraping data from link: https://us.princesspolly.com/products/zelaya-pearl-earrings-gold-white?variant=39703612227668\n",
      "{'item': 'Zelaya pearl earrings gold / white', 'steel': '30', 'plastic': '70'}\n",
      "\n",
      "21/28\n",
      "Scraping data from link: https://us.princesspolly.com/products/barberry-cuff-gold?variant=39991360356436\n",
      "{'item': 'Barberry cuff gold', 'reclaimed zinc': '95', 'steel': '5'}\n",
      "\n",
      "22/28\n",
      "Scraping data from link: https://us.princesspolly.com/products/elettra-ring-pack-gold?variant=40108015288404\n",
      "{'item': 'Elettra ring pack gold', 'reclaimed zinc alloy': '100'}\n",
      "\n",
      "23/28\n",
      "Scraping data from link: https://us.princesspolly.com/products/medora-rings-silver?variant=40099702898772\n",
      "{'item': 'Medora rings silver', 'reclaimedzinc': '100'}\n",
      "\n",
      "24/28\n",
      "Scraping data from link: https://us.princesspolly.com/products/chani-bracelet-pack-gold?variant=40280635015252\n",
      "{'item': 'Chani bracelet pack gold', 'acrylic': '100'}\n",
      "\n",
      "25/28\n",
      "Scraping data from link: https://us.princesspolly.com/products/kashton-bracelet-pack-multi?variant=40227571138644\n",
      "{'item': 'Kashton bracelet pack multi', 'steel': '100'}\n",
      "\n",
      "26/28\n",
      "Scraping data from link: https://moodssounddesign.com/\n",
      "{'item': 'Unsupported URL', 'url': 'https://moodssounddesign.com/'}\n",
      "\n",
      "27/28\n",
      "Scraping data from link: https://gumroad.com/alexiistherese\n",
      "{'item': 'Unsupported URL', 'url': 'https://gumroad.com/alexiistherese'}\n",
      "\n",
      "28/28\n",
      "Scraping data from link: https://posh.mk/Az2WPa56YW\n",
      "{'item': 'Unsupported URL', 'url': 'https://posh.mk/Az2WPa56YW'}\n",
      "\n",
      "1/13\n",
      "Scraping data from link: https://us.princesspolly.com/\n",
      "{'item': 'Unsupported URL', 'url': 'https://us.princesspolly.com/'}\n",
      "\n",
      "2/13\n",
      "Scraping data from link: https://us.princesspolly.com/products/adella-long-sleeve-top-pink?variant=40024479563860\n",
      "{'item': 'Adella long sleeve top pink', 'recycled nylon': '85', 'spandex': '15'}\n",
      "\n",
      "3/13\n",
      "Scraping data from link: https://us.princesspolly.com/products/project-faux-leather-jacket-slate?variant=40044392808532\n",
      "{'item': 'Project faux leather jacket slate', 'pu': '100'}\n",
      "\n",
      "4/13\n",
      "Scraping data from link: https://us.princesspolly.com/products/slatter-stockings-black\n",
      "{'item': 'Unsupported URL', 'url': 'https://us.princesspolly.com/products/slatter-stockings-black'}\n",
      "\n",
      "5/13\n",
      "Scraping data from link: https://us.princesspolly.com/products/rixie-long-sleeve-top-black?variant=39619404365908\n",
      "{'item': 'Rixie long sleeve top black', 'cotton': '95', 'elastane': '5'}\n",
      "\n",
      "6/13\n",
      "Scraping data from link: https://us.princesspolly.com/products/ashwood-two-piece-lace-bolero-top-black-low-impact?variant=39962165248084\n",
      "{'item': 'Ashwood two piece lace bolero top black low impact', 'reclaimed nylon': '90', 'spandex': '10'}\n",
      "\n",
      "7/13\n",
      "Scraping data from link: https://us.princesspolly.com/products/cartwright-mini-skirt-black?variant=39921924964436\n",
      "{'item': 'Cartwright mini skirt black', 'polyester': '100'}\n",
      "\n",
      "8/13\n",
      "Scraping data from link: https://us.princesspolly.com/products/reeves-croc-bag-black?variant=40129753940052\n",
      "{'item': 'Reeves croc bag black', 'pu': '80', 'polyester': '20'}\n",
      "\n",
      "9/13\n",
      "Scraping data from link: https://us.princesspolly.com/products/tamba-cargo-jeans-denim?variant=39899798962260\n",
      "{'item': 'Tamba cargo jeans denim', 'cotton': '69', 'polyester': '16', 'rayon': '15'}\n",
      "\n",
      "10/13\n",
      "Scraping data from link: https://us.princesspolly.com/products/achillies-riding-boot-black?variant=40007070187604\n",
      "{'item': 'Unsupported URL', 'url': 'https://us.princesspolly.com/products/achillies-riding-boot-black?variant=40007070187604'}\n",
      "\n",
      "11/13\n",
      "Scraping data from link: https://us.princesspolly.com/products/olsen-coat-black\n",
      "{'item': 'Olsen coat black', 'polyester': '100'}\n",
      "\n",
      "12/13\n",
      "Scraping data from link: https://us.princesspolly.com/products/penny-lane-loafer-black-high-shine\n",
      "{'item': 'Penny lane loafers black high shine'}\n",
      "\n",
      "13/13\n",
      "Scraping data from link: https://us.princesspolly.com/products/mora-sunglasses-black\n",
      "{'item': 'Mora sunglasses black'}\n",
      "\n",
      "1/9\n",
      "Scraping data from link: https://www.princesspolly.com.au/products/new-balance-m2002-grey\n",
      "{'item': 'Unsupported URL', 'url': 'https://www.princesspolly.com.au/products/new-balance-m2002-grey'}\n",
      "\n",
      "2/9\n",
      "Scraping data from link: https://www.princesspolly.com.au/products/emily-maxi-dress-white\n",
      "{'item': 'Emily maxi dress white', 'polyester': '100'}\n",
      "\n",
      "3/9\n",
      "Scraping data from link: https://www.princesspolly.com.au/products/emily-maxi-dress-red\n",
      "{'item': 'Emily maxi dress red', 'polyester': '100'}\n",
      "\n",
      "4/9\n",
      "Scraping data from link: https://www.princesspolly.com.au/products/nellie-midi-dress-yellow-floral\n",
      "{'item': 'Nellie maxi dress yellow floral', 'polyester': '100'}\n",
      "\n",
      "5/9\n",
      "Scraping data from link: https://www.princesspolly.com.au/products/maidenwell-contrast-top-black\n",
      "{'item': 'Maidenwell contrast top black', 'reclaimed nylon': '86', 'elastane': '14'}\n",
      "\n",
      "6/9\n",
      "Scraping data from link: https://www.princesspolly.com.au/products/capone-vest-ivory?refSrc=6642593333320&nosto=productpage-nosto-9\n",
      "{'item': 'Capone vest ivory', 'organic cotton': '75', 'flex': '25'}\n",
      "\n",
      "7/9\n",
      "Scraping data from link: https://www.princesspolly.com.au/products/dreaming-top-black?refSrc=6719902384200&nosto=productpage-nosto-9\n",
      "{'item': 'Dreaming top black', 'rayon': '70', 'nylon': '25', 'elastane': '5'}\n",
      "\n",
      "8/9\n",
      "Scraping data from link: https://www.princesspolly.com.au/products/candyce-top-pink\n",
      "{'item': 'Candyce top pink', 'reclaimed nylon': '86', 'elastane': '14'}\n",
      "\n",
      "9/9\n",
      "Scraping data from link: https://www.epidemicsound.com\n",
      "{'item': 'Unsupported URL', 'url': 'https://www.epidemicsound.com'}\n",
      "\n",
      "1/10\n",
      "Scraping data from link: https://us.princesspolly.com/\n",
      "{'item': 'Unsupported URL', 'url': 'https://us.princesspolly.com/'}\n",
      "\n",
      "2/10\n",
      "Scraping data from link: https://us.princesspolly.com/products/mateo-shorts-black?variant=39912925298772\n",
      "{'item': 'Mateo shorts black', 'cotton': '100'}\n",
      "\n",
      "3/10\n",
      "Scraping data from link: https://us.princesspolly.com/products/buress-top-white?variant=39655705575508\n",
      "{'item': 'Buress top white', 'polyester': '100'}\n",
      "\n",
      "4/10\n",
      "Scraping data from link: https://us.princesspolly.com/products/peterson-cargo-mini-skirt-khaki?variant=39755434295380\n",
      "{'item': 'Peterson cargo mini skirt khaki', 'cotton': '100'}\n",
      "\n",
      "5/10\n",
      "Scraping data from link: https://us.princesspolly.com/products/all-tied-up-bodysuit-black?variant=40092446097492\n",
      "{'item': 'All tied up bodysuit black', 'reclaimed nylon': '85', 'spandex': '15'}\n",
      "\n",
      "6/10\n",
      "Scraping data from link: https://us.princesspolly.com/products/katandra-off-shoulder-top-grey?variant=40087432200276\n",
      "{'item': 'Katandra off shoulder top grey', 'recycled polyester': '33', 'polyester': '31', 'acrylic': '23', 'nylon': '13'}\n",
      "\n",
      "7/10\n",
      "Scraping data from link: https://us.princesspolly.com/products/liana-sweater-jumper-grey?variant=39606478864468\n",
      "{'item': 'Liana sweater grey', 'acrylic': '100'}\n",
      "\n",
      "8/10\n",
      "Scraping data from link: https://us.princesspolly.com/products/davie-strapless-playsuit-black?variant=39775427788884\n",
      "{'item': 'Davie strapless romper black', 'reclaimed nylon': '86', 'elastane': '14'}\n",
      "\n",
      "9/10\n",
      "Scraping data from link: https://us.princesspolly.com/products/trender-top-white?variant=40163248341076\n",
      "{'item': 'Trender top white', 'organic cotton': '95', 'elastane': '5'}\n",
      "\n",
      "10/10\n",
      "Scraping data from link: https://us.princesspolly.com/products/cabarita-lounge-denim-jeans-mid-wash-petite?variant=40045986512980\n",
      "{'item': 'Cabarita lounge denim jeans mid wash petite', 'cotton': '60'}\n",
      "\n",
      "1/15\n",
      "Scraping data from link: https://us.princesspolly.com/\n",
      "{'item': 'Unsupported URL', 'url': 'https://us.princesspolly.com/'}\n",
      "\n",
      "2/15\n",
      "Scraping data from link: https://us.princesspolly.com/products/archer-pants-slate-eco-petite?variant=39818183606356\n",
      "{'item': 'Archer pants slate petite', 'reclaimed polyester': '95', 'elastane': '5'}\n",
      "\n",
      "3/15\n",
      "Scraping data from link: https://us.princesspolly.com/products/odette-mini-dress-pink-multi?variant=39934449975380\n",
      "{'item': 'Odette mini dress pink multi'}\n",
      "\n",
      "4/15\n",
      "Scraping data from link: https://us.princesspolly.com/products/racerr-sneakers-white?variant=30938410451028\n",
      "{'item': 'Unsupported URL', 'url': 'https://us.princesspolly.com/products/racerr-sneakers-white?variant=30938410451028'}\n",
      "\n",
      "5/15\n",
      "Scraping data from link: https://us.princesspolly.com/products/tahini-mini-dress-blue?variant=31354779795540\n",
      "{'item': 'Stargazing mini dress blue floral', 'polyester': '100'}\n",
      "\n",
      "6/15\n",
      "Scraping data from link: https://us.princesspolly.com/products/mulligan-bag-white?variant=39527817150548\n",
      "{'item': 'Mulligan bag white', 'pu': '70', 'polyester': '20', 'iron': '10'}\n",
      "\n",
      "7/15\n",
      "Scraping data from link: https://us.princesspolly.com/products/creeper-sunglasses-pearl-white?variant=32555116298324\n",
      "{'item': 'Unsupported URL', 'url': 'https://us.princesspolly.com/products/creeper-sunglasses-pearl-white?variant=32555116298324'}\n",
      "\n",
      "8/15\n",
      "Scraping data from link: https://us.princesspolly.com/products/rehna-top-white?variant=39977810296916\n",
      "{'item': 'Rehna top white', 'reclaimed nylon': '86', 'elastane': '14'}\n",
      "\n",
      "9/15\n",
      "Scraping data from link: https://us.princesspolly.com/products/ferran-corset-top-grey-pinstripe?variant=40047618818132\n",
      "{'item': 'Ferran corset top grey pinstripe', 'polyester': '58', 'rayon': '40', 'elastanelining': '2'}\n",
      "\n",
      "10/15\n",
      "Scraping data from link: https://us.princesspolly.com/products/ferran-mini-skirt-grey-pinstripe?variant=40047626092628\n",
      "{'item': 'Ferran mini skirt grey pinstripe', 'polyester': '58', 'rayon': '40', 'elastane': '2'}\n",
      "\n",
      "11/15\n",
      "Scraping data from link: https://us.princesspolly.com/products/billini-yazmin-heels-white?variant=32503742562388\n",
      "{'item': 'Unsupported URL', 'url': 'https://us.princesspolly.com/products/billini-yazmin-heels-white?variant=32503742562388'}\n",
      "\n",
      "12/15\n",
      "Scraping data from link: https://www.amazon.com/shop/influencer-25eb0a83?&linkCode=sl2&tag=meagancarioti-20\n",
      "{'item': 'Unsupported URL', 'url': 'https://www.amazon.com/shop/influencer-25eb0a83?&linkCode=sl2&tag=meagancarioti-20'}\n",
      "\n",
      "13/15\n",
      "Scraping data from link: https://www.amazon.com/hz/wishlist/ls/CF25THN1I5NI?ref_=wl_share\n",
      "{'item': 'Unsupported URL', 'url': 'https://www.amazon.com/hz/wishlist/ls/CF25THN1I5NI?ref_=wl_share'}\n",
      "\n",
      "14/15\n",
      "Scraping data from link: https://www.goodreads.com/user/show/69992756-meagan-carioti\n",
      "{'item': 'Unsupported URL', 'url': 'https://www.goodreads.com/user/show/69992756-meagan-carioti'}\n",
      "\n",
      "15/15\n",
      "Scraping data from link: https://evryjewels.com/?ref=MEAGAN\n",
      "{'item': 'Unsupported URL', 'url': 'https://evryjewels.com/?ref=MEAGAN'}\n",
      "\n",
      "1/34\n",
      "Scraping data from link: https://us.princesspolly.com/\n",
      "{'item': 'Unsupported URL', 'url': 'https://us.princesspolly.com/'}\n",
      "\n",
      "2/34\n",
      "Scraping data from link: https://us.princesspolly.com/products/cassiopeia-set-beige\n",
      "{'item': 'Cassiopeia set beige', 'cotton': '50', 'linen': '30', 'polyester': '20'}\n",
      "\n",
      "3/34\n",
      "Scraping data from link: https://us.princesspolly.com/products/beller-top-pink\n",
      "{'item': 'Beller top pink', 'rayon': '94', 'elastane': '6'}\n",
      "\n",
      "4/34\n",
      "Scraping data from link: https://us.princesspolly.com/products/carrow-strapless-top-red\n",
      "{'item': 'Carrow strapless top red', 'nylon': '56', 'polyester': '34', 'elastane': '10'}\n",
      "\n",
      "5/34\n",
      "Scraping data from link: https://us.princesspolly.com/products/archer-pants-pinstripe-grey-petite\n",
      "{'item': 'Archer pants pinstripe grey petite', 'polyester': '96', 'elastane': '4'}\n",
      "\n",
      "6/34\n",
      "Scraping data from link: https://us.princesspolly.com/products/holland-jeans-denim-eco-petite\n",
      "{'item': 'Holland jeans denim petite', 'cotton': '80', 'reclaimed cotton': '20'}\n",
      "\n",
      "7/34\n",
      "Scraping data from link: https://us.princesspolly.com/products/organic-cotton-continental-breakfast-tee-white\n",
      "{'item': 'Continental breakfast tee white', 'organic cotton': '100'}\n",
      "\n",
      "8/34\n",
      "Scraping data from link: https://us.princesspolly.com/products/ryanna-sweater-white\n",
      "{'item': 'Ryanna sweater white', 'reclaimed polyester': '97', 'elastane': '3'}\n",
      "\n",
      "9/34\n",
      "Scraping data from link: https://us.princesspolly.com/products/harmony-sweater-blue\n",
      "{'item': 'Harmony knit sweater blue', 'cotton': '60', 'acrylic': '40'}\n",
      "\n",
      "10/34\n",
      "Scraping data from link: https://us.princesspolly.com/products/impala-shorts-mid-wash-denim\n",
      "{'item': 'Impala shorts mid wash denim', 'cotton': '85', 'polyester': '8', 'rayon': '7'}\n",
      "\n",
      "11/34\n",
      "Scraping data from link: https://us.princesspolly.com/products/early-riser-sleep-shirt-pink-stripe\n",
      "{'item': 'Early riser sleep shirt pink stripe', 'reclaimed polyester': '100'}\n",
      "\n",
      "12/34\n",
      "Scraping data from link: https://us.princesspolly.com/products/early-riser-sleep-shorts-pink-stripe\n",
      "{'item': 'Early riser sleep shorts pink stripe', 'reclaimed polyester': '100'}\n",
      "\n",
      "13/34\n",
      "Scraping data from link: https://us.princesspolly.com/products/goldsmith-pu-bomber-jacket-brown\n",
      "{'item': 'Goldsmith faux leather bomber jacket brown', 'rayon': '55', 'polyester': '45'}\n",
      "\n",
      "14/34\n",
      "Scraping data from link: https://us.princesspolly.com/products/maidenwell-contrast-top-black\n",
      "{'item': 'Maidenwell contrast top black', 'reclaimed nylon': '86', 'elastane': '14'}\n",
      "\n",
      "15/34\n",
      "Scraping data from link: https://us.princesspolly.com/products/anneke-collared-cardigan-black\n",
      "{'item': 'Anneke collared cardigan black', 'reclaimed polyester': '63', 'polyester': '25', 'nylon': '12'}\n",
      "\n",
      "16/34\n",
      "Scraping data from link: https://us.princesspolly.com/products/tailor-maxi-dress-white\n",
      "{'item': 'Tailor maxi dress white', 'reclaimed polyester': '100'}\n",
      "\n",
      "17/34\n",
      "Scraping data from link: https://us.princesspolly.com/products/karlson-striped-cardigan-cream-black\n",
      "{'item': 'Karlson striped cardigan cream / black', 'reclaimed polyester': '70', 'acrylic': '30'}\n",
      "\n",
      "18/34\n",
      "Scraping data from link: https://us.princesspolly.com/products/peta-jain-piper-bag-chocolate-croc\n",
      "{'item': 'Unsupported URL', 'url': 'https://us.princesspolly.com/products/peta-jain-piper-bag-chocolate-croc'}\n",
      "\n",
      "19/34\n",
      "Scraping data from link: https://us.princesspolly.com/products/caterina-hair-clip-red\n",
      "{'item': 'Caterina hair clip red', 'cellulose': '100'}\n",
      "\n",
      "20/34\n",
      "Scraping data from link: https://jordan-bauth-merch.creator-spring.com/listing/aboard-with-jord-2024?product=227\n",
      "{'item': 'Unsupported URL', 'url': 'https://jordan-bauth-merch.creator-spring.com/listing/aboard-with-jord-2024?product=227'}\n",
      "\n",
      "21/34\n",
      "Scraping data from link: https://www.goodreads.com/user/show/146052583\n",
      "{'item': 'Unsupported URL', 'url': 'https://www.goodreads.com/user/show/146052583'}\n",
      "\n",
      "22/34\n",
      "Scraping data from link: https://1stphorm.com/products/level-1?variant=31157418164310/?a_aid=jbauth\n",
      "{'item': 'Unsupported URL', 'url': 'https://1stphorm.com/products/level-1?variant=31157418164310/?a_aid=jbauth'}\n",
      "\n",
      "23/34\n",
      "Scraping data from link: https://youtu.be/sN-MxmIUPMI\n",
      "{'item': 'Unsupported URL', 'url': 'https://youtu.be/sN-MxmIUPMI'}\n",
      "\n",
      "24/34\n",
      "Scraping data from link: https://youtu.be/tkwVdb5Kkv4\n",
      "{'item': 'Unsupported URL', 'url': 'https://youtu.be/tkwVdb5Kkv4'}\n",
      "\n",
      "25/34\n",
      "Scraping data from link: https://youtu.be/rO0HK2-3hUs\n",
      "{'item': 'Unsupported URL', 'url': 'https://youtu.be/rO0HK2-3hUs'}\n",
      "\n",
      "26/34\n",
      "Scraping data from link: https://youtu.be/xGIQ2ZuxyNw\n",
      "{'item': 'Unsupported URL', 'url': 'https://youtu.be/xGIQ2ZuxyNw'}\n",
      "\n",
      "27/34\n",
      "Scraping data from link: https://youtu.be/7-cagan1QJI\n",
      "{'item': 'Unsupported URL', 'url': 'https://youtu.be/7-cagan1QJI'}\n",
      "\n",
      "28/34\n",
      "Scraping data from link: https://youtu.be/ciCsV8HFJTg\n",
      "{'item': 'Unsupported URL', 'url': 'https://youtu.be/ciCsV8HFJTg'}\n",
      "\n",
      "29/34\n",
      "Scraping data from link: https://youtu.be/yItGh8ZenQw\n",
      "{'item': 'Unsupported URL', 'url': 'https://youtu.be/yItGh8ZenQw'}\n",
      "\n",
      "30/34\n",
      "Scraping data from link: https://vsco.co/jbauth/gallery\n",
      "{'item': 'Unsupported URL', 'url': 'https://vsco.co/jbauth/gallery'}\n",
      "\n",
      "31/34\n",
      "Scraping data from link: https://poshmark.com/closet/jbauth\n",
      "{'item': 'Unsupported URL', 'url': 'https://poshmark.com/closet/jbauth'}\n",
      "\n",
      "32/34\n",
      "Scraping data from link: https://bit.ly/3zGEb18\n",
      "{'item': 'Unsupported URL', 'url': 'https://bit.ly/3zGEb18'}\n",
      "\n",
      "33/34\n",
      "Scraping data from link: https://www.magicmind.co/jordanb\n",
      "{'item': 'Unsupported URL', 'url': 'https://www.magicmind.co/jordanb'}\n",
      "\n",
      "34/34\n",
      "Scraping data from link: https://bit.ly/3jvNPhg\n",
      "{'item': 'Unsupported URL', 'url': 'https://bit.ly/3jvNPhg'}\n",
      "\n",
      "1/11\n",
      "Scraping data from link: https://us.princesspolly.com/\n",
      "{'item': 'Unsupported URL', 'url': 'https://us.princesspolly.com/'}\n",
      "\n",
      "2/11\n",
      "Scraping data from link: https://us.princesspolly.com/products/wyoming-blazer-slate?variant=39676989767764\n",
      "{'item': 'Wyoming blazer slate', 'polyester': '95', 'spandex': '5'}\n",
      "\n",
      "3/11\n",
      "Scraping data from link: https://us.princesspolly.com/products/gerwig-pants-black?variant=39884333514836\n",
      "{'item': 'Gerwig pants black', 'polyester': '95', 'elastane': '5'}\n",
      "\n",
      "4/11\n",
      "Scraping data from link: https://us.princesspolly.com/products/rick-jumper-white-beige?variant=39727103049812\n",
      "{'item': 'Rick sweater white/beige', 'reclaimed polyester': '63', 'polyester': '25', 'nylon': '12'}\n",
      "\n",
      "5/11\n",
      "Scraping data from link: https://us.princesspolly.com/products/gaskin-long-sleeve-top-black?variant=40044373213268\n",
      "{'item': 'Gaskin long sleeve top black', 'polyester': '100'}\n",
      "\n",
      "6/11\n",
      "Scraping data from link: https://us.princesspolly.com/products/judeth-long-sleeve-top-grey?variant=40052627013716\n",
      "{'item': 'Judeth long sleeve top grey', 'reclaimed polyester': '95', 'elastane': '5'}\n",
      "\n",
      "7/11\n",
      "Scraping data from link: https://us.princesspolly.com/products/maidenwell-contrast-top-pink?variant=40075978637396\n",
      "{'item': 'Maidenwell contrast top pink', 'reclaimed nylon': '86', 'elastane': '14'}\n",
      "\n",
      "8/11\n",
      "Scraping data from link: https://us.princesspolly.com/products/cosy-up-long-sleeve-boucle-mini-dress-cream\n",
      "{'item': 'Cosy up long sleeve boucle mini dress cream', 'polyester': '100'}\n",
      "\n",
      "9/11\n",
      "Scraping data from link: https://us.princesspolly.com/products/harmony-knit-sweater-burgundy?variant=40044388974676\n",
      "{'item': 'Harmony knit sweater burgundy', 'cotton': '60', 'acrylic': '40'}\n",
      "\n",
      "10/11\n",
      "Scraping data from link: https://us.princesspolly.com/products/mild-collared-sweater-cream-black?variant=40077487079508\n",
      "{'item': 'Mild collared sweater cream / black', 'reclaimed polyester': '70', 'acrylic': '30'}\n",
      "\n",
      "11/11\n",
      "Scraping data from link: https://us.princesspolly.com/products/alethea-set-champagne?variant=39886064222292\n",
      "{'item': 'Alethea set champagne', 'polyester': '96', 'elastane': '4'}\n",
      "\n",
      "1/18\n",
      "Scraping data from link: https://us.princesspolly.com/\n",
      "{'item': 'Unsupported URL', 'url': 'https://us.princesspolly.com/'}\n",
      "\n",
      "2/18\n",
      "Scraping data from link: https://us.princesspolly.com/products/fadyen-bias-cut-maxi-dress-burgunday?variant=40047633268820\n",
      "{'item': 'Fadyen bias cut maxi dress burgundy', 'polyester': '100'}\n",
      "\n",
      "3/18\n",
      "Scraping data from link: https://us.princesspolly.com/products/zurie-set-black?variant=40016841637972\n",
      "{'item': 'Zurie set black', 'reclaimed polyester': '63', 'polyester': '25', 'nylon': '12'}\n",
      "\n",
      "4/18\n",
      "Scraping data from link: https://us.princesspolly.com/products/matilde-set-purple?variant=40034706915412\n",
      "{'item': 'Matilde set purple', 'reclaimed polyester': '95', 'elastane': '5'}\n",
      "\n",
      "5/18\n",
      "Scraping data from link: https://us.princesspolly.com/products/esau-top-ivory?variant=39970684534868\n",
      "{'item': 'Esau top ivory', 'viscose': '100'}\n",
      "\n",
      "6/18\n",
      "Scraping data from link: https://us.princesspolly.com/products/santorini-knit-maxi-skirt-green?variant=40016895934548\n",
      "{'item': 'Santorini knit maxi skirt green', 'viscose': '51', 'nylon': '30', 'polyester': '19'}\n",
      "\n",
      "7/18\n",
      "Scraping data from link: https://us.princesspolly.com/products/springer-jacket-beige?variant=39998443814996\n",
      "{'item': 'Springer jacket beige', 'cotton': '97', 'elastane': '3'}\n",
      "\n",
      "8/18\n",
      "Scraping data from link: https://us.princesspolly.com/products/tagula-off-the-shoulder-top-burgundy?variant=40044363317332\n",
      "{'item': 'Tagula off the shoulder top burgundy', 'reclaimed polyester': '63', 'polyester': '25', 'nylon': '12'}\n",
      "\n",
      "9/18\n",
      "Scraping data from link: https://us.princesspolly.com/products/westaway-pants-burgundy?variant=40044391039060\n",
      "{'item': 'Westaway pants burgundy', 'reclaimed polyester': '63', 'polyester': '25', 'nylon': '12'}\n",
      "\n",
      "10/18\n",
      "Scraping data from link: https://us.princesspolly.com/products/hendrie-lace-mini-dress-black?variant=40067013902420\n",
      "{'item': 'Hendrie lace mini dress black', 'reclaimed nylon': '90', 'spandex': '10'}\n",
      "\n",
      "11/18\n",
      "Scraping data from link: https://us.princesspolly.com/products/field-daisies-corset-green?variant=39686630670420\n",
      "{'item': 'Field daisies corset green', 'polyester': '100'}\n",
      "\n",
      "12/18\n",
      "Scraping data from link: https://us.princesspolly.com/products/abner-cable-cardigan-cream?variant=40013343391828\n",
      "{'item': 'Abner cable cardigan cream', 'polyester': '100'}\n",
      "\n",
      "13/18\n",
      "Scraping data from link: https://us.princesspolly.com/products/belgrove-moto-jacket-snow-wash-denim?variant=40044389597268\n",
      "{'item': 'Belgrove moto jacket snow wash denim', 'cotton': '100'}\n",
      "\n",
      "14/18\n",
      "Scraping data from link: https://us.princesspolly.com/products/aldine-top-ivory?variant=39923485343828\n",
      "{'item': 'Aldine top ivory', 'reclaimed cotton': '100'}\n",
      "\n",
      "15/18\n",
      "Scraping data from link: https://us.princesspolly.com/products/emilee-top-white-floral?variant=39934410817620\n",
      "{'item': 'Emilee top white / floral', 'polyester': '100'}\n",
      "\n",
      "16/18\n",
      "Scraping data from link: https://us.princesspolly.com/products/windsor-smith-baddest-black-stretch-sock-boots?variant=39524911317076\n",
      "{'item': 'Unsupported URL', 'url': 'https://us.princesspolly.com/products/windsor-smith-baddest-black-stretch-sock-boots?variant=39524911317076'}\n",
      "\n",
      "17/18\n",
      "Scraping data from link: https://www.depop.com/jvsminescloset\n",
      "{'item': 'Unsupported URL', 'url': 'https://www.depop.com/jvsminescloset'}\n",
      "\n",
      "18/18\n",
      "Scraping data from link: https://youtu.be/FBJQWL3_zkU\n",
      "{'item': 'Unsupported URL', 'url': 'https://youtu.be/FBJQWL3_zkU'}\n",
      "\n",
      "1/12\n",
      "Scraping data from link: https://us.princesspolly.com/collections/spring\n",
      "{'item': 'Unsupported URL', 'url': 'https://us.princesspolly.com/collections/spring'}\n",
      "\n",
      "2/12\n",
      "Scraping data from link: https://us.princesspolly.com/products/water-based-pu-ma-belle-sandals-all-white?variant=39604277674068\n",
      "{'item': 'Unsupported URL', 'url': 'https://us.princesspolly.com/products/water-based-pu-ma-belle-sandals-all-white?variant=39604277674068'}\n",
      "\n",
      "3/12\n",
      "Scraping data from link: https://us.princesspolly.com/products/tropicana-shorts-eco-denim?variant=39670764929108\n",
      "{'item': 'Tropicana shorts denim', 'cotton': '80', 'recycled cotton': '20'}\n",
      "\n",
      "4/12\n",
      "Scraping data from link: https://us.princesspolly.com/products/paigey-cupro-set-khaki-1?variant=39805977329748\n",
      "{'item': 'Paigey set khaki', 'reclaimed polyester': '90', 'nylon ': '10'}\n",
      "\n",
      "5/12\n",
      "Scraping data from link: https://us.princesspolly.com/products/jayalen-halter-romper-ecru?variant=40212886618196\n",
      "{'item': 'Jayalen halter romper ecru', 'cotton': '97', 'spandex': '3'}\n",
      "\n",
      "6/12\n",
      "Scraping data from link: https://us.princesspolly.com/products/lou-carpenter-denim-shorts-washed-black?variant=40036986814548\n",
      "{'item': 'Lou carpenter denim shorts washed black', 'cotton': '80', 'reclaimed cotton': '20'}\n",
      "\n",
      "7/12\n",
      "Scraping data from link: https://us.princesspolly.com/products/thread-together-x-pp-love-club-baby-tee-pink?variant=40206256078932\n",
      "{'item': 'Thread together love club baby tee pink', 'organic cotton': '100'}\n",
      "\n",
      "8/12\n",
      "Scraping data from link: https://us.princesspolly.com/products/cammie-knit-set-white?variant=39606522478676\n",
      "{'item': 'Cammie knit set white', 'polyester': '65', 'cotton': '35'}\n",
      "\n",
      "9/12\n",
      "Scraping data from link: https://us.princesspolly.com/products/koko-mini-dress-orange?variant=40004725309524\n",
      "{'item': 'Koko mini dress orange', 'cotton': '100'}\n",
      "\n",
      "10/12\n",
      "Scraping data from link: https://us.princesspolly.com/products/nellie-hair-scarf-yellow?variant=39871560974420\n",
      "{'item': 'Unsupported URL', 'url': 'https://us.princesspolly.com/products/nellie-hair-scarf-yellow?variant=39871560974420'}\n",
      "\n",
      "11/12\n",
      "Scraping data from link: https://us.princesspolly.com/products/recycled-metal-love-let-go-bracelet-set?variant=39446994387028\n",
      "{'item': 'Love & let go bracelet set', 'reclaimed steel': '70'}\n",
      "\n",
      "12/12\n",
      "Scraping data from link: https://us.princesspolly.com/products/recycled-metal-spade-ring-set?variant=39452059992148\n",
      "{'item': 'Spade ring set gold', 'reclaimed zinc': '100'}\n",
      "\n",
      "1/14\n",
      "Scraping data from link: https://us.princesspolly.com/\n",
      "{'item': 'Unsupported URL', 'url': 'https://us.princesspolly.com/'}\n",
      "\n",
      "2/14\n",
      "Scraping data from link: https://us.princesspolly.com/products/kemmie-top-blue-multi\n",
      "{'item': 'Kemmie top blue / multi', 'polyester': '100'}\n",
      "\n",
      "3/14\n",
      "Scraping data from link: https://us.princesspolly.com/products/kenzie-mini-dress-light-pink?variant=39793580048468\n",
      "{'item': 'Kenzie mini dress light pink', 'polyester': '100'}\n",
      "\n",
      "4/14\n",
      "Scraping data from link: https://us.princesspolly.com/products/adella-long-sleeve-top-pink?variant=40024479596628\n",
      "{'item': 'Adella long sleeve top pink', 'recycled nylon': '85', 'spandex': '15'}\n",
      "\n",
      "5/14\n",
      "Scraping data from link: https://us.princesspolly.com/products/kemmie-top-pink-multi\n",
      "{'item': 'Kemmie top pink / multi', 'polyester': '100'}\n",
      "\n",
      "6/14\n",
      "Scraping data from link: https://us.princesspolly.com/products/odette-mini-dress-pink-multi?variant=39934450008148\n",
      "{'item': 'Odette mini dress pink multi'}\n",
      "\n",
      "7/14\n",
      "Scraping data from link: https://us.princesspolly.com/products/kinski-hair-bow-pack-pink?variant=39840884523092\n",
      "{'item': 'Kinski hair bow pack pink', 'polyester': '95', 'iron': '5'}\n",
      "\n",
      "8/14\n",
      "Scraping data from link: https://us.princesspolly.com/products/rosey-tie-up-long-sleeve-top-burgundy?variant=40075983683668\n",
      "{'item': 'Rosey tie up long sleeve top burgundy', 'reclaimedpolyester': '73', 'polyester': '24', 'spandex': '3'}\n",
      "\n",
      "9/14\n",
      "Scraping data from link: https://us.princesspolly.com/products/rinza-top-white?variant=40040280522836\n",
      "{'item': 'Rinza top white', 'viscose': '100'}\n",
      "\n",
      "10/14\n",
      "Scraping data from link: https://us.princesspolly.com/products/marilyn-mini-dress-champagne-eco?variant=39818749902932\n",
      "{'item': 'Marilyn mini dress champagne', 'reclaimed polyester': '100'}\n",
      "\n",
      "11/14\n",
      "Scraping data from link: https://us.princesspolly.com/products/iconic-cargo-mini-skirt-black?variant=39631814295636\n",
      "{'item': 'Iconic cargo mini skirt black', 'cotton': '100'}\n",
      "\n",
      "12/14\n",
      "Scraping data from link: https://us.princesspolly.com/products/the-archer-pants-dark-brown?variant=39606506848340\n",
      "{'item': 'Archer pants dark brown', 'polyester': '96', 'elastane': '4'}\n",
      "\n",
      "13/14\n",
      "Scraping data from link: https://us.princesspolly.com/products/cheyla-top-pink?variant=39965491134548\n",
      "{'item': 'Cheyla top pink'}\n",
      "\n",
      "14/14\n",
      "Scraping data from link: https://youtu.be/6eWIffP2M3Y?si=dX17VVv6mvurA4cL\n",
      "{'item': 'Unsupported URL', 'url': 'https://youtu.be/6eWIffP2M3Y?si=dX17VVv6mvurA4cL'}\n",
      "\n",
      "1/10\n",
      "Scraping data from link: https://us.princesspolly.com/\n",
      "{'item': 'Unsupported URL', 'url': 'https://us.princesspolly.com/'}\n",
      "\n",
      "2/10\n",
      "Scraping data from link: https://us.princesspolly.com/products/midvale-set-grey?variant=40029826449492\n",
      "{'item': 'Midvale set grey', 'cotton': '50', 'polyester': '45', 'elastane': '5'}\n",
      "\n",
      "3/10\n",
      "Scraping data from link: https://us.princesspolly.com/products/lowell-eco-nylon-top-grey?variant=39670828761172\n",
      "{'item': 'Lowell top grey', 'reclaimed nylon': '86', 'elastane': '14'}\n",
      "\n",
      "4/10\n",
      "Scraping data from link: https://us.princesspolly.com/products/back-in-time-top-blue\n",
      "{'item': 'Back in time top blue', 'reclaimed nylon': '86', 'elastane': '14'}\n",
      "\n",
      "5/10\n",
      "Scraping data from link: https://us.princesspolly.com/products/charlotte-jumper-grey?variant=32431736946772\n",
      "{'item': 'Charlotte crewneck sweatshirt grey', 'polyester': '65', 'cotton': '35'}\n",
      "\n",
      "6/10\n",
      "Scraping data from link: https://us.princesspolly.com/products/candyce-long-sleeve-top-black?variant=39977808134228\n",
      "{'item': 'Candyce long sleeve top black', 'reclaimed nylon': '86', 'elastane': '14'}\n",
      "\n",
      "7/10\n",
      "Scraping data from link: https://us.princesspolly.com/products/rover-eco-nylon-bodysuit-black?variant=39670812508244\n",
      "{'item': 'Rover bodysuit black', 'reclaimed nylon': '86', 'elastane': '14'}\n",
      "\n",
      "8/10\n",
      "Scraping data from link: https://us.princesspolly.com/products/skiller-zip-up-hooded-sweater-navy\n",
      "{'item': 'Skiller zip up hooded sweater navy', 'reclaimed cotton': '52', 'reclaimed polyester': '48'}\n",
      "\n",
      "9/10\n",
      "Scraping data from link: https://us.princesspolly.com/products/skiller-side-stripe-track-pants-navy\n",
      "{'item': 'Skiller side stripe track pants navy', 'reclaimed cotton': '52', 'reclaimed polyester': '48'}\n",
      "\n",
      "10/10\n",
      "Scraping data from link: https://us.princesspolly.com/products/candyce-long-sleeve-top-black\n",
      "{'item': 'Candyce long sleeve top black', 'reclaimed nylon': '86', 'elastane': '14'}\n",
      "\n",
      "1/1\n",
      "Scraping data from link: https://liketk.it/4hKem\n",
      "{'item': 'Unsupported URL', 'url': 'https://liketk.it/4hKem'}\n",
      "\n",
      "1/20\n",
      "Scraping data from link: https://us.princesspolly.com/\n",
      "{'item': 'Unsupported URL', 'url': 'https://us.princesspolly.com/'}\n",
      "\n",
      "2/20\n",
      "Scraping data from link: https://us.princesspolly.com/products/destination-california-tee-charcoal?variant=39995898986580\n",
      "{'item': 'Destination california tee charcoal', 'cotton': '95', 'elastane': '5'}\n",
      "\n",
      "3/20\n",
      "Scraping data from link: https://us.princesspolly.com/products/owenz-hibiscus-baby-tee-blue?variant=40203523489876\n",
      "{'item': 'Owenz hibiscus baby tee blue', 'organic cotton': '100'}\n",
      "\n",
      "4/20\n",
      "Scraping data from link: https://us.princesspolly.com/products/nicolo-jeans-black?variant=40082149933140\n",
      "{'item': 'Nicolo jeans black', 'cotton': '80'}\n",
      "\n",
      "5/20\n",
      "Scraping data from link: https://us.princesspolly.com/products/fawcett-jeans-light-wash-denim?variant=40077488488532\n",
      "{'item': 'Fawcett jeans light wash denim', 'cotton': '100'}\n",
      "\n",
      "6/20\n",
      "Scraping data from link: https://us.princesspolly.com/products/lyric-jumper-pink?variant=32456054833236\n",
      "{'item': 'Lyric cropped cardigan pink', 'acrylic': '100'}\n",
      "\n",
      "7/20\n",
      "Scraping data from link: https://us.princesspolly.com/products/kellan-top-cream?variant=39460628365396\n",
      "{'item': 'Kellan top cream', 'nylon': '50', 'rayon': '40', 'elastane': '10'}\n",
      "\n",
      "8/20\n",
      "Scraping data from link: https://us.princesspolly.com/products/patton-set-white-floral?variant=39671932551252\n",
      "{'item': 'Patton set white floral', 'polyester': '100'}\n",
      "\n",
      "9/20\n",
      "Scraping data from link: https://us.princesspolly.com/products/rosalinda-top-black-lower-impact?variant=39937988853844\n",
      "{'item': 'Rosalinda top black lower impact', 'reclaimed nylon': '86', 'elastane': '14'}\n",
      "\n",
      "10/20\n",
      "Scraping data from link: https://us.princesspolly.com/products/linden-eco-nylon-bodysuit-slate?variant=39707141144660\n",
      "{'item': 'Linden bodysuit slate', 'reclaimed nylon': '86', 'elastane': '14'}\n",
      "\n",
      "11/20\n",
      "Scraping data from link: https://us.princesspolly.com/products/princess-polly-hooded-sweatshirt-block-cursive-text-slate?variant=40206287241300\n",
      "{'item': 'Princess polly hooded sweatshirt block / cursive text slate', 'recycled cotton': '52', 'recycled polyester': '48'}\n",
      "\n",
      "12/20\n",
      "Scraping data from link: https://us.princesspolly.com/products/straight-leg-track-pants-graffiti-text-grey-marle?variant=40082150785108\n",
      "{'item': 'Princess polly straight leg track pants text grey marle', 'reclaimed cotton': '52', 'reclaimed polyester': '48'}\n",
      "\n",
      "13/20\n",
      "Scraping data from link: https://us.princesspolly.com/products/pawley-cargo-pants-khaki?variant=39727091089492\n",
      "{'item': 'Pawley cargo pants khaki', 'cotton': '100'}\n",
      "\n",
      "14/20\n",
      "Scraping data from link: https://us.princesspolly.com/products/zakai-cargo-denim-mini-skirt-ice-blue?variant=40120904941652\n",
      "{'item': 'Zakai cargo denim mini skirt ice blue', 'cotton': '80', 'reclaimed cotton': '50'}\n",
      "\n",
      "15/20\n",
      "Scraping data from link: https://us.princesspolly.com/products/tomlin-top-hot-pink?variant=40004322361428\n",
      "{'item': 'Tomlin top hot pink', 'reclaimed nylon': '86', 'elastane': '14'}\n",
      "\n",
      "16/20\n",
      "Scraping data from link: https://us.princesspolly.com/products/maidenwell-contrast-top-white?variant=39989153267796\n",
      "{'item': 'Maidenwell contrast top white', 'reclaimed nylon': '86', 'elastane': '14'}\n",
      "\n",
      "17/20\n",
      "Scraping data from link: https://analuisa.pxf.io/c/4457607/1742764/17411\n",
      "{'item': 'Unsupported URL', 'url': 'https://analuisa.pxf.io/c/4457607/1742764/17411'}\n",
      "\n",
      "18/20\n",
      "Scraping data from link: https://www.depop.com/alyssadarland/\n",
      "{'item': 'Unsupported URL', 'url': 'https://www.depop.com/alyssadarland/'}\n",
      "\n",
      "19/20\n",
      "Scraping data from link: https://www.amazon.com/shop/alyssadarland\n",
      "{'item': 'Unsupported URL', 'url': 'https://www.amazon.com/shop/alyssadarland'}\n",
      "\n",
      "20/20\n",
      "Scraping data from link: https://share.epidemicsound.com/vv9b74\n",
      "{'item': 'Unsupported URL', 'url': 'https://share.epidemicsound.com/vv9b74'}\n",
      "\n",
      "1/11\n",
      "Scraping data from link: https://us.princesspolly.com/\n",
      "{'item': 'Unsupported URL', 'url': 'https://us.princesspolly.com/'}\n",
      "\n",
      "2/11\n",
      "Scraping data from link: https://us.princesspolly.com/products/allie-set-white\n",
      "{'item': 'Allie set white', 'rayon': '65', 'polyester': '35'}\n",
      "\n",
      "3/11\n",
      "Scraping data from link: https://us.princesspolly.com/products/lunya-top-white\n",
      "{'item': 'Lunya top white', 'reclaimed cotton': '100'}\n",
      "\n",
      "4/11\n",
      "Scraping data from link: https://us.princesspolly.com/products/koko-mini-dress-orange\n",
      "{'item': 'Koko mini dress orange', 'cotton': '100'}\n",
      "\n",
      "5/11\n",
      "Scraping data from link: https://us.princesspolly.com/products/recycled-metal-love-let-go-bracelet-set\n",
      "{'item': 'Love & let go bracelet set', 'reclaimed steel': '70'}\n",
      "\n",
      "6/11\n",
      "Scraping data from link: https://us.princesspolly.com/products/pria-top-blue\n",
      "{'item': 'Pria top blue', 'rayon': '60', 'polyester': '40'}\n",
      "\n",
      "7/11\n",
      "Scraping data from link: https://us.princesspolly.com/products/toddy-tote-bag-cream\n",
      "{'item': 'Toddy tote bag cream', 'polyester': '100'}\n",
      "\n",
      "8/11\n",
      "Scraping data from link: https://us.princesspolly.com/products/recycled-nylon-georgina-bikini-bottoms-multi\n",
      "{'item': 'Georgina bikini bottoms multi', 'reclaimed nylon': '80', 'elastane': '20'}\n",
      "\n",
      "9/11\n",
      "Scraping data from link: https://us.princesspolly.com/products/recycled-nylon-georgina-bikini-top-multi\n",
      "{'item': 'Georgina bikini top multi', 'reclaimed nylon': '80', 'elastane': '20'}\n",
      "\n",
      "10/11\n",
      "Scraping data from link: https://us.princesspolly.com/products/tomlin-eco-nylon-top-white\n",
      "{'item': 'Tomlin top white', 'reclaimed nylon': '86', 'elastane': '14'}\n",
      "\n",
      "11/11\n",
      "Scraping data from link: https://us.princesspolly.com/products/jaycee-low-rise-wide-leg-jeans-antique-wash?\n",
      "{'item': 'Jaycee low rise wide leg jeans antique wash', 'cotton': '64', 'rayon': '17', 'polyester': '16', 'nylon': '3'}\n",
      "\n",
      "1/10\n",
      "Scraping data from link: https://us.princesspolly.com/\n",
      "{'item': 'Unsupported URL', 'url': 'https://us.princesspolly.com/'}\n",
      "\n",
      "2/10\n",
      "Scraping data from link: https://us.princesspolly.com/products/goldsmith-faux-leather-bomber-jacket-green\n",
      "{'item': 'Goldsmith faux leather bomber jacket green', 'pu': '55', 'viscose': '45'}\n",
      "\n",
      "3/10\n",
      "Scraping data from link: https://us.princesspolly.com/products/arnim-long-sleeve-top-wine\n",
      "{'item': 'Arnim long sleeve top wine', 'reclaimed nylon': '86', 'elastane': '14'}\n",
      "\n",
      "4/10\n",
      "Scraping data from link: https://us.princesspolly.com/products/kenny-bomber-chocolate\n",
      "{'item': 'Kenny bomber chocolate', 'polyester': '95', 'elastane': '5'}\n",
      "\n",
      "5/10\n",
      "Scraping data from link: https://us.princesspolly.com/products/derek-quater-zip-sweater-grey\n",
      "{'item': 'Derek quater zip sweater grey', 'polyester': '62', 'cotton': '38'}\n",
      "\n",
      "6/10\n",
      "Scraping data from link: https://us.princesspolly.com/products/sonoma-teddy-coat-brown\n",
      "{'item': 'Sonoma teddy coat brown', 'polyester': '100'}\n",
      "\n",
      "7/10\n",
      "Scraping data from link: https://us.princesspolly.com/products/fawcett-jeans-dark-wash-denim\n",
      "{'item': 'Fawcett jeans dark wash denim', 'cotton': '100'}\n",
      "\n",
      "8/10\n",
      "Scraping data from link: https://us.princesspolly.com/products/charlotte-bodysuit-black\n",
      "{'item': 'Charlotte bodysuit black', 'rayon': '60', 'polyester': '35', 'elastane': '5'}\n",
      "\n",
      "9/10\n",
      "Scraping data from link: https://us.princesspolly.com/products/zaveri-earrings-gold\n",
      "{'item': 'Zaveri earrings gold', 'steel': '100'}\n",
      "\n",
      "10/10\n",
      "Scraping data from link: https://us.princesspolly.com/products/honeydew-necklace-gold-green\n",
      "{'item': 'Honeydew necklace gold / green', 'iron': '50', 'zinc alloy': '40', 'glass': '10'}\n",
      "\n",
      "1/13\n",
      "Scraping data from link: https://us.princesspolly.com/\n",
      "{'item': 'Unsupported URL', 'url': 'https://us.princesspolly.com/'}\n",
      "\n",
      "2/13\n",
      "Scraping data from link: https://us.princesspolly.com/products/mella-knit-mini-dress-cream\n",
      "{'item': 'Mella knit mini dress cream', 'reclaimed polyester': '63', 'polyester': '25', 'nylon': '12'}\n",
      "\n",
      "3/13\n",
      "Scraping data from link: https://us.princesspolly.com/products/recycled-fibers-georgia-cropped-puffer-jacket-beige\n",
      "{'item': 'Georgia cropped puffer jacket beige', 'reclaimed polyester': '80', 'polyester': '20'}\n",
      "\n",
      "4/13\n",
      "Scraping data from link: https://us.princesspolly.com/products/athenia-mini-dress-navy-eco\n",
      "{'item': 'Athenia mini dress navy low impact', 'recycled polyester': '100'}\n",
      "\n",
      "5/13\n",
      "Scraping data from link: https://us.princesspolly.com/products/gatewood-eco-nylon-long-sleeve-bodysuit-black\n",
      "{'item': 'Gatewood long sleeve bodysuit black', 'reclaimed nylon': '86', 'elastane': '14'}\n",
      "\n",
      "6/13\n",
      "Scraping data from link: https://us.princesspolly.com/products/weaver-off-shoulder-bodysuit?variant=39852208291924\n",
      "{'item': 'Weaver off shoulder bodysuit', 'reclaimed cotton': '95', 'spandex ': '5'}\n",
      "\n",
      "7/13\n",
      "Scraping data from link: https://us.princesspolly.com/products/recycled-polyester-charvi-long-sleeve-mini-dress-black\n",
      "{'item': 'Charvi long sleeve mini dress black', 'reclaimed polyester': '90', 'elastane': '10'}\n",
      "\n",
      "8/13\n",
      "Scraping data from link: https://us.princesspolly.com/products/sofie-playsuit-romper-green\n",
      "{'item': 'Sofie romper green', 'viscose': '52', 'pbt': '26', 'nylon': '22'}\n",
      "\n",
      "9/13\n",
      "Scraping data from link: https://us.princesspolly.com/products/seize-the-day-bracelet-gold\n",
      "{'item': 'Seize the day bracelet gold', 'reclaimed zinc': '95', 'glass': '5'}\n",
      "\n",
      "10/13\n",
      "Scraping data from link: https://us.princesspolly.com/products/recycled-metal-love-let-go-bracelet-set\n",
      "{'item': 'Love & let go bracelet set', 'reclaimed steel': '70'}\n",
      "\n",
      "11/13\n",
      "Scraping data from link: https://us.princesspolly.com/products/davide-bracelet-pack-gold\n",
      "{'item': 'Davide bracelet pack gold', 'steel': '50', 'acrylic': '30', 'brass': '10', 'zinc alloy': '10'}\n",
      "\n",
      "12/13\n",
      "Scraping data from link: https://us.princesspolly.com/products/lenna-necklace-gold-pearl\n",
      "{'item': 'Lenna necklace gold / pearl', 'brass': '50', 'plastic': '50'}\n",
      "\n",
      "13/13\n",
      "Scraping data from link: https://www.amazon.com/shop/sierralyn\n",
      "{'item': 'Unsupported URL', 'url': 'https://www.amazon.com/shop/sierralyn'}\n",
      "\n",
      "1/3\n",
      "Scraping data from link: https://us.princesspolly.com\n",
      "{'item': 'Unsupported URL', 'url': 'https://us.princesspolly.com'}\n",
      "\n",
      "2/3\n",
      "Scraping data from link: https://pin.it/7cCJV3x\n",
      "{'item': 'Unsupported URL', 'url': 'https://pin.it/7cCJV3x'}\n",
      "\n",
      "3/3\n",
      "Scraping data from link: https://www.amazon.com/shop/influencer-71dbefc2?tag=onamzmakenasp-20\n",
      "{'item': 'Unsupported URL', 'url': 'https://www.amazon.com/shop/influencer-71dbefc2?tag=onamzmakenasp-20'}\n",
      "\n",
      "1/7\n",
      "Scraping data from link: https://us.princesspolly.com/products/mya-maxi-skirt-white?variant=39899801321556\n",
      "{'item': 'Mya maxi skirt white', 'rayon': '68', 'polyester': '32'}\n",
      "\n",
      "2/7\n",
      "Scraping data from link: https://us.princesspolly.com/products/recycled-pu-blend-ma-belle-sandals-cream?variant=39530162815060\n",
      "{'item': 'Ma belle sandals cream', 'water-based pu': '100'}\n",
      "\n",
      "3/7\n",
      "Scraping data from link: https://us.princesspolly.com/products/bareena-mini-dress-cream\n",
      "{'item': 'Bareena mini dress cream', 'polyester': '100'}\n",
      "\n",
      "4/7\n",
      "Scraping data from link: https://us.princesspolly.com/products/burrows-denim-jacket?variant=39736739037268\n",
      "{'item': 'Burrows denim vest', 'cotton': '100'}\n",
      "\n",
      "5/7\n",
      "Scraping data from link: https://us.princesspolly.com/products/dallia-earrings-gold?variant=40045387382868\n",
      "{'item': 'Dallia earrings gold', 'reclaimed zinc alloy': '99', 'steel': '1'}\n",
      "\n",
      "6/7\n",
      "Scraping data from link: https://us.princesspolly.com/products/barberry-cuff-gold?variant=39991360356436\n",
      "{'item': 'Barberry cuff gold', 'reclaimed zinc': '95', 'steel': '5'}\n",
      "\n",
      "7/7\n",
      "Scraping data from link: https://us.princesspolly.com/products/coecoe-hair-clip-white?variant=40144118251604\n",
      "{'item': 'Coecoe hair clip white', 'polyester': '50', 'plastic': '50'}\n",
      "\n",
      "1/16\n",
      "Scraping data from link: https://www.princesspolly.com.au/\n",
      "{'item': 'Unsupported URL', 'url': 'https://www.princesspolly.com.au/'}\n",
      "\n",
      "2/16\n",
      "Scraping data from link: https://www.princesspolly.com.au/products/finnian-mini-skirt-white\n",
      "{'item': 'Finnian mini skirt white', 'cotton': '100'}\n",
      "\n",
      "3/16\n",
      "Scraping data from link: https://www.princesspolly.com.au/products/finnian-top-white\n",
      "{'item': 'Finnian top white', 'cotton': '100'}\n",
      "\n",
      "4/16\n",
      "Scraping data from link: https://www.princesspolly.com.au/products/giulia-knit-maxi-skirt-white\n",
      "{'item': 'Giulia knit maxi skirt white', 'reclaimed polyester': '63', 'polyester': '25', 'nylon': '12'}\n",
      "\n",
      "5/16\n",
      "Scraping data from link: https://www.princesspolly.com.au/products/giulia-knit-top-white?variant=39991618732104\n",
      "{'item': 'Giulia knit top white', 'reclaimed polyester': '63', 'polyester': '25', 'nylon': '12'}\n",
      "\n",
      "6/16\n",
      "Scraping data from link: https://www.princesspolly.com.au/products/isadoria-frill-top-white\n",
      "{'item': 'Isadoria frill top white', 'linen': '45', 'cotton': '55'}\n",
      "\n",
      "7/16\n",
      "Scraping data from link: https://www.princesspolly.com.au/products/valerio-maxi-skirt-white\n",
      "{'item': 'Valerio maxi skirt white', 'linen': '45', 'cotton': '55'}\n",
      "\n",
      "8/16\n",
      "Scraping data from link: https://www.princesspolly.com.au/products/whinnie-top-cream\n",
      "{'item': 'Whinnie top cream', 'polyester': '100'}\n",
      "\n",
      "9/16\n",
      "Scraping data from link: https://www.princesspolly.com.au/products/gibbs-mini-skirt-white\n",
      "{'item': 'Gibbs mini skirt white', 'reclaimed polyester': '100'}\n",
      "\n",
      "10/16\n",
      "Scraping data from link: https://www.princesspolly.com.au/products/delgado-top-white\n",
      "{'item': 'Delgado top white', 'cotton': '97', 'elastane': '3'}\n",
      "\n",
      "11/16\n",
      "Scraping data from link: https://www.princesspolly.com.au/products/enslee-midi-skirt-black\n",
      "{'item': 'Enslee midi skirt black', 'reclaimed nylon': '90', 'spandex': '10'}\n",
      "\n",
      "12/16\n",
      "Scraping data from link: https://www.princesspolly.com.au/products/zenda-linen-blend-top-black\n",
      "{'item': 'Zenda linen blend top black', 'linen': '50'}\n",
      "\n",
      "13/16\n",
      "Scraping data from link: https://www.princesspolly.com.au/products/mercer-linen-blend-maxi-skirt-black\n",
      "{'item': 'Mercer linen blend maxi skirt black', 'linen': '50'}\n",
      "\n",
      "14/16\n",
      "Scraping data from link: https://www.princesspolly.com.au/products/rebirth-romper-onyx\n",
      "{'item': 'Rebirth playsuit onyx', 'nylon': '86', 'elastane': '14'}\n",
      "\n",
      "15/16\n",
      "Scraping data from link: https://www.princesspolly.com.au/products/mateo-shorts-beige\n",
      "{'item': 'Mateo shorts beige', 'cotton': '100'}\n",
      "\n",
      "16/16\n",
      "Scraping data from link: https://www.princesspolly.com.au/products/zaveri-earrings-gold\n",
      "{'item': 'Zaveri earrings gold', 'steel': '100'}\n",
      "\n",
      "1/15\n",
      "Scraping data from link: https://us.princesspolly.com/\n",
      "{'item': 'Unsupported URL', 'url': 'https://us.princesspolly.com/'}\n",
      "\n",
      "2/15\n",
      "Scraping data from link: https://us.princesspolly.com/products/peaches-tube-top-orange?variant=39991314251860\n",
      "{'item': 'Peaches tube top orange', 'organic cotton': '47', 'cotton': '47', 'elastane': '6'}\n",
      "\n",
      "3/15\n",
      "Scraping data from link: https://us.princesspolly.com/products/brinna-jacquard-vest-top-multi?variant=40092516253780\n",
      "{'item': 'Brinna jacquard vest top multi', 'polyester': '70', 'cotton': '30'}\n",
      "\n",
      "4/15\n",
      "Scraping data from link: https://us.princesspolly.com/products/anastasiya-mini-dress-pink?variant=39977728082004\n",
      "{'item': 'Anastasiya mini dress pink', 'cotton': '100'}\n",
      "\n",
      "5/15\n",
      "Scraping data from link: https://us.princesspolly.com/products/scarlett-top-cream?variant=40177998069844\n",
      "{'item': 'Scarlett top yellow', 'cotton': '95', 'elastane': '5'}\n",
      "\n",
      "6/15\n",
      "Scraping data from link: https://us.princesspolly.com/products/archer-pants-brown-eco-petite?variant=39818181836884\n",
      "{'item': 'Archer pants brown petite', 'reclaimed polyester': '95', 'elastane': '5'}\n",
      "\n",
      "7/15\n",
      "Scraping data from link: https://us.princesspolly.com/products/stetson-sunglasses-tort?variant=40212804436052\n",
      "{'item': 'Stetson sunglasses tort', 'pc': '100'}\n",
      "\n",
      "8/15\n",
      "Scraping data from link: https://us.princesspolly.com/products/thread-together-x-pp-support-your-friends-oversized-tee-green?variant=40206256373844\n",
      "{'item': 'Thread together support your friends oversized tee green', 'organic cotton': '100'}\n",
      "\n",
      "9/15\n",
      "Scraping data from link: https://us.princesspolly.com/products/devis-long-sleeve-top-beige-white?variant=40139836915796\n",
      "{'item': 'Devis long sleeve top beige / white', 'polyester': '100'}\n",
      "\n",
      "10/15\n",
      "Scraping data from link: https://us.princesspolly.com/products/larry-lobster-oversized-tee-white?variant=40092443377748\n",
      "{'item': 'Larry lobster oversized tee white', 'reclaimed cotton': '60', 'reclaimed polyester': '40'}\n",
      "\n",
      "11/15\n",
      "Scraping data from link: https://us.princesspolly.com/products/say-nothing-top-white?variant=40092443508820\n",
      "{'item': 'Say nothing top white', 'elastane': '4'}\n",
      "\n",
      "12/15\n",
      "Scraping data from link: https://us.princesspolly.com/products/marinio-shorts-white?variant=40267192139860\n",
      "{'item': 'Marinio shorts white', 'polyester': '100'}\n",
      "\n",
      "13/15\n",
      "Scraping data from link: https://us.princesspolly.com/products/sixteen-tank-top-grey?variant=40092444917844\n",
      "{'item': 'Sixteen tank top grey', 'reclaimed cotton': '95', 'spandex': '5'}\n",
      "\n",
      "14/15\n",
      "Scraping data from link: https://us.princesspolly.com/products/madas-top-pink?variant=40146965430356\n",
      "{'item': 'Back in time top pink check', 'reclaimed nylon': '86', 'elastane': '14'}\n",
      "\n",
      "15/15\n",
      "Scraping data from link: https://www.amazon.com/shop/sophiaborges\n",
      "{'item': 'Unsupported URL', 'url': 'https://www.amazon.com/shop/sophiaborges'}\n",
      "\n",
      "1/11\n",
      "Scraping data from link: https://abiromanfitness.com/landing-page/\n",
      "{'item': 'Unsupported URL', 'url': 'https://abiromanfitness.com/landing-page/'}\n",
      "\n",
      "2/11\n",
      "Scraping data from link: https://mailchi.mp/c242821724f4/email-list-sign-up-page\n",
      "{'item': 'Unsupported URL', 'url': 'https://mailchi.mp/c242821724f4/email-list-sign-up-page'}\n",
      "\n",
      "3/11\n",
      "Scraping data from link: https://abiromanfitness.com/\n",
      "{'item': 'Unsupported URL', 'url': 'https://abiromanfitness.com/'}\n",
      "\n",
      "4/11\n",
      "Scraping data from link: https://youtu.be/PwBKJ7y5pmQ?si=9ObZ-e1U_hqx5l0G\n",
      "{'item': 'Unsupported URL', 'url': 'https://youtu.be/PwBKJ7y5pmQ?si=9ObZ-e1U_hqx5l0G'}\n",
      "\n",
      "5/11\n",
      "Scraping data from link: https://youtu.be/fsJz5JDxxX4?si=yi6hhMs8yqSZtIfn\n",
      "{'item': 'Unsupported URL', 'url': 'https://youtu.be/fsJz5JDxxX4?si=yi6hhMs8yqSZtIfn'}\n",
      "\n",
      "6/11\n",
      "Scraping data from link: https://youtu.be/ABh5ofYUEF8?si=eVfPnVjaBPPfe9xZ\n",
      "{'item': 'Unsupported URL', 'url': 'https://youtu.be/ABh5ofYUEF8?si=eVfPnVjaBPPfe9xZ'}\n",
      "\n",
      "7/11\n",
      "Scraping data from link: https://us.princesspolly.com/products/the-goddess-crop-orange\n",
      "{'item': 'The goddess crop orange', 'polyester': '95', 'spandex': '5'}\n",
      "\n",
      "8/11\n",
      "Scraping data from link: https://us.princesspolly.com/products/recycled-polyester-jordy-mini-dress-black\n",
      "{'item': 'Jordy mini dress black', 'reclaimed polyester': '92', 'elastane': '8'}\n",
      "\n",
      "9/11\n",
      "Scraping data from link: https://us.princesspolly.com/products/louis-pants-beige\n",
      "{'item': 'Louis linen blend pants beige', 'cotton': '55', 'linen': '45'}\n",
      "\n",
      "10/11\n",
      "Scraping data from link: https://us.princesspolly.com/products/the-sting-mini-dress\n",
      "{'item': 'The sting mini dress blue', 'rayon': '100'}\n",
      "\n",
      "11/11\n",
      "Scraping data from link: https://us.princesspolly.com/products/ecovero-the-love-galore-playsuit-romper-blue\n",
      "{'item': 'The love galore romper blue'}\n",
      "\n",
      "1/11\n",
      "Scraping data from link: http://alaninu.com/MARISSA\n",
      "{'item': 'Unsupported URL', 'url': 'http://alaninu.com/MARISSA'}\n",
      "\n",
      "2/11\n",
      "Scraping data from link: https://rstyle.me/+6CDDjqAdoJOksRQyOXUANA\n",
      "{'item': 'Unsupported URL', 'url': 'https://rstyle.me/+6CDDjqAdoJOksRQyOXUANA'}\n",
      "\n",
      "3/11\n",
      "Scraping data from link: https://rstyle.me/+daVCGJLkJphkP7V4UxNKhg\n",
      "{'item': 'Unsupported URL', 'url': 'https://rstyle.me/+daVCGJLkJphkP7V4UxNKhg'}\n",
      "\n",
      "4/11\n",
      "Scraping data from link: https://rstyle.me/+QpWxAtMbe67Ho5pasPUWnQ\n",
      "{'item': 'Goldsmith faux leather bomber jacket black', 'rayon': '55', 'polyester': '45'}\n",
      "\n",
      "5/11\n",
      "Scraping data from link: https://rstyle.me/+WCHUjV0KmVZB8LR4NNkK0g\n",
      "{'item': 'Phoenix denim jacket black', 'cotton': '100'}\n",
      "\n",
      "6/11\n",
      "Scraping data from link: https://rstyle.me/+CPr08NqXrBunGoKnR1GU1w\n",
      "{'item': 'Caprani mini dress grey', 'reclaimed nylon': '86', 'elastane': '14'}\n",
      "\n",
      "7/11\n",
      "Scraping data from link: https://rstyle.me/+UmzRSUPwjeTpgnb63qupAQ\n",
      "{'item': 'Selsey mini dress white', 'rayon': '100'}\n",
      "\n",
      "8/11\n",
      "Scraping data from link: https://rstyle.me/+Zg_5F9Oo-cV4IDv2eQSqsA\n",
      "{'item': 'Unsupported URL', 'url': 'https://rstyle.me/+Zg_5F9Oo-cV4IDv2eQSqsA'}\n",
      "\n",
      "9/11\n",
      "Scraping data from link: https://rstyle.me/+rQpUojMbmgWQXe3qJf-7sw\n",
      "{'item': 'Unsupported URL', 'url': 'https://rstyle.me/+rQpUojMbmgWQXe3qJf-7sw'}\n",
      "\n",
      "10/11\n",
      "Scraping data from link: https://rstyle.me/+65uqs8B1XRxaEv5bo4ap2Q\n",
      "{'item': 'Wyoming blazer black', 'polyester': '95', 'spandex': '5'}\n",
      "\n",
      "11/11\n",
      "Scraping data from link: https://rstyle.me/+H-ckvectj3ZEo4jt1kQv4g\n",
      "{'item': 'Endless love corset top black', 'cotton': '100'}\n",
      "\n",
      "1/19\n",
      "Scraping data from link: https://us.princesspolly.com/​\n",
      "{'item': 'Unsupported URL', 'url': 'https://us.princesspolly.com/\\u200b'}\n",
      "\n",
      "2/19\n",
      "Scraping data from link: https://us.princesspolly.com/products/jem-oversized-sweater-cream\n",
      "{'item': 'Jem oversized sweater cream', 'viscose': '78', 'nylon': '22'}\n",
      "\n",
      "3/19\n",
      "Scraping data from link: https://us.princesspolly.com/products/ameera-earrings-gold\n",
      "{'item': 'Ameera earrings gold', 'reclaimed zinc alloy': '99', 'steel': '1'}\n",
      "\n",
      "4/19\n",
      "Scraping data from link: https://us.princesspolly.com/products/reeves-bag-red\n",
      "{'item': 'Reeves bag red', 'pu': '80', 'polyester': '20'}\n",
      "\n",
      "5/19\n",
      "Scraping data from link: https://us.princesspolly.com/products/oakleigh-earrings-gold\n",
      "{'item': 'Oakleigh earrings gold', 'reclaimed brass': '99', 'steel': '1'}\n",
      "\n",
      "6/19\n",
      "Scraping data from link: https://us.princesspolly.com/products/theo-plush-bucket-hat-black\n",
      "{'item': 'Theo plush bucket hat black', 'polyester': '100'}\n",
      "\n",
      "7/19\n",
      "Scraping data from link: https://us.princesspolly.com/products/ranney-scarf-multi\n",
      "{'item': 'Ranney scarf multi', 'polyester': '100'}\n",
      "\n",
      "8/19\n",
      "Scraping data from link: https://us.princesspolly.com/products/koran-socks-white\n",
      "{'item': 'Frolick legwarmers white', 'cotton': '80', 'polyester': '20'}\n",
      "\n",
      "9/19\n",
      "Scraping data from link: https://us.princesspolly.com/products/recycled-fibers-ryanna-sweater-beige\n",
      "{'item': 'Ryanna sweater beige', 'reclaimed polyester': '97', 'elastane': '3'}\n",
      "\n",
      "10/19\n",
      "Scraping data from link: https://us.princesspolly.com/products/forte-knit-sweater-jumper-black-cream\n",
      "{'item': 'Forte knit sweater black / cream', 'acrylic': '52', 'nylon': '28', 'polyester': '20'}\n",
      "\n",
      "11/19\n",
      "Scraping data from link: https://us.princesspolly.com/products/oswin-turtleneck-sweater-white\n",
      "{'item': 'Oswin turtleneck sweater white', 'reclaimed polyester': '97', 'elastane': '3'}\n",
      "\n",
      "12/19\n",
      "Scraping data from link: https://us.princesspolly.com/products/goldsmith-pu-bomber-jacket-burgundy\n",
      "{'item': 'Goldsmith faux leather bomber jacket burgundy', 'rayon': '55', 'pu': '45'}\n",
      "\n",
      "13/19\n",
      "Scraping data from link: https://us.princesspolly.com/products/kenleigh-coat-charcoal\n",
      "{'item': 'Kenleigh coat charcoal', 'polyester': '100'}\n",
      "\n",
      "14/19\n",
      "Scraping data from link: https://us.princesspolly.com/products/elysium-eco-nylon-long-sleeve-turtleneck-top-bone\n",
      "{'item': 'Elysium long sleeve turtleneck top bone', 'reclaimed nylon': '86', 'elastane': '14'}\n",
      "\n",
      "15/19\n",
      "Scraping data from link: https://us.princesspolly.com/products/arnim-eco-nylon-long-sleeve-top-red\n",
      "{'item': 'Arnim long sleeve top red', 'reclaimed nylon': '86', 'elastane': '14'}\n",
      "\n",
      "16/19\n",
      "Scraping data from link: https://us.princesspolly.com/products/ollie-straight-leg-jean-light-wash-denim\n",
      "{'item': 'Ollie straight leg jean light wash denim', 'cotton': '60', 'recycled cotton': '40'}\n",
      "\n",
      "17/19\n",
      "Scraping data from link: https://www.shopltk.com/explore/emilygrace.26\n",
      "{'item': 'Unsupported URL', 'url': 'https://www.shopltk.com/explore/emilygrace.26'}\n",
      "\n",
      "18/19\n",
      "Scraping data from link: https://www.amazon.com/shop/emilygrace\n",
      "{'item': 'Unsupported URL', 'url': 'https://www.amazon.com/shop/emilygrace'}\n",
      "\n",
      "19/19\n",
      "Scraping data from link: http://bit.ly/PoshxEmilyGrace​\n",
      "{'item': 'Unsupported URL', 'url': 'http://bit.ly/PoshxEmilyGrace\\u200b'}\n",
      "\n",
      "1/16\n",
      "Scraping data from link: https://us.princesspolly.com/\n",
      "{'item': 'Unsupported URL', 'url': 'https://us.princesspolly.com/'}\n",
      "\n",
      "2/16\n",
      "Scraping data from link: https://us.princesspolly.com/products/morley-off-shoulder-sweater-cream\n",
      "{'item': 'Morley off shoulder sweater cream', 'reclaimed polyester': '63', 'polyester': '25', 'nylon': '12'}\n",
      "\n",
      "3/16\n",
      "Scraping data from link: https://us.princesspolly.com/products/harmony-sweater-beige\n",
      "{'item': 'Harmony knit sweater beige', 'cotton': '60', 'acrylic': '40'}\n",
      "\n",
      "4/16\n",
      "Scraping data from link: https://us.princesspolly.com/products/phylis-off-the-shoulder-maxi-dress-chocolate\n",
      "{'item': 'Phylis off the shoulder maxi dress chocolate', 'viscose': '48', 'polyester': '28', 'elastane': '24'}\n",
      "\n",
      "5/16\n",
      "Scraping data from link: https://us.princesspolly.com/products/eivissa-bagy-jeans-faded-denim?variant=3\n",
      "{'item': 'Eivissa baggy jeans faded denim', 'cotton': '100'}\n",
      "\n",
      "6/16\n",
      "Scraping data from link: https://us.princesspolly.com/products/paisleigh-cable-knit-cardigan-beige?varia\n",
      "{'item': 'Paisleigh cable knit cardigan beige', 'polyester': '75', 'nylon': '78', 'wool': '6', 'spandex': '1'}\n",
      "\n",
      "7/16\n",
      "Scraping data from link: https://us.princesspolly.com/products/back-in-time-top-white\n",
      "{'item': 'Back in time top white', 'reclaimed nylon': '86', 'elastane': '14'}\n",
      "\n",
      "8/16\n",
      "Scraping data from link: https://us.princesspolly.com/products/kimmons-jacket-black\n",
      "{'item': 'Kimmons jacket black', 'pu': '100'}\n",
      "\n",
      "9/16\n",
      "Scraping data from link: https://us.princesspolly.com/products/nicolo-jeans-denim?variant=398843313193\n",
      "{'item': 'Nicolo jeans denim', 'cotton': '98', 'polyester': '2'}\n",
      "\n",
      "10/16\n",
      "Scraping data from link: https://us.princesspolly.com/products/maryanne-jeans-mid-wash-denim?variant\n",
      "{'item': 'Maryanne mid rise relaxed jeans mid wash denim', 'cotton': '69', 'polyester': '16', 'rayon': '15'}\n",
      "\n",
      "11/16\n",
      "Scraping data from link: https://us.princesspolly.com/products/franz-shearling-boots-brown\n",
      "{'item': 'Franz shearling boots brown', 'fabric': '100'}\n",
      "\n",
      "12/16\n",
      "Scraping data from link: https://us.princesspolly.com/products/back-in-time-top-cream\n",
      "{'item': 'Back in time top cream', 'reclaimed nylon': '86', 'elastane': '14'}\n",
      "\n",
      "13/16\n",
      "Scraping data from link: https://us.princesspolly.com/products/archo-gold-plated-earrings\n",
      "{'item': 'Archo gold plated earrings', 'brass with 3mils': '100'}\n",
      "\n",
      "14/16\n",
      "Scraping data from link: https://us.princesspolly.com/products/bonsoir-cosmetic-case-mutli\n",
      "{'item': 'Bonsoir cosmetic case multi', 'polyester': '100'}\n",
      "\n",
      "15/16\n",
      "Scraping data from link: https://www.amazon.com/shop/influencer-d5c44240\n",
      "{'item': 'Unsupported URL', 'url': 'https://www.amazon.com/shop/influencer-d5c44240'}\n",
      "\n",
      "16/16\n",
      "Scraping data from link: https://linktr.ee/briagiia\n",
      "{'item': 'Unsupported URL', 'url': 'https://linktr.ee/briagiia'}\n",
      "\n",
      "1/10\n",
      "Scraping data from link: https://www.princesspolly.com.au/products/lewish-low-rise-midi-skirt-green-floral?variant=40022135636040\n",
      "{'item': 'Lewish low rise midi skirt green floral', 'polyester': '96', 'spandex': '4'}\n",
      "\n",
      "2/10\n",
      "Scraping data from link: https://www.princesspolly.com.au/products/lunya-top-white?variant=39833231491144\n",
      "{'item': 'Lunya top white', 'reclaimed cotton': '100'}\n",
      "\n",
      "3/10\n",
      "Scraping data from link: https://www.princesspolly.com.au/products/top-model-cami-top-black?variant=39979613618248\n",
      "{'item': 'Top model cami top black', 'nylon': '88', 'elastane': '12'}\n",
      "\n",
      "4/10\n",
      "Scraping data from link: https://www.princesspolly.com.au/products/cayte-capris-black?variant=39984759767112\n",
      "{'item': 'Cayte capris black', 'reclaimed rayon': '95', 'elastane': '5'}\n",
      "\n",
      "5/10\n",
      "Scraping data from link: https://www.princesspolly.com.au/products/neena-quarter-zip-sweater-green-cream?variant=39968368427080\n",
      "{'item': 'Neena quarter zip jumper green / cream', 'reclaimed polyester': '52', 'polyester': '30', 'acrylic': '15', 'elastane': '3'}\n",
      "\n",
      "6/10\n",
      "Scraping data from link: https://www.princesspolly.com.au/products/speak-softly-shorts-white?variant=40009744154696\n",
      "{'item': 'Speak softly shorts white', 'cotton': '100'}\n",
      "\n",
      "7/10\n",
      "Scraping data from link: https://www.princesspolly.com.au/products/burke-sweater-cream\n",
      "{'item': 'Burke cardigan cream', 'acrylic': '100'}\n",
      "\n",
      "8/10\n",
      "Scraping data from link: https://www.princesspolly.com.au/products/zumma-flats-patent-black?variant=39975239516232\n",
      "{'item': 'Zumma flats patent black', 'water-based pu': '100'}\n",
      "\n",
      "9/10\n",
      "Scraping data from link: https://www.princesspolly.com.au/products/ignatius-sunglasses-tort\n",
      "{'item': 'Ignatius sunglasses tort', 'uv protection': '100'}\n",
      "\n",
      "10/10\n",
      "Scraping data from link: https://www.princesspolly.com.au/products/coecoe-hair-clip-white\n",
      "{'item': 'Coecoe hair clip white', 'polyester': '50', 'plastic': '50'}\n",
      "\n",
      "1/9\n",
      "Scraping data from link: https://www.princesspolly.com.au/\n",
      "{'item': 'Unsupported URL', 'url': 'https://www.princesspolly.com.au/'}\n",
      "\n",
      "2/9\n",
      "Scraping data from link: https://www.princesspolly.com.au/products/recycled-metal-true-paradise-earring-set\n",
      "{'item': 'True paradise earring set gold', 'reclaimed steel': '100'}\n",
      "\n",
      "3/9\n",
      "Scraping data from link: https://www.princesspolly.com.au/products/original-sin-dress-midi-dress-garnet\n",
      "{'item': 'Original sin dress midi dress chocolate', 'viscose': '89', 'nylon': '11'}\n",
      "\n",
      "4/9\n",
      "Scraping data from link: https://www.princesspolly.com.au/products/cloud-strapless-boucle-maxi-dress-cream\n",
      "{'item': 'Cloud strapless boucle maxi dress cream', 'polyester': '100'}\n",
      "\n",
      "5/9\n",
      "Scraping data from link: https://www.princesspolly.com.au/products/beller-maxi-dress-black\n",
      "{'item': 'Beller maxi dress black', 'reclaimednylon': '86', 'elastanelining': '14'}\n",
      "\n",
      "6/9\n",
      "Scraping data from link: https://www.princesspolly.com.au/products/beller-top-black\n",
      "{'item': 'Beller top black', 'rayon': '94', 'elastane': '6'}\n",
      "\n",
      "7/9\n",
      "Scraping data from link: https://www.princesspolly.com.au/products/cartwright-mini-skirt-beige\n",
      "{'item': 'Cartwright mini skirt beige', 'polyester': '100'}\n",
      "\n",
      "8/9\n",
      "Scraping data from link: https://www.princesspolly.com.au/products/change-it-up-strapless-top-white\n",
      "{'item': 'Change it up strapless top white', 'polyester': '100'}\n",
      "\n",
      "9/9\n",
      "Scraping data from link: https://www.princesspolly.com.au/products/feel-good-contour-activewear-catsuit-black-1\n",
      "{'item': 'Feel good contour activewear catsuit black', 'reclaimed polyester': '80', 'spandex': '20'}\n",
      "\n",
      "1/7\n",
      "Scraping data from link: https://www.princesspolly.com.au\n",
      "{'item': 'Unsupported URL', 'url': 'https://www.princesspolly.com.au'}\n",
      "\n",
      "2/7\n",
      "Scraping data from link: https://www.princesspolly.com.au/products/phillips-cold-shoulder-sweater-cream\n",
      "{'item': 'Phillips cold shoulder jumper cream', 'acrylic': '52', 'nylon': '28', 'polyester': '20'}\n",
      "\n",
      "3/7\n",
      "Scraping data from link: https://www.princesspolly.com.au/products/morley-off-shoulder-sweater-grey-marle\n",
      "{'item': 'Morley off shoulder sweater grey marle', 'reclaimed polyester': '63', 'polyester': '25', 'nylon': '12'}\n",
      "\n",
      "4/7\n",
      "Scraping data from link: https://www.princesspolly.com.au/products/morley-off-shoulder-sweater-burgundy\n",
      "{'item': 'Morley off shoulder sweater burgundy', 'reclaimed polyester': '63', 'polyester': '25', 'nylon': '12'}\n",
      "\n",
      "5/7\n",
      "Scraping data from link: https://www.princesspolly.com.au/products/perotti-cap-sleeve-top-cream\n",
      "{'item': 'Perotti cap sleeve top cream', 'reclaimed nylon': '90', 'spandex': '10'}\n",
      "\n",
      "6/7\n",
      "Scraping data from link: https://www.princesspolly.com.au/products/ecovero-the-love-galore-playsuit-romper-white?variant=39404954714184\n",
      "{'item': 'The love galore playsuit white lower impact'}\n",
      "\n",
      "7/7\n",
      "Scraping data from link: https://www.princesspolly.com.au/products/freya-mini-dress?variant=31640911970386\n",
      "{'item': 'Freya mini dress yellow floral', 'polyester': '100'}\n",
      "\n",
      "1/9\n",
      "Scraping data from link: https://www.princesspolly.com.au/\n",
      "{'item': 'Unsupported URL', 'url': 'https://www.princesspolly.com.au/'}\n",
      "\n",
      "2/9\n",
      "Scraping data from link: https://www.princesspolly.com.au/products/recycled-metal-true-paradise-earring-set\n",
      "{'item': 'True paradise earring set gold', 'reclaimed steel': '100'}\n",
      "\n",
      "3/9\n",
      "Scraping data from link: https://www.princesspolly.com.au/products/original-sin-dress-midi-dress-garnet\n",
      "{'item': 'Original sin dress midi dress chocolate', 'viscose': '89', 'nylon': '11'}\n",
      "\n",
      "4/9\n",
      "Scraping data from link: https://www.princesspolly.com.au/products/cloud-strapless-boucle-maxi-dress-cream\n",
      "{'item': 'Cloud strapless boucle maxi dress cream', 'polyester': '100'}\n",
      "\n",
      "5/9\n",
      "Scraping data from link: https://www.princesspolly.com.au/products/beller-maxi-dress-black\n",
      "{'item': 'Beller maxi dress black', 'reclaimednylon': '86', 'elastanelining': '14'}\n",
      "\n",
      "6/9\n",
      "Scraping data from link: https://www.princesspolly.com.au/products/beller-top-black\n",
      "{'item': 'Beller top black', 'rayon': '94', 'elastane': '6'}\n",
      "\n",
      "7/9\n",
      "Scraping data from link: https://www.princesspolly.com.au/products/cartwright-mini-skirt-beige\n",
      "{'item': 'Cartwright mini skirt beige', 'polyester': '100'}\n",
      "\n",
      "8/9\n",
      "Scraping data from link: https://www.princesspolly.com.au/products/change-it-up-strapless-top-white\n",
      "{'item': 'Change it up strapless top white', 'polyester': '100'}\n",
      "\n",
      "9/9\n",
      "Scraping data from link: https://www.princesspolly.com.au/products/feel-good-contour-activewear-catsuit-black-1\n",
      "{'item': 'Feel good contour activewear catsuit black', 'reclaimed polyester': '80', 'spandex': '20'}\n",
      "\n",
      "1/10\n",
      "Scraping data from link: https://www.princesspolly.com.au/products/lewish-low-rise-midi-skirt-green-floral?variant=40022135636040\n",
      "{'item': 'Lewish low rise midi skirt green floral', 'polyester': '96', 'spandex': '4'}\n",
      "\n",
      "2/10\n",
      "Scraping data from link: https://www.princesspolly.com.au/products/lunya-top-white?variant=39833231491144\n",
      "{'item': 'Lunya top white', 'reclaimed cotton': '100'}\n",
      "\n",
      "3/10\n",
      "Scraping data from link: https://www.princesspolly.com.au/products/top-model-cami-top-black?variant=39979613618248\n",
      "{'item': 'Top model cami top black', 'nylon': '88', 'elastane': '12'}\n",
      "\n",
      "4/10\n",
      "Scraping data from link: https://www.princesspolly.com.au/products/cayte-capris-black?variant=39984759767112\n",
      "{'item': 'Cayte capris black', 'reclaimed rayon': '95', 'elastane': '5'}\n",
      "\n",
      "5/10\n",
      "Scraping data from link: https://www.princesspolly.com.au/products/neena-quarter-zip-sweater-green-cream?variant=39968368427080\n",
      "{'item': 'Neena quarter zip jumper green / cream', 'reclaimed polyester': '52', 'polyester': '30', 'acrylic': '15', 'elastane': '3'}\n",
      "\n",
      "6/10\n",
      "Scraping data from link: https://www.princesspolly.com.au/products/speak-softly-shorts-white?variant=40009744154696\n",
      "{'item': 'Speak softly shorts white', 'cotton': '100'}\n",
      "\n",
      "7/10\n",
      "Scraping data from link: https://www.princesspolly.com.au/products/burke-sweater-cream\n",
      "{'item': 'Burke cardigan cream', 'acrylic': '100'}\n",
      "\n",
      "8/10\n",
      "Scraping data from link: https://www.princesspolly.com.au/products/zumma-flats-patent-black?variant=39975239516232\n",
      "{'item': 'Zumma flats patent black', 'water-based pu': '100'}\n",
      "\n",
      "9/10\n",
      "Scraping data from link: https://www.princesspolly.com.au/products/ignatius-sunglasses-tort\n",
      "{'item': 'Ignatius sunglasses tort', 'uv protection': '100'}\n",
      "\n",
      "10/10\n",
      "Scraping data from link: https://www.princesspolly.com.au/products/coecoe-hair-clip-white\n",
      "{'item': 'Coecoe hair clip white', 'polyester': '50', 'plastic': '50'}\n",
      "\n",
      "1/7\n",
      "Scraping data from link: https://www.princesspolly.com.au\n",
      "{'item': 'Unsupported URL', 'url': 'https://www.princesspolly.com.au'}\n",
      "\n",
      "2/7\n",
      "Scraping data from link: https://www.princesspolly.com.au/products/phillips-cold-shoulder-sweater-cream\n",
      "{'item': 'Phillips cold shoulder jumper cream', 'acrylic': '52', 'nylon': '28', 'polyester': '20'}\n",
      "\n",
      "3/7\n",
      "Scraping data from link: https://www.princesspolly.com.au/products/morley-off-shoulder-sweater-grey-marle\n",
      "{'item': 'Morley off shoulder sweater grey marle', 'reclaimed polyester': '63', 'polyester': '25', 'nylon': '12'}\n",
      "\n",
      "4/7\n",
      "Scraping data from link: https://www.princesspolly.com.au/products/morley-off-shoulder-sweater-burgundy\n",
      "{'item': 'Morley off shoulder sweater burgundy', 'reclaimed polyester': '63', 'polyester': '25', 'nylon': '12'}\n",
      "\n",
      "5/7\n",
      "Scraping data from link: https://www.princesspolly.com.au/products/perotti-cap-sleeve-top-cream\n",
      "{'item': 'Perotti cap sleeve top cream', 'reclaimed nylon': '90', 'spandex': '10'}\n",
      "\n",
      "6/7\n",
      "Scraping data from link: https://www.princesspolly.com.au/products/ecovero-the-love-galore-playsuit-romper-white?variant=39404954714184\n",
      "{'item': 'The love galore playsuit white lower impact'}\n",
      "\n",
      "7/7\n",
      "Scraping data from link: https://www.princesspolly.com.au/products/freya-mini-dress?variant=31640911970386\n",
      "{'item': 'Freya mini dress yellow floral', 'polyester': '100'}\n",
      "\n",
      "1/18\n",
      "Scraping data from link: https://www.windsorsmith.com.au/history-blk-leather\n",
      "{'item': 'Unsupported URL', 'url': 'https://www.windsorsmith.com.au/history-blk-leather'}\n",
      "\n",
      "2/18\n",
      "Scraping data from link: https://www.windsorsmith.com.au/bunny-blk-leather\n",
      "{'item': 'Unsupported URL', 'url': 'https://www.windsorsmith.com.au/bunny-blk-leather'}\n",
      "\n",
      "3/18\n",
      "Scraping data from link: https://www.billini.com/collections/heels/products/hawley-black-mesh\n",
      "{'item': 'Unsupported URL', 'url': 'https://www.billini.com/collections/heels/products/hawley-black-mesh'}\n",
      "\n",
      "4/18\n",
      "Scraping data from link: https://www.billini.com/collections/ballet-flats/products/gilda-black-mesh\n",
      "{'item': 'Unsupported URL', 'url': 'https://www.billini.com/collections/ballet-flats/products/gilda-black-mesh'}\n",
      "\n",
      "5/18\n",
      "Scraping data from link: https://petaandjain.com.au/collections/sunglasses/products/calista-green-gold\n",
      "{'item': 'Unsupported URL', 'url': 'https://petaandjain.com.au/collections/sunglasses/products/calista-green-gold'}\n",
      "\n",
      "6/18\n",
      "Scraping data from link: https://petaandjain.com.au/collections/sunglasses/products/jada-ivory-brown\n",
      "{'item': 'Unsupported URL', 'url': 'https://petaandjain.com.au/collections/sunglasses/products/jada-ivory-brown'}\n",
      "\n",
      "7/18\n",
      "Scraping data from link: https://petaandjain.com.au/collections/sunglasses/products/lana-chocolatte\n",
      "{'item': 'Unsupported URL', 'url': 'https://petaandjain.com.au/collections/sunglasses/products/lana-chocolatte'}\n",
      "\n",
      "8/18\n",
      "Scraping data from link: https://petaandjain.com.au/collections/sunglasses/products/kaos-black\n",
      "{'item': 'Unsupported URL', 'url': 'https://petaandjain.com.au/collections/sunglasses/products/kaos-black'}\n",
      "\n",
      "9/18\n",
      "Scraping data from link: https://www.princesspolly.com.au/products/harmony-knit-sweater-black\n",
      "{'item': 'Harmony knit sweater black', 'cotton': '60', 'acrylic': '40'}\n",
      "\n",
      "10/18\n",
      "Scraping data from link: https://www.princesspolly.com.au/products/messenger-one-shoulder-top-white\n",
      "{'item': 'Messenger one shoulder top white', 'reclaimed polyester': '100'}\n",
      "\n",
      "11/18\n",
      "Scraping data from link: https://www.princesspolly.com.au/products/tywin-top-white\n",
      "{'item': 'Tywin top white', 'reclaimed polyester': '100'}\n",
      "\n",
      "12/18\n",
      "Scraping data from link: https://www.princesspolly.com.au/products/artha-cardigan-beige\n",
      "{'item': 'Artha cardigan beige', 'acrylic': '100'}\n",
      "\n",
      "13/18\n",
      "Scraping data from link: https://www.princesspolly.com.au/products/delvonte-top-black\n",
      "{'item': 'Delvonte top black', 'reclaimed polyester': '100'}\n",
      "\n",
      "14/18\n",
      "Scraping data from link: https://www.princesspolly.com.au/products/cherry-much-tee-white\n",
      "{'item': 'Cherry much tee white', 'cotton': '100'}\n",
      "\n",
      "15/18\n",
      "Scraping data from link: https://www.princesspolly.com.au/products/spiller-off-the-shoulder-top-burgundy\n",
      "{'item': 'Spiller off the shoulder top burgundy', 'reclaimed polyester': '90', 'elastane': '10'}\n",
      "\n",
      "16/18\n",
      "Scraping data from link: https://www.princesspolly.com.au/products/kellot-shirt-white\n",
      "{'item': 'Kellot shirt white', 'cotton': '100'}\n",
      "\n",
      "17/18\n",
      "Scraping data from link: https://www.princesspolly.com.au/products/ballerina-girl-top-white\n",
      "{'item': 'Ballerina girl top white', 'polyester': '100'}\n",
      "\n",
      "18/18\n",
      "Scraping data from link: https://www.temu.com/au\n",
      "{'item': 'Unsupported URL', 'url': 'https://www.temu.com/au'}\n",
      "\n",
      "1/28\n",
      "Scraping data from link: https://us.princesspolly.com/\n",
      "{'item': 'Unsupported URL', 'url': 'https://us.princesspolly.com/'}\n",
      "\n",
      "2/28\n",
      "Scraping data from link: https://rstyle.me/+uIM-stq0D7ki4YAZH9IlLA\n",
      "{'item': 'Unsupported URL', 'url': 'https://rstyle.me/+uIM-stq0D7ki4YAZH9IlLA'}\n",
      "\n",
      "3/28\n",
      "Scraping data from link: https://rstyle.me/+vBhClgTJSsbu1aNVSND9Fw\n",
      "{'item': 'Unsupported URL', 'url': 'https://rstyle.me/+vBhClgTJSsbu1aNVSND9Fw'}\n",
      "\n",
      "4/28\n",
      "Scraping data from link: https://rstyle.me/+UJHFCZDeN8df5y1URU1hQg\n",
      "{'item': 'Olsen coat cream', 'polyester': '100'}\n",
      "\n",
      "5/28\n",
      "Scraping data from link: https://rstyle.me/+92soAKOE4fZTWM3b8h1emA\n",
      "{'item': 'Unsupported URL', 'url': 'https://rstyle.me/+92soAKOE4fZTWM3b8h1emA'}\n",
      "\n",
      "6/28\n",
      "Scraping data from link: https://rstyle.me/+tJcv1FQfnnrovrNELqSXMQ\n",
      "{'item': 'Bella moto jacket chocolate', 'polyester': '95', 'elastane': '5'}\n",
      "\n",
      "7/28\n",
      "Scraping data from link: https://rstyle.me/+N4VDnSG8JEG2qrIvmBCrMA\n",
      "{'item': 'Unsupported URL', 'url': 'https://rstyle.me/+N4VDnSG8JEG2qrIvmBCrMA'}\n",
      "\n",
      "8/28\n",
      "Scraping data from link: https://rstyle.me/+YOYlVuBCKH4imbV3I0njtA\n",
      "{'item': 'Barratt scarf grey', 'polyester': '100'}\n",
      "\n",
      "9/28\n",
      "Scraping data from link: https://rstyle.me/+KtM7KNDlRYciWclWisUsbg\n",
      "{'item': 'Macy cardigan black', 'cotton': '75', 'polyester': '20', 'elastane': '5'}\n",
      "\n",
      "10/28\n",
      "Scraping data from link: https://rstyle.me/+R6nXNiF0sN0ze4TRrAm90g\n",
      "{'item': 'Olsen vest cream', 'nylon': '90', 'spandex': '10'}\n",
      "\n",
      "11/28\n",
      "Scraping data from link: https://rstyle.me/+v0o_Lw7QvgCqxA_bxWQV_g\n",
      "{'item': 'Anneke collared cardigan beige', 'reclaimed polyester': '63', 'polyester': '25', 'nylon': '12'}\n",
      "\n",
      "12/28\n",
      "Scraping data from link: https://rstyle.me/+_5kGVSpauraOwGt22GUQ9g\n",
      "{'item': 'Alyda long sleeve lace top white', 'nylon': '90', 'elastane': '10'}\n",
      "\n",
      "13/28\n",
      "Scraping data from link: https://rstyle.me/+mAc4CleQH59bzy2Ty3KRDQ\n",
      "{'item': 'Teya top white', 'organic cotton': '95'}\n",
      "\n",
      "14/28\n",
      "Scraping data from link: https://rstyle.me/+08U3x2IjtbnJa2d44e9Jpg\n",
      "{'item': 'Unsupported URL', 'url': 'https://rstyle.me/+08U3x2IjtbnJa2d44e9Jpg'}\n",
      "\n",
      "15/28\n",
      "Scraping data from link: https://rstyle.me/+WgqzH_oBNJpDE8FnfS2bNg\n",
      "{'item': 'Abel cardigan brown', 'acrylic': '52', 'nylon': '28', 'polyester': '20'}\n",
      "\n",
      "16/28\n",
      "Scraping data from link: https://rstyle.me/+fY_JWqRjJpOF3X8ptjK8qQ\n",
      "{'item': 'Unsupported URL', 'url': 'https://rstyle.me/+fY_JWqRjJpOF3X8ptjK8qQ'}\n",
      "\n",
      "17/28\n",
      "Scraping data from link: https://rstyle.me/+DnzSV5RmTAVlvMvHALJL9Q\n",
      "{'item': 'Hearts flutter top floral', 'polyester': '100'}\n",
      "\n",
      "18/28\n",
      "Scraping data from link: https://go.magik.ly/ml/sw3s/\n",
      "{'item': 'Unsupported URL', 'url': 'https://go.magik.ly/ml/sw3s/'}\n",
      "\n",
      "19/28\n",
      "Scraping data from link: https://go.magik.ly/ml/sm19/\n",
      "{'item': 'Unsupported URL', 'url': 'https://go.magik.ly/ml/sm19/'}\n",
      "\n",
      "20/28\n",
      "Scraping data from link: https://amzn.to/2X1bY3R\n",
      "{'item': 'Unsupported URL', 'url': 'https://amzn.to/2X1bY3R'}\n",
      "\n",
      "21/28\n",
      "Scraping data from link: https://posh.mk/l5lyjQVoxdb\n",
      "{'item': 'Unsupported URL', 'url': 'https://posh.mk/l5lyjQVoxdb'}\n",
      "\n",
      "22/28\n",
      "Scraping data from link: https://amzn.to/2KxboVz\n",
      "{'item': 'Unsupported URL', 'url': 'https://amzn.to/2KxboVz'}\n",
      "\n",
      "23/28\n",
      "Scraping data from link: https://classpass.com/refer/VO9NTOFM30\n",
      "{'item': 'Unsupported URL', 'url': 'https://classpass.com/refer/VO9NTOFM30'}\n",
      "\n",
      "24/28\n",
      "Scraping data from link: https://r.adore.me/farina.aguinaldo\n",
      "{'item': 'Unsupported URL', 'url': 'https://r.adore.me/farina.aguinaldo'}\n",
      "\n",
      "25/28\n",
      "Scraping data from link: https://ap.carawayhome.com/farinaaguinaldo10\n",
      "{'item': 'Unsupported URL', 'url': 'https://ap.carawayhome.com/farinaaguinaldo10'}\n",
      "\n",
      "26/28\n",
      "Scraping data from link: https://evryjewels.com/?ref=K3FLEZrb92gbi8\n",
      "{'item': 'Unsupported URL', 'url': 'https://evryjewels.com/?ref=K3FLEZrb92gbi8'}\n",
      "\n",
      "27/28\n",
      "Scraping data from link: https://bit.ly/3bWpEjU\n",
      "{'item': 'Unsupported URL', 'url': 'https://bit.ly/3bWpEjU'}\n",
      "\n",
      "28/28\n",
      "Scraping data from link: http://rwrd.io/d7gzh31?c\n",
      "{'item': 'Unsupported URL', 'url': 'http://rwrd.io/d7gzh31?c'}\n",
      "\n",
      "1/16\n",
      "Scraping data from link: https://us.princesspolly.com/\n",
      "{'item': 'Unsupported URL', 'url': 'https://us.princesspolly.com/'}\n",
      "\n",
      "2/16\n",
      "Scraping data from link: https://us.princesspolly.com/products/princess-polly-track-pants-squiggle-text-watermelon-pink-rose?variant=40090967113812\n",
      "{'item': 'Princess polly track pants squiggle text watermelon pink / rose', 'reclaimed polyester': '52', 'organic cotton': '48'}\n",
      "\n",
      "3/16\n",
      "Scraping data from link: https://us.princesspolly.com/products/princess-polly-crew-neck-sweatshirt-squiggle-text-pink-red?variant=39995734098004\n",
      "{'item': 'Princess polly crew neck sweatshirt squiggle text watermelon pink / rose', 'recycled cotton': '52', 'recycled polyester': '48'}\n",
      "\n",
      "4/16\n",
      "Scraping data from link: https://us.princesspolly.com/products/harmony-sweater-beige\n",
      "{'item': 'Harmony knit sweater beige', 'cotton': '60', 'acrylic': '40'}\n",
      "\n",
      "5/16\n",
      "Scraping data from link: https://us.princesspolly.com/products/nicolo-jeans-denim?variant=39884331253844\n",
      "{'item': 'Nicolo jeans denim', 'cotton': '98', 'polyester': '2'}\n",
      "\n",
      "6/16\n",
      "Scraping data from link: https://us.princesspolly.com/products/mabel-midi-skirt-black?variant=39666286690388\n",
      "{'item': 'Mabel midi skirt black', 'polyester': '75', 'nylon': '25'}\n",
      "\n",
      "7/16\n",
      "Scraping data from link: https://us.princesspolly.com/products/strait-ring-pack-gold?variant=39736589680724\n",
      "{'item': 'Strait ring pack gold', 'reclaimed zinc': '100'}\n",
      "\n",
      "8/16\n",
      "Scraping data from link: https://us.princesspolly.com/products/jamie-croc-platform-boots-black?variant=32955361787988\n",
      "{'item': 'Unsupported URL', 'url': 'https://us.princesspolly.com/products/jamie-croc-platform-boots-black?variant=32955361787988'}\n",
      "\n",
      "9/16\n",
      "Scraping data from link: https://us.princesspolly.com/products/recycled-metal-atelier-belt?variant=39453041459284\n",
      "{'item': 'Atelier belt', 'reclaimed steel': '90', 'zinc': '10'}\n",
      "\n",
      "10/16\n",
      "Scraping data from link: https://us.princesspolly.com/products/the-saints-necklace-set?variant=32531639894100\n",
      "{'item': 'The saints necklace set', 'iron': '70'}\n",
      "\n",
      "11/16\n",
      "Scraping data from link: https://us.princesspolly.com/products/girls-club-shoulder-bag-black?variant=39726999634004\n",
      "{'item': 'Girls club shoulder bag black', 'pu': '100'}\n",
      "\n",
      "12/16\n",
      "Scraping data from link: https://us.princesspolly.com/products/candy-swirl-headband-set?variant=39245954809940\n",
      "{'item': 'Candy swirl headband set', 'cotton': '95', 'elastane': '5'}\n",
      "\n",
      "13/16\n",
      "Scraping data from link: https://us.princesspolly.com/products/samanta-earrings-gold\n",
      "{'item': 'Samanta earrings gold', 'brass': '100'}\n",
      "\n",
      "14/16\n",
      "Scraping data from link: https://us.princesspolly.com/products/philo-longline-hooded-puffer-jacket-beige?variant=40072324677716\n",
      "{'item': 'Philo longline hooded puffer jacket beige', 'reclaimed polyester': '80', 'polyester': '20'}\n",
      "\n",
      "15/16\n",
      "Scraping data from link: https://www.homechef.com/invite/ryleeo63\n",
      "{'item': 'Unsupported URL', 'url': 'https://www.homechef.com/invite/ryleeo63'}\n",
      "\n",
      "16/16\n",
      "Scraping data from link: https://www.shopltk.com/explore/missryleejade\n",
      "{'item': 'Unsupported URL', 'url': 'https://www.shopltk.com/explore/missryleejade'}\n",
      "\n",
      "1/18\n",
      "Scraping data from link: https://us.princesspolly.com/\n",
      "{'item': 'Unsupported URL', 'url': 'https://us.princesspolly.com/'}\n",
      "\n",
      "2/18\n",
      "Scraping data from link: https://us.princesspolly.com/products/phylis-off-the-shoulder-maxi-dress-slate?variant=39852358008916\n",
      "{'item': 'Phylis off the shoulder maxi dress slate', 'viscose': '48', 'polyester': '28', 'elastane': '24'}\n",
      "\n",
      "3/18\n",
      "Scraping data from link: https://us.princesspolly.com/products/candy-sweater-jumper-multi?variant=32643555033172\n",
      "{'item': 'Unsupported URL', 'url': 'https://us.princesspolly.com/products/candy-sweater-jumper-multi?variant=32643555033172'}\n",
      "\n",
      "4/18\n",
      "Scraping data from link: https://us.princesspolly.com/products/glory-mini-dress-blush?variant=40015141208148\n",
      "{'item': 'Glory mini dress blush', 'nylon': '88', 'elastane': '12'}\n",
      "\n",
      "5/18\n",
      "Scraping data from link: https://us.princesspolly.com/products/weller-long-sleeve-top-black?variant=39717184995412\n",
      "{'item': 'Weller long sleeve top black', 'cotton': '95', 'elastane': '5'}\n",
      "\n",
      "6/18\n",
      "Scraping data from link: https://us.princesspolly.com/products/styles-two-piece-top-grey?variant=39929574260820\n",
      "{'item': 'Styles two piece top grey', 'reclaimedpolyester': '63', 'polyester': '25', 'nylon': '12'}\n",
      "\n",
      "7/18\n",
      "Scraping data from link: https://us.princesspolly.com/products/cartwright-cord-mini-skirt-grey?variant=40080192503892\n",
      "{'item': 'Cartwright cord mini skirt grey', 'polyester': '65', 'cotton': '35'}\n",
      "\n",
      "8/18\n",
      "Scraping data from link: https://us.princesspolly.com/products/danel-cross-over-sweater-beige?variant=40013341950036\n",
      "{'item': 'Danel cross over sweater beige', 'acrylic': '52', 'nylon': '28', 'polyester': '20'}\n",
      "\n",
      "9/18\n",
      "Scraping data from link: https://us.princesspolly.com/products/farley-bangle-pack-silver?variant=40094069522516\n",
      "{'item': 'Farley bangle pack silver', 'reclaimed steel': '100'}\n",
      "\n",
      "10/18\n",
      "Scraping data from link: https://us.princesspolly.com/products/passoni-long-sleeve-top-white?variant=40087419256916\n",
      "{'item': 'Passoni long sleeve top white', 'reclaimed cotton': '95', 'spandex': '5'}\n",
      "\n",
      "11/18\n",
      "Scraping data from link: https://us.princesspolly.com/products/jeaney-cargo-pants-slate?variant=40077490847828\n",
      "{'item': 'Jeaney cargo pants slate', 'polyester': '100'}\n",
      "\n",
      "12/18\n",
      "Scraping data from link: https://us.princesspolly.com/products/kameliah-mini-dress-white\n",
      "{'item': 'Kameliah mini dress white', 'polyester': '100'}\n",
      "\n",
      "13/18\n",
      "Scraping data from link: https://us.princesspolly.com/products/nourish-mini-dress-blue\n",
      "{'item': 'Nourish mini dress blue', 'polyester': '96', 'elastane': '4'}\n",
      "\n",
      "14/18\n",
      "Scraping data from link: https://pin.it/4jzdzO2\n",
      "{'item': 'Unsupported URL', 'url': 'https://pin.it/4jzdzO2'}\n",
      "\n",
      "15/18\n",
      "Scraping data from link: https://www.amazon.com/shop/aroatley\n",
      "{'item': 'Unsupported URL', 'url': 'https://www.amazon.com/shop/aroatley'}\n",
      "\n",
      "16/18\n",
      "Scraping data from link: https://rvlv.me/s26Cqw\n",
      "{'item': 'Unsupported URL', 'url': 'https://rvlv.me/s26Cqw'}\n",
      "\n",
      "17/18\n",
      "Scraping data from link: https://www.monnierparis.com/collections/aroatley\n",
      "{'item': 'Unsupported URL', 'url': 'https://www.monnierparis.com/collections/aroatley'}\n",
      "\n",
      "18/18\n",
      "Scraping data from link: https://www.epidemicsound.com/track/MpR3WWrJNH/\n",
      "{'item': 'Unsupported URL', 'url': 'https://www.epidemicsound.com/track/MpR3WWrJNH/'}\n",
      "\n",
      "1/6\n",
      "Scraping data from link: https://www.princesspolly.com.au/products/organic-cotton-harlea-bodysuit-brown?variant=39443511017544\n",
      "{'item': 'Harlea bodysuit brown', 'organic cotton': '95', 'elastane': '5'}\n",
      "\n",
      "2/6\n",
      "Scraping data from link: https://www.princesspolly.com.au/products/arlington-straight-leg-denim-jeans-light-wash-1?variant=39510248554568\n",
      "{'item': 'Arlington straight leg denim jeans light wash', 'cotton': '100'}\n",
      "\n",
      "3/6\n",
      "Scraping data from link: https://www.princesspolly.com.au/products/delany-bodysuit-white-tall?variant=39969056784456\n",
      "{'item': 'Delany bodysuit white tall', 'reclaimed polyester': '92', 'elastane': '8'}\n",
      "\n",
      "4/6\n",
      "Scraping data from link: https://www.princesspolly.com.au/products/kacey-overalls?variant=30034354045010\n",
      "{'item': 'Kacey overalls khaki', 'cotton': '100'}\n",
      "\n",
      "5/6\n",
      "Scraping data from link: https://www.princesspolly.com.au/products/the-classic-mini-dress-black-sustainably-made?variant=36450133508168\n",
      "{'item': 'Classic mini dress black', 'organic cotton': '95', 'elastane': '5'}\n",
      "\n",
      "6/6\n",
      "Scraping data from link: https://www.princesspolly.com.au/products/empress-of-love-midi-dress-sage?variant=39518649319496\n",
      "{'item': 'Empress of love midi dress sage', 'cotton': '100'}\n",
      "\n",
      "1/13\n",
      "Scraping data from link: https://www.princesspolly.com.au/\n",
      "{'item': 'Unsupported URL', 'url': 'https://www.princesspolly.com.au/'}\n",
      "\n",
      "2/13\n",
      "Scraping data from link: https://www.princesspolly.com.au/products/rosey-tie-up-long-sleeve-top-burgundy\n",
      "{'item': 'Rosey tie up long sleeve top burgundy', 'reclaimedpolyester': '73', 'polyester': '24', 'spandex': '3'}\n",
      "\n",
      "3/13\n",
      "Scraping data from link: https://www.princesspolly.com.au/products/ramos-low-rise-denim-jeans-light-wash\n",
      "{'item': 'Ramos low rise denim jeans light wash', 'cotton': '100'}\n",
      "\n",
      "4/13\n",
      "Scraping data from link: https://www.princesspolly.com.au/products/delvonte-top-black\n",
      "{'item': 'Delvonte top black', 'reclaimed polyester': '100'}\n",
      "\n",
      "5/13\n",
      "Scraping data from link: https://www.princesspolly.com.au/products/italy-love-tee-ivory\n",
      "{'item': 'Italy love tee ivory', 'organic cotton': '100'}\n",
      "\n",
      "6/13\n",
      "Scraping data from link: https://www.princesspolly.com.au/products/maz-top-grey\n",
      "{'item': 'Maz top grey', 'reclaimedpolyester': '63', 'polyester': '25', 'nylon': '12'}\n",
      "\n",
      "7/13\n",
      "Scraping data from link: https://www.princesspolly.com.au/products/just-like-that-maxi-skirt-grey\n",
      "{'item': 'Just like that maxi skirt grey', 'reclaimedpolyester': '63', 'polyester': '25', 'nylon': '12'}\n",
      "\n",
      "8/13\n",
      "Scraping data from link: https://www.princesspolly.com.au/products/anni-stripe-shirt-pinstripe-blue\n",
      "{'item': 'Anni pinstripe shirt blue', 'cotton': '70', 'polyamide': '27', 'elastane': '3'}\n",
      "\n",
      "9/13\n",
      "Scraping data from link: https://www.princesspolly.com.au/products/gigi-skort-grey\n",
      "{'item': 'Gigi skort grey', 'cotton': '100'}\n",
      "\n",
      "10/13\n",
      "Scraping data from link: https://www.princesspolly.com.au/products/kenny-bomber-jacket-burgundy\n",
      "{'item': 'Kenny bomber jacket burgundy', 'pu': '55', 'polyester': '45'}\n",
      "\n",
      "11/13\n",
      "Scraping data from link: https://www.princesspolly.com.au/products/karreey-mini-dress-grey\n",
      "{'item': 'Karreey mini dress grey', 'reclaimed rayon': '95', 'spandex': '5'}\n",
      "\n",
      "12/13\n",
      "Scraping data from link: https://www.princesspolly.com.au/products/ryanna-sweater-white\n",
      "{'item': 'Ryanna sweater white', 'reclaimed polyester': '97', 'elastane': '3'}\n",
      "\n",
      "13/13\n",
      "Scraping data from link: https://www.princesspolly.com.au/products/beltran-sweater-charcoal-marle\n",
      "{'item': 'Beltran jumper charcoal marle', 'acrylic': '52', 'nylon': '28', 'polyester': '20'}\n",
      "\n",
      "1/14\n",
      "Scraping data from link: https://rstyle.me/+Uy841k1JNqTjYDGGJYy17A\n",
      "{'item': 'Unsupported URL', 'url': 'https://rstyle.me/+Uy841k1JNqTjYDGGJYy17A'}\n",
      "\n",
      "2/14\n",
      "Scraping data from link: https://rstyle.me/+9SndSANKJ99A4SUOrTwWaQ\n",
      "{'item': 'Arya straight leg track pants green', 'recycled cotton': '52', 'recycled polyester': '48'}\n",
      "\n",
      "3/14\n",
      "Scraping data from link: https://rstyle.me/+9dZi4bhnErYhWQXKyxc-bA\n",
      "{'item': 'Lester knit cardigan blue', 'acrylic': '100'}\n",
      "\n",
      "4/14\n",
      "Scraping data from link: https://rstyle.me/+pIie4NZvyAbT09d0WsPYsw\n",
      "{'item': 'The chloe set yellow', 'polyester': '100'}\n",
      "\n",
      "5/14\n",
      "Scraping data from link: https://rstyle.me/+RLpGcTrIs2L7ZUs8S-ZueA\n",
      "{'item': 'Archer pants white', 'polyester': '96', 'elastane': '4'}\n",
      "\n",
      "6/14\n",
      "Scraping data from link: https://rstyle.me/+3Nkwp42ogLW5UtlwJQMrgQ\n",
      "{'item': 'Archer pants pinstripe beige', 'polyester': '96', 'elastane': '4'}\n",
      "\n",
      "7/14\n",
      "Scraping data from link: https://rstyle.me/+Rfxr6oaA8PQ2udmgnh0mlg\n",
      "{'item': 'Thorne denim jean', 'cotton': '60', 'organiccotton': '40'}\n",
      "\n",
      "8/14\n",
      "Scraping data from link: https://rstyle.me/+rRYZheuw_5ZdZeUG8xyBAg\n",
      "{'item': 'Phoenix denim jacket black', 'cotton': '100'}\n",
      "\n",
      "9/14\n",
      "Scraping data from link: https://rstyle.me/+hD3FQL_s76NygxLoPMQa7A\n",
      "{'item': 'Belsie set sage', 'reclaimed polyester': '90', 'elastane': '10'}\n",
      "\n",
      "10/14\n",
      "Scraping data from link: https://rstyle.me/+5dM-yH01E9irn5-FsCV1EQ\n",
      "{'item': 'Unsupported URL', 'url': 'https://rstyle.me/+5dM-yH01E9irn5-FsCV1EQ'}\n",
      "\n",
      "11/14\n",
      "Scraping data from link: https://rstyle.me/+4qn2cRaNcRK9Jk0lxlNk_A\n",
      "{'item': 'Kadence hair clip pink', 'plastic': '100'}\n",
      "\n",
      "12/14\n",
      "Scraping data from link: https://rstyle.me/+2KgPNBoqcj7bScrcZVyHgg\n",
      "{'item': 'Patton set white floral', 'polyester': '100'}\n",
      "\n",
      "13/14\n",
      "Scraping data from link: https://rstyle.me/+r9FkgSaCYUuNzoXfchowAQ\n",
      "{'item': 'Early riser sleep shirt blue stripe', 'reclaimed polyester': '100'}\n",
      "\n",
      "14/14\n",
      "Scraping data from link: https://rstyle.me/+jz7n7uaJ2JeY2VlVrI51qw\n",
      "{'item': 'Early riser sleep pants blue stripe', 'reclaimed polyester': '100'}\n",
      "\n",
      "1/10\n",
      "Scraping data from link: https://us.princesspolly.com\n",
      "{'item': 'Unsupported URL', 'url': 'https://us.princesspolly.com'}\n",
      "\n",
      "2/10\n",
      "Scraping data from link: https://us.princesspolly.com/products/nucci-lace-long-sleeve-top-white\n",
      "{'item': 'Nucci lace long sleeve top white', 'nylon': '90', 'elastane': '10'}\n",
      "\n",
      "3/10\n",
      "Scraping data from link: https://us.princesspolly.com/products/juliana-top-white\n",
      "{'item': 'Juliana top white', 'polyester': '92', 'elastane': '8'}\n",
      "\n",
      "4/10\n",
      "Scraping data from link: https://us.princesspolly.com/products/fanci-denim-mini-skirt\n",
      "{'item': 'Fanci denim mini skirt', 'cotton': '72', 'recycled polyester': '24', 'rayon': '2'}\n",
      "\n",
      "5/10\n",
      "Scraping data from link: https://us.princesspolly.com/products/nellie-mini-dress-white-yellow-floral\n",
      "{'item': 'Nellie mini dress white / yellow floral', 'polyester': '100'}\n",
      "\n",
      "6/10\n",
      "Scraping data from link: https://us.princesspolly.com/products/linsley-long-sleeve-top-white\n",
      "{'item': 'Linsley long sleeve top white', 'cotton': '96', 'elastane ': '4'}\n",
      "\n",
      "7/10\n",
      "Scraping data from link: https://us.princesspolly.com/products/santorini-knit-top-khaki?variant=39829865660500\n",
      "{'item': 'Santorini knit top khaki', 'viscose': '51', 'nylon': '30', 'polyester': '19'}\n",
      "\n",
      "8/10\n",
      "Scraping data from link: https://us.princesspolly.com/products/libbie-pants-taupe\n",
      "{'item': 'Libbie pants taupe', 'reclaimed cotton': '100'}\n",
      "\n",
      "9/10\n",
      "Scraping data from link: https://us.princesspolly.com/products/lahey-long-sleeve-polo-knit-top-cream\n",
      "{'item': 'Lahey long sleeve polo knit top cream', 'recycled polyester': '33', 'polyester': '31', 'acrylic': '23', 'nylon': '13'}\n",
      "\n",
      "10/10\n",
      "Scraping data from link: https://us.princesspolly.com/products/archer-pants-black-eco\n",
      "{'item': 'Archer pants black lower impact', 'reclaimed polyester': '95', 'elastane': '5'}\n",
      "\n",
      "1/9\n",
      "Scraping data from link: https://us.princesspolly.com/\n",
      "{'item': 'Unsupported URL', 'url': 'https://us.princesspolly.com/'}\n",
      "\n",
      "2/9\n",
      "Scraping data from link: https://us.princesspolly.com/products/connelly-mini-dress-pink-floral?variant=39904223920212\n",
      "{'item': 'Connelly mini dress pink floral', 'polyester': '100'}\n",
      "\n",
      "3/9\n",
      "Scraping data from link: https://us.princesspolly.com/products/lillie-long-sleeve-mini-dress-black?variant=39519450857556\n",
      "{'item': 'Lillie long sleeve mini dress black', 'polyester': '95', 'spandex': '5'}\n",
      "\n",
      "4/9\n",
      "Scraping data from link: https://us.princesspolly.com/products/harmony-knit-jumper-sweater-navy\n",
      "{'item': 'Harmony knit sweater navy', 'cotton': '60', 'acrylic': '40'}\n",
      "\n",
      "5/9\n",
      "Scraping data from link: https://us.princesspolly.com/products/montana-knit-pants-black\n",
      "{'item': 'Montana knit pants black', 'reclaimed polyester': '33', 'acrylic': '23', 'polyester': '31', 'nylon': '13'}\n",
      "\n",
      "6/9\n",
      "Scraping data from link: https://us.princesspolly.com/products/jovie-nylon-quilted-tote-beige\n",
      "{'item': 'Jovie nylon quilted tote beige', 'nylon': '60', 'polyester': '40'}\n",
      "\n",
      "7/9\n",
      "Scraping data from link: https://us.princesspolly.com/products/bohemia-sweater-black\n",
      "{'item': 'Bohemia sweater black', 'acrylic': '52', 'nylon': '28', 'polyester': '20'}\n",
      "\n",
      "8/9\n",
      "Scraping data from link: https://www.amazon.com/shop/charlottepratt\n",
      "{'item': 'Unsupported URL', 'url': 'https://www.amazon.com/shop/charlottepratt'}\n",
      "\n",
      "9/9\n",
      "Scraping data from link: https://ntn.so/charlottestemplate\n",
      "{'item': 'Unsupported URL', 'url': 'https://ntn.so/charlottestemplate'}\n",
      "\n",
      "1/7\n",
      "Scraping data from link: https://www.princesspolly.com\n",
      "{'item': 'Unsupported URL', 'url': 'https://www.princesspolly.com'}\n",
      "\n",
      "2/7\n",
      "Scraping data from link: https://www.princesspolly.com.au/products/hills-halter-top-porcelain\n",
      "{'item': 'Hills halter top porcelain', 'cotton': '100'}\n",
      "\n",
      "3/7\n",
      "Scraping data from link: https://www.princesspolly.com.au/products/top-model-jeans-porcelain\n",
      "{'item': 'Top model jeans porcelain', 'cotton': '100'}\n",
      "\n",
      "4/7\n",
      "Scraping data from link: https://www.princesspolly.com.au/products/anni-stripe-shirt-pinstripe-blue\n",
      "{'item': 'Anni pinstripe shirt blue', 'cotton': '70', 'polyamide': '27', 'elastane': '3'}\n",
      "\n",
      "5/7\n",
      "Scraping data from link: https://www.princesspolly.com.au/products/je-suis-halter-top-black\n",
      "{'item': 'Je suis halter top onyx', 'polyester': '95'}\n",
      "\n",
      "6/7\n",
      "Scraping data from link: https://www.princesspolly.com.au/products/je-suis-pants-black\n",
      "{'item': 'Je suis pants black', 'linen': '70', 'cotton': '30'}\n",
      "\n",
      "7/7\n",
      "Scraping data from link: https://www.princesspolly.com.au/products/lilitina-top-white\n",
      "{'item': 'Lilitina top white', 'linen': '30', 'cotton': '70'}\n",
      "\n",
      "1/9\n",
      "Scraping data from link: https://www.princesspolly.com.au\n",
      "{'item': 'Unsupported URL', 'url': 'https://www.princesspolly.com.au'}\n",
      "\n",
      "2/9\n",
      "Scraping data from link: https://www.princesspolly.com.au/products/dalma-twist-top-ivory-1?variant=39505612669000\n",
      "{'item': 'Dalma twist top ivory', 'reclaimed polyester': '63', 'polyester': '25', 'nylon': '12'}\n",
      "\n",
      "3/9\n",
      "Scraping data from link: https://www.princesspolly.com.au/products/gisele-vest-oatmeal?variant=39966640799816\n",
      "{'item': 'Gisele vest oatmeal', 'linen': '70', 'cotton': '30'}\n",
      "\n",
      "4/9\n",
      "Scraping data from link: https://www.princesspolly.com.au/products/sunkist-linen-blend-shorts-white?variant=39891966918728\n",
      "{'item': 'Bellair linen blend shorts white', 'linen': '50', 'lenzing': '50'}\n",
      "\n",
      "5/9\n",
      "Scraping data from link: https://www.princesspolly.com.au/products/jodie-maxi-skirt-oatmeal?variant=39482596163656\n",
      "{'item': 'Jodie maxi skirt oatmeal', 'viscose': '70', 'linen': '30'}\n",
      "\n",
      "6/9\n",
      "Scraping data from link: https://www.princesspolly.com.au/products/la-quinta-pants-oatmeal?variant=39966637490248\n",
      "{'item': 'La quinta pants oatmeal', 'linen': '70', 'viscose': '30'}\n",
      "\n",
      "7/9\n",
      "Scraping data from link: https://www.princesspolly.com.au/products/zodiac-linen-blend-pants-black?variant=39891964821576\n",
      "{'item': 'Zodiac linen blend pants black', 'linen': '50'}\n",
      "\n",
      "8/9\n",
      "Scraping data from link: https://www.princesspolly.com.au/products/guava-linen-blend-shirt-black?variant=39891959775304\n",
      "{'item': 'Guava linen blend shirt black', 'linen': '50'}\n",
      "\n",
      "9/9\n",
      "Scraping data from link: https://www.elitesupps.com.au/#5fcfd9d125322\n",
      "{'item': 'Unsupported URL', 'url': 'https://www.elitesupps.com.au/#5fcfd9d125322'}\n",
      "\n",
      "1/13\n",
      "Scraping data from link: https://us.princesspolly.com/\n",
      "{'item': 'Unsupported URL', 'url': 'https://us.princesspolly.com/'}\n",
      "\n",
      "2/13\n",
      "Scraping data from link: https://us.princesspolly.com/products/destination-california-tee-grey\n",
      "{'item': 'Destination california tee grey', 'cotton': '95', 'elastane': '5'}\n",
      "\n",
      "3/13\n",
      "Scraping data from link: https://us.princesspolly.com/products/lydie-cargo-mini-skirt-beige?variant=39755440619604\n",
      "{'item': 'Lydie cargo mini skirt beige', 'cotton': '100'}\n",
      "\n",
      "4/13\n",
      "Scraping data from link: https://us.princesspolly.com/products/goldsmith-faux-leather-bomber-jacket-black\n",
      "{'item': 'Goldsmith faux leather bomber jacket black', 'rayon': '55', 'polyester': '45'}\n",
      "\n",
      "5/13\n",
      "Scraping data from link: https://us.princesspolly.com/products/carillo-top-white?variant=39922195923028\n",
      "{'item': 'Carillo top white', 'cotton': '95', 'elastane': '5'}\n",
      "\n",
      "6/13\n",
      "Scraping data from link: https://us.princesspolly.com/products/ogilvie-pants-white\n",
      "{'item': 'Ogilvie linen blend pants white', 'cotton': '70', 'linen': '30'}\n",
      "\n",
      "7/13\n",
      "Scraping data from link: https://us.princesspolly.com/products/laverne-stripe-shirt-blue-white?variant=40070819119188\n",
      "{'item': 'Laverne stripe shirt blue / white', 'cotton': '100'}\n",
      "\n",
      "8/13\n",
      "Scraping data from link: https://us.princesspolly.com/products/burke-sweater-cream\n",
      "{'item': 'Burke cardigan cream', 'acrylic': '100'}\n",
      "\n",
      "9/13\n",
      "Scraping data from link: https://us.princesspolly.com/products/santorini-knit-top-khaki?variant=39829865562196\n",
      "{'item': 'Santorini knit top khaki', 'viscose': '51', 'nylon': '30', 'polyester': '19'}\n",
      "\n",
      "10/13\n",
      "Scraping data from link: https://us.princesspolly.com/products/anni-pinstripe-shirt-black?variant=39726983086164\n",
      "{'item': 'Anni pinstripe shirt black', 'cotton': '100'}\n",
      "\n",
      "11/13\n",
      "Scraping data from link: https://us.princesspolly.com/products/recycled-fibers-selby-mini-skirt-black\n",
      "{'item': 'Selby mini skirt black', 'linen': '20'}\n",
      "\n",
      "12/13\n",
      "Scraping data from link: https://us.princesspolly.com/products/archer-pants-black-eco\n",
      "{'item': 'Archer pants black lower impact', 'reclaimed polyester': '95', 'elastane': '5'}\n",
      "\n",
      "13/13\n",
      "Scraping data from link: https://us.princesspolly.com/products/zenia-shoulder-bag-black\n",
      "{'item': 'Zenia shoulder bag black', 'pu': '100'}\n",
      "\n",
      "1/14\n",
      "Scraping data from link: https://us.princesspolly.com/\n",
      "{'item': 'Unsupported URL', 'url': 'https://us.princesspolly.com/'}\n",
      "\n",
      "2/14\n",
      "Scraping data from link: https://us.princesspolly.com/products/galvis-mini-dress-white\n",
      "{'item': 'Galvis mini dress white', 'cotton': '100'}\n",
      "\n",
      "3/14\n",
      "Scraping data from link: https://us.princesspolly.com/products/beresford-bodysuit-pink\n",
      "{'item': 'Beresford bodysuit pink', 'reclaimed polyester': '90'}\n",
      "\n",
      "4/14\n",
      "Scraping data from link: https://us.princesspolly.com/products/kellan-cap-sleeve-top-blue\n",
      "{'item': 'Kellan cap sleeve top blue', 'nylon': '50'}\n",
      "\n",
      "5/14\n",
      "Scraping data from link: https://us.princesspolly.com/products/kacey-overalls-khaki?ref=isp_rel_no_match\n",
      "{'item': 'Kacey overalls khaki', 'cotton': '100'}\n",
      "\n",
      "6/14\n",
      "Scraping data from link: https://us.princesspolly.com/products/martini-time-tee-white\n",
      "{'item': 'Martini time tee white', 'cotton': '93', 'elastane': '7'}\n",
      "\n",
      "7/14\n",
      "Scraping data from link: https://us.princesspolly.com/products/zakai-cargo-denim-mini-skirt-light-pink-denim\n",
      "{'item': 'Zakai cargo denim mini skirt light pink denim', 'cotton': '100'}\n",
      "\n",
      "8/14\n",
      "Scraping data from link: https://us.princesspolly.com/products/karley-twist-set-green\n",
      "{'item': 'Karley twist set green', 'polyester': '95', 'spandex': '5'}\n",
      "\n",
      "9/14\n",
      "Scraping data from link: https://us.princesspolly.com/products/koslo-eco-nylon-bolero-top-slate\n",
      "{'item': 'Koslo bolero top slate', 'reclaimed nylon': '86', 'elastane': '14'}\n",
      "\n",
      "10/14\n",
      "Scraping data from link: https://us.princesspolly.com/products/get-the-picture-shirt-multi?variant=40178666537044\n",
      "{'item': 'Get the picture shirt multi', 'reclaimed cotton': '100'}\n",
      "\n",
      "11/14\n",
      "Scraping data from link: https://us.princesspolly.com/products/beach-house-shorts-green-stripe?refSrc=6860224168020&nosto=productpage-nosto-3-copy-copy-1\n",
      "{'item': 'Beach house shorts green stripe', 'polyester': '100'}\n",
      "\n",
      "12/14\n",
      "Scraping data from link: https://us.princesspolly.com/products/karley-low-waist-mini-skirt-white\n",
      "{'item': 'Karley low waist mini skirt white', 'rayon': '65', 'nylon': '30', 'elastane': '5'}\n",
      "\n",
      "13/14\n",
      "Scraping data from link: https://us.princesspolly.com/products/maple-flare-jeans-washed-black\n",
      "{'item': 'Maple flare jeans washed black', 'cotton': '99', 'viscose': '1'}\n",
      "\n",
      "14/14\n",
      "Scraping data from link: https://us.princesspolly.com/products/amitri-lace-up-top-orange\n"
     ]
    },
    {
     "name": "stderr",
     "output_type": "stream",
     "text": [
      "python(63098) MallocStackLogging: can't turn off malloc stack logging because it was not enabled.\n",
      "python(63134) MallocStackLogging: can't turn off malloc stack logging because it was not enabled.\n"
     ]
    },
    {
     "name": "stdout",
     "output_type": "stream",
     "text": [
      "{'item': 'Amitri lace up top orange', 'cotton': '100'}\n",
      "\n",
      "1/10\n",
      "Scraping data from link: https://us.princesspolly.com/\n"
     ]
    },
    {
     "name": "stderr",
     "output_type": "stream",
     "text": [
      "python(63155) MallocStackLogging: can't turn off malloc stack logging because it was not enabled.\n",
      "python(63191) MallocStackLogging: can't turn off malloc stack logging because it was not enabled.\n"
     ]
    },
    {
     "name": "stdout",
     "output_type": "stream",
     "text": [
      "{'item': 'Unsupported URL', 'url': 'https://us.princesspolly.com/'}\n",
      "\n",
      "2/10\n",
      "Scraping data from link: https://us.princesspolly.com/products/rossetto-knit-jumper-white?variant=39899802697812\n"
     ]
    },
    {
     "name": "stderr",
     "output_type": "stream",
     "text": [
      "python(63220) MallocStackLogging: can't turn off malloc stack logging because it was not enabled.\n",
      "python(63256) MallocStackLogging: can't turn off malloc stack logging because it was not enabled.\n"
     ]
    },
    {
     "name": "stdout",
     "output_type": "stream",
     "text": [
      "{'item': 'Rossetto knit sweater white', 'acrylic': '52', 'nylon': '28', 'polyester': '20'}\n",
      "\n",
      "3/10\n",
      "Scraping data from link: https://us.princesspolly.com/products/gatewood-eco-nylon-long-sleeve-mini-dress-black?variant=39735131734100\n"
     ]
    },
    {
     "name": "stderr",
     "output_type": "stream",
     "text": [
      "python(63360) MallocStackLogging: can't turn off malloc stack logging because it was not enabled.\n",
      "python(63398) MallocStackLogging: can't turn off malloc stack logging because it was not enabled.\n"
     ]
    },
    {
     "name": "stdout",
     "output_type": "stream",
     "text": [
      "{'item': 'Gatewood long sleeve mini dress black', 'reclaimed nylon': '86', 'elastane': '14'}\n",
      "\n",
      "4/10\n",
      "Scraping data from link: https://us.princesspolly.com/products/kimmons-jacket-black?variant=39631675981908\n"
     ]
    },
    {
     "name": "stderr",
     "output_type": "stream",
     "text": [
      "python(63449) MallocStackLogging: can't turn off malloc stack logging because it was not enabled.\n",
      "python(63486) MallocStackLogging: can't turn off malloc stack logging because it was not enabled.\n"
     ]
    },
    {
     "name": "stdout",
     "output_type": "stream",
     "text": [
      "{'item': 'Kimmons jacket black', 'pu': '100'}\n",
      "\n",
      "5/10\n",
      "Scraping data from link: https://us.princesspolly.com/products/westaway-pants-beige?variant=40034763735124\n"
     ]
    },
    {
     "name": "stderr",
     "output_type": "stream",
     "text": [
      "python(63522) MallocStackLogging: can't turn off malloc stack logging because it was not enabled.\n",
      "python(63558) MallocStackLogging: can't turn off malloc stack logging because it was not enabled.\n"
     ]
    },
    {
     "name": "stdout",
     "output_type": "stream",
     "text": [
      "{'item': 'Westaway pants beige', 'reclaimed polyester': '63', 'polyester': '25', 'nylon': '12'}\n",
      "\n",
      "6/10\n",
      "Scraping data from link: https://us.princesspolly.com/products/smokeshow-jeans-blue-denim?variant=40024522096724\n"
     ]
    },
    {
     "name": "stderr",
     "output_type": "stream",
     "text": [
      "python(63584) MallocStackLogging: can't turn off malloc stack logging because it was not enabled.\n",
      "python(63620) MallocStackLogging: can't turn off malloc stack logging because it was not enabled.\n"
     ]
    },
    {
     "name": "stdout",
     "output_type": "stream",
     "text": [
      "{'item': 'Smokeshow jeans blue denim', 'cotton': '100'}\n",
      "\n",
      "7/10\n",
      "Scraping data from link: https://us.princesspolly.com/products/water-based-pu-lawrence-boots-black?variant=39629615202388\n"
     ]
    },
    {
     "name": "stderr",
     "output_type": "stream",
     "text": [
      "python(63716) MallocStackLogging: can't turn off malloc stack logging because it was not enabled.\n",
      "python(63753) MallocStackLogging: can't turn off malloc stack logging because it was not enabled.\n"
     ]
    },
    {
     "name": "stdout",
     "output_type": "stream",
     "text": [
      "{'item': 'Lawrence boots black', 'water based pu': '100'}\n",
      "\n",
      "8/10\n",
      "Scraping data from link: https://us.princesspolly.com/products/zakai-cargo-denim-mini-skirt-green?variant=39866669465684\n"
     ]
    },
    {
     "name": "stderr",
     "output_type": "stream",
     "text": [
      "python(63808) MallocStackLogging: can't turn off malloc stack logging because it was not enabled.\n",
      "python(63854) MallocStackLogging: can't turn off malloc stack logging because it was not enabled.\n"
     ]
    },
    {
     "name": "stdout",
     "output_type": "stream",
     "text": [
      "{'item': 'Zakai cargo denim mini skirt green', 'cotton': '50', 'recycled cotton': '50'}\n",
      "\n",
      "9/10\n",
      "Scraping data from link: https://us.princesspolly.com/products/liana-sweater-jumper-grey\n"
     ]
    },
    {
     "name": "stderr",
     "output_type": "stream",
     "text": [
      "python(63932) MallocStackLogging: can't turn off malloc stack logging because it was not enabled.\n",
      "python(63969) MallocStackLogging: can't turn off malloc stack logging because it was not enabled.\n"
     ]
    },
    {
     "name": "stdout",
     "output_type": "stream",
     "text": [
      "{'item': 'Liana sweater grey', 'acrylic': '100'}\n",
      "\n",
      "10/10\n",
      "Scraping data from link: https://www.amazon.com/shop/madi_rook\n"
     ]
    },
    {
     "name": "stderr",
     "output_type": "stream",
     "text": [
      "python(64105) MallocStackLogging: can't turn off malloc stack logging because it was not enabled.\n",
      "python(64142) MallocStackLogging: can't turn off malloc stack logging because it was not enabled.\n"
     ]
    },
    {
     "name": "stdout",
     "output_type": "stream",
     "text": [
      "{'item': 'Unsupported URL', 'url': 'https://www.amazon.com/shop/madi_rook'}\n",
      "\n",
      "1/7\n",
      "Scraping data from link: https://www.princesspolly.com.au/products/scottson-gold-plated-pendant-necklace?variant=39445743403080\n"
     ]
    },
    {
     "name": "stderr",
     "output_type": "stream",
     "text": [
      "python(64211) MallocStackLogging: can't turn off malloc stack logging because it was not enabled.\n",
      "python(64247) MallocStackLogging: can't turn off malloc stack logging because it was not enabled.\n"
     ]
    },
    {
     "name": "stdout",
     "output_type": "stream",
     "text": [
      "{'item': 'Scottson gold plated pendant necklace', 'iron': '70', 'zinc alloy with 3mils': '30'}\n",
      "\n",
      "2/7\n",
      "Scraping data from link: https://www.princesspolly.com.au/products/malibu-retreat-tee-grey?variant=39960617910344\n"
     ]
    },
    {
     "name": "stderr",
     "output_type": "stream",
     "text": [
      "python(64306) MallocStackLogging: can't turn off malloc stack logging because it was not enabled.\n",
      "python(64342) MallocStackLogging: can't turn off malloc stack logging because it was not enabled.\n"
     ]
    },
    {
     "name": "stdout",
     "output_type": "stream",
     "text": [
      "{'item': 'Malibu retreat tee grey', 'cotton': '100'}\n",
      "\n",
      "3/7\n",
      "Scraping data from link: https://www.princesspolly.com.au/products/viera-top-white?variant=39976114978888\n"
     ]
    },
    {
     "name": "stderr",
     "output_type": "stream",
     "text": [
      "python(64367) MallocStackLogging: can't turn off malloc stack logging because it was not enabled.\n",
      "python(64404) MallocStackLogging: can't turn off malloc stack logging because it was not enabled.\n"
     ]
    },
    {
     "name": "stdout",
     "output_type": "stream",
     "text": [
      "{'item': 'Viera top white', 'polyester': '100'}\n",
      "\n",
      "4/7\n",
      "Scraping data from link: https://www.princesspolly.com.au/products/tahiti-island-oversized-tee-blue?variant=39881380921416\n"
     ]
    },
    {
     "name": "stderr",
     "output_type": "stream",
     "text": [
      "python(64446) MallocStackLogging: can't turn off malloc stack logging because it was not enabled.\n",
      "python(64482) MallocStackLogging: can't turn off malloc stack logging because it was not enabled.\n"
     ]
    },
    {
     "name": "stdout",
     "output_type": "stream",
     "text": [
      "{'item': 'Tahiti island oversized tee blue', 'cotton': '100'}\n",
      "\n",
      "5/7\n",
      "Scraping data from link: https://www.princesspolly.com.au/products/camelia-mini-skirt-dark-wash-denim?variant=39586690105416\n"
     ]
    },
    {
     "name": "stderr",
     "output_type": "stream",
     "text": [
      "python(64528) MallocStackLogging: can't turn off malloc stack logging because it was not enabled.\n",
      "python(64565) MallocStackLogging: can't turn off malloc stack logging because it was not enabled.\n"
     ]
    },
    {
     "name": "stdout",
     "output_type": "stream",
     "text": [
      "{'item': 'Camelia pleat mini dark denim', 'cotton': '98', 'spandex': '2'}\n",
      "\n",
      "6/7\n",
      "Scraping data from link: https://www.princesspolly.com.au/products/renika-crop-sweater-white?variant=39962493812808\n"
     ]
    },
    {
     "name": "stderr",
     "output_type": "stream",
     "text": [
      "python(64623) MallocStackLogging: can't turn off malloc stack logging because it was not enabled.\n",
      "python(64659) MallocStackLogging: can't turn off malloc stack logging because it was not enabled.\n"
     ]
    },
    {
     "name": "stdout",
     "output_type": "stream",
     "text": [
      "{'item': 'Renika crop jumper white', 'acrylic': '74'}\n",
      "\n",
      "7/7\n",
      "Scraping data from link: https://www.princesspolly.com.au/products/fogler-shirt-white\n"
     ]
    },
    {
     "name": "stderr",
     "output_type": "stream",
     "text": [
      "python(64684) MallocStackLogging: can't turn off malloc stack logging because it was not enabled.\n",
      "python(64720) MallocStackLogging: can't turn off malloc stack logging because it was not enabled.\n"
     ]
    },
    {
     "name": "stdout",
     "output_type": "stream",
     "text": [
      "{'item': 'Fogler shirt white', 'cotton': '100'}\n",
      "\n",
      "1/5\n",
      "Scraping data from link: https://shopmy.us/collections/429005\n"
     ]
    },
    {
     "name": "stderr",
     "output_type": "stream",
     "text": [
      "python(64741) MallocStackLogging: can't turn off malloc stack logging because it was not enabled.\n",
      "python(64777) MallocStackLogging: can't turn off malloc stack logging because it was not enabled.\n"
     ]
    },
    {
     "name": "stdout",
     "output_type": "stream",
     "text": [
      "{'item': 'Unsupported URL', 'url': 'https://shopmy.us/collections/429005'}\n",
      "\n",
      "2/5\n",
      "Scraping data from link: https://shopmy.us/gracieparkerbell\n"
     ]
    },
    {
     "name": "stderr",
     "output_type": "stream",
     "text": [
      "python(64793) MallocStackLogging: can't turn off malloc stack logging because it was not enabled.\n",
      "python(64831) MallocStackLogging: can't turn off malloc stack logging because it was not enabled.\n"
     ]
    },
    {
     "name": "stdout",
     "output_type": "stream",
     "text": [
      "{'item': 'Unsupported URL', 'url': 'https://shopmy.us/gracieparkerbell'}\n",
      "\n",
      "3/5\n",
      "Scraping data from link: https://www.shopltk.com/explore/gracieparkerbell\n"
     ]
    },
    {
     "name": "stderr",
     "output_type": "stream",
     "text": [
      "python(64931) MallocStackLogging: can't turn off malloc stack logging because it was not enabled.\n",
      "python(64970) MallocStackLogging: can't turn off malloc stack logging because it was not enabled.\n"
     ]
    },
    {
     "name": "stdout",
     "output_type": "stream",
     "text": [
      "{'item': 'Unsupported URL', 'url': 'https://www.shopltk.com/explore/gracieparkerbell'}\n",
      "\n",
      "4/5\n",
      "Scraping data from link: https://rvlv.me/xaWKkF?navsrc=share_mylist\n"
     ]
    },
    {
     "name": "stderr",
     "output_type": "stream",
     "text": [
      "python(65058) MallocStackLogging: can't turn off malloc stack logging because it was not enabled.\n",
      "python(65096) MallocStackLogging: can't turn off malloc stack logging because it was not enabled.\n"
     ]
    },
    {
     "name": "stdout",
     "output_type": "stream",
     "text": [
      "{'item': 'Unsupported URL', 'url': 'https://rvlv.me/xaWKkF?navsrc=share_mylist'}\n",
      "\n",
      "5/5\n",
      "Scraping data from link: https://rvlv.me/GmcsiG?navsrc=share_mylist\n"
     ]
    },
    {
     "name": "stderr",
     "output_type": "stream",
     "text": [
      "python(65183) MallocStackLogging: can't turn off malloc stack logging because it was not enabled.\n",
      "python(65219) MallocStackLogging: can't turn off malloc stack logging because it was not enabled.\n"
     ]
    },
    {
     "name": "stdout",
     "output_type": "stream",
     "text": [
      "{'item': 'Unsupported URL', 'url': 'https://rvlv.me/GmcsiG?navsrc=share_mylist'}\n",
      "\n",
      "1/9\n",
      "Scraping data from link: https://us.princesspolly.com\n"
     ]
    },
    {
     "name": "stderr",
     "output_type": "stream",
     "text": [
      "python(65326) MallocStackLogging: can't turn off malloc stack logging because it was not enabled.\n",
      "python(65362) MallocStackLogging: can't turn off malloc stack logging because it was not enabled.\n"
     ]
    },
    {
     "name": "stdout",
     "output_type": "stream",
     "text": [
      "{'item': 'Unsupported URL', 'url': 'https://us.princesspolly.com'}\n",
      "\n",
      "2/9\n",
      "Scraping data from link: https://us.princesspolly.com/products/allure-bomber-jacket-slate?variant=40108250988628\n"
     ]
    },
    {
     "name": "stderr",
     "output_type": "stream",
     "text": [
      "python(65483) MallocStackLogging: can't turn off malloc stack logging because it was not enabled.\n",
      "python(65519) MallocStackLogging: can't turn off malloc stack logging because it was not enabled.\n"
     ]
    },
    {
     "name": "stdout",
     "output_type": "stream",
     "text": [
      "{'item': 'Allure bomber jacket slate', 'pu': '100'}\n",
      "\n",
      "3/9\n",
      "Scraping data from link: https://us.princesspolly.com/products/vincent-cargo-jean-denim?variant=39686388252756\n"
     ]
    },
    {
     "name": "stderr",
     "output_type": "stream",
     "text": [
      "python(65595) MallocStackLogging: can't turn off malloc stack logging because it was not enabled.\n",
      "python(65632) MallocStackLogging: can't turn off malloc stack logging because it was not enabled.\n"
     ]
    },
    {
     "name": "stdout",
     "output_type": "stream",
     "text": [
      "{'item': 'Unsupported URL', 'url': 'https://us.princesspolly.com/products/vincent-cargo-jean-denim?variant=39686388252756'}\n",
      "\n",
      "4/9\n",
      "Scraping data from link: https://us.princesspolly.com/products/beatrix-long-sleeve-tee-white?variant=39612644425812\n"
     ]
    },
    {
     "name": "stderr",
     "output_type": "stream",
     "text": [
      "python(65649) MallocStackLogging: can't turn off malloc stack logging because it was not enabled.\n",
      "python(65686) MallocStackLogging: can't turn off malloc stack logging because it was not enabled.\n"
     ]
    },
    {
     "name": "stdout",
     "output_type": "stream",
     "text": [
      "{'item': 'Beatrix long sleeve tee white', 'polyester': '92', 'elastane': '8'}\n",
      "\n",
      "5/9\n",
      "Scraping data from link: https://us.princesspolly.com/products/billini-milla-croc-knee-high-boot-black?variant=32526762704980\n"
     ]
    },
    {
     "name": "stderr",
     "output_type": "stream",
     "text": [
      "python(65757) MallocStackLogging: can't turn off malloc stack logging because it was not enabled.\n",
      "python(65794) MallocStackLogging: can't turn off malloc stack logging because it was not enabled.\n"
     ]
    },
    {
     "name": "stdout",
     "output_type": "stream",
     "text": [
      "{'item': 'Unsupported URL', 'url': 'https://us.princesspolly.com/products/billini-milla-croc-knee-high-boot-black?variant=32526762704980'}\n",
      "\n",
      "6/9\n",
      "Scraping data from link: https://us.princesspolly.com/products/ainsly-set-white?variant=28834877538388\n"
     ]
    },
    {
     "name": "stderr",
     "output_type": "stream",
     "text": [
      "python(65939) MallocStackLogging: can't turn off malloc stack logging because it was not enabled.\n",
      "python(65975) MallocStackLogging: can't turn off malloc stack logging because it was not enabled.\n"
     ]
    },
    {
     "name": "stdout",
     "output_type": "stream",
     "text": [
      "{'item': 'Ainsly set white', 'cotton': '65', 'acrylic': '35'}\n",
      "\n",
      "7/9\n",
      "Scraping data from link: https://us.princesspolly.com/products/rainn-heels-chocolate?variant=40078739013716\n"
     ]
    },
    {
     "name": "stderr",
     "output_type": "stream",
     "text": [
      "python(66037) MallocStackLogging: can't turn off malloc stack logging because it was not enabled.\n",
      "python(66074) MallocStackLogging: can't turn off malloc stack logging because it was not enabled.\n"
     ]
    },
    {
     "name": "stdout",
     "output_type": "stream",
     "text": [
      "{'item': 'Rainn heels chocolate', 'pu': '100'}\n",
      "\n",
      "8/9\n",
      "Scraping data from link: https://us.princesspolly.com/products/phylis-off-the-shoulder-maxi-dress-chocolate?variant=40044383797332\n"
     ]
    },
    {
     "name": "stderr",
     "output_type": "stream",
     "text": [
      "python(66210) MallocStackLogging: can't turn off malloc stack logging because it was not enabled.\n",
      "python(66246) MallocStackLogging: can't turn off malloc stack logging because it was not enabled.\n"
     ]
    },
    {
     "name": "stdout",
     "output_type": "stream",
     "text": [
      "{'item': 'Phylis off the shoulder maxi dress chocolate', 'viscose': '48', 'polyester': '28', 'elastane': '24'}\n",
      "\n",
      "9/9\n",
      "Scraping data from link: https://us.princesspolly.com/products/dravi-mini-sweater-dress-oatmeal?variant=40044383109204\n"
     ]
    },
    {
     "name": "stderr",
     "output_type": "stream",
     "text": [
      "python(66270) MallocStackLogging: can't turn off malloc stack logging because it was not enabled.\n",
      "python(66306) MallocStackLogging: can't turn off malloc stack logging because it was not enabled.\n"
     ]
    },
    {
     "name": "stdout",
     "output_type": "stream",
     "text": [
      "{'item': 'Dravi mini sweater dress oatmeal', 'polyester': '100'}\n",
      "\n",
      "1/3\n",
      "Scraping data from link: https://www.princesspolly.com.au/\n"
     ]
    },
    {
     "name": "stderr",
     "output_type": "stream",
     "text": [
      "python(66338) MallocStackLogging: can't turn off malloc stack logging because it was not enabled.\n",
      "python(66375) MallocStackLogging: can't turn off malloc stack logging because it was not enabled.\n"
     ]
    },
    {
     "name": "stdout",
     "output_type": "stream",
     "text": [
      "{'item': 'Unsupported URL', 'url': 'https://www.princesspolly.com.au/'}\n",
      "\n",
      "2/3\n",
      "Scraping data from link: https://www.princesspolly.com.au/products/conquer-activewear-shorts-grey-1\n"
     ]
    },
    {
     "name": "stderr",
     "output_type": "stream",
     "text": [
      "python(66397) MallocStackLogging: can't turn off malloc stack logging because it was not enabled.\n",
      "python(66433) MallocStackLogging: can't turn off malloc stack logging because it was not enabled.\n"
     ]
    },
    {
     "name": "stdout",
     "output_type": "stream",
     "text": [
      "{'item': 'Conquer activewear shorts grey', 'reclaimed polyester': '80', 'spandex': '20'}\n",
      "\n",
      "3/3\n",
      "Scraping data from link: https://www.princesspolly.com.au/products/energised-activewear-top-grey-1\n"
     ]
    },
    {
     "name": "stderr",
     "output_type": "stream",
     "text": [
      "python(66499) MallocStackLogging: can't turn off malloc stack logging because it was not enabled.\n",
      "python(66535) MallocStackLogging: can't turn off malloc stack logging because it was not enabled.\n"
     ]
    },
    {
     "name": "stdout",
     "output_type": "stream",
     "text": [
      "{'item': 'Energised activewear top grey', 'reclaimed polyester': '80', 'spandex': '20'}\n",
      "\n",
      "1/8\n",
      "Scraping data from link: https://www.princesspolly.com.au/products/hills-halter-denim?variant=39902588534856\n"
     ]
    },
    {
     "name": "stderr",
     "output_type": "stream",
     "text": [
      "python(66573) MallocStackLogging: can't turn off malloc stack logging because it was not enabled.\n",
      "python(66609) MallocStackLogging: can't turn off malloc stack logging because it was not enabled.\n"
     ]
    },
    {
     "name": "stdout",
     "output_type": "stream",
     "text": [
      "{'item': 'Hills halter denim', 'cotton': '100'}\n",
      "\n",
      "2/8\n",
      "Scraping data from link: https://www.princesspolly.com.au/products/top-model-jeans-dark-denim\n"
     ]
    },
    {
     "name": "stderr",
     "output_type": "stream",
     "text": [
      "python(66631) MallocStackLogging: can't turn off malloc stack logging because it was not enabled.\n",
      "python(66667) MallocStackLogging: can't turn off malloc stack logging because it was not enabled.\n"
     ]
    },
    {
     "name": "stdout",
     "output_type": "stream",
     "text": [
      "{'item': 'Top model jeans dark denim', 'cotton': '100'}\n",
      "\n",
      "3/8\n",
      "Scraping data from link: https://www.princesspolly.com.au/products/elkin-strapless-top-white?variant=39870475632712\n"
     ]
    },
    {
     "name": "stderr",
     "output_type": "stream",
     "text": [
      "python(66733) MallocStackLogging: can't turn off malloc stack logging because it was not enabled.\n",
      "python(66770) MallocStackLogging: can't turn off malloc stack logging because it was not enabled.\n"
     ]
    },
    {
     "name": "stdout",
     "output_type": "stream",
     "text": [
      "{'item': 'Elkin strapless top white', 'rayon': '47', 'polyester': '37', 'cotton': '17'}\n",
      "\n",
      "4/8\n",
      "Scraping data from link: https://www.princesspolly.com.au/products/merryweather-anglais-top-white?variant=39870483726408\n"
     ]
    },
    {
     "name": "stderr",
     "output_type": "stream",
     "text": [
      "python(66818) MallocStackLogging: can't turn off malloc stack logging because it was not enabled.\n",
      "python(66855) MallocStackLogging: can't turn off malloc stack logging because it was not enabled.\n"
     ]
    },
    {
     "name": "stdout",
     "output_type": "stream",
     "text": [
      "{'item': 'Merryweather anglais top white', 'organic cotton': '100'}\n",
      "\n",
      "5/8\n",
      "Scraping data from link: https://www.princesspolly.com.au/products/archer-pants-white?variant=35428097982536\n"
     ]
    },
    {
     "name": "stderr",
     "output_type": "stream",
     "text": [
      "python(66889) MallocStackLogging: can't turn off malloc stack logging because it was not enabled.\n",
      "python(66925) MallocStackLogging: can't turn off malloc stack logging because it was not enabled.\n"
     ]
    },
    {
     "name": "stdout",
     "output_type": "stream",
     "text": [
      "{'item': 'Archer pants white', 'polyester': '96', 'elastane': '4'}\n",
      "\n",
      "6/8\n",
      "Scraping data from link: https://www.princesspolly.com.au/products/infatuation-ruffle-mini-dress-blue?variant=39948848758856\n"
     ]
    },
    {
     "name": "stderr",
     "output_type": "stream",
     "text": [
      "python(66977) MallocStackLogging: can't turn off malloc stack logging because it was not enabled.\n",
      "python(67014) MallocStackLogging: can't turn off malloc stack logging because it was not enabled.\n"
     ]
    },
    {
     "name": "stdout",
     "output_type": "stream",
     "text": [
      "{'item': 'Infatuation ruffle mini dress blue', 'reclaimed polyester': '95', 'elastane': '5'}\n",
      "\n",
      "7/8\n",
      "Scraping data from link: https://www.princesspolly.com.au/products/opulence-mini-dress-onyx?variant=39956030619720\n"
     ]
    },
    {
     "name": "stderr",
     "output_type": "stream",
     "text": [
      "python(67066) MallocStackLogging: can't turn off malloc stack logging because it was not enabled.\n",
      "python(67103) MallocStackLogging: can't turn off malloc stack logging because it was not enabled.\n"
     ]
    },
    {
     "name": "stdout",
     "output_type": "stream",
     "text": [
      "{'item': 'Opulence mini dress onyx', 'nylon': '88', 'elastane': '12'}\n",
      "\n",
      "8/8\n",
      "Scraping data from link: https://www.princesspolly.com.au/products/camille-mini-dress-black?variant=39672200364104\n"
     ]
    },
    {
     "name": "stderr",
     "output_type": "stream",
     "text": [
      "python(67241) MallocStackLogging: can't turn off malloc stack logging because it was not enabled.\n",
      "python(67278) MallocStackLogging: can't turn off malloc stack logging because it was not enabled.\n"
     ]
    },
    {
     "name": "stdout",
     "output_type": "stream",
     "text": [
      "{'item': 'Camille mini dress black', 'rayon': '54', 'polyester': '46'}\n",
      "\n",
      "1/9\n",
      "Scraping data from link: https://us.princesspolly.com/\n"
     ]
    },
    {
     "name": "stderr",
     "output_type": "stream",
     "text": [
      "python(67331) MallocStackLogging: can't turn off malloc stack logging because it was not enabled.\n",
      "python(67367) MallocStackLogging: can't turn off malloc stack logging because it was not enabled.\n"
     ]
    },
    {
     "name": "stdout",
     "output_type": "stream",
     "text": [
      "{'item': 'Unsupported URL', 'url': 'https://us.princesspolly.com/'}\n",
      "\n",
      "2/9\n",
      "Scraping data from link: https://us.princesspolly.com/products/maryanne-jeans-mid-wash-denim?variant=39899798503508\n"
     ]
    },
    {
     "name": "stderr",
     "output_type": "stream",
     "text": [
      "python(67431) MallocStackLogging: can't turn off malloc stack logging because it was not enabled.\n",
      "python(67469) MallocStackLogging: can't turn off malloc stack logging because it was not enabled.\n"
     ]
    },
    {
     "name": "stdout",
     "output_type": "stream",
     "text": [
      "{'item': 'Maryanne mid rise relaxed jeans mid wash denim', 'cotton': '69', 'polyester': '16', 'rayon': '15'}\n",
      "\n",
      "3/9\n",
      "Scraping data from link: https://us.princesspolly.com/products/geary-eco-nylon-bodysuit-grey?variant=39680385777748\n"
     ]
    },
    {
     "name": "stderr",
     "output_type": "stream",
     "text": [
      "python(67508) MallocStackLogging: can't turn off malloc stack logging because it was not enabled.\n",
      "python(67544) MallocStackLogging: can't turn off malloc stack logging because it was not enabled.\n"
     ]
    },
    {
     "name": "stdout",
     "output_type": "stream",
     "text": [
      "{'item': 'Geary bodysuit grey', 'reclaimed nylon': '86', 'elastane': '14'}\n",
      "\n",
      "4/9\n",
      "Scraping data from link: https://us.princesspolly.com/products/forte-knit-sweater-sage-cream?variant=40047621341268\n"
     ]
    },
    {
     "name": "stderr",
     "output_type": "stream",
     "text": [
      "python(67612) MallocStackLogging: can't turn off malloc stack logging because it was not enabled.\n",
      "python(67649) MallocStackLogging: can't turn off malloc stack logging because it was not enabled.\n"
     ]
    },
    {
     "name": "stdout",
     "output_type": "stream",
     "text": [
      "{'item': 'Forte knit sweater sage/cream', 'acrylic': '52', 'nylon': '28', 'polyester': '20'}\n",
      "\n",
      "5/9\n",
      "Scraping data from link: https://us.princesspolly.com/products/lamarca-knit-set-beige?variant=40040270069844\n"
     ]
    },
    {
     "name": "stderr",
     "output_type": "stream",
     "text": [
      "python(67729) MallocStackLogging: can't turn off malloc stack logging because it was not enabled.\n",
      "python(67765) MallocStackLogging: can't turn off malloc stack logging because it was not enabled.\n"
     ]
    },
    {
     "name": "stdout",
     "output_type": "stream",
     "text": [
      "{'item': 'Lamarca knit set beige', 'acrylic': '65', 'nylon': '35'}\n",
      "\n",
      "6/9\n",
      "Scraping data from link: https://us.princesspolly.com/products/del-gato-corset-top-charcoal?variant=40023921360980\n"
     ]
    },
    {
     "name": "stderr",
     "output_type": "stream",
     "text": [
      "python(67832) MallocStackLogging: can't turn off malloc stack logging because it was not enabled.\n",
      "python(67870) MallocStackLogging: can't turn off malloc stack logging because it was not enabled.\n"
     ]
    },
    {
     "name": "stdout",
     "output_type": "stream",
     "text": [
      "{'item': 'Del gato corset top charcoal', 'cotton': '90'}\n",
      "\n",
      "7/9\n",
      "Scraping data from link: https://us.princesspolly.com/products/franz-shearling-boots-brown?variant=39926750937172\n"
     ]
    },
    {
     "name": "stderr",
     "output_type": "stream",
     "text": [
      "python(68016) MallocStackLogging: can't turn off malloc stack logging because it was not enabled.\n",
      "python(68055) MallocStackLogging: can't turn off malloc stack logging because it was not enabled.\n"
     ]
    },
    {
     "name": "stdout",
     "output_type": "stream",
     "text": [
      "{'item': 'Franz shearling boots brown', 'fabric': '100'}\n",
      "\n",
      "8/9\n",
      "Scraping data from link: https://us.princesspolly.com/products/tiara-cropped-sweater-black?variant=39921915887700\n"
     ]
    },
    {
     "name": "stderr",
     "output_type": "stream",
     "text": [
      "python(68177) MallocStackLogging: can't turn off malloc stack logging because it was not enabled.\n",
      "python(68214) MallocStackLogging: can't turn off malloc stack logging because it was not enabled.\n"
     ]
    },
    {
     "name": "stdout",
     "output_type": "stream",
     "text": [
      "{'item': 'Tiara cropped sweater black', 'acrylic': '52', 'nylon': '28', 'polyester': '20'}\n",
      "\n",
      "9/9\n",
      "Scraping data from link: https://us.princesspolly.com/products/harmony-knit-sweater-burgundy?variant=40044388941908\n"
     ]
    },
    {
     "name": "stderr",
     "output_type": "stream",
     "text": [
      "python(68252) MallocStackLogging: can't turn off malloc stack logging because it was not enabled.\n",
      "python(68290) MallocStackLogging: can't turn off malloc stack logging because it was not enabled.\n"
     ]
    },
    {
     "name": "stdout",
     "output_type": "stream",
     "text": [
      "{'item': 'Harmony knit sweater burgundy', 'cotton': '60', 'acrylic': '40'}\n",
      "\n",
      "1/9\n",
      "Scraping data from link: https://www.princesspolly.com.au/products/zenda-linen-blend-top-beige?variant=39989394276424\n"
     ]
    },
    {
     "name": "stderr",
     "output_type": "stream",
     "text": [
      "python(68356) MallocStackLogging: can't turn off malloc stack logging because it was not enabled.\n",
      "python(68393) MallocStackLogging: can't turn off malloc stack logging because it was not enabled.\n"
     ]
    },
    {
     "name": "stdout",
     "output_type": "stream",
     "text": [
      "{'item': 'Zenda linen blend top beige', 'linen': '50'}\n",
      "\n",
      "2/9\n",
      "Scraping data from link: https://www.princesspolly.com.au/products/evry-linen-blend-mini-skirt-beige?variant=39984709402696\n"
     ]
    },
    {
     "name": "stderr",
     "output_type": "stream",
     "text": [
      "python(68552) MallocStackLogging: can't turn off malloc stack logging because it was not enabled.\n",
      "python(68589) MallocStackLogging: can't turn off malloc stack logging because it was not enabled.\n"
     ]
    },
    {
     "name": "stdout",
     "output_type": "stream",
     "text": [
      "{'item': 'Evry linen blend mini skirt beige', 'linen': '50'}\n",
      "\n",
      "3/9\n",
      "Scraping data from link: https://www.princesspolly.com.au/products/evanda-top-black?variant=39992671010888\n"
     ]
    },
    {
     "name": "stderr",
     "output_type": "stream",
     "text": [
      "python(68634) MallocStackLogging: can't turn off malloc stack logging because it was not enabled.\n",
      "python(68671) MallocStackLogging: can't turn off malloc stack logging because it was not enabled.\n"
     ]
    },
    {
     "name": "stdout",
     "output_type": "stream",
     "text": [
      "{'item': 'Evanda top black', 'reclaimed nylon': '85', 'spandex': '15'}\n",
      "\n",
      "4/9\n",
      "Scraping data from link: https://www.princesspolly.com.au/products/mercer-linen-blend-maxi-skirt-chocolate-curve?variant=39988975501384\n"
     ]
    },
    {
     "name": "stderr",
     "output_type": "stream",
     "text": [
      "python(68740) MallocStackLogging: can't turn off malloc stack logging because it was not enabled.\n",
      "python(68777) MallocStackLogging: can't turn off malloc stack logging because it was not enabled.\n"
     ]
    },
    {
     "name": "stdout",
     "output_type": "stream",
     "text": [
      "{'item': 'Mercer linen blend maxi skirt chocolate curve', 'linen': '50'}\n",
      "\n",
      "5/9\n",
      "Scraping data from link: https://www.princesspolly.com.au/products/ambra-sweater-cream?variant=39956474724424\n"
     ]
    },
    {
     "name": "stderr",
     "output_type": "stream",
     "text": [
      "python(68809) MallocStackLogging: can't turn off malloc stack logging because it was not enabled.\n",
      "python(68848) MallocStackLogging: can't turn off malloc stack logging because it was not enabled.\n"
     ]
    },
    {
     "name": "stdout",
     "output_type": "stream",
     "text": [
      "{'item': 'Ambra sweater cream', 'polyester': '100'}\n",
      "\n",
      "6/9\n",
      "Scraping data from link: https://www.princesspolly.com.au/products/ikaris-long-sleeve-maxi-dress-grey-white?variant=39988311556168\n"
     ]
    },
    {
     "name": "stderr",
     "output_type": "stream",
     "text": [
      "python(68894) MallocStackLogging: can't turn off malloc stack logging because it was not enabled.\n",
      "python(68933) MallocStackLogging: can't turn off malloc stack logging because it was not enabled.\n"
     ]
    },
    {
     "name": "stdout",
     "output_type": "stream",
     "text": [
      "{'item': 'Ikaris long sleeve maxi dress grey / white', 'polyester': '100'}\n",
      "\n",
      "7/9\n",
      "Scraping data from link: https://www.princesspolly.com.au/products/amoret-maxi-dress-multi?variant=40002087092296\n"
     ]
    },
    {
     "name": "stderr",
     "output_type": "stream",
     "text": [
      "python(69034) MallocStackLogging: can't turn off malloc stack logging because it was not enabled.\n",
      "python(69070) MallocStackLogging: can't turn off malloc stack logging because it was not enabled.\n"
     ]
    },
    {
     "name": "stdout",
     "output_type": "stream",
     "text": [
      "{'item': 'Amoret maxi dress multi', 'reclaimed polyester': '93', 'elastane': '7'}\n",
      "\n",
      "8/9\n",
      "Scraping data from link: https://www.princesspolly.com.au/products/connections-maxi-skirt-multi?variant=40002082865224\n"
     ]
    },
    {
     "name": "stderr",
     "output_type": "stream",
     "text": [
      "python(69139) MallocStackLogging: can't turn off malloc stack logging because it was not enabled.\n",
      "python(69175) MallocStackLogging: can't turn off malloc stack logging because it was not enabled.\n"
     ]
    },
    {
     "name": "stdout",
     "output_type": "stream",
     "text": [
      "{'item': 'Connections maxi skirt multi', 'polyester': '95', 'elastane': '5'}\n",
      "\n",
      "9/9\n",
      "Scraping data from link: https://www.princesspolly.com.au/products/arabellia-maxi-dress-grey?variant=39992671240264\n"
     ]
    },
    {
     "name": "stderr",
     "output_type": "stream",
     "text": [
      "python(69256) MallocStackLogging: can't turn off malloc stack logging because it was not enabled.\n",
      "python(69295) MallocStackLogging: can't turn off malloc stack logging because it was not enabled.\n"
     ]
    },
    {
     "name": "stdout",
     "output_type": "stream",
     "text": [
      "{'item': 'Arabellia maxi dress grey', 'reclaimed polyester': '85', 'elastane': '15'}\n",
      "\n",
      "1/19\n",
      "Scraping data from link: https://www.vivianeaudi.com\n"
     ]
    },
    {
     "name": "stderr",
     "output_type": "stream",
     "text": [
      "python(69363) MallocStackLogging: can't turn off malloc stack logging because it was not enabled.\n",
      "python(69402) MallocStackLogging: can't turn off malloc stack logging because it was not enabled.\n"
     ]
    },
    {
     "name": "stdout",
     "output_type": "stream",
     "text": [
      "{'item': 'Unsupported URL', 'url': 'https://www.vivianeaudi.com'}\n",
      "\n",
      "2/19\n",
      "Scraping data from link: https://www.liketoknow.it/vivianeaudi\n"
     ]
    },
    {
     "name": "stderr",
     "output_type": "stream",
     "text": [
      "python(69531) MallocStackLogging: can't turn off malloc stack logging because it was not enabled.\n",
      "python(69567) MallocStackLogging: can't turn off malloc stack logging because it was not enabled.\n"
     ]
    },
    {
     "name": "stdout",
     "output_type": "stream",
     "text": [
      "{'item': 'Unsupported URL', 'url': 'https://www.liketoknow.it/vivianeaudi'}\n",
      "\n",
      "3/19\n",
      "Scraping data from link: https://us.princesspolly.com/products/gigi-skort-olive?variant=40036988780628\n"
     ]
    },
    {
     "name": "stderr",
     "output_type": "stream",
     "text": [
      "python(69585) MallocStackLogging: can't turn off malloc stack logging because it was not enabled.\n",
      "python(69622) MallocStackLogging: can't turn off malloc stack logging because it was not enabled.\n"
     ]
    },
    {
     "name": "stdout",
     "output_type": "stream",
     "text": [
      "{'item': 'Gigi skort olive', 'cotton': '100'}\n",
      "\n",
      "4/19\n",
      "Scraping data from link: https://us.princesspolly.com/products/harmony-knit-jumper-sweater-navy?variant=39932603203668\n"
     ]
    },
    {
     "name": "stderr",
     "output_type": "stream",
     "text": [
      "python(69666) MallocStackLogging: can't turn off malloc stack logging because it was not enabled.\n",
      "python(69702) MallocStackLogging: can't turn off malloc stack logging because it was not enabled.\n"
     ]
    },
    {
     "name": "stdout",
     "output_type": "stream",
     "text": [
      "{'item': 'Harmony knit sweater navy', 'cotton': '60', 'acrylic': '40'}\n",
      "\n",
      "5/19\n",
      "Scraping data from link: https://us.princesspolly.com/products/anneke-collared-cardigan-black?variant=40006641516628\n"
     ]
    },
    {
     "name": "stderr",
     "output_type": "stream",
     "text": [
      "python(69778) MallocStackLogging: can't turn off malloc stack logging because it was not enabled.\n",
      "python(69814) MallocStackLogging: can't turn off malloc stack logging because it was not enabled.\n"
     ]
    },
    {
     "name": "stdout",
     "output_type": "stream",
     "text": [
      "{'item': 'Anneke collared cardigan black', 'reclaimed polyester': '63', 'polyester': '25', 'nylon': '12'}\n",
      "\n",
      "6/19\n",
      "Scraping data from link: https://us.princesspolly.com/products/hughes-jacket-dark-wash-denim?variant=39884326502484\n"
     ]
    },
    {
     "name": "stderr",
     "output_type": "stream",
     "text": [
      "python(69879) MallocStackLogging: can't turn off malloc stack logging because it was not enabled.\n",
      "python(69917) MallocStackLogging: can't turn off malloc stack logging because it was not enabled.\n"
     ]
    },
    {
     "name": "stdout",
     "output_type": "stream",
     "text": [
      "{'item': 'Hughes jacket dark wash denim', 'cotton': '100'}\n",
      "\n",
      "7/19\n",
      "Scraping data from link: https://us.princesspolly.com/products/hughes-mini-skirt-dark-wash-denim?variant=39884326273108\n"
     ]
    },
    {
     "name": "stderr",
     "output_type": "stream",
     "text": [
      "python(70056) MallocStackLogging: can't turn off malloc stack logging because it was not enabled.\n",
      "python(70094) MallocStackLogging: can't turn off malloc stack logging because it was not enabled.\n"
     ]
    },
    {
     "name": "stdout",
     "output_type": "stream",
     "text": [
      "{'item': 'Hughes mini skirt dark wash denim', 'cotton': '100'}\n",
      "\n",
      "8/19\n",
      "Scraping data from link: https://us.princesspolly.com/products/anni-stripe-shirt-pinstripe-blue?variant=39803707949140\n"
     ]
    },
    {
     "name": "stderr",
     "output_type": "stream",
     "text": [
      "python(70197) MallocStackLogging: can't turn off malloc stack logging because it was not enabled.\n",
      "python(70236) MallocStackLogging: can't turn off malloc stack logging because it was not enabled.\n"
     ]
    },
    {
     "name": "stdout",
     "output_type": "stream",
     "text": [
      "{'item': 'Anni pinstripe shirt blue', 'cotton': '70', 'polyamide': '27', 'elastane': '3'}\n",
      "\n",
      "9/19\n",
      "Scraping data from link: https://us.princesspolly.com/products/archer-pants-navy?variant=39888386490452\n"
     ]
    },
    {
     "name": "stderr",
     "output_type": "stream",
     "text": [
      "python(70417) MallocStackLogging: can't turn off malloc stack logging because it was not enabled.\n",
      "python(70459) MallocStackLogging: can't turn off malloc stack logging because it was not enabled.\n"
     ]
    },
    {
     "name": "stdout",
     "output_type": "stream",
     "text": [
      "{'item': 'Archer pants navy', 'reclaimed polyester': '95', 'elastane': '5'}\n",
      "\n",
      "10/19\n",
      "Scraping data from link: https://us.princesspolly.com/products/devore-cami-burgundy\n"
     ]
    },
    {
     "name": "stderr",
     "output_type": "stream",
     "text": [
      "python(70538) MallocStackLogging: can't turn off malloc stack logging because it was not enabled.\n",
      "python(70574) MallocStackLogging: can't turn off malloc stack logging because it was not enabled.\n"
     ]
    },
    {
     "name": "stdout",
     "output_type": "stream",
     "text": [
      "{'item': 'Devore cami burgundy', 'nylon': '50', 'rayon': '50'}\n",
      "\n",
      "11/19\n",
      "Scraping data from link: https://us.princesspolly.com/products/devore-midi-skirt-burgundy?variant=40041459155028\n"
     ]
    },
    {
     "name": "stderr",
     "output_type": "stream",
     "text": [
      "python(70639) MallocStackLogging: can't turn off malloc stack logging because it was not enabled.\n",
      "python(70677) MallocStackLogging: can't turn off malloc stack logging because it was not enabled.\n"
     ]
    },
    {
     "name": "stdout",
     "output_type": "stream",
     "text": [
      "{'item': 'Devore midi skirt burgundy', 'nylon': '50', 'rayon': '50'}\n",
      "\n",
      "12/19\n",
      "Scraping data from link: https://us.princesspolly.com/products/posner-off-the-shoulder-top-ivory?variant=40040209023060\n"
     ]
    },
    {
     "name": "stderr",
     "output_type": "stream",
     "text": [
      "python(70735) MallocStackLogging: can't turn off malloc stack logging because it was not enabled.\n",
      "python(70772) MallocStackLogging: can't turn off malloc stack logging because it was not enabled.\n"
     ]
    },
    {
     "name": "stdout",
     "output_type": "stream",
     "text": [
      "{'item': 'Posner off the shoulder top ivory', 'reclaimed polyester': '95', 'elastane': '5'}\n",
      "\n",
      "13/19\n",
      "Scraping data from link: https://us.princesspolly.com/products/saturday-sinner-corset-brown?variant=40040279572564\n"
     ]
    },
    {
     "name": "stderr",
     "output_type": "stream",
     "text": [
      "python(70815) MallocStackLogging: can't turn off malloc stack logging because it was not enabled.\n",
      "python(70851) MallocStackLogging: can't turn off malloc stack logging because it was not enabled.\n"
     ]
    },
    {
     "name": "stdout",
     "output_type": "stream",
     "text": [
      "{'item': 'Saturday sinner corset brown', 'cotton': '100'}\n",
      "\n",
      "14/19\n",
      "Scraping data from link: https://us.princesspolly.com/products/astryd-lace-maxi-skirt-white?variant=40041456173140\n"
     ]
    },
    {
     "name": "stderr",
     "output_type": "stream",
     "text": [
      "python(70872) MallocStackLogging: can't turn off malloc stack logging because it was not enabled.\n",
      "python(70908) MallocStackLogging: can't turn off malloc stack logging because it was not enabled.\n"
     ]
    },
    {
     "name": "stdout",
     "output_type": "stream",
     "text": [
      "{'item': 'Astryd lace maxi skirt cream', 'nylon': '90', 'elastane': '10'}\n",
      "\n",
      "15/19\n",
      "Scraping data from link: https://us.princesspolly.com/products/karelle-belt-brown?variant=40024472748116\n"
     ]
    },
    {
     "name": "stderr",
     "output_type": "stream",
     "text": [
      "python(70930) MallocStackLogging: can't turn off malloc stack logging because it was not enabled.\n",
      "python(70966) MallocStackLogging: can't turn off malloc stack logging because it was not enabled.\n"
     ]
    },
    {
     "name": "stdout",
     "output_type": "stream",
     "text": [
      "{'item': 'Unsupported URL', 'url': 'https://us.princesspolly.com/products/karelle-belt-brown?variant=40024472748116'}\n",
      "\n",
      "16/19\n",
      "Scraping data from link: https://us.princesspolly.com/products/mella-knit-mini-dress-cream?variant=39874722201684\n"
     ]
    },
    {
     "name": "stderr",
     "output_type": "stream",
     "text": [
      "python(70983) MallocStackLogging: can't turn off malloc stack logging because it was not enabled.\n",
      "python(71019) MallocStackLogging: can't turn off malloc stack logging because it was not enabled.\n"
     ]
    },
    {
     "name": "stdout",
     "output_type": "stream",
     "text": [
      "{'item': 'Mella knit mini dress cream', 'reclaimed polyester': '63', 'polyester': '25', 'nylon': '12'}\n",
      "\n",
      "17/19\n",
      "Scraping data from link: https://us.princesspolly.com/products/callie-jacket-brown?variant=39611566391380\n"
     ]
    },
    {
     "name": "stderr",
     "output_type": "stream",
     "text": [
      "python(71041) MallocStackLogging: can't turn off malloc stack logging because it was not enabled.\n",
      "python(71078) MallocStackLogging: can't turn off malloc stack logging because it was not enabled.\n"
     ]
    },
    {
     "name": "stdout",
     "output_type": "stream",
     "text": [
      "{'item': 'Callie faux leather jacket brown', 'polyester': '55', 'pu': '45'}\n",
      "\n",
      "18/19\n",
      "Scraping data from link: https://us.princesspolly.com/products/therapy-rico-loafers-black?variant=39676883402836\n"
     ]
    },
    {
     "name": "stderr",
     "output_type": "stream",
     "text": [
      "python(71093) MallocStackLogging: can't turn off malloc stack logging because it was not enabled.\n",
      "python(71129) MallocStackLogging: can't turn off malloc stack logging because it was not enabled.\n"
     ]
    },
    {
     "name": "stdout",
     "output_type": "stream",
     "text": [
      "{'item': 'Unsupported URL', 'url': 'https://us.princesspolly.com/products/therapy-rico-loafers-black?variant=39676883402836'}\n",
      "\n",
      "19/19\n",
      "Scraping data from link: https://us.princesspolly.com/products/dee-hair-bows-white?variant=39726078099540\n"
     ]
    },
    {
     "name": "stderr",
     "output_type": "stream",
     "text": [
      "python(71144) MallocStackLogging: can't turn off malloc stack logging because it was not enabled.\n",
      "python(71180) MallocStackLogging: can't turn off malloc stack logging because it was not enabled.\n"
     ]
    },
    {
     "name": "stdout",
     "output_type": "stream",
     "text": [
      "{'item': 'Dee hair bows white', 'polyester': '98', 'iron': '2'}\n",
      "\n",
      "1/12\n",
      "Scraping data from link: https://us.princesspolly.com\n"
     ]
    },
    {
     "name": "stderr",
     "output_type": "stream",
     "text": [
      "python(71220) MallocStackLogging: can't turn off malloc stack logging because it was not enabled.\n",
      "python(71257) MallocStackLogging: can't turn off malloc stack logging because it was not enabled.\n"
     ]
    },
    {
     "name": "stdout",
     "output_type": "stream",
     "text": [
      "{'item': 'Unsupported URL', 'url': 'https://us.princesspolly.com'}\n",
      "\n",
      "2/12\n",
      "Scraping data from link: https://us.princesspolly.com/products/archer-pants-slate-eco?variant=39746369683540\n"
     ]
    },
    {
     "name": "stderr",
     "output_type": "stream",
     "text": [
      "python(71312) MallocStackLogging: can't turn off malloc stack logging because it was not enabled.\n",
      "python(71351) MallocStackLogging: can't turn off malloc stack logging because it was not enabled.\n"
     ]
    },
    {
     "name": "stdout",
     "output_type": "stream",
     "text": [
      "{'item': 'Archer pants slate lower impact', 'reclaimed polyester': '95', 'elastane': '5'}\n",
      "\n",
      "3/12\n",
      "Scraping data from link: https://us.princesspolly.com/products/farro-eco-nylon-long-sleeve-top-sage?variant=39676137930836\n"
     ]
    },
    {
     "name": "stderr",
     "output_type": "stream",
     "text": [
      "python(71429) MallocStackLogging: can't turn off malloc stack logging because it was not enabled.\n",
      "python(71467) MallocStackLogging: can't turn off malloc stack logging because it was not enabled.\n"
     ]
    },
    {
     "name": "stdout",
     "output_type": "stream",
     "text": [
      "{'item': 'Farro long sleeve top sage', 'reclaimed nylon': '86', 'elastane': '14'}\n",
      "\n",
      "4/12\n",
      "Scraping data from link: https://us.princesspolly.com/products/back-in-time-eco-nylon-top-red?variant=39676139536468\n"
     ]
    },
    {
     "name": "stderr",
     "output_type": "stream",
     "text": [
      "python(71492) MallocStackLogging: can't turn off malloc stack logging because it was not enabled.\n",
      "python(71528) MallocStackLogging: can't turn off malloc stack logging because it was not enabled.\n"
     ]
    },
    {
     "name": "stdout",
     "output_type": "stream",
     "text": [
      "{'item': 'Back in time top red', 'reclaimed nylon': '86', 'elastane': '14'}\n",
      "\n",
      "5/12\n",
      "Scraping data from link: https://us.princesspolly.com/products/sonelle-knit-mini-dress-white?variant=39996330246228\n"
     ]
    },
    {
     "name": "stderr",
     "output_type": "stream",
     "text": [
      "python(71580) MallocStackLogging: can't turn off malloc stack logging because it was not enabled.\n",
      "python(71618) MallocStackLogging: can't turn off malloc stack logging because it was not enabled.\n"
     ]
    },
    {
     "name": "stdout",
     "output_type": "stream",
     "text": [
      "{'item': 'Sonelle sweater mini dress white', 'reclaimed polyester': '73', 'polyester and': '24', 'spandex': '3'}\n",
      "\n",
      "6/12\n",
      "Scraping data from link: https://us.princesspolly.com/products/karelle-belt-black?variant=40024472682580\n"
     ]
    },
    {
     "name": "stderr",
     "output_type": "stream",
     "text": [
      "python(71657) MallocStackLogging: can't turn off malloc stack logging because it was not enabled.\n",
      "python(71694) MallocStackLogging: can't turn off malloc stack logging because it was not enabled.\n"
     ]
    },
    {
     "name": "stdout",
     "output_type": "stream",
     "text": [
      "{'item': 'Unsupported URL', 'url': 'https://us.princesspolly.com/products/karelle-belt-black?variant=40024472682580'}\n",
      "\n",
      "7/12\n",
      "Scraping data from link: https://us.princesspolly.com/products/kiser-shorts-ivory?variant=39852284051540\n"
     ]
    },
    {
     "name": "stderr",
     "output_type": "stream",
     "text": [
      "python(71736) MallocStackLogging: can't turn off malloc stack logging because it was not enabled.\n",
      "python(71772) MallocStackLogging: can't turn off malloc stack logging because it was not enabled.\n"
     ]
    },
    {
     "name": "stdout",
     "output_type": "stream",
     "text": [
      "{'item': 'Cheyla shorts ivory'}\n",
      "\n",
      "8/12\n",
      "Scraping data from link: https://us.princesspolly.com/products/harmony-sweater-beige?variant=32966879903828\n"
     ]
    },
    {
     "name": "stderr",
     "output_type": "stream",
     "text": [
      "python(71829) MallocStackLogging: can't turn off malloc stack logging because it was not enabled.\n",
      "python(71868) MallocStackLogging: can't turn off malloc stack logging because it was not enabled.\n"
     ]
    },
    {
     "name": "stdout",
     "output_type": "stream",
     "text": [
      "{'item': 'Harmony knit sweater beige', 'cotton': '60', 'acrylic': '40'}\n",
      "\n",
      "9/12\n",
      "Scraping data from link: https://us.princesspolly.com/products/nellie-maxi-dress-black-red-floral?variant=39775507447892\n"
     ]
    },
    {
     "name": "stderr",
     "output_type": "stream",
     "text": [
      "python(72047) MallocStackLogging: can't turn off malloc stack logging because it was not enabled.\n",
      "python(72084) MallocStackLogging: can't turn off malloc stack logging because it was not enabled.\n"
     ]
    },
    {
     "name": "stdout",
     "output_type": "stream",
     "text": [
      "{'item': 'Nellie maxi dress black/red floral', 'polyester': '100'}\n",
      "\n",
      "10/12\n",
      "Scraping data from link: https://us.princesspolly.com/products/burke-cardigan-black-1\n"
     ]
    },
    {
     "name": "stderr",
     "output_type": "stream",
     "text": [
      "python(72104) MallocStackLogging: can't turn off malloc stack logging because it was not enabled.\n",
      "python(72140) MallocStackLogging: can't turn off malloc stack logging because it was not enabled.\n"
     ]
    },
    {
     "name": "stdout",
     "output_type": "stream",
     "text": [
      "{'item': 'Burke cardigan black', 'acrylic': '100'}\n",
      "\n",
      "11/12\n",
      "Scraping data from link: https://us.princesspolly.com/products/back-in-time-top-cream?variant=39975271366740\n"
     ]
    },
    {
     "name": "stderr",
     "output_type": "stream",
     "text": [
      "python(72157) MallocStackLogging: can't turn off malloc stack logging because it was not enabled.\n",
      "python(72193) MallocStackLogging: can't turn off malloc stack logging because it was not enabled.\n"
     ]
    },
    {
     "name": "stdout",
     "output_type": "stream",
     "text": [
      "{'item': 'Back in time top cream', 'reclaimed nylon': '86', 'elastane': '14'}\n",
      "\n",
      "12/12\n",
      "Scraping data from link: https://us.princesspolly.com/products/midvale-set-grey?variant=40029826449492\n"
     ]
    },
    {
     "name": "stderr",
     "output_type": "stream",
     "text": [
      "python(72210) MallocStackLogging: can't turn off malloc stack logging because it was not enabled.\n",
      "python(72247) MallocStackLogging: can't turn off malloc stack logging because it was not enabled.\n"
     ]
    },
    {
     "name": "stdout",
     "output_type": "stream",
     "text": [
      "{'item': 'Midvale set grey', 'cotton': '50', 'polyester': '45', 'elastane': '5'}\n",
      "\n",
      "1/18\n",
      "Scraping data from link: https://us.princesspolly.com/​\n"
     ]
    },
    {
     "name": "stderr",
     "output_type": "stream",
     "text": [
      "python(72272) MallocStackLogging: can't turn off malloc stack logging because it was not enabled.\n",
      "python(72308) MallocStackLogging: can't turn off malloc stack logging because it was not enabled.\n"
     ]
    },
    {
     "name": "stdout",
     "output_type": "stream",
     "text": [
      "{'item': 'Unsupported URL', 'url': 'https://us.princesspolly.com/\\u200b'}\n",
      "\n",
      "2/18\n",
      "Scraping data from link: https://www.shopltk.com/explore/emilygrace.26\n"
     ]
    },
    {
     "name": "stderr",
     "output_type": "stream",
     "text": [
      "python(72437) MallocStackLogging: can't turn off malloc stack logging because it was not enabled.\n",
      "python(72474) MallocStackLogging: can't turn off malloc stack logging because it was not enabled.\n"
     ]
    },
    {
     "name": "stdout",
     "output_type": "stream",
     "text": [
      "{'item': 'Unsupported URL', 'url': 'https://www.shopltk.com/explore/emilygrace.26'}\n",
      "\n",
      "3/18\n",
      "Scraping data from link: https://www.amazon.com/shop/emilygrace\n"
     ]
    },
    {
     "name": "stderr",
     "output_type": "stream",
     "text": [
      "python(72518) MallocStackLogging: can't turn off malloc stack logging because it was not enabled.\n",
      "python(72556) MallocStackLogging: can't turn off malloc stack logging because it was not enabled.\n"
     ]
    },
    {
     "name": "stdout",
     "output_type": "stream",
     "text": [
      "{'item': 'Unsupported URL', 'url': 'https://www.amazon.com/shop/emilygrace'}\n",
      "\n",
      "4/18\n",
      "Scraping data from link: http://bit.ly/PoshxEmilyGrace​\n"
     ]
    },
    {
     "name": "stderr",
     "output_type": "stream",
     "text": [
      "python(72595) MallocStackLogging: can't turn off malloc stack logging because it was not enabled.\n",
      "python(72631) MallocStackLogging: can't turn off malloc stack logging because it was not enabled.\n"
     ]
    },
    {
     "name": "stdout",
     "output_type": "stream",
     "text": [
      "{'item': 'Unsupported URL', 'url': 'http://bit.ly/PoshxEmilyGrace\\u200b'}\n",
      "\n",
      "5/18\n",
      "Scraping data from link: https://us.princesspolly.com/products/santorini-knit-top-ivory\n"
     ]
    },
    {
     "name": "stderr",
     "output_type": "stream",
     "text": [
      "python(72652) MallocStackLogging: can't turn off malloc stack logging because it was not enabled.\n",
      "python(72690) MallocStackLogging: can't turn off malloc stack logging because it was not enabled.\n"
     ]
    },
    {
     "name": "stdout",
     "output_type": "stream",
     "text": [
      "{'item': 'Santorini knit top ivory', 'acrylic': '65', 'nylon': '35'}\n",
      "\n",
      "6/18\n",
      "Scraping data from link: https://us.princesspolly.com/products/zaveri-earrings-gold\n"
     ]
    },
    {
     "name": "stderr",
     "output_type": "stream",
     "text": [
      "python(72756) MallocStackLogging: can't turn off malloc stack logging because it was not enabled.\n",
      "python(72792) MallocStackLogging: can't turn off malloc stack logging because it was not enabled.\n"
     ]
    },
    {
     "name": "stdout",
     "output_type": "stream",
     "text": [
      "{'item': 'Zaveri earrings gold', 'steel': '100'}\n",
      "\n",
      "7/18\n",
      "Scraping data from link: https://us.princesspolly.com/products/tami-scarf-multi\n"
     ]
    },
    {
     "name": "stderr",
     "output_type": "stream",
     "text": [
      "python(72817) MallocStackLogging: can't turn off malloc stack logging because it was not enabled.\n",
      "python(72853) MallocStackLogging: can't turn off malloc stack logging because it was not enabled.\n"
     ]
    },
    {
     "name": "stdout",
     "output_type": "stream",
     "text": [
      "{'item': 'Tami scarf multi', 'polyester': '100'}\n",
      "\n",
      "8/18\n",
      "Scraping data from link: https://us.princesspolly.com/products/canter-scarf-multi\n"
     ]
    },
    {
     "name": "stderr",
     "output_type": "stream",
     "text": [
      "python(72884) MallocStackLogging: can't turn off malloc stack logging because it was not enabled.\n",
      "python(72921) MallocStackLogging: can't turn off malloc stack logging because it was not enabled.\n"
     ]
    },
    {
     "name": "stdout",
     "output_type": "stream",
     "text": [
      "{'item': 'Canter scarf multi', 'polyester': '100'}\n",
      "\n",
      "9/18\n",
      "Scraping data from link: https://us.princesspolly.com/products/tanza-faux-leather-jacket-washed-black\n"
     ]
    },
    {
     "name": "stderr",
     "output_type": "stream",
     "text": [
      "python(73042) MallocStackLogging: can't turn off malloc stack logging because it was not enabled.\n",
      "python(73081) MallocStackLogging: can't turn off malloc stack logging because it was not enabled.\n"
     ]
    },
    {
     "name": "stdout",
     "output_type": "stream",
     "text": [
      "{'item': 'Tanza faux leather jacket washed black', 'rayon': '55', 'pu': '45'}\n",
      "\n",
      "10/18\n",
      "Scraping data from link: https://us.princesspolly.com/products/staten-island-jacket-chocolate\n"
     ]
    },
    {
     "name": "stderr",
     "output_type": "stream",
     "text": [
      "python(73135) MallocStackLogging: can't turn off malloc stack logging because it was not enabled.\n",
      "python(73171) MallocStackLogging: can't turn off malloc stack logging because it was not enabled.\n"
     ]
    },
    {
     "name": "stdout",
     "output_type": "stream",
     "text": [
      "{'item': 'Staten island jacket chocolate', 'polyester': '95', 'elastane': '5'}\n",
      "\n",
      "11/18\n",
      "Scraping data from link: https://us.princesspolly.com/products/princess-polly-est-10-top-red\n"
     ]
    },
    {
     "name": "stderr",
     "output_type": "stream",
     "text": [
      "python(73204) MallocStackLogging: can't turn off malloc stack logging because it was not enabled.\n",
      "python(73241) MallocStackLogging: can't turn off malloc stack logging because it was not enabled.\n"
     ]
    },
    {
     "name": "stdout",
     "output_type": "stream",
     "text": [
      "{'item': 'Princess polly est 10 top red', 'recycled cotton': '60', 'recycled polyester': '40'}\n",
      "\n",
      "12/18\n",
      "Scraping data from link: https://us.princesspolly.com/products/parklane-long-sleeve-top-white\n"
     ]
    },
    {
     "name": "stderr",
     "output_type": "stream",
     "text": [
      "python(73281) MallocStackLogging: can't turn off malloc stack logging because it was not enabled.\n",
      "python(73317) MallocStackLogging: can't turn off malloc stack logging because it was not enabled.\n"
     ]
    },
    {
     "name": "stdout",
     "output_type": "stream",
     "text": [
      "{'item': 'Parklane long sleeve top white', 'cotton': '100'}\n",
      "\n",
      "13/18\n",
      "Scraping data from link: https://us.princesspolly.com/products/ryanna-sweater-black\n"
     ]
    },
    {
     "name": "stderr",
     "output_type": "stream",
     "text": [
      "python(73340) MallocStackLogging: can't turn off malloc stack logging because it was not enabled.\n",
      "python(73376) MallocStackLogging: can't turn off malloc stack logging because it was not enabled.\n"
     ]
    },
    {
     "name": "stdout",
     "output_type": "stream",
     "text": [
      "{'item': 'Ryanna sweater black', 'reclaimed polyester': '97', 'elastane': '3'}\n",
      "\n",
      "14/18\n",
      "Scraping data from link: https://us.princesspolly.com/products/oswin-turtleneck-sweater-grey\n"
     ]
    },
    {
     "name": "stderr",
     "output_type": "stream",
     "text": [
      "python(73392) MallocStackLogging: can't turn off malloc stack logging because it was not enabled.\n",
      "python(73430) MallocStackLogging: can't turn off malloc stack logging because it was not enabled.\n"
     ]
    },
    {
     "name": "stdout",
     "output_type": "stream",
     "text": [
      "{'item': 'Oswin turtleneck sweater grey', 'reclaimed polyester': '97', 'elastane': '3'}\n",
      "\n",
      "15/18\n",
      "Scraping data from link: https://us.princesspolly.com/products/jendi-sweater-cream-1\n"
     ]
    },
    {
     "name": "stderr",
     "output_type": "stream",
     "text": [
      "python(73451) MallocStackLogging: can't turn off malloc stack logging because it was not enabled.\n",
      "python(73487) MallocStackLogging: can't turn off malloc stack logging because it was not enabled.\n"
     ]
    },
    {
     "name": "stdout",
     "output_type": "stream",
     "text": [
      "{'item': 'Jendi sweater cream', 'polyester': '100'}\n",
      "\n",
      "16/18\n",
      "Scraping data from link: https://us.princesspolly.com/products/anaya-oversized-sweater-burgundy\n"
     ]
    },
    {
     "name": "stderr",
     "output_type": "stream",
     "text": [
      "python(73501) MallocStackLogging: can't turn off malloc stack logging because it was not enabled.\n",
      "python(73537) MallocStackLogging: can't turn off malloc stack logging because it was not enabled.\n"
     ]
    },
    {
     "name": "stdout",
     "output_type": "stream",
     "text": [
      "{'item': 'Anaya oversized sweater burgundy', 'polyester': '100'}\n",
      "\n",
      "17/18\n",
      "Scraping data from link: https://us.princesspolly.com/products/batkins-maxi-skirt-dark-wash-denim\n"
     ]
    },
    {
     "name": "stderr",
     "output_type": "stream",
     "text": [
      "python(73555) MallocStackLogging: can't turn off malloc stack logging because it was not enabled.\n",
      "python(73591) MallocStackLogging: can't turn off malloc stack logging because it was not enabled.\n"
     ]
    },
    {
     "name": "stdout",
     "output_type": "stream",
     "text": [
      "{'item': 'Batkins maxi skirt dark wash denim', 'cotton': '72', 'recycledpolyester': '24', 'rayon': '2', 'elastane': '1'}\n",
      "\n",
      "18/18\n",
      "Scraping data from link: https://us.princesspolly.com/products/eivissa-bagy-jeans-faded-denim\n"
     ]
    },
    {
     "name": "stderr",
     "output_type": "stream",
     "text": [
      "python(73608) MallocStackLogging: can't turn off malloc stack logging because it was not enabled.\n",
      "python(73644) MallocStackLogging: can't turn off malloc stack logging because it was not enabled.\n"
     ]
    },
    {
     "name": "stdout",
     "output_type": "stream",
     "text": [
      "{'item': 'Eivissa baggy jeans faded denim', 'cotton': '100'}\n",
      "\n",
      "1/10\n",
      "Scraping data from link: https://us.princesspolly.com\n"
     ]
    },
    {
     "name": "stderr",
     "output_type": "stream",
     "text": [
      "python(73661) MallocStackLogging: can't turn off malloc stack logging because it was not enabled.\n",
      "python(73697) MallocStackLogging: can't turn off malloc stack logging because it was not enabled.\n"
     ]
    },
    {
     "name": "stdout",
     "output_type": "stream",
     "text": [
      "{'item': 'Unsupported URL', 'url': 'https://us.princesspolly.com'}\n",
      "\n",
      "2/10\n",
      "Scraping data from link: https://us.princesspolly.com/products/ellison-cable-knit-sweater-blush-pink\n"
     ]
    },
    {
     "name": "stderr",
     "output_type": "stream",
     "text": [
      "python(73715) MallocStackLogging: can't turn off malloc stack logging because it was not enabled.\n",
      "python(73751) MallocStackLogging: can't turn off malloc stack logging because it was not enabled.\n"
     ]
    },
    {
     "name": "stdout",
     "output_type": "stream",
     "text": [
      "{'item': 'Ellison cable knit sweater blush pink', 'polyester': '100'}\n",
      "\n",
      "3/10\n",
      "Scraping data from link: https://us.princesspolly.com/products/cartwright-cord-mini-skirt-grey\n"
     ]
    },
    {
     "name": "stderr",
     "output_type": "stream",
     "text": [
      "python(73777) MallocStackLogging: can't turn off malloc stack logging because it was not enabled.\n",
      "python(73813) MallocStackLogging: can't turn off malloc stack logging because it was not enabled.\n"
     ]
    },
    {
     "name": "stdout",
     "output_type": "stream",
     "text": [
      "{'item': 'Cartwright cord mini skirt grey', 'polyester': '65', 'cotton': '35'}\n",
      "\n",
      "4/10\n",
      "Scraping data from link: https://us.princesspolly.com/products/honey-corset-mini-dress-navy-1\n"
     ]
    },
    {
     "name": "stderr",
     "output_type": "stream",
     "text": [
      "python(73897) MallocStackLogging: can't turn off malloc stack logging because it was not enabled.\n",
      "python(73933) MallocStackLogging: can't turn off malloc stack logging because it was not enabled.\n"
     ]
    },
    {
     "name": "stdout",
     "output_type": "stream",
     "text": [
      "{'item': 'Honey corset mini dress navy', 'cotton': '100'}\n",
      "\n",
      "5/10\n",
      "Scraping data from link: https://us.princesspolly.com/products/kellis-off-the-shoulder-top-white\n"
     ]
    },
    {
     "name": "stderr",
     "output_type": "stream",
     "text": [
      "python(73952) MallocStackLogging: can't turn off malloc stack logging because it was not enabled.\n",
      "python(73988) MallocStackLogging: can't turn off malloc stack logging because it was not enabled.\n"
     ]
    },
    {
     "name": "stdout",
     "output_type": "stream",
     "text": [
      "{'item': 'Kellis off the shoulder top white', 'reclaimed polyester': '90', 'elastane': '10'}\n",
      "\n",
      "6/10\n",
      "Scraping data from link: https://us.princesspolly.com/products/charlotte-jumper-grey\n"
     ]
    },
    {
     "name": "stderr",
     "output_type": "stream",
     "text": [
      "python(74015) MallocStackLogging: can't turn off malloc stack logging because it was not enabled.\n",
      "python(74051) MallocStackLogging: can't turn off malloc stack logging because it was not enabled.\n"
     ]
    },
    {
     "name": "stdout",
     "output_type": "stream",
     "text": [
      "{'item': 'Charlotte crewneck sweatshirt grey', 'polyester': '65', 'cotton': '35'}\n",
      "\n",
      "7/10\n",
      "Scraping data from link: https://us.princesspolly.com/products/arnim-eco-nylon-long-sleeve-top-white\n"
     ]
    },
    {
     "name": "stderr",
     "output_type": "stream",
     "text": [
      "python(74065) MallocStackLogging: can't turn off malloc stack logging because it was not enabled.\n",
      "python(74101) MallocStackLogging: can't turn off malloc stack logging because it was not enabled.\n"
     ]
    },
    {
     "name": "stdout",
     "output_type": "stream",
     "text": [
      "{'item': 'Arnim long sleeve top white', 'reclaimed nylon': '86', 'elastane': '14'}\n",
      "\n",
      "8/10\n",
      "Scraping data from link: https://us.princesspolly.com/products/labelle-quarter-zip-sweater-cream\n"
     ]
    },
    {
     "name": "stderr",
     "output_type": "stream",
     "text": [
      "python(74122) MallocStackLogging: can't turn off malloc stack logging because it was not enabled.\n",
      "python(74158) MallocStackLogging: can't turn off malloc stack logging because it was not enabled.\n"
     ]
    },
    {
     "name": "stdout",
     "output_type": "stream",
     "text": [
      "{'item': 'Labelle quarter zip sweater cream', 'polyester': '100'}\n",
      "\n",
      "9/10\n",
      "Scraping data from link: https://us.princesspolly.com/products/franz-shearling-boots-black\n"
     ]
    },
    {
     "name": "stderr",
     "output_type": "stream",
     "text": [
      "python(74177) MallocStackLogging: can't turn off malloc stack logging because it was not enabled.\n",
      "python(74213) MallocStackLogging: can't turn off malloc stack logging because it was not enabled.\n"
     ]
    },
    {
     "name": "stdout",
     "output_type": "stream",
     "text": [
      "{'item': 'Franz shearling boots black', 'fabric': '100'}\n",
      "\n",
      "10/10\n",
      "Scraping data from link: https://us.princesspolly.com/products/archer-pants-white\n"
     ]
    },
    {
     "name": "stderr",
     "output_type": "stream",
     "text": [
      "python(74303) MallocStackLogging: can't turn off malloc stack logging because it was not enabled.\n",
      "python(74340) MallocStackLogging: can't turn off malloc stack logging because it was not enabled.\n"
     ]
    },
    {
     "name": "stdout",
     "output_type": "stream",
     "text": [
      "{'item': 'Archer pants white', 'polyester': '96', 'elastane': '4'}\n",
      "\n",
      "1/8\n",
      "Scraping data from link: https://www.princesspolly.com.au/products/karena-mini-dress-white-red-floral?variant=39962470678600\n"
     ]
    },
    {
     "name": "stderr",
     "output_type": "stream",
     "text": [
      "python(74363) MallocStackLogging: can't turn off malloc stack logging because it was not enabled.\n",
      "python(74399) MallocStackLogging: can't turn off malloc stack logging because it was not enabled.\n"
     ]
    },
    {
     "name": "stdout",
     "output_type": "stream",
     "text": [
      "{'item': 'Karena mini dress white / red floral', 'polyester': '100'}\n",
      "\n",
      "2/8\n",
      "Scraping data from link: https://www.princesspolly.com.au/products/sampson-top-burgundy?variant=39834958921800\n"
     ]
    },
    {
     "name": "stderr",
     "output_type": "stream",
     "text": [
      "python(74422) MallocStackLogging: can't turn off malloc stack logging because it was not enabled.\n",
      "python(74459) MallocStackLogging: can't turn off malloc stack logging because it was not enabled.\n"
     ]
    },
    {
     "name": "stdout",
     "output_type": "stream",
     "text": [
      "{'item': 'Sampson top burgundy', 'reclaimed nylon': '86', 'elastane': '14'}\n",
      "\n",
      "3/8\n",
      "Scraping data from link: https://www.princesspolly.com.au/products/gazelle-denim-skort-light-wash\n"
     ]
    },
    {
     "name": "stderr",
     "output_type": "stream",
     "text": [
      "python(74495) MallocStackLogging: can't turn off malloc stack logging because it was not enabled.\n",
      "python(74531) MallocStackLogging: can't turn off malloc stack logging because it was not enabled.\n"
     ]
    },
    {
     "name": "stdout",
     "output_type": "stream",
     "text": [
      "{'item': 'Gazelle denim skort light wash', 'cotton': '60', 'reclaimed polyester': '40'}\n",
      "\n",
      "4/8\n",
      "Scraping data from link: https://www.princesspolly.com.au/products/zanzibar-top-white?variant=39706359103560\n"
     ]
    },
    {
     "name": "stderr",
     "output_type": "stream",
     "text": [
      "python(74557) MallocStackLogging: can't turn off malloc stack logging because it was not enabled.\n",
      "python(74593) MallocStackLogging: can't turn off malloc stack logging because it was not enabled.\n"
     ]
    },
    {
     "name": "stdout",
     "output_type": "stream",
     "text": [
      "{'item': 'Zanzibar top white', 'organic cotton': '100'}\n",
      "\n",
      "5/8\n",
      "Scraping data from link: https://www.princesspolly.com.au/products/demi-frill-top-white?variant=39969359626312\n"
     ]
    },
    {
     "name": "stderr",
     "output_type": "stream",
     "text": [
      "python(74611) MallocStackLogging: can't turn off malloc stack logging because it was not enabled.\n",
      "python(74647) MallocStackLogging: can't turn off malloc stack logging because it was not enabled.\n"
     ]
    },
    {
     "name": "stdout",
     "output_type": "stream",
     "text": [
      "{'item': 'Demi frill top white', 'reclaimed polyester': '100'}\n",
      "\n",
      "6/8\n",
      "Scraping data from link: https://www.princesspolly.com.au/products/riego-mini-skirt-silver?variant=39975818461256\n"
     ]
    },
    {
     "name": "stderr",
     "output_type": "stream",
     "text": [
      "python(74660) MallocStackLogging: can't turn off malloc stack logging because it was not enabled.\n",
      "python(74696) MallocStackLogging: can't turn off malloc stack logging because it was not enabled.\n"
     ]
    },
    {
     "name": "stdout",
     "output_type": "stream",
     "text": [
      "{'item': 'Riego mini skirt silver', 'reclaimed pet main 2': '100'}\n",
      "\n",
      "7/8\n",
      "Scraping data from link: https://www.princesspolly.com.au/products/leshner-long-sleeve-mini-dress-burgundy?variant=39975814692936\n"
     ]
    },
    {
     "name": "stderr",
     "output_type": "stream",
     "text": [
      "python(74728) MallocStackLogging: can't turn off malloc stack logging because it was not enabled.\n",
      "python(74764) MallocStackLogging: can't turn off malloc stack logging because it was not enabled.\n"
     ]
    },
    {
     "name": "stdout",
     "output_type": "stream",
     "text": [
      "{'item': 'Leshner long sleeve mini dress burgundy', 'nylon': '70', 'sliverthread': '25', 'spandexlining': '5'}\n",
      "\n",
      "8/8\n",
      "Scraping data from link: https://www.princesspolly.com.au/products/rebekka-ballet-flats-cream?variant=39952393306184\n"
     ]
    },
    {
     "name": "stderr",
     "output_type": "stream",
     "text": [
      "python(74792) MallocStackLogging: can't turn off malloc stack logging because it was not enabled.\n",
      "python(74828) MallocStackLogging: can't turn off malloc stack logging because it was not enabled.\n"
     ]
    },
    {
     "name": "stdout",
     "output_type": "stream",
     "text": [
      "{'item': 'Rebekka ballet flats cream', 'pu': '100'}\n",
      "\n",
      "1/8\n",
      "Scraping data from link: https://us.princesspolly.com/\n"
     ]
    },
    {
     "name": "stderr",
     "output_type": "stream",
     "text": [
      "python(74866) MallocStackLogging: can't turn off malloc stack logging because it was not enabled.\n",
      "python(74902) MallocStackLogging: can't turn off malloc stack logging because it was not enabled.\n"
     ]
    },
    {
     "name": "stdout",
     "output_type": "stream",
     "text": [
      "{'item': 'Unsupported URL', 'url': 'https://us.princesspolly.com/'}\n",
      "\n",
      "2/8\n",
      "Scraping data from link: https://go.shopmy.us/p-3030083\n"
     ]
    },
    {
     "name": "stderr",
     "output_type": "stream",
     "text": [
      "python(74971) MallocStackLogging: can't turn off malloc stack logging because it was not enabled.\n",
      "python(75007) MallocStackLogging: can't turn off malloc stack logging because it was not enabled.\n"
     ]
    },
    {
     "name": "stdout",
     "output_type": "stream",
     "text": [
      "{'item': 'Allure faux leather bomber jacket charcoal', 'pu': '100'}\n",
      "\n",
      "3/8\n",
      "Scraping data from link: https://go.shopmy.us/p-3030218\n"
     ]
    },
    {
     "name": "stderr",
     "output_type": "stream",
     "text": [
      "python(75040) MallocStackLogging: can't turn off malloc stack logging because it was not enabled.\n",
      "python(75078) MallocStackLogging: can't turn off malloc stack logging because it was not enabled.\n"
     ]
    },
    {
     "name": "stdout",
     "output_type": "stream",
     "text": [
      "{'item': 'Phylis off the shoulder maxi dress slate', 'viscose': '48', 'polyester': '28', 'elastane': '24'}\n",
      "\n",
      "4/8\n",
      "Scraping data from link: https://go.shopmy.us/p-3030224\n"
     ]
    },
    {
     "name": "stderr",
     "output_type": "stream",
     "text": [
      "python(75158) MallocStackLogging: can't turn off malloc stack logging because it was not enabled.\n",
      "python(75195) MallocStackLogging: can't turn off malloc stack logging because it was not enabled.\n"
     ]
    },
    {
     "name": "stdout",
     "output_type": "stream",
     "text": [
      "{'item': 'Arsema off the shoulder mini dress black', 'reclaimed polyester': '95', 'elastane': '5'}\n",
      "\n",
      "5/8\n",
      "Scraping data from link: https://go.shopmy.us/p-3030226\n"
     ]
    },
    {
     "name": "stderr",
     "output_type": "stream",
     "text": [
      "python(75222) MallocStackLogging: can't turn off malloc stack logging because it was not enabled.\n",
      "python(75258) MallocStackLogging: can't turn off malloc stack logging because it was not enabled.\n"
     ]
    },
    {
     "name": "stdout",
     "output_type": "stream",
     "text": [
      "{'item': 'Rossetto knit sweater white', 'acrylic': '52', 'nylon': '28', 'polyester': '20'}\n",
      "\n",
      "6/8\n",
      "Scraping data from link: https://go.shopmy.us/p-3030233\n"
     ]
    },
    {
     "name": "stderr",
     "output_type": "stream",
     "text": [
      "python(75286) MallocStackLogging: can't turn off malloc stack logging because it was not enabled.\n",
      "python(75322) MallocStackLogging: can't turn off malloc stack logging because it was not enabled.\n"
     ]
    },
    {
     "name": "stdout",
     "output_type": "stream",
     "text": [
      "{'item': 'Archer pants pinstripe beige', 'polyester': '96', 'elastane': '4'}\n",
      "\n",
      "7/8\n",
      "Scraping data from link: https://go.shopmy.us/p-3030236\n"
     ]
    },
    {
     "name": "stderr",
     "output_type": "stream",
     "text": [
      "python(75340) MallocStackLogging: can't turn off malloc stack logging because it was not enabled.\n",
      "python(75376) MallocStackLogging: can't turn off malloc stack logging because it was not enabled.\n"
     ]
    },
    {
     "name": "stdout",
     "output_type": "stream",
     "text": [
      "{'item': 'Westcott knee high boots black', 'water-based pu lining': '100'}\n",
      "\n",
      "8/8\n",
      "Scraping data from link: https://go.shopmy.us/p-3030242\n"
     ]
    },
    {
     "name": "stderr",
     "output_type": "stream",
     "text": [
      "python(75392) MallocStackLogging: can't turn off malloc stack logging because it was not enabled.\n",
      "python(75428) MallocStackLogging: can't turn off malloc stack logging because it was not enabled.\n"
     ]
    },
    {
     "name": "stdout",
     "output_type": "stream",
     "text": [
      "{'item': 'Theo plush bucket hat black', 'polyester': '100'}\n",
      "\n",
      "1/11\n",
      "Scraping data from link: https://linktr.ee/angelinaann\n"
     ]
    },
    {
     "name": "stderr",
     "output_type": "stream",
     "text": [
      "python(75446) MallocStackLogging: can't turn off malloc stack logging because it was not enabled.\n",
      "python(75482) MallocStackLogging: can't turn off malloc stack logging because it was not enabled.\n"
     ]
    },
    {
     "name": "stdout",
     "output_type": "stream",
     "text": [
      "{'item': 'Unsupported URL', 'url': 'https://linktr.ee/angelinaann'}\n",
      "\n",
      "2/11\n",
      "Scraping data from link: https://us.princesspolly.com/products/abner-cable-cardigan-cream?variant=40013343359060\n"
     ]
    },
    {
     "name": "stderr",
     "output_type": "stream",
     "text": [
      "python(75494) MallocStackLogging: can't turn off malloc stack logging because it was not enabled.\n",
      "python(75530) MallocStackLogging: can't turn off malloc stack logging because it was not enabled.\n"
     ]
    },
    {
     "name": "stdout",
     "output_type": "stream",
     "text": [
      "{'item': 'Abner cable cardigan cream', 'polyester': '100'}\n",
      "\n",
      "3/11\n",
      "Scraping data from link: https://us.princesspolly.com/products/tiara-cropped-sweater-black?variant=39921915920468\n"
     ]
    },
    {
     "name": "stderr",
     "output_type": "stream",
     "text": [
      "python(75546) MallocStackLogging: can't turn off malloc stack logging because it was not enabled.\n",
      "python(75582) MallocStackLogging: can't turn off malloc stack logging because it was not enabled.\n"
     ]
    },
    {
     "name": "stdout",
     "output_type": "stream",
     "text": [
      "{'item': 'Tiara cropped sweater black', 'acrylic': '52', 'nylon': '28', 'polyester': '20'}\n",
      "\n",
      "4/11\n",
      "Scraping data from link: https://us.princesspolly.com/products/adina-sweater-blue?variant=32985867124820\n"
     ]
    },
    {
     "name": "stderr",
     "output_type": "stream",
     "text": [
      "python(75599) MallocStackLogging: can't turn off malloc stack logging because it was not enabled.\n",
      "python(75635) MallocStackLogging: can't turn off malloc stack logging because it was not enabled.\n"
     ]
    },
    {
     "name": "stdout",
     "output_type": "stream",
     "text": [
      "{'item': 'Adina sweater blue', 'polyester': '65', 'acrylic': '35'}\n",
      "\n",
      "5/11\n",
      "Scraping data from link: https://us.princesspolly.com/products/seema-bodysuit-black?variant=40081706745940\n"
     ]
    },
    {
     "name": "stderr",
     "output_type": "stream",
     "text": [
      "python(75649) MallocStackLogging: can't turn off malloc stack logging because it was not enabled.\n",
      "python(75685) MallocStackLogging: can't turn off malloc stack logging because it was not enabled.\n"
     ]
    },
    {
     "name": "stdout",
     "output_type": "stream",
     "text": [
      "{'item': 'Seema bodysuit black', 'rayon': '95', 'spandex': '5'}\n",
      "\n",
      "6/11\n",
      "Scraping data from link: https://us.princesspolly.com/products/imelda-top-ivory?variant=39929572622420\n"
     ]
    },
    {
     "name": "stderr",
     "output_type": "stream",
     "text": [
      "python(75699) MallocStackLogging: can't turn off malloc stack logging because it was not enabled.\n",
      "python(75735) MallocStackLogging: can't turn off malloc stack logging because it was not enabled.\n"
     ]
    },
    {
     "name": "stdout",
     "output_type": "stream",
     "text": [
      "{'item': 'Imelda top ivory', 'reclaimed polyester': '95', 'elastane': '5'}\n",
      "\n",
      "7/11\n",
      "Scraping data from link: https://us.princesspolly.com/products/adrianne-wide-leg-cargo-jeans-black?variant=39707182465108\n"
     ]
    },
    {
     "name": "stderr",
     "output_type": "stream",
     "text": [
      "python(75748) MallocStackLogging: can't turn off malloc stack logging because it was not enabled.\n",
      "python(75784) MallocStackLogging: can't turn off malloc stack logging because it was not enabled.\n"
     ]
    },
    {
     "name": "stdout",
     "output_type": "stream",
     "text": [
      "{'item': 'Adrianne wide leg cargo jeans black', 'cotton': '100'}\n",
      "\n",
      "8/11\n",
      "Scraping data from link: https://us.princesspolly.com/products/maudie-shearling-faux-leather-jacket-black?variant=40066832957524\n"
     ]
    },
    {
     "name": "stderr",
     "output_type": "stream",
     "text": [
      "python(75797) MallocStackLogging: can't turn off malloc stack logging because it was not enabled.\n",
      "python(75833) MallocStackLogging: can't turn off malloc stack logging because it was not enabled.\n"
     ]
    },
    {
     "name": "stdout",
     "output_type": "stream",
     "text": [
      "{'item': 'Maudie shearling faux leather jacket black', 'polyester': '55', 'pu': '45'}\n",
      "\n",
      "9/11\n",
      "Scraping data from link: https://us.princesspolly.com/products/fawcett-jeans-dark-wash-denim?variant=39904287522900\n"
     ]
    },
    {
     "name": "stderr",
     "output_type": "stream",
     "text": [
      "python(75851) MallocStackLogging: can't turn off malloc stack logging because it was not enabled.\n",
      "python(75888) MallocStackLogging: can't turn off malloc stack logging because it was not enabled.\n"
     ]
    },
    {
     "name": "stdout",
     "output_type": "stream",
     "text": [
      "{'item': 'Fawcett jeans dark wash denim', 'cotton': '100'}\n",
      "\n",
      "10/11\n",
      "Scraping data from link: https://soundcloud.com/lakeyinspired\n"
     ]
    },
    {
     "name": "stderr",
     "output_type": "stream",
     "text": [
      "python(75904) MallocStackLogging: can't turn off malloc stack logging because it was not enabled.\n",
      "python(75940) MallocStackLogging: can't turn off malloc stack logging because it was not enabled.\n"
     ]
    },
    {
     "name": "stdout",
     "output_type": "stream",
     "text": [
      "{'item': 'Unsupported URL', 'url': 'https://soundcloud.com/lakeyinspired'}\n",
      "\n",
      "11/11\n",
      "Scraping data from link: https://youtu.be/5cmlgvekbYY\n"
     ]
    },
    {
     "name": "stderr",
     "output_type": "stream",
     "text": [
      "python(75955) MallocStackLogging: can't turn off malloc stack logging because it was not enabled.\n",
      "python(75991) MallocStackLogging: can't turn off malloc stack logging because it was not enabled.\n"
     ]
    },
    {
     "name": "stdout",
     "output_type": "stream",
     "text": [
      "{'item': 'Unsupported URL', 'url': 'https://youtu.be/5cmlgvekbYY'}\n",
      "\n",
      "1/11\n",
      "Scraping data from link: https://us.princesspolly.com/\n"
     ]
    },
    {
     "name": "stderr",
     "output_type": "stream",
     "text": [
      "python(76006) MallocStackLogging: can't turn off malloc stack logging because it was not enabled.\n",
      "python(76043) MallocStackLogging: can't turn off malloc stack logging because it was not enabled.\n"
     ]
    },
    {
     "name": "stdout",
     "output_type": "stream",
     "text": [
      "{'item': 'Unsupported URL', 'url': 'https://us.princesspolly.com/'}\n",
      "\n",
      "2/11\n",
      "Scraping data from link: https://us.princesspolly.com/products/goldsmith-pu-bomber-jacket-burgundy\n"
     ]
    },
    {
     "name": "stderr",
     "output_type": "stream",
     "text": [
      "python(76061) MallocStackLogging: can't turn off malloc stack logging because it was not enabled.\n",
      "python(76097) MallocStackLogging: can't turn off malloc stack logging because it was not enabled.\n"
     ]
    },
    {
     "name": "stdout",
     "output_type": "stream",
     "text": [
      "{'item': 'Goldsmith faux leather bomber jacket burgundy', 'rayon': '55', 'pu': '45'}\n",
      "\n",
      "3/11\n",
      "Scraping data from link: https://us.princesspolly.com/products/nellie-mini-dress-black-polka-dot?variant=39661653819476\n"
     ]
    },
    {
     "name": "stderr",
     "output_type": "stream",
     "text": [
      "python(76131) MallocStackLogging: can't turn off malloc stack logging because it was not enabled.\n",
      "python(76167) MallocStackLogging: can't turn off malloc stack logging because it was not enabled.\n"
     ]
    },
    {
     "name": "stdout",
     "output_type": "stream",
     "text": [
      "{'item': 'Nellie mini dress black polka dot', 'polyester': '100'}\n",
      "\n",
      "4/11\n",
      "Scraping data from link: https://us.princesspolly.com/products/issac-knit-vest-white?variant=39912927330388\n"
     ]
    },
    {
     "name": "stderr",
     "output_type": "stream",
     "text": [
      "python(76191) MallocStackLogging: can't turn off malloc stack logging because it was not enabled.\n",
      "python(76227) MallocStackLogging: can't turn off malloc stack logging because it was not enabled.\n"
     ]
    },
    {
     "name": "stdout",
     "output_type": "stream",
     "text": [
      "{'item': 'Issac knit vest white', 'acrylic': '80', 'cotton': '15', 'elastane': '5'}\n",
      "\n",
      "5/11\n",
      "Scraping data from link: https://us.princesspolly.com/products/harben-denim-maxi-skirt\n"
     ]
    },
    {
     "name": "stderr",
     "output_type": "stream",
     "text": [
      "python(76242) MallocStackLogging: can't turn off malloc stack logging because it was not enabled.\n",
      "python(76278) MallocStackLogging: can't turn off malloc stack logging because it was not enabled.\n"
     ]
    },
    {
     "name": "stdout",
     "output_type": "stream",
     "text": [
      "{'item': 'Harben denim maxi skirt', 'cotton': '100'}\n",
      "\n",
      "6/11\n",
      "Scraping data from link: https://us.princesspolly.com/products/zayas-knee-high-boots-black?variant=39624237908052\n"
     ]
    },
    {
     "name": "stderr",
     "output_type": "stream",
     "text": [
      "python(76296) MallocStackLogging: can't turn off malloc stack logging because it was not enabled.\n",
      "python(76332) MallocStackLogging: can't turn off malloc stack logging because it was not enabled.\n"
     ]
    },
    {
     "name": "stdout",
     "output_type": "stream",
     "text": [
      "{'item': 'Unsupported URL', 'url': 'https://us.princesspolly.com/products/zayas-knee-high-boots-black?variant=39624237908052'}\n",
      "\n",
      "7/11\n",
      "Scraping data from link: https://us.princesspolly.com/products/mabel-midi-skirt-black?variant=39666286657620\n"
     ]
    },
    {
     "name": "stderr",
     "output_type": "stream",
     "text": [
      "python(76350) MallocStackLogging: can't turn off malloc stack logging because it was not enabled.\n",
      "python(76386) MallocStackLogging: can't turn off malloc stack logging because it was not enabled.\n"
     ]
    },
    {
     "name": "stdout",
     "output_type": "stream",
     "text": [
      "{'item': 'Mabel midi skirt black', 'polyester': '75', 'nylon': '25'}\n",
      "\n",
      "8/11\n",
      "Scraping data from link: https://us.princesspolly.com/products/theo-cardigan-white?variant=39535049769044\n"
     ]
    },
    {
     "name": "stderr",
     "output_type": "stream",
     "text": [
      "python(76400) MallocStackLogging: can't turn off malloc stack logging because it was not enabled.\n",
      "python(76436) MallocStackLogging: can't turn off malloc stack logging because it was not enabled.\n"
     ]
    },
    {
     "name": "stdout",
     "output_type": "stream",
     "text": [
      "{'item': 'Theo cardigan white', 'viscose': '50', 'polyester': '28', 'nylon': '22'}\n",
      "\n",
      "9/11\n",
      "Scraping data from link: https://us.princesspolly.com/products/ryanna-sweater-black?variant=39904282902612\n"
     ]
    },
    {
     "name": "stderr",
     "output_type": "stream",
     "text": [
      "python(76473) MallocStackLogging: can't turn off malloc stack logging because it was not enabled.\n",
      "python(76509) MallocStackLogging: can't turn off malloc stack logging because it was not enabled.\n"
     ]
    },
    {
     "name": "stdout",
     "output_type": "stream",
     "text": [
      "{'item': 'Ryanna sweater black', 'reclaimed polyester': '97', 'elastane': '3'}\n",
      "\n",
      "10/11\n",
      "Scraping data from link: https://us.princesspolly.com/products/torres-cargo-mini-skirt-khaki?variant=39829889613908\n"
     ]
    },
    {
     "name": "stderr",
     "output_type": "stream",
     "text": [
      "python(76527) MallocStackLogging: can't turn off malloc stack logging because it was not enabled.\n",
      "python(76563) MallocStackLogging: can't turn off malloc stack logging because it was not enabled.\n"
     ]
    },
    {
     "name": "stdout",
     "output_type": "stream",
     "text": [
      "{'item': 'Torres cargo mini skirt khaki', 'cotton': '100'}\n",
      "\n",
      "11/11\n",
      "Scraping data from link: https://us.princesspolly.com/products/kinglsey-nylon-quilted-shoulder-bag-brown?variant=39539758661716\n"
     ]
    },
    {
     "name": "stderr",
     "output_type": "stream",
     "text": [
      "python(76577) MallocStackLogging: can't turn off malloc stack logging because it was not enabled.\n",
      "python(76614) MallocStackLogging: can't turn off malloc stack logging because it was not enabled.\n"
     ]
    },
    {
     "name": "stdout",
     "output_type": "stream",
     "text": [
      "{'item': 'Kingsley nylon quilted shoulder bag brown', 'polyester': '100'}\n",
      "\n",
      "1/15\n",
      "Scraping data from link: https://www.princesspolly.com.au/\n"
     ]
    },
    {
     "name": "stderr",
     "output_type": "stream",
     "text": [
      "python(76662) MallocStackLogging: can't turn off malloc stack logging because it was not enabled.\n",
      "python(76699) MallocStackLogging: can't turn off malloc stack logging because it was not enabled.\n"
     ]
    },
    {
     "name": "stdout",
     "output_type": "stream",
     "text": [
      "{'item': 'Unsupported URL', 'url': 'https://www.princesspolly.com.au/'}\n",
      "\n",
      "2/15\n",
      "Scraping data from link: https://www.princesspolly.com.au/products/gisele-vest-oatmeal\n"
     ]
    },
    {
     "name": "stderr",
     "output_type": "stream",
     "text": [
      "python(76714) MallocStackLogging: can't turn off malloc stack logging because it was not enabled.\n",
      "python(76750) MallocStackLogging: can't turn off malloc stack logging because it was not enabled.\n"
     ]
    },
    {
     "name": "stdout",
     "output_type": "stream",
     "text": [
      "{'item': 'Gisele vest oatmeal', 'linen': '70', 'cotton': '30'}\n",
      "\n",
      "3/15\n",
      "Scraping data from link: https://www.princesspolly.com.au/products/la-quinta-pants-oatmeal\n"
     ]
    },
    {
     "name": "stderr",
     "output_type": "stream",
     "text": [
      "python(76768) MallocStackLogging: can't turn off malloc stack logging because it was not enabled.\n",
      "python(76804) MallocStackLogging: can't turn off malloc stack logging because it was not enabled.\n"
     ]
    },
    {
     "name": "stdout",
     "output_type": "stream",
     "text": [
      "{'item': 'La quinta pants oatmeal', 'linen': '70', 'viscose': '30'}\n",
      "\n",
      "4/15\n",
      "Scraping data from link: https://www.princesspolly.com.au/products/coomba-backless-bodysuit-white\n"
     ]
    },
    {
     "name": "stderr",
     "output_type": "stream",
     "text": [
      "python(76830) MallocStackLogging: can't turn off malloc stack logging because it was not enabled.\n",
      "python(76866) MallocStackLogging: can't turn off malloc stack logging because it was not enabled.\n"
     ]
    },
    {
     "name": "stdout",
     "output_type": "stream",
     "text": [
      "{'item': 'Coomba backless bodysuit white', 'reclaimed polyester': '87', 'elastane': '13'}\n",
      "\n",
      "5/15\n",
      "Scraping data from link: https://www.princesspolly.com.au/products/arlington-straight-leg-denim-jeans-light-wash-petite-1\n"
     ]
    },
    {
     "name": "stderr",
     "output_type": "stream",
     "text": [
      "python(76894) MallocStackLogging: can't turn off malloc stack logging because it was not enabled.\n",
      "python(76930) MallocStackLogging: can't turn off malloc stack logging because it was not enabled.\n"
     ]
    },
    {
     "name": "stdout",
     "output_type": "stream",
     "text": [
      "{'item': 'Arlington straight leg denim jeans light wash petite', 'cotton': '100'}\n",
      "\n",
      "6/15\n",
      "Scraping data from link: https://www.princesspolly.com.au/products/hibiscus-tank-top-white-multi\n"
     ]
    },
    {
     "name": "stderr",
     "output_type": "stream",
     "text": [
      "python(76947) MallocStackLogging: can't turn off malloc stack logging because it was not enabled.\n",
      "python(76983) MallocStackLogging: can't turn off malloc stack logging because it was not enabled.\n"
     ]
    },
    {
     "name": "stdout",
     "output_type": "stream",
     "text": [
      "{'item': 'Hibiscus tank top white / multi', 'polyester': '95', 'elastane': '5'}\n",
      "\n",
      "7/15\n",
      "Scraping data from link: https://www.princesspolly.com.au/products/dos-fitted-cami-yellow\n"
     ]
    },
    {
     "name": "stderr",
     "output_type": "stream",
     "text": [
      "python(77095) MallocStackLogging: can't turn off malloc stack logging because it was not enabled.\n",
      "python(77133) MallocStackLogging: can't turn off malloc stack logging because it was not enabled.\n"
     ]
    },
    {
     "name": "stdout",
     "output_type": "stream",
     "text": [
      "{'item': 'Dos fitted cami yellow', 'nylon': '88', 'elastane': '12'}\n",
      "\n",
      "8/15\n",
      "Scraping data from link: https://www.princesspolly.com.au/products/jardine-knit-set-black\n"
     ]
    },
    {
     "name": "stderr",
     "output_type": "stream",
     "text": [
      "python(77161) MallocStackLogging: can't turn off malloc stack logging because it was not enabled.\n",
      "python(77197) MallocStackLogging: can't turn off malloc stack logging because it was not enabled.\n"
     ]
    },
    {
     "name": "stdout",
     "output_type": "stream",
     "text": [
      "{'item': 'Jardine knit set black', 'acrylic': '75', 'nylon': '25'}\n",
      "\n",
      "9/15\n",
      "Scraping data from link: https://www.princesspolly.com.au/products/salda-top-bush-green\n"
     ]
    },
    {
     "name": "stderr",
     "output_type": "stream",
     "text": [
      "python(77215) MallocStackLogging: can't turn off malloc stack logging because it was not enabled.\n",
      "python(77252) MallocStackLogging: can't turn off malloc stack logging because it was not enabled.\n"
     ]
    },
    {
     "name": "stdout",
     "output_type": "stream",
     "text": [
      "{'item': 'Salda top bush green', 'cotton': '95', 'elastane': '5'}\n",
      "\n",
      "10/15\n",
      "Scraping data from link: https://www.princesspolly.com.au/products/eito-longline-sweat-shorts-grey\n"
     ]
    },
    {
     "name": "stderr",
     "output_type": "stream",
     "text": [
      "python(77273) MallocStackLogging: can't turn off malloc stack logging because it was not enabled.\n",
      "python(77310) MallocStackLogging: can't turn off malloc stack logging because it was not enabled.\n"
     ]
    },
    {
     "name": "stdout",
     "output_type": "stream",
     "text": [
      "{'item': 'Eito longline sweat shorts grey', 'cotton': '95', 'elastane': '5'}\n",
      "\n",
      "11/15\n",
      "Scraping data from link: https://www.princesspolly.com.au/products/arri-top-white\n"
     ]
    },
    {
     "name": "stderr",
     "output_type": "stream",
     "text": [
      "python(77329) MallocStackLogging: can't turn off malloc stack logging because it was not enabled.\n",
      "python(77365) MallocStackLogging: can't turn off malloc stack logging because it was not enabled.\n"
     ]
    },
    {
     "name": "stdout",
     "output_type": "stream",
     "text": [
      "{'item': 'Arri top white', 'reclaimed cotton': '60', 'reclaimed polyester': '40'}\n",
      "\n",
      "12/15\n",
      "Scraping data from link: https://www.princesspolly.com.au/products/beach-house-shorts-green-white-gingham\n"
     ]
    },
    {
     "name": "stderr",
     "output_type": "stream",
     "text": [
      "python(77379) MallocStackLogging: can't turn off malloc stack logging because it was not enabled.\n",
      "python(77415) MallocStackLogging: can't turn off malloc stack logging because it was not enabled.\n"
     ]
    },
    {
     "name": "stdout",
     "output_type": "stream",
     "text": [
      "{'item': 'Beach house shorts red / white gingham', 'cotton': '50', 'polyester': '50'}\n",
      "\n",
      "13/15\n",
      "Scraping data from link: https://www.princesspolly.com.au/products/reeves-bag-red?\n"
     ]
    },
    {
     "name": "stderr",
     "output_type": "stream",
     "text": [
      "python(77437) MallocStackLogging: can't turn off malloc stack logging because it was not enabled.\n",
      "python(77473) MallocStackLogging: can't turn off malloc stack logging because it was not enabled.\n"
     ]
    },
    {
     "name": "stdout",
     "output_type": "stream",
     "text": [
      "{'item': 'Reeves bag red', 'pu': '80', 'polyester': '20'}\n",
      "\n",
      "14/15\n",
      "Scraping data from link: https://www.princesspolly.com.au/products/belgrove-moto-jacket-snow-wash-denim\n"
     ]
    },
    {
     "name": "stderr",
     "output_type": "stream",
     "text": [
      "python(77488) MallocStackLogging: can't turn off malloc stack logging because it was not enabled.\n",
      "python(77524) MallocStackLogging: can't turn off malloc stack logging because it was not enabled.\n"
     ]
    },
    {
     "name": "stdout",
     "output_type": "stream",
     "text": [
      "{'item': 'Belgrove moto jacket snow wash denim', 'cotton': '100'}\n",
      "\n",
      "15/15\n",
      "Scraping data from link: https://www.princesspolly.com.au/products/belgrove-cargo-jeans-snow-wash-denim\n"
     ]
    },
    {
     "name": "stderr",
     "output_type": "stream",
     "text": [
      "python(77544) MallocStackLogging: can't turn off malloc stack logging because it was not enabled.\n",
      "python(77581) MallocStackLogging: can't turn off malloc stack logging because it was not enabled.\n"
     ]
    },
    {
     "name": "stdout",
     "output_type": "stream",
     "text": [
      "{'item': 'Belgrove cargo jeans snow wash denim', 'cotton': '100'}\n",
      "\n",
      "1/11\n",
      "Scraping data from link: https://www.princesspolly.com.au/products/lorinda-mini-dress-pink\n"
     ]
    },
    {
     "name": "stderr",
     "output_type": "stream",
     "text": [
      "python(77604) MallocStackLogging: can't turn off malloc stack logging because it was not enabled.\n",
      "python(77640) MallocStackLogging: can't turn off malloc stack logging because it was not enabled.\n"
     ]
    },
    {
     "name": "stdout",
     "output_type": "stream",
     "text": [
      "{'item': 'Lorinda mini dress pink', 'cotton': '100'}\n",
      "\n",
      "2/11\n",
      "Scraping data from link: https://www.princesspolly.com.au/products/flow-strapless-mini-dress-brown?variant=39508213858376\n"
     ]
    },
    {
     "name": "stderr",
     "output_type": "stream",
     "text": [
      "python(77659) MallocStackLogging: can't turn off malloc stack logging because it was not enabled.\n",
      "python(77695) MallocStackLogging: can't turn off malloc stack logging because it was not enabled.\n"
     ]
    },
    {
     "name": "stdout",
     "output_type": "stream",
     "text": [
      "{'item': 'Flow strapless mini dress brown', 'cotton': '60', 'acrylic': '40'}\n",
      "\n",
      "3/11\n",
      "Scraping data from link: https://www.princesspolly.com.au/products/better-together-tee-white?variant=39551584370760\n"
     ]
    },
    {
     "name": "stderr",
     "output_type": "stream",
     "text": [
      "python(77708) MallocStackLogging: can't turn off malloc stack logging because it was not enabled.\n",
      "python(77744) MallocStackLogging: can't turn off malloc stack logging because it was not enabled.\n"
     ]
    },
    {
     "name": "stdout",
     "output_type": "stream",
     "text": [
      "{'item': 'Better together tee white', 'organic cotton': '100'}\n",
      "\n",
      "4/11\n",
      "Scraping data from link: https://www.princesspolly.com.au/products/laurena-denim-shorts-dark-wash?variant=39655675363400\n"
     ]
    },
    {
     "name": "stderr",
     "output_type": "stream",
     "text": [
      "python(77758) MallocStackLogging: can't turn off malloc stack logging because it was not enabled.\n",
      "python(77794) MallocStackLogging: can't turn off malloc stack logging because it was not enabled.\n"
     ]
    },
    {
     "name": "stdout",
     "output_type": "stream",
     "text": [
      "{'item': 'Laurena denim shorts dark wash', 'cotton': '80', 'reclaimed cotton': '20'}\n",
      "\n",
      "5/11\n",
      "Scraping data from link: https://www.princesspolly.com.au/products/mortica-maxi-dress-white-floral?variant=39976239431752\n"
     ]
    },
    {
     "name": "stderr",
     "output_type": "stream",
     "text": [
      "python(77811) MallocStackLogging: can't turn off malloc stack logging because it was not enabled.\n",
      "python(77848) MallocStackLogging: can't turn off malloc stack logging because it was not enabled.\n"
     ]
    },
    {
     "name": "stdout",
     "output_type": "stream",
     "text": [
      "{'item': 'Mortica maxi dress white / floral', 'reclaimed polyester': '100'}\n",
      "\n",
      "6/11\n",
      "Scraping data from link: https://www.princesspolly.com.au/products/somebody-loves-you-oversized-tee-white?variant=39978228613192\n"
     ]
    },
    {
     "name": "stderr",
     "output_type": "stream",
     "text": [
      "python(77863) MallocStackLogging: can't turn off malloc stack logging because it was not enabled.\n",
      "python(77899) MallocStackLogging: can't turn off malloc stack logging because it was not enabled.\n"
     ]
    },
    {
     "name": "stdout",
     "output_type": "stream",
     "text": [
      "{'item': 'Unsupported URL', 'url': 'https://www.princesspolly.com.au/products/somebody-loves-you-oversized-tee-white?variant=39978228613192'}\n",
      "\n",
      "7/11\n",
      "Scraping data from link: https://www.princesspolly.com.au/products/larenz-lace-top-white?variant=39969358872648\n"
     ]
    },
    {
     "name": "stderr",
     "output_type": "stream",
     "text": [
      "python(77915) MallocStackLogging: can't turn off malloc stack logging because it was not enabled.\n",
      "python(77951) MallocStackLogging: can't turn off malloc stack logging because it was not enabled.\n"
     ]
    },
    {
     "name": "stdout",
     "output_type": "stream",
     "text": [
      "{'item': 'Larenz lace top white', 'polyester': '90', 'elastane': '10'}\n",
      "\n",
      "8/11\n",
      "Scraping data from link: https://www.princesspolly.com.au/products/empress-of-love-mini-dress-white-broderie\n"
     ]
    },
    {
     "name": "stderr",
     "output_type": "stream",
     "text": [
      "python(77968) MallocStackLogging: can't turn off malloc stack logging because it was not enabled.\n",
      "python(78004) MallocStackLogging: can't turn off malloc stack logging because it was not enabled.\n"
     ]
    },
    {
     "name": "stdout",
     "output_type": "stream",
     "text": [
      "{'item': 'Empress of love mini dress white embroidery', 'cotton': '100'}\n",
      "\n",
      "9/11\n",
      "Scraping data from link: https://pin.it/2m5NLpn\n"
     ]
    },
    {
     "name": "stderr",
     "output_type": "stream",
     "text": [
      "python(78020) MallocStackLogging: can't turn off malloc stack logging because it was not enabled.\n",
      "python(78056) MallocStackLogging: can't turn off malloc stack logging because it was not enabled.\n"
     ]
    },
    {
     "name": "stdout",
     "output_type": "stream",
     "text": [
      "{'item': 'Unsupported URL', 'url': 'https://pin.it/2m5NLpn'}\n",
      "\n",
      "10/11\n",
      "Scraping data from link: https://bit.ly/41unu3q\n"
     ]
    },
    {
     "name": "stderr",
     "output_type": "stream",
     "text": [
      "python(78066) MallocStackLogging: can't turn off malloc stack logging because it was not enabled.\n",
      "python(78102) MallocStackLogging: can't turn off malloc stack logging because it was not enabled.\n"
     ]
    },
    {
     "name": "stdout",
     "output_type": "stream",
     "text": [
      "{'item': 'Unsupported URL', 'url': 'https://bit.ly/41unu3q'}\n",
      "\n",
      "11/11\n",
      "Scraping data from link: https://goo.gl/GJy2ST\n"
     ]
    },
    {
     "name": "stderr",
     "output_type": "stream",
     "text": [
      "python(78156) MallocStackLogging: can't turn off malloc stack logging because it was not enabled.\n",
      "python(78192) MallocStackLogging: can't turn off malloc stack logging because it was not enabled.\n"
     ]
    },
    {
     "name": "stdout",
     "output_type": "stream",
     "text": [
      "{'item': 'Unsupported URL', 'url': 'https://goo.gl/GJy2ST'}\n",
      "\n",
      "1/11\n",
      "Scraping data from link: https://us.princesspolly.com\n"
     ]
    },
    {
     "name": "stderr",
     "output_type": "stream",
     "text": [
      "python(78223) MallocStackLogging: can't turn off malloc stack logging because it was not enabled.\n",
      "python(78260) MallocStackLogging: can't turn off malloc stack logging because it was not enabled.\n"
     ]
    },
    {
     "name": "stdout",
     "output_type": "stream",
     "text": [
      "{'item': 'Unsupported URL', 'url': 'https://us.princesspolly.com'}\n",
      "\n",
      "2/11\n",
      "Scraping data from link: https://us.princesspolly.com/products/fawcett-jeans-dark-wash-denim-petite\n"
     ]
    },
    {
     "name": "stderr",
     "output_type": "stream",
     "text": [
      "python(78306) MallocStackLogging: can't turn off malloc stack logging because it was not enabled.\n",
      "python(78345) MallocStackLogging: can't turn off malloc stack logging because it was not enabled.\n"
     ]
    },
    {
     "name": "stdout",
     "output_type": "stream",
     "text": [
      "{'item': 'Fawcett jeans dark wash denim petite', 'cotton': '100'}\n",
      "\n",
      "3/11\n",
      "Scraping data from link: https://us.princesspolly.com/products/janea-playsuit-romper-black?variant=39727096496212\n"
     ]
    },
    {
     "name": "stderr",
     "output_type": "stream",
     "text": [
      "python(78426) MallocStackLogging: can't turn off malloc stack logging because it was not enabled.\n",
      "python(78463) MallocStackLogging: can't turn off malloc stack logging because it was not enabled.\n"
     ]
    },
    {
     "name": "stdout",
     "output_type": "stream",
     "text": [
      "{'item': 'Janea romper black', 'reclaimed nylon': '86', 'elastane': '14'}\n",
      "\n",
      "4/11\n",
      "Scraping data from link: https://us.princesspolly.com/products/voce-hoodie-red?variant=39703583555668\n"
     ]
    },
    {
     "name": "stderr",
     "output_type": "stream",
     "text": [
      "python(78495) MallocStackLogging: can't turn off malloc stack logging because it was not enabled.\n",
      "python(78531) MallocStackLogging: can't turn off malloc stack logging because it was not enabled.\n"
     ]
    },
    {
     "name": "stdout",
     "output_type": "stream",
     "text": [
      "{'item': 'Voce hoodie red', 'reclaimed polyester': '52', 'organic cotton': '48'}\n",
      "\n",
      "5/11\n",
      "Scraping data from link: https://us.princesspolly.com/products/santorini-knit-top-black\n"
     ]
    },
    {
     "name": "stderr",
     "output_type": "stream",
     "text": [
      "python(78549) MallocStackLogging: can't turn off malloc stack logging because it was not enabled.\n",
      "python(78585) MallocStackLogging: can't turn off malloc stack logging because it was not enabled.\n"
     ]
    },
    {
     "name": "stdout",
     "output_type": "stream",
     "text": [
      "{'item': 'Santorini knit top black', 'viscose': '51', 'nylon': '30', 'polyester': '19'}\n",
      "\n",
      "6/11\n",
      "Scraping data from link: https://us.princesspolly.com/products/arya-straight-leg-track-pants-grey?variant=39703590568020\n"
     ]
    },
    {
     "name": "stderr",
     "output_type": "stream",
     "text": [
      "python(78624) MallocStackLogging: can't turn off malloc stack logging because it was not enabled.\n",
      "python(78664) MallocStackLogging: can't turn off malloc stack logging because it was not enabled.\n"
     ]
    },
    {
     "name": "stdout",
     "output_type": "stream",
     "text": [
      "{'item': 'Arya straight leg track pants grey', 'recycled cotton': '52', 'recycled polyester': '48'}\n",
      "\n",
      "7/11\n",
      "Scraping data from link: https://us.princesspolly.com/products/unwritten-love-top-burgundy?variant=40087441571924\n"
     ]
    },
    {
     "name": "stderr",
     "output_type": "stream",
     "text": [
      "python(78688) MallocStackLogging: can't turn off malloc stack logging because it was not enabled.\n",
      "python(78724) MallocStackLogging: can't turn off malloc stack logging because it was not enabled.\n"
     ]
    },
    {
     "name": "stdout",
     "output_type": "stream",
     "text": [
      "{'item': 'Unwritten love top burgundy', 'viscose': '50'}\n",
      "\n",
      "8/11\n",
      "Scraping data from link: https://us.princesspolly.com/products/carey-denim-jeans-black-petite?variant=40070034915412\n"
     ]
    },
    {
     "name": "stderr",
     "output_type": "stream",
     "text": [
      "python(78738) MallocStackLogging: can't turn off malloc stack logging because it was not enabled.\n",
      "python(78775) MallocStackLogging: can't turn off malloc stack logging because it was not enabled.\n"
     ]
    },
    {
     "name": "stdout",
     "output_type": "stream",
     "text": [
      "{'item': 'Carey denim jeans black petite', 'cotton': '80', 'recycled cotton': '20'}\n",
      "\n",
      "9/11\n",
      "Scraping data from link: https://us.princesspolly.com/products/princess-polly-track-pant-navy-white?variant=40034735882324\n"
     ]
    },
    {
     "name": "stderr",
     "output_type": "stream",
     "text": [
      "python(78813) MallocStackLogging: can't turn off malloc stack logging because it was not enabled.\n",
      "python(78849) MallocStackLogging: can't turn off malloc stack logging because it was not enabled.\n"
     ]
    },
    {
     "name": "stdout",
     "output_type": "stream",
     "text": [
      "{'item': 'Princess polly track pant navy / white', 'reclaimed polyester': '52', 'organic cotton': '48'}\n",
      "\n",
      "10/11\n",
      "Scraping data from link: https://us.princesspolly.com/products/organic-cotton-classic-crop-tee-blue?variant=39524028383316\n"
     ]
    },
    {
     "name": "stderr",
     "output_type": "stream",
     "text": [
      "python(78882) MallocStackLogging: can't turn off malloc stack logging because it was not enabled.\n",
      "python(78918) MallocStackLogging: can't turn off malloc stack logging because it was not enabled.\n"
     ]
    },
    {
     "name": "stdout",
     "output_type": "stream",
     "text": [
      "{'item': 'Classic crop tee blue', 'organic cotton': '95', 'elastane': '5'}\n",
      "\n",
      "11/11\n",
      "Scraping data from link: https://us.princesspolly.com/products/tagula-off-the-shoulder-top-grey?variant=39896435621972\n"
     ]
    },
    {
     "name": "stderr",
     "output_type": "stream",
     "text": [
      "python(78948) MallocStackLogging: can't turn off malloc stack logging because it was not enabled.\n",
      "python(78984) MallocStackLogging: can't turn off malloc stack logging because it was not enabled.\n"
     ]
    },
    {
     "name": "stdout",
     "output_type": "stream",
     "text": [
      "{'item': 'Tagula off the shoulder top grey', 'reclaimed polyester': '63', 'polyester': '25', 'nylon': '12'}\n",
      "\n",
      "1/3\n",
      "Scraping data from link: https://pangobooks.com/bookstore/page.turner\n"
     ]
    },
    {
     "name": "stderr",
     "output_type": "stream",
     "text": [
      "python(79008) MallocStackLogging: can't turn off malloc stack logging because it was not enabled.\n",
      "python(79045) MallocStackLogging: can't turn off malloc stack logging because it was not enabled.\n"
     ]
    },
    {
     "name": "stdout",
     "output_type": "stream",
     "text": [
      "{'item': 'Unsupported URL', 'url': 'https://pangobooks.com/bookstore/page.turner'}\n",
      "\n",
      "2/3\n",
      "Scraping data from link: https://www.goodreads.com/user/show/151804374\n"
     ]
    },
    {
     "name": "stderr",
     "output_type": "stream",
     "text": [
      "python(79057) MallocStackLogging: can't turn off malloc stack logging because it was not enabled.\n",
      "python(79093) MallocStackLogging: can't turn off malloc stack logging because it was not enabled.\n"
     ]
    },
    {
     "name": "stdout",
     "output_type": "stream",
     "text": [
      "{'item': 'Unsupported URL', 'url': 'https://www.goodreads.com/user/show/151804374'}\n",
      "\n",
      "3/3\n",
      "Scraping data from link: https://graceoverrides.wixsite.com/grace-overrides\n"
     ]
    },
    {
     "name": "stderr",
     "output_type": "stream",
     "text": [
      "python(79104) MallocStackLogging: can't turn off malloc stack logging because it was not enabled.\n",
      "python(79140) MallocStackLogging: can't turn off malloc stack logging because it was not enabled.\n"
     ]
    },
    {
     "name": "stdout",
     "output_type": "stream",
     "text": [
      "{'item': 'Unsupported URL', 'url': 'https://graceoverrides.wixsite.com/grace-overrides'}\n",
      "\n",
      "1/15\n",
      "Scraping data from link: https://us.princesspolly.com/\n"
     ]
    },
    {
     "name": "stderr",
     "output_type": "stream",
     "text": [
      "python(79159) MallocStackLogging: can't turn off malloc stack logging because it was not enabled.\n",
      "python(79196) MallocStackLogging: can't turn off malloc stack logging because it was not enabled.\n"
     ]
    },
    {
     "name": "stdout",
     "output_type": "stream",
     "text": [
      "{'item': 'Unsupported URL', 'url': 'https://us.princesspolly.com/'}\n",
      "\n",
      "2/15\n",
      "Scraping data from link: https://us.princesspolly.com/products/savani-mini-dress-cream?variant=39697642815572\n"
     ]
    },
    {
     "name": "stderr",
     "output_type": "stream",
     "text": [
      "python(79220) MallocStackLogging: can't turn off malloc stack logging because it was not enabled.\n",
      "python(79257) MallocStackLogging: can't turn off malloc stack logging because it was not enabled.\n"
     ]
    },
    {
     "name": "stdout",
     "output_type": "stream",
     "text": [
      "{'item': 'Savani mini dress cream', 'reclaimed polyester': '63', 'polyester': '25', 'nylon': '12'}\n",
      "\n",
      "3/15\n",
      "Scraping data from link: https://us.princesspolly.com/products/corella-set-pink?variant=39866596327508\n"
     ]
    },
    {
     "name": "stderr",
     "output_type": "stream",
     "text": [
      "python(79309) MallocStackLogging: can't turn off malloc stack logging because it was not enabled.\n",
      "python(79345) MallocStackLogging: can't turn off malloc stack logging because it was not enabled.\n"
     ]
    },
    {
     "name": "stdout",
     "output_type": "stream",
     "text": [
      "{'item': 'Corella set pink', 'reclaimed polyester': '93', 'elastane': '7'}\n",
      "\n",
      "4/15\n",
      "Scraping data from link: https://us.princesspolly.com/products/jessica-pu-bustier-brown?variant=39460794204244\n"
     ]
    },
    {
     "name": "stderr",
     "output_type": "stream",
     "text": [
      "python(79375) MallocStackLogging: can't turn off malloc stack logging because it was not enabled.\n",
      "python(79412) MallocStackLogging: can't turn off malloc stack logging because it was not enabled.\n"
     ]
    },
    {
     "name": "stdout",
     "output_type": "stream",
     "text": [
      "{'item': 'Jessica pu bustier brown', 'polyester': '50', 'pu': '50'}\n",
      "\n",
      "5/15\n",
      "Scraping data from link: https://us.princesspolly.com/products/torres-cargo-mini-skirt-khaki?variant=39829889646676\n"
     ]
    },
    {
     "name": "stderr",
     "output_type": "stream",
     "text": [
      "python(79431) MallocStackLogging: can't turn off malloc stack logging because it was not enabled.\n",
      "python(79468) MallocStackLogging: can't turn off malloc stack logging because it was not enabled.\n"
     ]
    },
    {
     "name": "stdout",
     "output_type": "stream",
     "text": [
      "{'item': 'Torres cargo mini skirt khaki', 'cotton': '100'}\n",
      "\n",
      "6/15\n",
      "Scraping data from link: https://us.princesspolly.com/products/heavenly-tee-pink?variant=39912572026964\n"
     ]
    },
    {
     "name": "stderr",
     "output_type": "stream",
     "text": [
      "python(79487) MallocStackLogging: can't turn off malloc stack logging because it was not enabled.\n",
      "python(79524) MallocStackLogging: can't turn off malloc stack logging because it was not enabled.\n"
     ]
    },
    {
     "name": "stdout",
     "output_type": "stream",
     "text": [
      "{'item': 'Heavenly tee pink', 'cotton': '95', 'elastane': '5'}\n",
      "\n",
      "7/15\n",
      "Scraping data from link: https://us.princesspolly.com/products/peta-jain-paloma-crossbody-bag-white-pebble-gold?variant=39524932091988\n"
     ]
    },
    {
     "name": "stderr",
     "output_type": "stream",
     "text": [
      "python(79545) MallocStackLogging: can't turn off malloc stack logging because it was not enabled.\n",
      "python(79581) MallocStackLogging: can't turn off malloc stack logging because it was not enabled.\n"
     ]
    },
    {
     "name": "stdout",
     "output_type": "stream",
     "text": [
      "{'item': 'Unsupported URL', 'url': 'https://us.princesspolly.com/products/peta-jain-paloma-crossbody-bag-white-pebble-gold?variant=39524932091988'}\n",
      "\n",
      "8/15\n",
      "Scraping data from link: https://us.princesspolly.com/products/nirvana-sunglasses?variant=27924481245268\n"
     ]
    },
    {
     "name": "stderr",
     "output_type": "stream",
     "text": [
      "python(79597) MallocStackLogging: can't turn off malloc stack logging because it was not enabled.\n",
      "python(79634) MallocStackLogging: can't turn off malloc stack logging because it was not enabled.\n"
     ]
    },
    {
     "name": "stdout",
     "output_type": "stream",
     "text": [
      "{'item': 'Unsupported URL', 'url': 'https://us.princesspolly.com/products/nirvana-sunglasses?variant=27924481245268'}\n",
      "\n",
      "9/15\n",
      "Scraping data from link: https://us.princesspolly.com/products/yamie-bustier-top-multi?variant=39881459204180\n"
     ]
    },
    {
     "name": "stderr",
     "output_type": "stream",
     "text": [
      "python(79648) MallocStackLogging: can't turn off malloc stack logging because it was not enabled.\n",
      "python(79684) MallocStackLogging: can't turn off malloc stack logging because it was not enabled.\n"
     ]
    },
    {
     "name": "stdout",
     "output_type": "stream",
     "text": [
      "{'item': 'Yamie bustier top multi', 'reclaimed polyester': '100'}\n",
      "\n",
      "10/15\n",
      "Scraping data from link: https://us.princesspolly.com/products/field-daisies-corset-green?variant=39686630637652\n"
     ]
    },
    {
     "name": "stderr",
     "output_type": "stream",
     "text": [
      "python(79728) MallocStackLogging: can't turn off malloc stack logging because it was not enabled.\n",
      "python(79764) MallocStackLogging: can't turn off malloc stack logging because it was not enabled.\n"
     ]
    },
    {
     "name": "stdout",
     "output_type": "stream",
     "text": [
      "{'item': 'Field daisies corset green', 'polyester': '100'}\n",
      "\n",
      "11/15\n",
      "Scraping data from link: https://us.princesspolly.com/products/moreno-off-the-shoulder-top-yellow?variant=39916240896084\n"
     ]
    },
    {
     "name": "stderr",
     "output_type": "stream",
     "text": [
      "python(79789) MallocStackLogging: can't turn off malloc stack logging because it was not enabled.\n",
      "python(79825) MallocStackLogging: can't turn off malloc stack logging because it was not enabled.\n"
     ]
    },
    {
     "name": "stdout",
     "output_type": "stream",
     "text": [
      "{'item': 'Moreno off the shoulder top peach', 'reclaimed nylon': '88', 'elastane': '12'}\n",
      "\n",
      "12/15\n",
      "Scraping data from link: https://us.princesspolly.com/products/ayden-mini-dress-black?variant=39431548108884\n"
     ]
    },
    {
     "name": "stderr",
     "output_type": "stream",
     "text": [
      "python(79865) MallocStackLogging: can't turn off malloc stack logging because it was not enabled.\n",
      "python(79901) MallocStackLogging: can't turn off malloc stack logging because it was not enabled.\n"
     ]
    },
    {
     "name": "stdout",
     "output_type": "stream",
     "text": [
      "{'item': 'Ayden mini dress black', 'rayon': '95', 'elastane': '5'}\n",
      "\n",
      "13/15\n",
      "Scraping data from link: https://us.princesspolly.com/products/windsor-smith-baddest-black-stretch-sock-boots?variant=39524911284308\n"
     ]
    },
    {
     "name": "stderr",
     "output_type": "stream",
     "text": [
      "python(79928) MallocStackLogging: can't turn off malloc stack logging because it was not enabled.\n",
      "python(79964) MallocStackLogging: can't turn off malloc stack logging because it was not enabled.\n"
     ]
    },
    {
     "name": "stdout",
     "output_type": "stream",
     "text": [
      "{'item': 'Unsupported URL', 'url': 'https://us.princesspolly.com/products/windsor-smith-baddest-black-stretch-sock-boots?variant=39524911284308'}\n",
      "\n",
      "14/15\n",
      "Scraping data from link: https://us.princesspolly.com/products/the-lola-mini-skirt-black?variant=30938056753236\n"
     ]
    },
    {
     "name": "stderr",
     "output_type": "stream",
     "text": [
      "python(79982) MallocStackLogging: can't turn off malloc stack logging because it was not enabled.\n",
      "python(80018) MallocStackLogging: can't turn off malloc stack logging because it was not enabled.\n"
     ]
    },
    {
     "name": "stdout",
     "output_type": "stream",
     "text": [
      "{'item': 'The lola mini skirt black', 'cotton': '100'}\n",
      "\n",
      "15/15\n",
      "Scraping data from link: https://us.princesspolly.com/products/paige-mid-rise-cargo-jean-white?variant=39775616467028\n"
     ]
    },
    {
     "name": "stderr",
     "output_type": "stream",
     "text": [
      "python(80039) MallocStackLogging: can't turn off malloc stack logging because it was not enabled.\n",
      "python(80075) MallocStackLogging: can't turn off malloc stack logging because it was not enabled.\n"
     ]
    },
    {
     "name": "stdout",
     "output_type": "stream",
     "text": [
      "{'item': 'Paige mid rise cargo jean white', 'cotton': '100'}\n",
      "\n",
      "1/32\n",
      "Scraping data from link: https://us.princesspolly.com/\n"
     ]
    },
    {
     "name": "stderr",
     "output_type": "stream",
     "text": [
      "python(80091) MallocStackLogging: can't turn off malloc stack logging because it was not enabled.\n",
      "python(80127) MallocStackLogging: can't turn off malloc stack logging because it was not enabled.\n"
     ]
    },
    {
     "name": "stdout",
     "output_type": "stream",
     "text": [
      "{'item': 'Unsupported URL', 'url': 'https://us.princesspolly.com/'}\n",
      "\n",
      "2/32\n",
      "Scraping data from link: https://us.princesspolly.com/products/isa-vest-top-white?variant=40052628291668\n"
     ]
    },
    {
     "name": "stderr",
     "output_type": "stream",
     "text": [
      "python(80153) MallocStackLogging: can't turn off malloc stack logging because it was not enabled.\n",
      "python(80190) MallocStackLogging: can't turn off malloc stack logging because it was not enabled.\n"
     ]
    },
    {
     "name": "stdout",
     "output_type": "stream",
     "text": [
      "{'item': 'Isa top white', 'cotton': '95', 'elastane': '5'}\n",
      "\n",
      "3/32\n",
      "Scraping data from link: https://us.princesspolly.com/products/aytan-bolero-sweater-black?variant=39524040933460\n"
     ]
    },
    {
     "name": "stderr",
     "output_type": "stream",
     "text": [
      "python(80211) MallocStackLogging: can't turn off malloc stack logging because it was not enabled.\n",
      "python(80247) MallocStackLogging: can't turn off malloc stack logging because it was not enabled.\n"
     ]
    },
    {
     "name": "stdout",
     "output_type": "stream",
     "text": [
      "{'item': 'Aytan bolero sweater black', 'acrylic': '52', 'nylon': '28', 'polyester': '20'}\n",
      "\n",
      "4/32\n",
      "Scraping data from link: https://us.princesspolly.com/products/brownhall-long-sleeve-maxi-dress-mocha?variant=40047637561428\n"
     ]
    },
    {
     "name": "stderr",
     "output_type": "stream",
     "text": [
      "python(80267) MallocStackLogging: can't turn off malloc stack logging because it was not enabled.\n",
      "python(80303) MallocStackLogging: can't turn off malloc stack logging because it was not enabled.\n"
     ]
    },
    {
     "name": "stdout",
     "output_type": "stream",
     "text": [
      "{'item': 'Brownhall long sleeve maxi dress mocha', 'acrylic': '65', 'nylon': '35'}\n",
      "\n",
      "5/32\n",
      "Scraping data from link: https://us.princesspolly.com/products/morley-off-shoulder-sweater-grey-marle?variant=40007929659476\n"
     ]
    },
    {
     "name": "stderr",
     "output_type": "stream",
     "text": [
      "python(80322) MallocStackLogging: can't turn off malloc stack logging because it was not enabled.\n",
      "python(80358) MallocStackLogging: can't turn off malloc stack logging because it was not enabled.\n"
     ]
    },
    {
     "name": "stdout",
     "output_type": "stream",
     "text": [
      "{'item': 'Morley off shoulder sweater grey marle', 'reclaimed polyester': '63', 'polyester': '25', 'nylon': '12'}\n",
      "\n",
      "6/32\n",
      "Scraping data from link: https://us.princesspolly.com/products/saige-denim-maxi-skirt-mid-wash?variant=40047623602260\n"
     ]
    },
    {
     "name": "stderr",
     "output_type": "stream",
     "text": [
      "python(80383) MallocStackLogging: can't turn off malloc stack logging because it was not enabled.\n",
      "python(80419) MallocStackLogging: can't turn off malloc stack logging because it was not enabled.\n"
     ]
    },
    {
     "name": "stdout",
     "output_type": "stream",
     "text": [
      "{'item': 'Saige denim maxi skirt mid wash', 'cotton': '60', 'reclaimed cotton': '40'}\n",
      "\n",
      "7/32\n",
      "Scraping data from link: https://us.princesspolly.com/products/paisleigh-cable-knit-cardigan-charcoal?variant=40062450073684\n"
     ]
    },
    {
     "name": "stderr",
     "output_type": "stream",
     "text": [
      "python(80452) MallocStackLogging: can't turn off malloc stack logging because it was not enabled.\n",
      "python(80500) MallocStackLogging: can't turn off malloc stack logging because it was not enabled.\n"
     ]
    },
    {
     "name": "stdout",
     "output_type": "stream",
     "text": [
      "{'item': 'Paisleigh cable knit cardigan charcoal', 'polyester': '75', 'nylon': '78', 'wool': '6', 'spandex': '1'}\n",
      "\n",
      "8/32\n",
      "Scraping data from link: https://us.princesspolly.com/products/hallea-long-sleeve-mini-dress-pink?variant=39934436704340\n"
     ]
    },
    {
     "name": "stderr",
     "output_type": "stream",
     "text": [
      "python(80643) MallocStackLogging: can't turn off malloc stack logging because it was not enabled.\n",
      "python(80679) MallocStackLogging: can't turn off malloc stack logging because it was not enabled.\n"
     ]
    },
    {
     "name": "stdout",
     "output_type": "stream",
     "text": [
      "{'item': 'Hallea long sleeve mini dress pink', 'polyester': '65', 'cotton': '35'}\n",
      "\n",
      "9/32\n",
      "Scraping data from link: https://us.princesspolly.com/products/williamson-stripe-sweater-black-cream?variant=40020624605268\n"
     ]
    },
    {
     "name": "stderr",
     "output_type": "stream",
     "text": [
      "python(80697) MallocStackLogging: can't turn off malloc stack logging because it was not enabled.\n",
      "python(80734) MallocStackLogging: can't turn off malloc stack logging because it was not enabled.\n"
     ]
    },
    {
     "name": "stdout",
     "output_type": "stream",
     "text": [
      "{'item': 'Williamson stripe sweater black / cream', 'acrylic': '52', 'nylon': '28', 'polyester': '20'}\n",
      "\n",
      "10/32\n",
      "Scraping data from link: https://us.princesspolly.com/products/tiara-cropped-sweater-black?variant=39921915920468\n"
     ]
    },
    {
     "name": "stderr",
     "output_type": "stream",
     "text": [
      "python(80756) MallocStackLogging: can't turn off malloc stack logging because it was not enabled.\n",
      "python(80792) MallocStackLogging: can't turn off malloc stack logging because it was not enabled.\n"
     ]
    },
    {
     "name": "stdout",
     "output_type": "stream",
     "text": [
      "{'item': 'Tiara cropped sweater black', 'acrylic': '52', 'nylon': '28', 'polyester': '20'}\n",
      "\n",
      "11/32\n",
      "Scraping data from link: https://us.princesspolly.com/products/innerbloom-oversized-sweater-black?variant=39852280905812\n"
     ]
    },
    {
     "name": "stderr",
     "output_type": "stream",
     "text": [
      "python(80836) MallocStackLogging: can't turn off malloc stack logging because it was not enabled.\n",
      "python(80873) MallocStackLogging: can't turn off malloc stack logging because it was not enabled.\n"
     ]
    },
    {
     "name": "stdout",
     "output_type": "stream",
     "text": [
      "{'item': 'Innerbloom oversized sweater black', 'acrylic': '100'}\n",
      "\n",
      "12/32\n",
      "Scraping data from link: https://us.princesspolly.com/products/kier-oversized-jacket-denim-light-wash-1?variant=39827312083028\n"
     ]
    },
    {
     "name": "stderr",
     "output_type": "stream",
     "text": [
      "python(80937) MallocStackLogging: can't turn off malloc stack logging because it was not enabled.\n",
      "python(80973) MallocStackLogging: can't turn off malloc stack logging because it was not enabled.\n"
     ]
    },
    {
     "name": "stdout",
     "output_type": "stream",
     "text": [
      "{'item': 'Kier oversized jacket denim mid wash', 'cotton': '100'}\n",
      "\n",
      "13/32\n",
      "Scraping data from link: https://us.princesspolly.com/products/frow-set-grey?variant=39991316742228\n"
     ]
    },
    {
     "name": "stderr",
     "output_type": "stream",
     "text": [
      "python(80997) MallocStackLogging: can't turn off malloc stack logging because it was not enabled.\n",
      "python(81033) MallocStackLogging: can't turn off malloc stack logging because it was not enabled.\n"
     ]
    },
    {
     "name": "stdout",
     "output_type": "stream",
     "text": [
      "{'item': 'Frow set grey', 'polyester': '75', 'cotton': '25'}\n",
      "\n",
      "14/32\n",
      "Scraping data from link: https://us.princesspolly.com/products/charlotte-jumper-grey?variant=32431737012308\n"
     ]
    },
    {
     "name": "stderr",
     "output_type": "stream",
     "text": [
      "python(81048) MallocStackLogging: can't turn off malloc stack logging because it was not enabled.\n",
      "python(81084) MallocStackLogging: can't turn off malloc stack logging because it was not enabled.\n"
     ]
    },
    {
     "name": "stdout",
     "output_type": "stream",
     "text": [
      "{'item': 'Charlotte crewneck sweatshirt grey', 'polyester': '65', 'cotton': '35'}\n",
      "\n",
      "15/32\n",
      "Scraping data from link: https://us.princesspolly.com/products/voce-hoodie-red?variant=39703583686740\n"
     ]
    },
    {
     "name": "stderr",
     "output_type": "stream",
     "text": [
      "python(81096) MallocStackLogging: can't turn off malloc stack logging because it was not enabled.\n",
      "python(81132) MallocStackLogging: can't turn off malloc stack logging because it was not enabled.\n"
     ]
    },
    {
     "name": "stdout",
     "output_type": "stream",
     "text": [
      "{'item': 'Voce hoodie red', 'reclaimed polyester': '52', 'organic cotton': '48'}\n",
      "\n",
      "16/32\n",
      "Scraping data from link: https://us.princesspolly.com/products/cenzo-track-shorts-red\n"
     ]
    },
    {
     "name": "stderr",
     "output_type": "stream",
     "text": [
      "python(81145) MallocStackLogging: can't turn off malloc stack logging because it was not enabled.\n",
      "python(81181) MallocStackLogging: can't turn off malloc stack logging because it was not enabled.\n"
     ]
    },
    {
     "name": "stdout",
     "output_type": "stream",
     "text": [
      "{'item': 'Cenzo track shorts red', 'recycled cotton': '52', 'recycled polyester': '48'}\n",
      "\n",
      "17/32\n",
      "Scraping data from link: https://us.princesspolly.com/products/reeves-bag-red?variant=40004340121684\n"
     ]
    },
    {
     "name": "stderr",
     "output_type": "stream",
     "text": [
      "python(81194) MallocStackLogging: can't turn off malloc stack logging because it was not enabled.\n",
      "python(81231) MallocStackLogging: can't turn off malloc stack logging because it was not enabled.\n"
     ]
    },
    {
     "name": "stdout",
     "output_type": "stream",
     "text": [
      "{'item': 'Reeves bag red', 'pu': '80', 'polyester': '20'}\n",
      "\n",
      "18/32\n",
      "Scraping data from link: https://us.princesspolly.com/products/breslin-belt-black-silver?variant=40094070276180\n"
     ]
    },
    {
     "name": "stderr",
     "output_type": "stream",
     "text": [
      "python(81243) MallocStackLogging: can't turn off malloc stack logging because it was not enabled.\n",
      "python(81279) MallocStackLogging: can't turn off malloc stack logging because it was not enabled.\n"
     ]
    },
    {
     "name": "stdout",
     "output_type": "stream",
     "text": [
      "{'item': 'Breslin belt black / silver', 'reclaimed pu': '90', 'metal': '10'}\n",
      "\n",
      "19/32\n",
      "Scraping data from link: https://us.princesspolly.com/products/lynda-earrings-silver?variant=39973319016532\n"
     ]
    },
    {
     "name": "stderr",
     "output_type": "stream",
     "text": [
      "python(81299) MallocStackLogging: can't turn off malloc stack logging because it was not enabled.\n",
      "python(81335) MallocStackLogging: can't turn off malloc stack logging because it was not enabled.\n"
     ]
    },
    {
     "name": "stdout",
     "output_type": "stream",
     "text": [
      "{'item': 'Lynda earrings silver', 'reclaimedzinc alloy': '99', 'steel': '1'}\n",
      "\n",
      "20/32\n",
      "Scraping data from link: https://us.princesspolly.com/products/brassie-necklace-silver?variant=39854968832084\n"
     ]
    },
    {
     "name": "stderr",
     "output_type": "stream",
     "text": [
      "python(81355) MallocStackLogging: can't turn off malloc stack logging because it was not enabled.\n",
      "python(81391) MallocStackLogging: can't turn off malloc stack logging because it was not enabled.\n"
     ]
    },
    {
     "name": "stdout",
     "output_type": "stream",
     "text": [
      "{'item': 'Brassie necklace silver', 'brass': '90', 'zircon': '10'}\n",
      "\n",
      "21/32\n",
      "Scraping data from link: https://us.princesspolly.com/products/mckilah-hair-clips-black?variant=39914741301332\n"
     ]
    },
    {
     "name": "stderr",
     "output_type": "stream",
     "text": [
      "python(81405) MallocStackLogging: can't turn off malloc stack logging because it was not enabled.\n",
      "python(81441) MallocStackLogging: can't turn off malloc stack logging because it was not enabled.\n"
     ]
    },
    {
     "name": "stdout",
     "output_type": "stream",
     "text": [
      "{'item': 'Mckilah hair clips black', 'polyester': '95', 'iron': '5'}\n",
      "\n",
      "22/32\n",
      "Scraping data from link: https://us.princesspolly.com/products/lanter-socks-cream?variant=39854967652436\n"
     ]
    },
    {
     "name": "stderr",
     "output_type": "stream",
     "text": [
      "python(81459) MallocStackLogging: can't turn off malloc stack logging because it was not enabled.\n",
      "python(81495) MallocStackLogging: can't turn off malloc stack logging because it was not enabled.\n"
     ]
    },
    {
     "name": "stdout",
     "output_type": "stream",
     "text": [
      "{'item': 'Lanter socks cream', 'cotton': '100'}\n",
      "\n",
      "23/32\n",
      "Scraping data from link: https://us.princesspolly.com/products/sports-crew-ribbed-socks-grey?variant=39911325958228\n"
     ]
    },
    {
     "name": "stderr",
     "output_type": "stream",
     "text": [
      "python(81506) MallocStackLogging: can't turn off malloc stack logging because it was not enabled.\n",
      "python(81542) MallocStackLogging: can't turn off malloc stack logging because it was not enabled.\n"
     ]
    },
    {
     "name": "stdout",
     "output_type": "stream",
     "text": [
      "{'item': 'Unsupported URL', 'url': 'https://us.princesspolly.com/products/sports-crew-ribbed-socks-grey?variant=39911325958228'}\n",
      "\n",
      "24/32\n",
      "Scraping data from link: https://us.princesspolly.com/products/sunday-mood-socks-beige?variant=39314882461780\n"
     ]
    },
    {
     "name": "stderr",
     "output_type": "stream",
     "text": [
      "python(81554) MallocStackLogging: can't turn off malloc stack logging because it was not enabled.\n",
      "python(81590) MallocStackLogging: can't turn off malloc stack logging because it was not enabled.\n"
     ]
    },
    {
     "name": "stdout",
     "output_type": "stream",
     "text": [
      "{'item': 'Sunday mood socks beige', 'cotton': '100'}\n",
      "\n",
      "25/32\n",
      "Scraping data from link: https://moodssounddesign.com/\n"
     ]
    },
    {
     "name": "stderr",
     "output_type": "stream",
     "text": [
      "python(81601) MallocStackLogging: can't turn off malloc stack logging because it was not enabled.\n",
      "python(81637) MallocStackLogging: can't turn off malloc stack logging because it was not enabled.\n"
     ]
    },
    {
     "name": "stdout",
     "output_type": "stream",
     "text": [
      "{'item': 'Unsupported URL', 'url': 'https://moodssounddesign.com/'}\n",
      "\n",
      "26/32\n",
      "Scraping data from link: https://gumroad.com/alexiistherese\n"
     ]
    },
    {
     "name": "stderr",
     "output_type": "stream",
     "text": [
      "python(81653) MallocStackLogging: can't turn off malloc stack logging because it was not enabled.\n",
      "python(81689) MallocStackLogging: can't turn off malloc stack logging because it was not enabled.\n"
     ]
    },
    {
     "name": "stdout",
     "output_type": "stream",
     "text": [
      "{'item': 'Unsupported URL', 'url': 'https://gumroad.com/alexiistherese'}\n",
      "\n",
      "27/32\n",
      "Scraping data from link: http://www.alexiistherese.com\n"
     ]
    },
    {
     "name": "stderr",
     "output_type": "stream",
     "text": [
      "python(81698) MallocStackLogging: can't turn off malloc stack logging because it was not enabled.\n",
      "python(81734) MallocStackLogging: can't turn off malloc stack logging because it was not enabled.\n"
     ]
    },
    {
     "name": "stdout",
     "output_type": "stream",
     "text": [
      "{'item': 'Unsupported URL', 'url': 'http://www.alexiistherese.com'}\n",
      "\n",
      "28/32\n",
      "Scraping data from link: https://posh.mk/Az2WPa56YW\n"
     ]
    },
    {
     "name": "stderr",
     "output_type": "stream",
     "text": [
      "python(81745) MallocStackLogging: can't turn off malloc stack logging because it was not enabled.\n",
      "python(81781) MallocStackLogging: can't turn off malloc stack logging because it was not enabled.\n"
     ]
    },
    {
     "name": "stdout",
     "output_type": "stream",
     "text": [
      "{'item': 'Unsupported URL', 'url': 'https://posh.mk/Az2WPa56YW'}\n",
      "\n",
      "29/32\n",
      "Scraping data from link: https://spoti.fi/3NkRDLB\n"
     ]
    },
    {
     "name": "stderr",
     "output_type": "stream",
     "text": [
      "python(81797) MallocStackLogging: can't turn off malloc stack logging because it was not enabled.\n",
      "python(81833) MallocStackLogging: can't turn off malloc stack logging because it was not enabled.\n"
     ]
    },
    {
     "name": "stdout",
     "output_type": "stream",
     "text": [
      "{'item': 'Unsupported URL', 'url': 'https://spoti.fi/3NkRDLB'}\n",
      "\n",
      "30/32\n",
      "Scraping data from link: https://apple.co/3FYlnva\n"
     ]
    },
    {
     "name": "stderr",
     "output_type": "stream",
     "text": [
      "python(81850) MallocStackLogging: can't turn off malloc stack logging because it was not enabled.\n",
      "python(81886) MallocStackLogging: can't turn off malloc stack logging because it was not enabled.\n"
     ]
    },
    {
     "name": "stdout",
     "output_type": "stream",
     "text": [
      "{'item': 'Unsupported URL', 'url': 'https://apple.co/3FYlnva'}\n",
      "\n",
      "31/32\n",
      "Scraping data from link: https://amzn.to/3z2oFwf\n"
     ]
    },
    {
     "name": "stderr",
     "output_type": "stream",
     "text": [
      "python(81898) MallocStackLogging: can't turn off malloc stack logging because it was not enabled.\n",
      "python(81934) MallocStackLogging: can't turn off malloc stack logging because it was not enabled.\n"
     ]
    },
    {
     "name": "stdout",
     "output_type": "stream",
     "text": [
      "{'item': 'Unsupported URL', 'url': 'https://amzn.to/3z2oFwf'}\n",
      "\n",
      "32/32\n",
      "Scraping data from link: https://bit.ly/3wz7EGZ\n"
     ]
    },
    {
     "name": "stderr",
     "output_type": "stream",
     "text": [
      "python(81950) MallocStackLogging: can't turn off malloc stack logging because it was not enabled.\n",
      "python(81986) MallocStackLogging: can't turn off malloc stack logging because it was not enabled.\n"
     ]
    },
    {
     "name": "stdout",
     "output_type": "stream",
     "text": [
      "{'item': 'Unsupported URL', 'url': 'https://bit.ly/3wz7EGZ'}\n",
      "\n",
      "1/5\n",
      "Scraping data from link: https://rstyle.me/+hI2ZhNhTBHc772jLNIPN-Q?li=43a44159-3b9d-11ee-8367-0242ac110003&lpm=EXACT&pt=timeline&__cid=1144&l=en&p=explore-displayName-posts-id&r=explore-displayName&rr=explore-displayName-posts-id\n"
     ]
    },
    {
     "name": "stderr",
     "output_type": "stream",
     "text": [
      "python(82005) MallocStackLogging: can't turn off malloc stack logging because it was not enabled.\n",
      "python(82041) MallocStackLogging: can't turn off malloc stack logging because it was not enabled.\n"
     ]
    },
    {
     "name": "stdout",
     "output_type": "stream",
     "text": [
      "{'item': 'The love galore romper brown'}\n",
      "\n",
      "2/5\n",
      "Scraping data from link: https://rstyle.me/+52-nZi81OENRkkOaC0kKdw?li=43a44159-3b9d-11ee-8367-0242ac110003&lpm=EXACT&pt=timeline&__cid=1144&l=en&p=explore-displayName-posts-id&r=explore-displayName&rr=explore-displayName-posts-id\n"
     ]
    },
    {
     "name": "stderr",
     "output_type": "stream",
     "text": [
      "python(82056) MallocStackLogging: can't turn off malloc stack logging because it was not enabled.\n",
      "python(82092) MallocStackLogging: can't turn off malloc stack logging because it was not enabled.\n"
     ]
    },
    {
     "name": "stdout",
     "output_type": "stream",
     "text": [
      "{'item': 'The love galore long sleeve romper black curve'}\n",
      "\n",
      "3/5\n",
      "Scraping data from link: https://www.amazon.com/shop/influencer-92fdbce2/list/11OV3ET67ZDZ4?ref_=cm_sw_r_cp_ud_aipsflist_aipsfinfluencer-92fdbce2_M5HE7MQ5ZMBXTTMEPK51\n"
     ]
    },
    {
     "name": "stderr",
     "output_type": "stream",
     "text": [
      "python(82106) MallocStackLogging: can't turn off malloc stack logging because it was not enabled.\n",
      "python(82142) MallocStackLogging: can't turn off malloc stack logging because it was not enabled.\n"
     ]
    },
    {
     "name": "stdout",
     "output_type": "stream",
     "text": [
      "{'item': 'Unsupported URL', 'url': 'https://www.amazon.com/shop/influencer-92fdbce2/list/11OV3ET67ZDZ4?ref_=cm_sw_r_cp_ud_aipsflist_aipsfinfluencer-92fdbce2_M5HE7MQ5ZMBXTTMEPK51'}\n",
      "\n",
      "4/5\n",
      "Scraping data from link: https://linktr.ee/kelssjourney\n"
     ]
    },
    {
     "name": "stderr",
     "output_type": "stream",
     "text": [
      "python(82153) MallocStackLogging: can't turn off malloc stack logging because it was not enabled.\n",
      "python(82189) MallocStackLogging: can't turn off malloc stack logging because it was not enabled.\n"
     ]
    },
    {
     "name": "stdout",
     "output_type": "stream",
     "text": [
      "{'item': 'Unsupported URL', 'url': 'https://linktr.ee/kelssjourney'}\n",
      "\n",
      "5/5\n",
      "Scraping data from link: https://www.amazon.com/shop/influencer-92fdbce2\n"
     ]
    },
    {
     "name": "stderr",
     "output_type": "stream",
     "text": [
      "python(82198) MallocStackLogging: can't turn off malloc stack logging because it was not enabled.\n",
      "python(82234) MallocStackLogging: can't turn off malloc stack logging because it was not enabled.\n"
     ]
    },
    {
     "name": "stdout",
     "output_type": "stream",
     "text": [
      "{'item': 'Unsupported URL', 'url': 'https://www.amazon.com/shop/influencer-92fdbce2'}\n",
      "\n",
      "1/15\n",
      "Scraping data from link: https://www.princesspolly.com.au/\n"
     ]
    },
    {
     "name": "stderr",
     "output_type": "stream",
     "text": [
      "python(82245) MallocStackLogging: can't turn off malloc stack logging because it was not enabled.\n",
      "python(82281) MallocStackLogging: can't turn off malloc stack logging because it was not enabled.\n"
     ]
    },
    {
     "name": "stdout",
     "output_type": "stream",
     "text": [
      "{'item': 'Unsupported URL', 'url': 'https://www.princesspolly.com.au/'}\n",
      "\n",
      "2/15\n",
      "Scraping data from link: https://www.princesspolly.com.au/products/hauser-bodysuit-chocolate\n"
     ]
    },
    {
     "name": "stderr",
     "output_type": "stream",
     "text": [
      "python(82291) MallocStackLogging: can't turn off malloc stack logging because it was not enabled.\n",
      "python(82327) MallocStackLogging: can't turn off malloc stack logging because it was not enabled.\n"
     ]
    },
    {
     "name": "stdout",
     "output_type": "stream",
     "text": [
      "{'item': 'Hauser bodysuit chocolate', 'nylon': '85', 'elastane': '15'}\n",
      "\n",
      "3/15\n",
      "Scraping data from link: https://www.princesspolly.com.au/products/nirvana-bomber-jacket-chocolate\n"
     ]
    },
    {
     "name": "stderr",
     "output_type": "stream",
     "text": [
      "python(82339) MallocStackLogging: can't turn off malloc stack logging because it was not enabled.\n",
      "python(82375) MallocStackLogging: can't turn off malloc stack logging because it was not enabled.\n"
     ]
    },
    {
     "name": "stdout",
     "output_type": "stream",
     "text": [
      "{'item': 'Nirvana bomber jacket chocolate', 'pu': '55', 'polyester': '45'}\n",
      "\n",
      "4/15\n",
      "Scraping data from link: https://www.princesspolly.com.au/products/langdon-strapless-mini-dress-beige\n"
     ]
    },
    {
     "name": "stderr",
     "output_type": "stream",
     "text": [
      "python(82385) MallocStackLogging: can't turn off malloc stack logging because it was not enabled.\n",
      "python(82421) MallocStackLogging: can't turn off malloc stack logging because it was not enabled.\n"
     ]
    },
    {
     "name": "stdout",
     "output_type": "stream",
     "text": [
      "{'item': 'Langdon strapless mini dress beige', 'polyester': '100'}\n",
      "\n",
      "5/15\n",
      "Scraping data from link: https://www.princesspolly.com.au/products/paigey-set-white\n"
     ]
    },
    {
     "name": "stderr",
     "output_type": "stream",
     "text": [
      "python(82436) MallocStackLogging: can't turn off malloc stack logging because it was not enabled.\n",
      "python(82472) MallocStackLogging: can't turn off malloc stack logging because it was not enabled.\n"
     ]
    },
    {
     "name": "stdout",
     "output_type": "stream",
     "text": [
      "{'item': 'Paigey set white', 'reclaimed polyester': '90', 'nylon': '10'}\n",
      "\n",
      "6/15\n",
      "Scraping data from link: https://www.princesspolly.com.au/products/wilsone-strapless-bustier-top-multi\n"
     ]
    },
    {
     "name": "stderr",
     "output_type": "stream",
     "text": [
      "python(82502) MallocStackLogging: can't turn off malloc stack logging because it was not enabled.\n",
      "python(82538) MallocStackLogging: can't turn off malloc stack logging because it was not enabled.\n"
     ]
    },
    {
     "name": "stdout",
     "output_type": "stream",
     "text": [
      "{'item': 'Wilsone strapless bustier top multi', 'polyester': '100'}\n",
      "\n",
      "7/15\n",
      "Scraping data from link: https://www.princesspolly.com.au/products/ginger-linen-blend-vest-chocolate\n"
     ]
    },
    {
     "name": "stderr",
     "output_type": "stream",
     "text": [
      "python(82564) MallocStackLogging: can't turn off malloc stack logging because it was not enabled.\n",
      "python(82600) MallocStackLogging: can't turn off malloc stack logging because it was not enabled.\n"
     ]
    },
    {
     "name": "stdout",
     "output_type": "stream",
     "text": [
      "{'item': 'Ginger linen blend vest chocolate', 'linen': '50'}\n",
      "\n",
      "8/15\n",
      "Scraping data from link: https://www.princesspolly.com.au/products/zenia-linen-blend-pants-chocolate\n"
     ]
    },
    {
     "name": "stderr",
     "output_type": "stream",
     "text": [
      "python(82617) MallocStackLogging: can't turn off malloc stack logging because it was not enabled.\n",
      "python(82653) MallocStackLogging: can't turn off malloc stack logging because it was not enabled.\n"
     ]
    },
    {
     "name": "stdout",
     "output_type": "stream",
     "text": [
      "{'item': 'Zenia linen blend pants chocolate', 'linen': '50'}\n",
      "\n",
      "9/15\n",
      "Scraping data from link: https://www.princesspolly.com.au/products/early-riser-sleep-shirt-pink-stripe\n"
     ]
    },
    {
     "name": "stderr",
     "output_type": "stream",
     "text": [
      "python(82685) MallocStackLogging: can't turn off malloc stack logging because it was not enabled.\n",
      "python(82722) MallocStackLogging: can't turn off malloc stack logging because it was not enabled.\n"
     ]
    },
    {
     "name": "stdout",
     "output_type": "stream",
     "text": [
      "{'item': 'Early riser sleep shirt pink stripe', 'reclaimed polyester': '100'}\n",
      "\n",
      "10/15\n",
      "Scraping data from link: https://www.princesspolly.com.au/products/early-riser-sleep-shorts-pink-stripe\n"
     ]
    },
    {
     "name": "stderr",
     "output_type": "stream",
     "text": [
      "python(82770) MallocStackLogging: can't turn off malloc stack logging because it was not enabled.\n",
      "python(82806) MallocStackLogging: can't turn off malloc stack logging because it was not enabled.\n"
     ]
    },
    {
     "name": "stdout",
     "output_type": "stream",
     "text": [
      "{'item': 'Early riser sleep shorts pink stripe', 'reclaimed polyester': '100'}\n",
      "\n",
      "11/15\n",
      "Scraping data from link: https://www.princesspolly.com.au/products/sina-off-the-shoulder-top-chocolate\n"
     ]
    },
    {
     "name": "stderr",
     "output_type": "stream",
     "text": [
      "python(82846) MallocStackLogging: can't turn off malloc stack logging because it was not enabled.\n",
      "python(82882) MallocStackLogging: can't turn off malloc stack logging because it was not enabled.\n"
     ]
    },
    {
     "name": "stdout",
     "output_type": "stream",
     "text": [
      "{'item': 'Sina off the shoulder top chocolate', 'reclaimedpolyester': '63', 'polyester': '25', 'nylon': '12'}\n",
      "\n",
      "12/15\n",
      "Scraping data from link: https://www.princesspolly.com.au/products/try-me-knit-pants-chocolate\n"
     ]
    },
    {
     "name": "stderr",
     "output_type": "stream",
     "text": [
      "python(82898) MallocStackLogging: can't turn off malloc stack logging because it was not enabled.\n",
      "python(82934) MallocStackLogging: can't turn off malloc stack logging because it was not enabled.\n"
     ]
    },
    {
     "name": "stdout",
     "output_type": "stream",
     "text": [
      "{'item': 'Try me knit pants chocolate', 'reclaimedpolyester': '63', 'polyester': '25', 'nylon': '12'}\n",
      "\n",
      "13/15\n",
      "Scraping data from link: https://www.princesspolly.com.au/products/cloud-top-white\n"
     ]
    },
    {
     "name": "stderr",
     "output_type": "stream",
     "text": [
      "python(82955) MallocStackLogging: can't turn off malloc stack logging because it was not enabled.\n",
      "python(82991) MallocStackLogging: can't turn off malloc stack logging because it was not enabled.\n"
     ]
    },
    {
     "name": "stdout",
     "output_type": "stream",
     "text": [
      "{'item': 'Cloud top white', 'viscose': '53', 'reclaimedpolyester': '47'}\n",
      "\n",
      "14/15\n",
      "Scraping data from link: https://www.princesspolly.com.au/products/ambition-activewear-mini-dress-latte\n"
     ]
    },
    {
     "name": "stderr",
     "output_type": "stream",
     "text": [
      "python(83011) MallocStackLogging: can't turn off malloc stack logging because it was not enabled.\n",
      "python(83047) MallocStackLogging: can't turn off malloc stack logging because it was not enabled.\n"
     ]
    },
    {
     "name": "stdout",
     "output_type": "stream",
     "text": [
      "{'item': 'Ambition activewear mini dress latte', 'reclaimed polyester': '80', 'spandex': '20'}\n",
      "\n",
      "15/15\n",
      "Scraping data from link: https://www.princesspolly.com.au/products/go-getter-activewear-jumpsuit-black-1\n"
     ]
    },
    {
     "name": "stderr",
     "output_type": "stream",
     "text": [
      "python(83060) MallocStackLogging: can't turn off malloc stack logging because it was not enabled.\n",
      "python(83097) MallocStackLogging: can't turn off malloc stack logging because it was not enabled.\n"
     ]
    },
    {
     "name": "stdout",
     "output_type": "stream",
     "text": [
      "{'item': 'Go getter activewear jumpsuit black', 'reclaimed polyester': '80', 'spandex': '20'}\n",
      "\n",
      "1/15\n",
      "Scraping data from link: https://www.princesspolly.com.au/\n"
     ]
    },
    {
     "name": "stderr",
     "output_type": "stream",
     "text": [
      "python(83111) MallocStackLogging: can't turn off malloc stack logging because it was not enabled.\n",
      "python(83147) MallocStackLogging: can't turn off malloc stack logging because it was not enabled.\n"
     ]
    },
    {
     "name": "stdout",
     "output_type": "stream",
     "text": [
      "{'item': 'Unsupported URL', 'url': 'https://www.princesspolly.com.au/'}\n",
      "\n",
      "2/15\n",
      "Scraping data from link: https://www.princesspolly.com.au/products/gisele-vest-oatmeal\n"
     ]
    },
    {
     "name": "stderr",
     "output_type": "stream",
     "text": [
      "python(83161) MallocStackLogging: can't turn off malloc stack logging because it was not enabled.\n",
      "python(83197) MallocStackLogging: can't turn off malloc stack logging because it was not enabled.\n"
     ]
    },
    {
     "name": "stdout",
     "output_type": "stream",
     "text": [
      "{'item': 'Gisele vest oatmeal', 'linen': '70', 'cotton': '30'}\n",
      "\n",
      "3/15\n",
      "Scraping data from link: https://www.princesspolly.com.au/products/la-quinta-pants-oatmeal\n"
     ]
    },
    {
     "name": "stderr",
     "output_type": "stream",
     "text": [
      "python(83210) MallocStackLogging: can't turn off malloc stack logging because it was not enabled.\n",
      "python(83246) MallocStackLogging: can't turn off malloc stack logging because it was not enabled.\n"
     ]
    },
    {
     "name": "stdout",
     "output_type": "stream",
     "text": [
      "{'item': 'La quinta pants oatmeal', 'linen': '70', 'viscose': '30'}\n",
      "\n",
      "4/15\n",
      "Scraping data from link: https://www.princesspolly.com.au/products/coomba-backless-bodysuit-white\n"
     ]
    },
    {
     "name": "stderr",
     "output_type": "stream",
     "text": [
      "python(83260) MallocStackLogging: can't turn off malloc stack logging because it was not enabled.\n",
      "python(83296) MallocStackLogging: can't turn off malloc stack logging because it was not enabled.\n"
     ]
    },
    {
     "name": "stdout",
     "output_type": "stream",
     "text": [
      "{'item': 'Coomba backless bodysuit white', 'reclaimed polyester': '87', 'elastane': '13'}\n",
      "\n",
      "5/15\n",
      "Scraping data from link: https://www.princesspolly.com.au/products/arlington-straight-leg-denim-jeans-light-wash-petite-1\n"
     ]
    },
    {
     "name": "stderr",
     "output_type": "stream",
     "text": [
      "python(83309) MallocStackLogging: can't turn off malloc stack logging because it was not enabled.\n",
      "python(83346) MallocStackLogging: can't turn off malloc stack logging because it was not enabled.\n"
     ]
    },
    {
     "name": "stdout",
     "output_type": "stream",
     "text": [
      "{'item': 'Arlington straight leg denim jeans light wash petite', 'cotton': '100'}\n",
      "\n",
      "6/15\n",
      "Scraping data from link: https://www.princesspolly.com.au/products/hibiscus-tank-top-white-multi\n"
     ]
    },
    {
     "name": "stderr",
     "output_type": "stream",
     "text": [
      "python(83359) MallocStackLogging: can't turn off malloc stack logging because it was not enabled.\n",
      "python(83395) MallocStackLogging: can't turn off malloc stack logging because it was not enabled.\n"
     ]
    },
    {
     "name": "stdout",
     "output_type": "stream",
     "text": [
      "{'item': 'Hibiscus tank top white / multi', 'polyester': '95', 'elastane': '5'}\n",
      "\n",
      "7/15\n",
      "Scraping data from link: https://www.princesspolly.com.au/products/dos-fitted-cami-yellow\n"
     ]
    },
    {
     "name": "stderr",
     "output_type": "stream",
     "text": [
      "python(83420) MallocStackLogging: can't turn off malloc stack logging because it was not enabled.\n",
      "python(83456) MallocStackLogging: can't turn off malloc stack logging because it was not enabled.\n"
     ]
    },
    {
     "name": "stdout",
     "output_type": "stream",
     "text": [
      "{'item': 'Dos fitted cami yellow', 'nylon': '88', 'elastane': '12'}\n",
      "\n",
      "8/15\n",
      "Scraping data from link: https://www.princesspolly.com.au/products/jardine-knit-set-black\n"
     ]
    },
    {
     "name": "stderr",
     "output_type": "stream",
     "text": [
      "python(83471) MallocStackLogging: can't turn off malloc stack logging because it was not enabled.\n",
      "python(83507) MallocStackLogging: can't turn off malloc stack logging because it was not enabled.\n"
     ]
    },
    {
     "name": "stdout",
     "output_type": "stream",
     "text": [
      "{'item': 'Jardine knit set black', 'acrylic': '75', 'nylon': '25'}\n",
      "\n",
      "9/15\n",
      "Scraping data from link: https://www.princesspolly.com.au/products/salda-top-bush-green\n"
     ]
    },
    {
     "name": "stderr",
     "output_type": "stream",
     "text": [
      "python(83538) MallocStackLogging: can't turn off malloc stack logging because it was not enabled.\n",
      "python(83574) MallocStackLogging: can't turn off malloc stack logging because it was not enabled.\n"
     ]
    },
    {
     "name": "stdout",
     "output_type": "stream",
     "text": [
      "{'item': 'Salda top bush green', 'cotton': '95', 'elastane': '5'}\n",
      "\n",
      "10/15\n",
      "Scraping data from link: https://www.princesspolly.com.au/products/eito-longline-sweat-shorts-grey\n"
     ]
    },
    {
     "name": "stderr",
     "output_type": "stream",
     "text": [
      "python(83591) MallocStackLogging: can't turn off malloc stack logging because it was not enabled.\n",
      "python(83628) MallocStackLogging: can't turn off malloc stack logging because it was not enabled.\n"
     ]
    },
    {
     "name": "stdout",
     "output_type": "stream",
     "text": [
      "{'item': 'Eito longline sweat shorts grey', 'cotton': '95', 'elastane': '5'}\n",
      "\n",
      "11/15\n",
      "Scraping data from link: https://www.princesspolly.com.au/products/arri-top-white\n"
     ]
    },
    {
     "name": "stderr",
     "output_type": "stream",
     "text": [
      "python(83650) MallocStackLogging: can't turn off malloc stack logging because it was not enabled.\n",
      "python(83688) MallocStackLogging: can't turn off malloc stack logging because it was not enabled.\n"
     ]
    },
    {
     "name": "stdout",
     "output_type": "stream",
     "text": [
      "{'item': 'Arri top white', 'reclaimed cotton': '60', 'reclaimed polyester': '40'}\n",
      "\n",
      "12/15\n",
      "Scraping data from link: https://www.princesspolly.com.au/products/beach-house-shorts-green-white-gingham\n"
     ]
    },
    {
     "name": "stderr",
     "output_type": "stream",
     "text": [
      "python(83728) MallocStackLogging: can't turn off malloc stack logging because it was not enabled.\n",
      "python(83765) MallocStackLogging: can't turn off malloc stack logging because it was not enabled.\n"
     ]
    },
    {
     "name": "stdout",
     "output_type": "stream",
     "text": [
      "{'item': 'Beach house shorts red / white gingham', 'cotton': '50', 'polyester': '50'}\n",
      "\n",
      "13/15\n",
      "Scraping data from link: https://www.princesspolly.com.au/products/reeves-bag-red?\n"
     ]
    },
    {
     "name": "stderr",
     "output_type": "stream",
     "text": [
      "python(83795) MallocStackLogging: can't turn off malloc stack logging because it was not enabled.\n",
      "python(83831) MallocStackLogging: can't turn off malloc stack logging because it was not enabled.\n"
     ]
    },
    {
     "name": "stdout",
     "output_type": "stream",
     "text": [
      "{'item': 'Reeves bag red', 'pu': '80', 'polyester': '20'}\n",
      "\n",
      "14/15\n",
      "Scraping data from link: https://www.princesspolly.com.au/products/belgrove-moto-jacket-snow-wash-denim\n"
     ]
    },
    {
     "name": "stderr",
     "output_type": "stream",
     "text": [
      "python(83869) MallocStackLogging: can't turn off malloc stack logging because it was not enabled.\n",
      "python(83906) MallocStackLogging: can't turn off malloc stack logging because it was not enabled.\n"
     ]
    },
    {
     "name": "stdout",
     "output_type": "stream",
     "text": [
      "{'item': 'Belgrove moto jacket snow wash denim', 'cotton': '100'}\n",
      "\n",
      "15/15\n",
      "Scraping data from link: https://www.princesspolly.com.au/products/belgrove-cargo-jeans-snow-wash-denim\n"
     ]
    },
    {
     "name": "stderr",
     "output_type": "stream",
     "text": [
      "python(83959) MallocStackLogging: can't turn off malloc stack logging because it was not enabled.\n",
      "python(83995) MallocStackLogging: can't turn off malloc stack logging because it was not enabled.\n"
     ]
    },
    {
     "name": "stdout",
     "output_type": "stream",
     "text": [
      "{'item': 'Belgrove cargo jeans snow wash denim', 'cotton': '100'}\n",
      "\n",
      "1/32\n",
      "Scraping data from link: https://us.princesspolly.com/products/jax-long-sleeve-top-pink?variant=39360698024020\n"
     ]
    },
    {
     "name": "stderr",
     "output_type": "stream",
     "text": [
      "python(84054) MallocStackLogging: can't turn off malloc stack logging because it was not enabled.\n",
      "python(84090) MallocStackLogging: can't turn off malloc stack logging because it was not enabled.\n"
     ]
    },
    {
     "name": "stdout",
     "output_type": "stream",
     "text": [
      "{'item': 'Jax long sleeve top pink', 'viscose': '5', 'pbt': '5'}\n",
      "\n",
      "2/32\n",
      "Scraping data from link: https://us.princesspolly.com/products/williamson-stripe-sweater-beige?variant=40020624474196\n"
     ]
    },
    {
     "name": "stderr",
     "output_type": "stream",
     "text": [
      "python(84109) MallocStackLogging: can't turn off malloc stack logging because it was not enabled.\n",
      "python(84145) MallocStackLogging: can't turn off malloc stack logging because it was not enabled.\n"
     ]
    },
    {
     "name": "stdout",
     "output_type": "stream",
     "text": [
      "{'item': 'Williamson stripe sweater beige', 'acrylic': '52', 'nylon': '28', 'polyester': '20'}\n",
      "\n",
      "3/32\n",
      "Scraping data from link: https://us.princesspolly.com/products/larissa-maxi-dress-white?variant=39928228937812\n"
     ]
    },
    {
     "name": "stderr",
     "output_type": "stream",
     "text": [
      "python(84163) MallocStackLogging: can't turn off malloc stack logging because it was not enabled.\n",
      "python(84199) MallocStackLogging: can't turn off malloc stack logging because it was not enabled.\n"
     ]
    },
    {
     "name": "stdout",
     "output_type": "stream",
     "text": [
      "{'item': 'Larissa maxi dress white', 'reclaimed polyester': '63', 'polyester': '25', 'nylon': '12'}\n",
      "\n",
      "4/32\n",
      "Scraping data from link: https://us.princesspolly.com/products/the-mona-heels-black?variant=31963343618132\n"
     ]
    },
    {
     "name": "stderr",
     "output_type": "stream",
     "text": [
      "python(84215) MallocStackLogging: can't turn off malloc stack logging because it was not enabled.\n",
      "python(84251) MallocStackLogging: can't turn off malloc stack logging because it was not enabled.\n"
     ]
    },
    {
     "name": "stdout",
     "output_type": "stream",
     "text": [
      "{'item': 'Unsupported URL', 'url': 'https://us.princesspolly.com/products/the-mona-heels-black?variant=31963343618132'}\n",
      "\n",
      "5/32\n",
      "Scraping data from link: https://us.princesspolly.com/products/reeves-bag-black?variant=39818831822932\n"
     ]
    },
    {
     "name": "stderr",
     "output_type": "stream",
     "text": [
      "python(84268) MallocStackLogging: can't turn off malloc stack logging because it was not enabled.\n",
      "python(84304) MallocStackLogging: can't turn off malloc stack logging because it was not enabled.\n"
     ]
    },
    {
     "name": "stdout",
     "output_type": "stream",
     "text": [
      "{'item': 'Reeves bag black', 'pu': '80', 'polyester': '20'}\n",
      "\n",
      "6/32\n",
      "Scraping data from link: https://us.princesspolly.com/products/emily-maxi-dress-pink-floral?variant=39401749938260\n"
     ]
    },
    {
     "name": "stderr",
     "output_type": "stream",
     "text": [
      "python(84319) MallocStackLogging: can't turn off malloc stack logging because it was not enabled.\n",
      "python(84355) MallocStackLogging: can't turn off malloc stack logging because it was not enabled.\n"
     ]
    },
    {
     "name": "stdout",
     "output_type": "stream",
     "text": [
      "{'item': 'Emily maxi dress pink floral', 'polyester': '100'}\n",
      "\n",
      "7/32\n",
      "Scraping data from link: https://bit.ly/47qWYf8\n"
     ]
    },
    {
     "name": "stderr",
     "output_type": "stream",
     "text": [
      "python(84368) MallocStackLogging: can't turn off malloc stack logging because it was not enabled.\n",
      "python(84404) MallocStackLogging: can't turn off malloc stack logging because it was not enabled.\n"
     ]
    },
    {
     "name": "stdout",
     "output_type": "stream",
     "text": [
      "{'item': 'Unsupported URL', 'url': 'https://bit.ly/47qWYf8'}\n",
      "\n",
      "8/32\n",
      "Scraping data from link: https://us.princesspolly.com/products/snyder-sheer-maxi-dress-cream?variant=39840827179092\n"
     ]
    },
    {
     "name": "stderr",
     "output_type": "stream",
     "text": [
      "python(84418) MallocStackLogging: can't turn off malloc stack logging because it was not enabled.\n",
      "python(84454) MallocStackLogging: can't turn off malloc stack logging because it was not enabled.\n"
     ]
    },
    {
     "name": "stdout",
     "output_type": "stream",
     "text": [
      "{'item': 'Snyder sheer maxi dress cream', 'acrylic': '94', 'elastane': '4'}\n",
      "\n",
      "9/32\n",
      "Scraping data from link: https://bit.ly/3sT4gIA\n"
     ]
    },
    {
     "name": "stderr",
     "output_type": "stream",
     "text": [
      "python(84467) MallocStackLogging: can't turn off malloc stack logging because it was not enabled.\n",
      "python(84503) MallocStackLogging: can't turn off malloc stack logging because it was not enabled.\n"
     ]
    },
    {
     "name": "stdout",
     "output_type": "stream",
     "text": [
      "{'item': 'Unsupported URL', 'url': 'https://bit.ly/3sT4gIA'}\n",
      "\n",
      "10/32\n",
      "Scraping data from link: https://us.princesspolly.com/products/silvanna-top-white?variant=39625823322196\n"
     ]
    },
    {
     "name": "stderr",
     "output_type": "stream",
     "text": [
      "python(84522) MallocStackLogging: can't turn off malloc stack logging because it was not enabled.\n",
      "python(84558) MallocStackLogging: can't turn off malloc stack logging because it was not enabled.\n"
     ]
    },
    {
     "name": "stdout",
     "output_type": "stream",
     "text": [
      "{'item': 'Silvanna top white', 'cotton': '70', 'linen': '30'}\n",
      "\n",
      "11/32\n",
      "Scraping data from link: https://youtu.be/dv7NhToH19A\n"
     ]
    },
    {
     "name": "stderr",
     "output_type": "stream",
     "text": [
      "python(84587) MallocStackLogging: can't turn off malloc stack logging because it was not enabled.\n",
      "python(84623) MallocStackLogging: can't turn off malloc stack logging because it was not enabled.\n"
     ]
    },
    {
     "name": "stdout",
     "output_type": "stream",
     "text": [
      "{'item': 'Unsupported URL', 'url': 'https://youtu.be/dv7NhToH19A'}\n",
      "\n",
      "12/32\n",
      "Scraping data from link: https://bit.ly/3QMOLf8\n"
     ]
    },
    {
     "name": "stderr",
     "output_type": "stream",
     "text": [
      "python(84642) MallocStackLogging: can't turn off malloc stack logging because it was not enabled.\n",
      "python(84678) MallocStackLogging: can't turn off malloc stack logging because it was not enabled.\n"
     ]
    },
    {
     "name": "stdout",
     "output_type": "stream",
     "text": [
      "{'item': 'Unsupported URL', 'url': 'https://bit.ly/3QMOLf8'}\n",
      "\n",
      "13/32\n",
      "Scraping data from link: https://bit.ly/4ceZqrJ\n"
     ]
    },
    {
     "name": "stderr",
     "output_type": "stream",
     "text": [
      "python(84692) MallocStackLogging: can't turn off malloc stack logging because it was not enabled.\n",
      "python(84728) MallocStackLogging: can't turn off malloc stack logging because it was not enabled.\n"
     ]
    },
    {
     "name": "stdout",
     "output_type": "stream",
     "text": [
      "{'item': 'Unsupported URL', 'url': 'https://bit.ly/4ceZqrJ'}\n",
      "\n",
      "14/32\n",
      "Scraping data from link: https://bit.ly/3Mgxd8y\n"
     ]
    },
    {
     "name": "stderr",
     "output_type": "stream",
     "text": [
      "python(84738) MallocStackLogging: can't turn off malloc stack logging because it was not enabled.\n",
      "python(84774) MallocStackLogging: can't turn off malloc stack logging because it was not enabled.\n"
     ]
    },
    {
     "name": "stdout",
     "output_type": "stream",
     "text": [
      "{'item': 'Unsupported URL', 'url': 'https://bit.ly/3Mgxd8y'}\n",
      "\n",
      "15/32\n",
      "Scraping data from link: https://bit.ly/3S3ee3l\n"
     ]
    },
    {
     "name": "stderr",
     "output_type": "stream",
     "text": [
      "python(84784) MallocStackLogging: can't turn off malloc stack logging because it was not enabled.\n",
      "python(84820) MallocStackLogging: can't turn off malloc stack logging because it was not enabled.\n"
     ]
    },
    {
     "name": "stdout",
     "output_type": "stream",
     "text": [
      "{'item': 'Unsupported URL', 'url': 'https://bit.ly/3S3ee3l'}\n",
      "\n",
      "16/32\n",
      "Scraping data from link: https://bit.ly/41MkuRq\n"
     ]
    },
    {
     "name": "stderr",
     "output_type": "stream",
     "text": [
      "python(84843) MallocStackLogging: can't turn off malloc stack logging because it was not enabled.\n",
      "python(84879) MallocStackLogging: can't turn off malloc stack logging because it was not enabled.\n"
     ]
    },
    {
     "name": "stdout",
     "output_type": "stream",
     "text": [
      "{'item': 'Unsupported URL', 'url': 'https://bit.ly/41MkuRq'}\n",
      "\n",
      "17/32\n",
      "Scraping data from link: https://bit.ly/486PkWx\n"
     ]
    },
    {
     "name": "stderr",
     "output_type": "stream",
     "text": [
      "python(84957) MallocStackLogging: can't turn off malloc stack logging because it was not enabled.\n",
      "python(84995) MallocStackLogging: can't turn off malloc stack logging because it was not enabled.\n"
     ]
    },
    {
     "name": "stdout",
     "output_type": "stream",
     "text": [
      "{'item': 'Unsupported URL', 'url': 'https://bit.ly/486PkWx'}\n",
      "\n",
      "18/32\n",
      "Scraping data from link: https://bit.ly/3QJmrdB\n"
     ]
    },
    {
     "name": "stderr",
     "output_type": "stream",
     "text": [
      "python(85049) MallocStackLogging: can't turn off malloc stack logging because it was not enabled.\n",
      "python(85086) MallocStackLogging: can't turn off malloc stack logging because it was not enabled.\n"
     ]
    },
    {
     "name": "stdout",
     "output_type": "stream",
     "text": [
      "{'item': 'Unsupported URL', 'url': 'https://bit.ly/3QJmrdB'}\n",
      "\n",
      "19/32\n",
      "Scraping data from link: https://www.shopltk.com/explore/brittanyanncourtney\n"
     ]
    },
    {
     "name": "stderr",
     "output_type": "stream",
     "text": [
      "python(85102) MallocStackLogging: can't turn off malloc stack logging because it was not enabled.\n",
      "python(85138) MallocStackLogging: can't turn off malloc stack logging because it was not enabled.\n"
     ]
    },
    {
     "name": "stdout",
     "output_type": "stream",
     "text": [
      "{'item': 'Unsupported URL', 'url': 'https://www.shopltk.com/explore/brittanyanncourtney'}\n",
      "\n",
      "20/32\n",
      "Scraping data from link: https://fantastic-voice-51386.myflodesk.com/hmg4j16czd\n"
     ]
    },
    {
     "name": "stderr",
     "output_type": "stream",
     "text": [
      "python(85152) MallocStackLogging: can't turn off malloc stack logging because it was not enabled.\n",
      "python(85189) MallocStackLogging: can't turn off malloc stack logging because it was not enabled.\n"
     ]
    },
    {
     "name": "stdout",
     "output_type": "stream",
     "text": [
      "{'item': 'Unsupported URL', 'url': 'https://fantastic-voice-51386.myflodesk.com/hmg4j16czd'}\n",
      "\n",
      "21/32\n",
      "Scraping data from link: https://www.brittanyanncourtney.com\n"
     ]
    },
    {
     "name": "stderr",
     "output_type": "stream",
     "text": [
      "python(85199) MallocStackLogging: can't turn off malloc stack logging because it was not enabled.\n",
      "python(85235) MallocStackLogging: can't turn off malloc stack logging because it was not enabled.\n"
     ]
    },
    {
     "name": "stdout",
     "output_type": "stream",
     "text": [
      "{'item': 'Unsupported URL', 'url': 'https://www.brittanyanncourtney.com'}\n",
      "\n",
      "22/32\n",
      "Scraping data from link: https://www.amazon.com/shop/brittanyanncourtney?ref=ac_inf_tb_vh\n"
     ]
    },
    {
     "name": "stderr",
     "output_type": "stream",
     "text": [
      "python(85245) MallocStackLogging: can't turn off malloc stack logging because it was not enabled.\n",
      "python(85281) MallocStackLogging: can't turn off malloc stack logging because it was not enabled.\n"
     ]
    },
    {
     "name": "stdout",
     "output_type": "stream",
     "text": [
      "{'item': 'Unsupported URL', 'url': 'https://www.amazon.com/shop/brittanyanncourtney?ref=ac_inf_tb_vh'}\n",
      "\n",
      "23/32\n",
      "Scraping data from link: https://bit.ly/3SywF1y\n"
     ]
    },
    {
     "name": "stderr",
     "output_type": "stream",
     "text": [
      "python(85292) MallocStackLogging: can't turn off malloc stack logging because it was not enabled.\n",
      "python(85328) MallocStackLogging: can't turn off malloc stack logging because it was not enabled.\n"
     ]
    },
    {
     "name": "stdout",
     "output_type": "stream",
     "text": [
      "{'item': 'Unsupported URL', 'url': 'https://bit.ly/3SywF1y'}\n",
      "\n",
      "24/32\n",
      "Scraping data from link: https://rvlv.me/XtRwzC\n"
     ]
    },
    {
     "name": "stderr",
     "output_type": "stream",
     "text": [
      "python(85344) MallocStackLogging: can't turn off malloc stack logging because it was not enabled.\n",
      "python(85380) MallocStackLogging: can't turn off malloc stack logging because it was not enabled.\n"
     ]
    },
    {
     "name": "stdout",
     "output_type": "stream",
     "text": [
      "{'item': 'Unsupported URL', 'url': 'https://rvlv.me/XtRwzC'}\n",
      "\n",
      "25/32\n",
      "Scraping data from link: https://rstyle.me/+cDGlq8Idj9scBs2X8FMuDw\n"
     ]
    },
    {
     "name": "stderr",
     "output_type": "stream",
     "text": [
      "python(85392) MallocStackLogging: can't turn off malloc stack logging because it was not enabled.\n",
      "python(85428) MallocStackLogging: can't turn off malloc stack logging because it was not enabled.\n"
     ]
    },
    {
     "name": "stdout",
     "output_type": "stream",
     "text": [
      "{'item': 'Unsupported URL', 'url': 'https://rstyle.me/+cDGlq8Idj9scBs2X8FMuDw'}\n",
      "\n",
      "26/32\n",
      "Scraping data from link: https://glnk.io/wnwl7/brittany-ann\n"
     ]
    },
    {
     "name": "stderr",
     "output_type": "stream",
     "text": [
      "python(85441) MallocStackLogging: can't turn off malloc stack logging because it was not enabled.\n",
      "python(85477) MallocStackLogging: can't turn off malloc stack logging because it was not enabled.\n"
     ]
    },
    {
     "name": "stdout",
     "output_type": "stream",
     "text": [
      "{'item': 'Unsupported URL', 'url': 'https://glnk.io/wnwl7/brittany-ann'}\n",
      "\n",
      "27/32\n",
      "Scraping data from link: https://bit.ly/4bD5JEP\n"
     ]
    },
    {
     "name": "stderr",
     "output_type": "stream",
     "text": [
      "python(85490) MallocStackLogging: can't turn off malloc stack logging because it was not enabled.\n",
      "python(85527) MallocStackLogging: can't turn off malloc stack logging because it was not enabled.\n"
     ]
    },
    {
     "name": "stdout",
     "output_type": "stream",
     "text": [
      "{'item': 'Unsupported URL', 'url': 'https://bit.ly/4bD5JEP'}\n",
      "\n",
      "28/32\n",
      "Scraping data from link: https://bit.ly/3MdcSRj\n"
     ]
    },
    {
     "name": "stderr",
     "output_type": "stream",
     "text": [
      "python(85540) MallocStackLogging: can't turn off malloc stack logging because it was not enabled.\n",
      "python(85576) MallocStackLogging: can't turn off malloc stack logging because it was not enabled.\n"
     ]
    },
    {
     "name": "stdout",
     "output_type": "stream",
     "text": [
      "{'item': 'Unsupported URL', 'url': 'https://bit.ly/3MdcSRj'}\n",
      "\n",
      "29/32\n",
      "Scraping data from link: https://www.t3micro.com?lc_ambassador_id=Y3VzdG9tZXI6MzU5NjMyOA\n"
     ]
    },
    {
     "name": "stderr",
     "output_type": "stream",
     "text": [
      "python(85586) MallocStackLogging: can't turn off malloc stack logging because it was not enabled.\n",
      "python(85622) MallocStackLogging: can't turn off malloc stack logging because it was not enabled.\n"
     ]
    },
    {
     "name": "stdout",
     "output_type": "stream",
     "text": [
      "{'item': 'Unsupported URL', 'url': 'https://www.t3micro.com?lc_ambassador_id=Y3VzdG9tZXI6MzU5NjMyOA'}\n",
      "\n",
      "30/32\n",
      "Scraping data from link: https://ap.carawayhome.com/brittanyanncourtneyhc23\n"
     ]
    },
    {
     "name": "stderr",
     "output_type": "stream",
     "text": [
      "python(85635) MallocStackLogging: can't turn off malloc stack logging because it was not enabled.\n",
      "python(85672) MallocStackLogging: can't turn off malloc stack logging because it was not enabled.\n"
     ]
    },
    {
     "name": "stdout",
     "output_type": "stream",
     "text": [
      "{'item': 'Unsupported URL', 'url': 'https://ap.carawayhome.com/brittanyanncourtneyhc23'}\n",
      "\n",
      "31/32\n",
      "Scraping data from link: https://get.aspr.app/SHHGp\n"
     ]
    },
    {
     "name": "stderr",
     "output_type": "stream",
     "text": [
      "python(85686) MallocStackLogging: can't turn off malloc stack logging because it was not enabled.\n",
      "python(85722) MallocStackLogging: can't turn off malloc stack logging because it was not enabled.\n"
     ]
    },
    {
     "name": "stdout",
     "output_type": "stream",
     "text": [
      "{'item': 'Unsupported URL', 'url': 'https://get.aspr.app/SHHGp'}\n",
      "\n",
      "32/32\n",
      "Scraping data from link: https://bit.ly/49mEZXE\n"
     ]
    },
    {
     "name": "stderr",
     "output_type": "stream",
     "text": [
      "python(85734) MallocStackLogging: can't turn off malloc stack logging because it was not enabled.\n",
      "python(85770) MallocStackLogging: can't turn off malloc stack logging because it was not enabled.\n"
     ]
    },
    {
     "name": "stdout",
     "output_type": "stream",
     "text": [
      "{'item': 'Unsupported URL', 'url': 'https://bit.ly/49mEZXE'}\n",
      "\n",
      "1/13\n",
      "Scraping data from link: https://pin.it/2m5NLpn\n"
     ]
    },
    {
     "name": "stderr",
     "output_type": "stream",
     "text": [
      "python(85781) MallocStackLogging: can't turn off malloc stack logging because it was not enabled.\n",
      "python(85817) MallocStackLogging: can't turn off malloc stack logging because it was not enabled.\n"
     ]
    },
    {
     "name": "stdout",
     "output_type": "stream",
     "text": [
      "{'item': 'Unsupported URL', 'url': 'https://pin.it/2m5NLpn'}\n",
      "\n",
      "2/13\n",
      "Scraping data from link: https://www.princesspolly.com.au/products/anni-stripe-shirt-pinstripe-white?variant=39881411199048.\n"
     ]
    },
    {
     "name": "stderr",
     "output_type": "stream",
     "text": [
      "python(85831) MallocStackLogging: can't turn off malloc stack logging because it was not enabled.\n",
      "python(85867) MallocStackLogging: can't turn off malloc stack logging because it was not enabled.\n"
     ]
    },
    {
     "name": "stdout",
     "output_type": "stream",
     "text": [
      "{'item': 'Anni pinstripe shirt white', 'polyester': '63', 'rayon': '33', 'elastane': '4'}\n",
      "\n",
      "3/13\n",
      "Scraping data from link: https://www.princesspolly.com.au/products/anni-stripe-shirt-pinstripe-white?variant=39881411199048\n"
     ]
    },
    {
     "name": "stderr",
     "output_type": "stream",
     "text": [
      "python(85884) MallocStackLogging: can't turn off malloc stack logging because it was not enabled.\n",
      "python(85920) MallocStackLogging: can't turn off malloc stack logging because it was not enabled.\n"
     ]
    },
    {
     "name": "stdout",
     "output_type": "stream",
     "text": [
      "{'item': 'Anni pinstripe shirt white', 'polyester': '63', 'rayon': '33', 'elastane': '4'}\n",
      "\n",
      "4/13\n",
      "Scraping data from link: https://www.princesspolly.com.au/products/grishea-low-rise-denim-skirt-white?variant=39704646254664\n"
     ]
    },
    {
     "name": "stderr",
     "output_type": "stream",
     "text": [
      "python(85933) MallocStackLogging: can't turn off malloc stack logging because it was not enabled.\n",
      "python(85969) MallocStackLogging: can't turn off malloc stack logging because it was not enabled.\n"
     ]
    },
    {
     "name": "stdout",
     "output_type": "stream",
     "text": [
      "{'item': 'Grishea low rise denim skirt white', 'cotton': '98', 'elastane': '2'}\n",
      "\n",
      "5/13\n",
      "Scraping data from link: https://www.princesspolly.com.au/products/bold-move-mini-skirt-black-petite?variant=39947057201224\n"
     ]
    },
    {
     "name": "stderr",
     "output_type": "stream",
     "text": [
      "python(85986) MallocStackLogging: can't turn off malloc stack logging because it was not enabled.\n",
      "python(86022) MallocStackLogging: can't turn off malloc stack logging because it was not enabled.\n"
     ]
    },
    {
     "name": "stdout",
     "output_type": "stream",
     "text": [
      "{'item': 'Bold move mini skirt black petite', 'reclaimed nylon': '88', 'elastane lining -': '12', 'reclaimed polyester': '90', 'elastane': '10'}\n",
      "\n",
      "6/13\n",
      "Scraping data from link: https://www.princesspolly.com.au/products/mya-set-black?variant=39657375006792\n"
     ]
    },
    {
     "name": "stderr",
     "output_type": "stream",
     "text": [
      "python(86035) MallocStackLogging: can't turn off malloc stack logging because it was not enabled.\n",
      "python(86071) MallocStackLogging: can't turn off malloc stack logging because it was not enabled.\n"
     ]
    },
    {
     "name": "stdout",
     "output_type": "stream",
     "text": [
      "{'item': 'Mya set black', 'rayon': '68', 'polyester': '32'}\n",
      "\n",
      "7/13\n",
      "Scraping data from link: https://www.princesspolly.com.au/products/bareena-mini-dress-multi?variant=39524409802824\n"
     ]
    },
    {
     "name": "stderr",
     "output_type": "stream",
     "text": [
      "python(86084) MallocStackLogging: can't turn off malloc stack logging because it was not enabled.\n",
      "python(86120) MallocStackLogging: can't turn off malloc stack logging because it was not enabled.\n"
     ]
    },
    {
     "name": "stdout",
     "output_type": "stream",
     "text": [
      "{'item': 'Bareena mini dress multi', 'reclaimed polyester': '100'}\n",
      "\n",
      "8/13\n",
      "Scraping data from link: https://www.princesspolly.com.au/products/darvit-lace-mini-dress-black?variant=39950595752008\n"
     ]
    },
    {
     "name": "stderr",
     "output_type": "stream",
     "text": [
      "python(86134) MallocStackLogging: can't turn off malloc stack logging because it was not enabled.\n",
      "python(86170) MallocStackLogging: can't turn off malloc stack logging because it was not enabled.\n"
     ]
    },
    {
     "name": "stdout",
     "output_type": "stream",
     "text": [
      "{'item': 'Darvit lace mini dress black', 'nylon': '90', 'elastane': '10'}\n",
      "\n",
      "9/13\n",
      "Scraping data from link: https://www.princesspolly.com.au/products/devore-cami-burgundy?variant=39956045594696\n"
     ]
    },
    {
     "name": "stderr",
     "output_type": "stream",
     "text": [
      "python(86183) MallocStackLogging: can't turn off malloc stack logging because it was not enabled.\n",
      "python(86219) MallocStackLogging: can't turn off malloc stack logging because it was not enabled.\n"
     ]
    },
    {
     "name": "stdout",
     "output_type": "stream",
     "text": [
      "{'item': 'Devore cami burgundy', 'nylon': '50', 'rayon': '50'}\n",
      "\n",
      "10/13\n",
      "Scraping data from link: https://www.princesspolly.com.au/products/devore-midi-skirt-burgundy?variant=39956473806920\n"
     ]
    },
    {
     "name": "stderr",
     "output_type": "stream",
     "text": [
      "python(86234) MallocStackLogging: can't turn off malloc stack logging because it was not enabled.\n",
      "python(86270) MallocStackLogging: can't turn off malloc stack logging because it was not enabled.\n"
     ]
    },
    {
     "name": "stdout",
     "output_type": "stream",
     "text": [
      "{'item': 'Devore midi skirt burgundy', 'nylon': '50', 'rayon': '50'}\n",
      "\n",
      "11/13\n",
      "Scraping data from link: https://www.princesspolly.com.au/products/caputo-contrast-tank-black?variant=39960613519432\n"
     ]
    },
    {
     "name": "stderr",
     "output_type": "stream",
     "text": [
      "python(86283) MallocStackLogging: can't turn off malloc stack logging because it was not enabled.\n",
      "python(86319) MallocStackLogging: can't turn off malloc stack logging because it was not enabled.\n"
     ]
    },
    {
     "name": "stdout",
     "output_type": "stream",
     "text": [
      "{'item': 'Caputo contrast tank black', 'polyester': '93', 'elastane': '7'}\n",
      "\n",
      "12/13\n",
      "Scraping data from link: https://bit.ly/41unu3q\n"
     ]
    },
    {
     "name": "stderr",
     "output_type": "stream",
     "text": [
      "python(86333) MallocStackLogging: can't turn off malloc stack logging because it was not enabled.\n",
      "python(86369) MallocStackLogging: can't turn off malloc stack logging because it was not enabled.\n"
     ]
    },
    {
     "name": "stdout",
     "output_type": "stream",
     "text": [
      "{'item': 'Unsupported URL', 'url': 'https://bit.ly/41unu3q'}\n",
      "\n",
      "13/13\n",
      "Scraping data from link: https://goo.gl/GJy2ST\n"
     ]
    },
    {
     "name": "stderr",
     "output_type": "stream",
     "text": [
      "python(86387) MallocStackLogging: can't turn off malloc stack logging because it was not enabled.\n",
      "python(86423) MallocStackLogging: can't turn off malloc stack logging because it was not enabled.\n"
     ]
    },
    {
     "name": "stdout",
     "output_type": "stream",
     "text": [
      "{'item': 'Unsupported URL', 'url': 'https://goo.gl/GJy2ST'}\n",
      "\n",
      "1/5\n",
      "Scraping data from link: https://us.princesspolly.com/products/goldsmith-pu-bomber-jacket-brown\n"
     ]
    },
    {
     "name": "stderr",
     "output_type": "stream",
     "text": [
      "python(86464) MallocStackLogging: can't turn off malloc stack logging because it was not enabled.\n",
      "python(86500) MallocStackLogging: can't turn off malloc stack logging because it was not enabled.\n"
     ]
    },
    {
     "name": "stdout",
     "output_type": "stream",
     "text": [
      "{'item': 'Goldsmith faux leather bomber jacket brown', 'rayon': '55', 'polyester': '45'}\n",
      "\n",
      "2/5\n",
      "Scraping data from link: https://us.princesspolly.com/products/oswin-turtleneck-sweater-oatmeal\n"
     ]
    },
    {
     "name": "stderr",
     "output_type": "stream",
     "text": [
      "python(86515) MallocStackLogging: can't turn off malloc stack logging because it was not enabled.\n",
      "python(86551) MallocStackLogging: can't turn off malloc stack logging because it was not enabled.\n"
     ]
    },
    {
     "name": "stdout",
     "output_type": "stream",
     "text": [
      "{'item': 'Oswin turtleneck sweater oatmeal', 'reclaimed polyester': '97', 'elastane': '3'}\n",
      "\n",
      "3/5\n",
      "Scraping data from link: https://us.princesspolly.com/products/back-2k-mini-skirt-taupe\n"
     ]
    },
    {
     "name": "stderr",
     "output_type": "stream",
     "text": [
      "python(86565) MallocStackLogging: can't turn off malloc stack logging because it was not enabled.\n",
      "python(86601) MallocStackLogging: can't turn off malloc stack logging because it was not enabled.\n"
     ]
    },
    {
     "name": "stdout",
     "output_type": "stream",
     "text": [
      "{'item': 'Back 2k mini skirt taupe', 'polyester': '98', 'cotton': '2'}\n",
      "\n",
      "4/5\n",
      "Scraping data from link: https://us.princesspolly.com/products/barbara-stockings-black\n"
     ]
    },
    {
     "name": "stderr",
     "output_type": "stream",
     "text": [
      "python(86617) MallocStackLogging: can't turn off malloc stack logging because it was not enabled.\n",
      "python(86653) MallocStackLogging: can't turn off malloc stack logging because it was not enabled.\n"
     ]
    },
    {
     "name": "stdout",
     "output_type": "stream",
     "text": [
      "{'item': 'Barbara stockings black', 'nylon': '100'}\n",
      "\n",
      "5/5\n",
      "Scraping data from link: https://us.princesspolly.com/products/douglas-boots\n"
     ]
    },
    {
     "name": "stderr",
     "output_type": "stream",
     "text": [
      "python(86668) MallocStackLogging: can't turn off malloc stack logging because it was not enabled.\n",
      "python(86704) MallocStackLogging: can't turn off malloc stack logging because it was not enabled.\n"
     ]
    },
    {
     "name": "stdout",
     "output_type": "stream",
     "text": [
      "{'item': 'Unsupported URL', 'url': 'https://us.princesspolly.com/products/douglas-boots'}\n",
      "\n",
      "1/9\n",
      "Scraping data from link: http://us.princesspolly.com/\n"
     ]
    },
    {
     "name": "stderr",
     "output_type": "stream",
     "text": [
      "python(86717) MallocStackLogging: can't turn off malloc stack logging because it was not enabled.\n",
      "python(86753) MallocStackLogging: can't turn off malloc stack logging because it was not enabled.\n"
     ]
    },
    {
     "name": "stdout",
     "output_type": "stream",
     "text": [
      "{'item': 'Unsupported URL', 'url': 'http://us.princesspolly.com/'}\n",
      "\n",
      "2/9\n",
      "Scraping data from link: https://us.princesspolly.com/products/anni-pinstripe-shirt-black\n"
     ]
    },
    {
     "name": "stderr",
     "output_type": "stream",
     "text": [
      "python(86802) MallocStackLogging: can't turn off malloc stack logging because it was not enabled.\n",
      "python(86843) MallocStackLogging: can't turn off malloc stack logging because it was not enabled.\n"
     ]
    },
    {
     "name": "stdout",
     "output_type": "stream",
     "text": [
      "{'item': 'Anni pinstripe shirt black', 'cotton': '100'}\n",
      "\n",
      "3/9\n",
      "Scraping data from link: https://us.princesspolly.com/products/ogilvie-pants-white?variant=39912919072852\n"
     ]
    },
    {
     "name": "stderr",
     "output_type": "stream",
     "text": [
      "python(86910) MallocStackLogging: can't turn off malloc stack logging because it was not enabled.\n",
      "python(86947) MallocStackLogging: can't turn off malloc stack logging because it was not enabled.\n"
     ]
    },
    {
     "name": "stdout",
     "output_type": "stream",
     "text": [
      "{'item': 'Ogilvie linen blend pants white', 'cotton': '70', 'linen': '30'}\n",
      "\n",
      "4/9\n",
      "Scraping data from link: https://us.princesspolly.com/products/allure-90s-mini-skirt-charcoal\n"
     ]
    },
    {
     "name": "stderr",
     "output_type": "stream",
     "text": [
      "python(87059) MallocStackLogging: can't turn off malloc stack logging because it was not enabled.\n",
      "python(87095) MallocStackLogging: can't turn off malloc stack logging because it was not enabled.\n"
     ]
    },
    {
     "name": "stdout",
     "output_type": "stream",
     "text": [
      "{'item': \"Allure 90's mini skort charcoal\", 'cotton': '100'}\n",
      "\n",
      "5/9\n",
      "Scraping data from link: https://us.princesspolly.com/products/parisa-long-sleeve-mini-dress-black?variant=**********0644\n"
     ]
    },
    {
     "name": "stderr",
     "output_type": "stream",
     "text": [
      "python(87125) MallocStackLogging: can't turn off malloc stack logging because it was not enabled.\n",
      "python(87161) MallocStackLogging: can't turn off malloc stack logging because it was not enabled.\n"
     ]
    },
    {
     "name": "stdout",
     "output_type": "stream",
     "text": [
      "{'item': 'Parisa long sleeve mini dress black', 'viscose': '89', 'nylon': '11'}\n",
      "\n",
      "6/9\n",
      "Scraping data from link: https://us.princesspolly.com/products/lunya-top-white?variant=39977036054612\n"
     ]
    },
    {
     "name": "stderr",
     "output_type": "stream",
     "text": [
      "python(87180) MallocStackLogging: can't turn off malloc stack logging because it was not enabled.\n",
      "python(87216) MallocStackLogging: can't turn off malloc stack logging because it was not enabled.\n"
     ]
    },
    {
     "name": "stdout",
     "output_type": "stream",
     "text": [
      "{'item': 'Lunya top white', 'reclaimed cotton': '100'}\n",
      "\n",
      "7/9\n",
      "Scraping data from link: https://us.princesspolly.com/products/phylis-off-the-shoulder-maxi-dress-slate?variant=39852357943380\n"
     ]
    },
    {
     "name": "stderr",
     "output_type": "stream",
     "text": [
      "python(87230) MallocStackLogging: can't turn off malloc stack logging because it was not enabled.\n",
      "python(87266) MallocStackLogging: can't turn off malloc stack logging because it was not enabled.\n"
     ]
    },
    {
     "name": "stdout",
     "output_type": "stream",
     "text": [
      "{'item': 'Phylis off the shoulder maxi dress slate', 'viscose': '48', 'polyester': '28', 'elastane': '24'}\n",
      "\n",
      "8/9\n",
      "Scraping data from link: https://youtu.be/POFLlFRARQs?si=j1uc8Gk2QbcrKJvm\n"
     ]
    },
    {
     "name": "stderr",
     "output_type": "stream",
     "text": [
      "python(87282) MallocStackLogging: can't turn off malloc stack logging because it was not enabled.\n",
      "python(87318) MallocStackLogging: can't turn off malloc stack logging because it was not enabled.\n"
     ]
    },
    {
     "name": "stdout",
     "output_type": "stream",
     "text": [
      "{'item': 'Unsupported URL', 'url': 'https://youtu.be/POFLlFRARQs?si=j1uc8Gk2QbcrKJvm'}\n",
      "\n",
      "9/9\n",
      "Scraping data from link: https://youtu.be/0_QMxyq9EMk?si=7OQmBiN65IWdfPRK\n"
     ]
    },
    {
     "name": "stderr",
     "output_type": "stream",
     "text": [
      "python(87343) MallocStackLogging: can't turn off malloc stack logging because it was not enabled.\n",
      "python(87379) MallocStackLogging: can't turn off malloc stack logging because it was not enabled.\n"
     ]
    },
    {
     "name": "stdout",
     "output_type": "stream",
     "text": [
      "{'item': 'Unsupported URL', 'url': 'https://youtu.be/0_QMxyq9EMk?si=7OQmBiN65IWdfPRK'}\n",
      "\n",
      "1/11\n",
      "Scraping data from link: https://us.princesspolly.com/\n"
     ]
    },
    {
     "name": "stderr",
     "output_type": "stream",
     "text": [
      "python(87397) MallocStackLogging: can't turn off malloc stack logging because it was not enabled.\n",
      "python(87433) MallocStackLogging: can't turn off malloc stack logging because it was not enabled.\n"
     ]
    },
    {
     "name": "stdout",
     "output_type": "stream",
     "text": [
      "{'item': 'Unsupported URL', 'url': 'https://us.princesspolly.com/'}\n",
      "\n",
      "2/11\n",
      "Scraping data from link: https://us.princesspolly.com/products/fogler-shirt-white?variant=39726925807700\n"
     ]
    },
    {
     "name": "stderr",
     "output_type": "stream",
     "text": [
      "python(87449) MallocStackLogging: can't turn off malloc stack logging because it was not enabled.\n",
      "python(87485) MallocStackLogging: can't turn off malloc stack logging because it was not enabled.\n"
     ]
    },
    {
     "name": "stdout",
     "output_type": "stream",
     "text": [
      "{'item': 'Fogler shirt white', 'cotton': '100'}\n",
      "\n",
      "3/11\n",
      "Scraping data from link: https://us.princesspolly.com/products/garbo-boots-black?variant=39551804375124\n"
     ]
    },
    {
     "name": "stderr",
     "output_type": "stream",
     "text": [
      "python(87508) MallocStackLogging: can't turn off malloc stack logging because it was not enabled.\n",
      "python(87544) MallocStackLogging: can't turn off malloc stack logging because it was not enabled.\n"
     ]
    },
    {
     "name": "stdout",
     "output_type": "stream",
     "text": [
      "{'item': 'Garbo boots black', 'pu': '100'}\n",
      "\n",
      "4/11\n",
      "Scraping data from link: https://us.princesspolly.com/products/archer-pants-navy?variant=39888386555988\n"
     ]
    },
    {
     "name": "stderr",
     "output_type": "stream",
     "text": [
      "python(87560) MallocStackLogging: can't turn off malloc stack logging because it was not enabled.\n",
      "python(87596) MallocStackLogging: can't turn off malloc stack logging because it was not enabled.\n"
     ]
    },
    {
     "name": "stdout",
     "output_type": "stream",
     "text": [
      "{'item': 'Archer pants navy', 'reclaimed polyester': '95', 'elastane': '5'}\n",
      "\n",
      "5/11\n",
      "Scraping data from link: https://us.princesspolly.com/products/swindon-shirt-blue?variant=39995900166228\n"
     ]
    },
    {
     "name": "stderr",
     "output_type": "stream",
     "text": [
      "python(87617) MallocStackLogging: can't turn off malloc stack logging because it was not enabled.\n",
      "python(87653) MallocStackLogging: can't turn off malloc stack logging because it was not enabled.\n"
     ]
    },
    {
     "name": "stdout",
     "output_type": "stream",
     "text": [
      "{'item': 'Swindon shirt blue', 'lyocell': '50', 'polyester': '44', 'nylon': '6'}\n",
      "\n",
      "6/11\n",
      "Scraping data from link: https://us.princesspolly.com/products/callie-faux-leather-jacket-black?variant=32696961171540\n"
     ]
    },
    {
     "name": "stderr",
     "output_type": "stream",
     "text": [
      "python(87674) MallocStackLogging: can't turn off malloc stack logging because it was not enabled.\n",
      "python(87710) MallocStackLogging: can't turn off malloc stack logging because it was not enabled.\n"
     ]
    },
    {
     "name": "stdout",
     "output_type": "stream",
     "text": [
      "{'item': 'Callie faux leather jacket black', 'polyester': '55', 'pu': '45'}\n",
      "\n",
      "7/11\n",
      "Scraping data from link: https://us.princesspolly.com/products/karyssa-rib-maxi-dress-black?variant=40007147159636\n"
     ]
    },
    {
     "name": "stderr",
     "output_type": "stream",
     "text": [
      "python(87727) MallocStackLogging: can't turn off malloc stack logging because it was not enabled.\n",
      "python(87763) MallocStackLogging: can't turn off malloc stack logging because it was not enabled.\n"
     ]
    },
    {
     "name": "stdout",
     "output_type": "stream",
     "text": [
      "{'item': 'Karyssa rib maxi dress black', 'organic cotton': '95'}\n",
      "\n",
      "8/11\n",
      "Scraping data from link: https://us.princesspolly.com/products/prida-scoop-neck-bodysuit-white?variant=40006125682772\n"
     ]
    },
    {
     "name": "stderr",
     "output_type": "stream",
     "text": [
      "python(87845) MallocStackLogging: can't turn off malloc stack logging because it was not enabled.\n",
      "python(87881) MallocStackLogging: can't turn off malloc stack logging because it was not enabled.\n"
     ]
    },
    {
     "name": "stdout",
     "output_type": "stream",
     "text": [
      "{'item': 'Prida scoop neck bodysuit white', 'organic cotton': '95'}\n",
      "\n",
      "9/11\n",
      "Scraping data from link: https://us.princesspolly.com/products/prida-scoop-neck-bodysuit-black\n"
     ]
    },
    {
     "name": "stderr",
     "output_type": "stream",
     "text": [
      "python(87923) MallocStackLogging: can't turn off malloc stack logging because it was not enabled.\n",
      "python(87961) MallocStackLogging: can't turn off malloc stack logging because it was not enabled.\n"
     ]
    },
    {
     "name": "stdout",
     "output_type": "stream",
     "text": [
      "{'item': 'Prida scoop neck bodysuit black', 'organic cotton': '95'}\n",
      "\n",
      "10/11\n",
      "Scraping data from link: https://us.princesspolly.com/products/ferry-zip-front-sweater-beige?variant=39989106278484\n"
     ]
    },
    {
     "name": "stderr",
     "output_type": "stream",
     "text": [
      "python(87990) MallocStackLogging: can't turn off malloc stack logging because it was not enabled.\n",
      "python(88030) MallocStackLogging: can't turn off malloc stack logging because it was not enabled.\n"
     ]
    },
    {
     "name": "stdout",
     "output_type": "stream",
     "text": [
      "{'item': 'Ferry zip front sweater beige', 'acrylic': '52', 'nylon': '28', 'polyester': '20'}\n",
      "\n",
      "11/11\n",
      "Scraping data from link: https://us.princesspolly.com/products/oswin-turtleneck-sweater-grey?variant=39936888569940\n"
     ]
    },
    {
     "name": "stderr",
     "output_type": "stream",
     "text": [
      "python(88061) MallocStackLogging: can't turn off malloc stack logging because it was not enabled.\n",
      "python(88097) MallocStackLogging: can't turn off malloc stack logging because it was not enabled.\n"
     ]
    },
    {
     "name": "stdout",
     "output_type": "stream",
     "text": [
      "{'item': 'Oswin turtleneck sweater grey', 'reclaimed polyester': '97', 'elastane': '3'}\n",
      "\n",
      "1/3\n",
      "Scraping data from link: https://us.princesspolly.com/\n"
     ]
    },
    {
     "name": "stderr",
     "output_type": "stream",
     "text": [
      "python(88140) MallocStackLogging: can't turn off malloc stack logging because it was not enabled.\n",
      "python(88178) MallocStackLogging: can't turn off malloc stack logging because it was not enabled.\n"
     ]
    }
   ],
   "source": [
    "df['ScrapedData'] = df.apply(scrape_and_update, axis=1)"
   ]
  },
  {
   "cell_type": "code",
   "execution_count": 12,
   "metadata": {},
   "outputs": [
    {
     "data": {
      "text/html": [
       "<div>\n",
       "<style scoped>\n",
       "    .dataframe tbody tr th:only-of-type {\n",
       "        vertical-align: middle;\n",
       "    }\n",
       "\n",
       "    .dataframe tbody tr th {\n",
       "        vertical-align: top;\n",
       "    }\n",
       "\n",
       "    .dataframe thead th {\n",
       "        text-align: right;\n",
       "    }\n",
       "</style>\n",
       "<table border=\"1\" class=\"dataframe\">\n",
       "  <thead>\n",
       "    <tr style=\"text-align: right;\">\n",
       "      <th></th>\n",
       "      <th>Title</th>\n",
       "      <th>Links</th>\n",
       "      <th>ScrapedData</th>\n",
       "    </tr>\n",
       "  </thead>\n",
       "  <tbody>\n",
       "    <tr>\n",
       "      <th>0</th>\n",
       "      <td>updating my WHOLE WARDROBE for summer *princes...</td>\n",
       "      <td>http://www.princesspolly.com.au\\nhttps://www.p...</td>\n",
       "      <td>{'item': 'Barely there tie top onyx', 'polyest...</td>\n",
       "    </tr>\n",
       "    <tr>\n",
       "      <th>1</th>\n",
       "      <td>ruthlessly ranking IT GIRL brands (Réalisation...</td>\n",
       "      <td>https://poshmark.com/closet/alexasunshine83\\nh...</td>\n",
       "      <td></td>\n",
       "    </tr>\n",
       "    <tr>\n",
       "      <th>2</th>\n",
       "      <td>unboxing my new summer wardrobe! 📦  ft. Prince...</td>\n",
       "      <td>https://www.princesspolly.com.au\\nhttps://www....</td>\n",
       "      <td>{'item': 'Gazelle denim skort light wash', 'co...</td>\n",
       "    </tr>\n",
       "    <tr>\n",
       "      <th>3</th>\n",
       "      <td>Huge Summer Princess Polly HAUL + Cute Outfit ...</td>\n",
       "      <td>https://us.princesspolly.com/\\nhttps://bit.ly/...</td>\n",
       "      <td>{'item': 'Maidenwell contrast top black', 'rec...</td>\n",
       "    </tr>\n",
       "    <tr>\n",
       "      <th>4</th>\n",
       "      <td>date outfit ideas / spring try-on haul (ft. pr...</td>\n",
       "      <td>https://us.princesspolly.com/\\nhttps://us.prin...</td>\n",
       "      <td>{'item': 'Wyandra off the shoulder sweater whi...</td>\n",
       "    </tr>\n",
       "  </tbody>\n",
       "</table>\n",
       "</div>"
      ],
      "text/plain": [
       "                                               Title  \\\n",
       "0  updating my WHOLE WARDROBE for summer *princes...   \n",
       "1  ruthlessly ranking IT GIRL brands (Réalisation...   \n",
       "2  unboxing my new summer wardrobe! 📦  ft. Prince...   \n",
       "3  Huge Summer Princess Polly HAUL + Cute Outfit ...   \n",
       "4  date outfit ideas / spring try-on haul (ft. pr...   \n",
       "\n",
       "                                               Links  \\\n",
       "0  http://www.princesspolly.com.au\\nhttps://www.p...   \n",
       "1  https://poshmark.com/closet/alexasunshine83\\nh...   \n",
       "2  https://www.princesspolly.com.au\\nhttps://www....   \n",
       "3  https://us.princesspolly.com/\\nhttps://bit.ly/...   \n",
       "4  https://us.princesspolly.com/\\nhttps://us.prin...   \n",
       "\n",
       "                                         ScrapedData  \n",
       "0  {'item': 'Barely there tie top onyx', 'polyest...  \n",
       "1                                                     \n",
       "2  {'item': 'Gazelle denim skort light wash', 'co...  \n",
       "3  {'item': 'Maidenwell contrast top black', 'rec...  \n",
       "4  {'item': 'Wyandra off the shoulder sweater whi...  "
      ]
     },
     "execution_count": 12,
     "metadata": {},
     "output_type": "execute_result"
    }
   ],
   "source": [
    "df.head()"
   ]
  },
  {
   "cell_type": "code",
   "execution_count": 13,
   "metadata": {},
   "outputs": [],
   "source": [
    "df.to_csv('prin_polly_materials.csv', index=False)"
   ]
  }
 ],
 "metadata": {
  "kernelspec": {
   "display_name": "base",
   "language": "python",
   "name": "python3"
  },
  "language_info": {
   "codemirror_mode": {
    "name": "ipython",
    "version": 3
   },
   "file_extension": ".py",
   "mimetype": "text/x-python",
   "name": "python",
   "nbconvert_exporter": "python",
   "pygments_lexer": "ipython3",
   "version": "3.11.4"
  }
 },
 "nbformat": 4,
 "nbformat_minor": 2
}
