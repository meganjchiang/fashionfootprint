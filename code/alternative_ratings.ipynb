{
 "cells": [
  {
   "cell_type": "markdown",
   "metadata": {},
   "source": [
    "# Scraping Sustainability Ratings of Fashion Brands"
   ]
  },
  {
   "cell_type": "code",
   "execution_count": 88,
   "metadata": {},
   "outputs": [],
   "source": [
    "# imports\n",
    "import requests\n",
    "from bs4 import BeautifulSoup\n",
    "import pandas as pd\n",
    "import re\n",
    "import csv"
   ]
  },
  {
   "cell_type": "markdown",
   "metadata": {},
   "source": [
    "## Eco-Stylist Org"
   ]
  },
  {
   "cell_type": "code",
   "execution_count": 96,
   "metadata": {},
   "outputs": [
    {
     "name": "stdout",
     "output_type": "stream",
     "text": [
      "['https://www.eco-stylist.com/ethical-brand/outerknown/', 'https://www.eco-stylist.com/ethical-brand/adelante-shoe-co/', 'https://www.eco-stylist.com/ethical-brand/pact/', 'https://www.eco-stylist.com/ethical-brand/taylor-stitch/', 'https://www.eco-stylist.com/ethical-brand/wolven/', 'https://www.eco-stylist.com/ethical-brand/kotn/', 'https://www.eco-stylist.com/ethical-brand/8000kicks/', 'https://www.eco-stylist.com/ethical-brand/toadco/', 'https://www.eco-stylist.com/ethical-brand/colorful-standard/', 'https://www.eco-stylist.com/ethical-brand/vustra/', 'https://www.eco-stylist.com/ethical-brand/culthread/', 'https://www.eco-stylist.com/ethical-brand/thousand-fell/', 'https://www.eco-stylist.com/ethical-brand/tentree/', 'https://www.eco-stylist.com/ethical-brand/fite-fashion/', 'https://www.eco-stylist.com/ethical-brand/brilliant-earth/', 'https://www.eco-stylist.com/ethical-brand/girlfriend-collective/', 'https://www.eco-stylist.com/ethical-brand/ministry-of-supply/', 'https://www.eco-stylist.com/ethical-brand/the-classic-t-shirt-company/', 'https://www.eco-stylist.com/ethical-brand/nisolo/', 'https://www.eco-stylist.com/ethical-brand/alterx-co/', 'https://www.eco-stylist.com/ethical-brand/astor-orion/', 'https://www.eco-stylist.com/ethical-brand/soko/', 'https://www.eco-stylist.com/ethical-brand/known-supply/', 'https://www.eco-stylist.com/ethical-brand/koio/', 'https://www.eco-stylist.com/ethical-brand/ten-thousand-villages/', 'https://www.eco-stylist.com/ethical-brand/mate-the-label/', 'https://www.eco-stylist.com/ethical-brand/marimekko/', 'https://www.eco-stylist.com/ethical-brand/coalatree/', 'https://www.eco-stylist.com/ethical-brand/goex-apparel/', 'https://www.eco-stylist.com/ethical-brand/iron-roots/', 'https://www.eco-stylist.com/ethical-brand/parker-clay/', 'https://www.eco-stylist.com/ethical-brand/the-good-tee/', 'https://www.eco-stylist.com/ethical-brand/etiko/', 'https://www.eco-stylist.com/ethical-brand/organic-basics/', 'https://www.eco-stylist.com/ethical-brand/kuyichi-pure-goods/', 'https://www.eco-stylist.com/ethical-brand/bam-bamboo-clothing/', 'https://www.eco-stylist.com/ethical-brand/hernest-project/', 'https://www.eco-stylist.com/ethical-brand/knickey/', 'https://www.eco-stylist.com/ethical-brand/mud-jeans/', 'https://www.eco-stylist.com/ethical-brand/nudie-jeans/', 'https://www.eco-stylist.com/ethical-brand/patagonia/', 'https://www.eco-stylist.com/ethical-brand/whimsy-and-row/', 'https://www.eco-stylist.com/ethical-brand/pangaia/', 'https://www.eco-stylist.com/ethical-brand/icebreaker/', 'https://www.eco-stylist.com/ethical-brand/prana/', 'https://www.eco-stylist.com/ethical-brand/asket/', 'https://www.eco-stylist.com/ethical-brand/suit-supply/', 'https://www.eco-stylist.com/ethical-brand/frank-oak/', 'https://www.eco-stylist.com/ethical-brand/veja/', 'https://www.eco-stylist.com/ethical-brand/filippa-k/', 'https://www.eco-stylist.com/ethical-brand/warby-parker/', 'https://www.eco-stylist.com/ethical-brand/cotopaxi/', 'https://www.eco-stylist.com/ethical-brand/conscious-step/', 'https://www.eco-stylist.com/ethical-brand/teemill/', 'https://www.eco-stylist.com/ethical-brand/groceries-apparel/', 'https://www.eco-stylist.com/ethical-brand/ninety-percent/', 'https://www.eco-stylist.com/ethical-brand/liila/', 'https://www.eco-stylist.com/ethical-brand/boyish-jeans/', 'https://www.eco-stylist.com/ethical-brand/scotch-soda/', 'https://www.eco-stylist.com/ethical-brand/topiku/', 'https://www.eco-stylist.com/ethical-brand/naadam/', 'https://www.eco-stylist.com/ethical-brand/beckett-simonon/', 'https://www.eco-stylist.com/ethical-brand/stella-mccartney/', 'https://www.eco-stylist.com/ethical-brand/voyce-threads/', 'https://www.eco-stylist.com/ethical-brand/arvin-goods/', 'https://www.eco-stylist.com/ethical-brand/po-zu/', 'https://www.eco-stylist.com/ethical-brand/upfuse/', 'https://www.eco-stylist.com/ethical-brand/zero-waste-daniel/', 'https://www.eco-stylist.com/ethical-brand/people-tree/', 'https://www.eco-stylist.com/ethical-brand/sanvt/', 'https://www.eco-stylist.com/ethical-brand/amendi/', 'https://www.eco-stylist.com/ethical-brand/adiff/', 'https://www.eco-stylist.com/ethical-brand/isto/', 'https://www.eco-stylist.com/ethical-brand/triarchy/', 'https://www.eco-stylist.com/ethical-brand/armedangels/', 'https://www.eco-stylist.com/ethical-brand/osom/', 'https://www.eco-stylist.com/ethical-brand/outland-denim/', 'https://www.eco-stylist.com/ethical-brand/kowtow/', 'https://www.eco-stylist.com/ethical-brand/edwin/', 'https://www.eco-stylist.com/ethical-brand/kindom/', 'https://www.eco-stylist.com/ethical-brand/lucy-yak/', 'https://www.eco-stylist.com/ethical-brand/unspun/', 'https://www.eco-stylist.com/ethical-brand/selfmade/', 'https://www.eco-stylist.com/ethical-brand/ecologyst/', 'https://www.eco-stylist.com/ethical-brand/etre-organic-underwear/', 'https://www.eco-stylist.com/ethical-brand/ecoalf/', 'https://www.eco-stylist.com/ethical-brand/rozenbroek/', 'https://www.eco-stylist.com/ethical-brand/no-nasties/', 'https://www.eco-stylist.com/ethical-brand/frankie-collective/', 'https://www.eco-stylist.com/ethical-brand/dedicated/', 'https://www.eco-stylist.com/ethical-brand/save-the-duck/', 'https://www.eco-stylist.com/ethical-brand/reformation/', 'https://www.eco-stylist.com/ethical-brand/dillysocks/', 'https://www.eco-stylist.com/ethical-brand/chnge/', 'https://www.eco-stylist.com/ethical-brand/tamga/', 'https://www.eco-stylist.com/ethical-brand/reprise/', 'https://www.eco-stylist.com/ethical-brand/kozm/', 'https://www.eco-stylist.com/ethical-brand/panafrica/', 'https://www.eco-stylist.com/ethical-brand/finisterre/', 'https://www.eco-stylist.com/ethical-brand/burning-heart/', 'https://www.eco-stylist.com/ethical-brand/indigenous/', 'https://www.eco-stylist.com/ethical-brand/united-by-blue/']\n"
     ]
    }
   ],
   "source": [
    "# scrape urls to brand reviews\n",
    "sustainable_brands = requests.get(\"https://www.eco-stylist.com/sustainable-brands/\")\n",
    "content = BeautifulSoup(sustainable_brands.text, 'html.parser')\n",
    "brand_info = content.find_all('h2', class_=\"tb-heading has-text-color\")\n",
    "\n",
    "brand_urls = []\n",
    "for brand in brand_info:\n",
    "    potential_urls = str(brand).split('\"')\n",
    "    url = [url for url in potential_urls if \"https://www.eco-stylist.com/ethical-brand/\" in url][0]\n",
    "\n",
    "    brand_urls.append(url)\n",
    "\n",
    "print(brand_urls)"
   ]
  },
  {
   "cell_type": "code",
   "execution_count": 98,
   "metadata": {},
   "outputs": [],
   "source": [
    "# create dataframe \n",
    "eco_stylist_df = pd.DataFrame(columns=['Brand', 'Overall', 'Transparency', 'Fair Labor', 'Sustainably Made', 'URL'])"
   ]
  },
  {
   "cell_type": "code",
   "execution_count": 99,
   "metadata": {},
   "outputs": [],
   "source": [
    "# scrape for brand data\n",
    "for url in brand_urls:\n",
    "    # search for brand review\n",
    "    review = requests.get(url)\n",
    "    \n",
    "    # if brand review exists\n",
    "    if review.status_code == 200:\n",
    "        # content\n",
    "        content = BeautifulSoup(review.text, 'html.parser')\n",
    "\n",
    "        # brand name\n",
    "        brand = content.find('h1').get_text()\n",
    "\n",
    "        # overall rating\n",
    "        overall = content.find(string=re.compile(\"Overall Rating:\")).split(\" \")[2]\n",
    "        \n",
    "        # transparency, fair labor, sustainably made\n",
    "        ratings = content.find_all(string=re.compile(\"Rated:\"))\n",
    "        transparency = ratings[0].split(\" \")[1]\n",
    "        fair_labor = ratings[1].split(\" \")[1]\n",
    "        sustainably_made = ratings[2].split(\" \")[1]\n",
    "\n",
    "        # update dataframe\n",
    "        eco_stylist_df.loc[len(eco_stylist_df.index)] = [brand, overall, transparency, fair_labor, sustainably_made, url]\n",
    "\n",
    "    else:\n",
    "        # update dataframe \n",
    "        eco_stylist_df.loc[len(eco_stylist_df.index)] = [brand, \"N/A\", \"N/A\", \"N/A\", \"N/A\", url]"
   ]
  },
  {
   "cell_type": "code",
   "execution_count": 100,
   "metadata": {},
   "outputs": [
    {
     "data": {
      "text/html": [
       "<div>\n",
       "<style scoped>\n",
       "    .dataframe tbody tr th:only-of-type {\n",
       "        vertical-align: middle;\n",
       "    }\n",
       "\n",
       "    .dataframe tbody tr th {\n",
       "        vertical-align: top;\n",
       "    }\n",
       "\n",
       "    .dataframe thead th {\n",
       "        text-align: right;\n",
       "    }\n",
       "</style>\n",
       "<table border=\"1\" class=\"dataframe\">\n",
       "  <thead>\n",
       "    <tr style=\"text-align: right;\">\n",
       "      <th></th>\n",
       "      <th>Brand</th>\n",
       "      <th>Overall</th>\n",
       "      <th>Transparency</th>\n",
       "      <th>Fair Labor</th>\n",
       "      <th>Sustainably Made</th>\n",
       "      <th>URL</th>\n",
       "    </tr>\n",
       "  </thead>\n",
       "  <tbody>\n",
       "    <tr>\n",
       "      <th>0</th>\n",
       "      <td>Outerknown</td>\n",
       "      <td>Gold</td>\n",
       "      <td>Excellent</td>\n",
       "      <td>Excellent</td>\n",
       "      <td>Excellent</td>\n",
       "      <td>https://www.eco-stylist.com/ethical-brand/oute...</td>\n",
       "    </tr>\n",
       "    <tr>\n",
       "      <th>1</th>\n",
       "      <td>Adelante Made-to-Order</td>\n",
       "      <td>Gold</td>\n",
       "      <td>Excellent</td>\n",
       "      <td>Excellent</td>\n",
       "      <td>Good</td>\n",
       "      <td>https://www.eco-stylist.com/ethical-brand/adel...</td>\n",
       "    </tr>\n",
       "    <tr>\n",
       "      <th>2</th>\n",
       "      <td>Pact</td>\n",
       "      <td>Silver</td>\n",
       "      <td>Fair</td>\n",
       "      <td>Excellent</td>\n",
       "      <td>Good</td>\n",
       "      <td>https://www.eco-stylist.com/ethical-brand/pact/</td>\n",
       "    </tr>\n",
       "    <tr>\n",
       "      <th>3</th>\n",
       "      <td>Taylor Stitch</td>\n",
       "      <td>Silver</td>\n",
       "      <td>Good</td>\n",
       "      <td>Good</td>\n",
       "      <td>Excellent</td>\n",
       "      <td>https://www.eco-stylist.com/ethical-brand/tayl...</td>\n",
       "    </tr>\n",
       "    <tr>\n",
       "      <th>4</th>\n",
       "      <td>Wolven</td>\n",
       "      <td>Certified</td>\n",
       "      <td>Good</td>\n",
       "      <td>Fair</td>\n",
       "      <td>Excellent</td>\n",
       "      <td>https://www.eco-stylist.com/ethical-brand/wolven/</td>\n",
       "    </tr>\n",
       "  </tbody>\n",
       "</table>\n",
       "</div>"
      ],
      "text/plain": [
       "                    Brand    Overall Transparency Fair Labor Sustainably Made  \\\n",
       "0              Outerknown       Gold    Excellent  Excellent        Excellent   \n",
       "1  Adelante Made-to-Order       Gold    Excellent  Excellent             Good   \n",
       "2                    Pact     Silver         Fair  Excellent             Good   \n",
       "3           Taylor Stitch     Silver         Good       Good        Excellent   \n",
       "4                  Wolven  Certified         Good       Fair        Excellent   \n",
       "\n",
       "                                                 URL  \n",
       "0  https://www.eco-stylist.com/ethical-brand/oute...  \n",
       "1  https://www.eco-stylist.com/ethical-brand/adel...  \n",
       "2    https://www.eco-stylist.com/ethical-brand/pact/  \n",
       "3  https://www.eco-stylist.com/ethical-brand/tayl...  \n",
       "4  https://www.eco-stylist.com/ethical-brand/wolven/  "
      ]
     },
     "execution_count": 100,
     "metadata": {},
     "output_type": "execute_result"
    }
   ],
   "source": [
    "eco_stylist_df.head(5)"
   ]
  },
  {
   "cell_type": "code",
   "execution_count": 101,
   "metadata": {},
   "outputs": [],
   "source": [
    "# export csv file\n",
    "eco_stylist_df.to_csv('../data/eco_stylist_ratings.csv')"
   ]
  },
  {
   "cell_type": "markdown",
   "metadata": {},
   "source": [
    "## Sustainable Review Org"
   ]
  },
  {
   "cell_type": "markdown",
   "metadata": {},
   "source": [
    "IN-PROGRESS: scrape brands from website to create brands variable"
   ]
  },
  {
   "cell_type": "code",
   "execution_count": null,
   "metadata": {},
   "outputs": [],
   "source": [
    "# create variables\n",
    "sustainable_review_brands = [\"Nike\", \"Adidas\", \"The North Face\", \"Victoria's Secret\", \"ZuZu & Co\", \"Becci Boo's Custom Shoes\"]\n",
    "url_sustainable_review = \"https://sustainablereview.com/brand-ratings/\"\n",
    "\n",
    "sustainable_review_df = pd.DataFrame(columns=['Brand', 'Rating', 'Factors'])"
   ]
  },
  {
   "cell_type": "code",
   "execution_count": null,
   "metadata": {},
   "outputs": [],
   "source": [
    "# scrape for brand data\n",
    "for brand in sustainable_review_brands:\n",
    "    # normalize brand name\n",
    "    norm_brand = brand.lower().replace(' & ', '-').replace('&', '').replace(' - ','-').replace(\" '\",'-').replace(\"'\",'').replace(' / ','-').replace('/','-').replace('é', 'e').replace(\"ä\", 'a').replace('â','a').replace('ü', 'u').replace('ñ','n').replace('ø','o').replace('ö','o').replace('ò','o').replace('ó','o').replace('ç', 'c').replace(' + ', '-').replace('(','').replace(')','').replace('[','').replace(']','').replace('...','-').replace('. ','-').replace('.','-').replace(' ', '-')\n",
    "\n",
    "    # search for brand review\n",
    "    review = requests.get(url_sustainable_review + norm_brand + \"/\")\n",
    "    \n",
    "    # check if brand review exists\n",
    "    if review.status_code == 200:\n",
    "        # content\n",
    "        content = BeautifulSoup(review.text, 'html.parser')\n",
    "\n",
    "        # rating\n",
    "        information = content.find('div', class_='InfoBox')\n",
    "        rating = information.find('p').get_text().split(\" \")[3]\n",
    "        \n",
    "        # factors\n",
    "        body = content.find('div', class_='col-md-12 col-lg-9')\n",
    "        factors = str(body.find_all('h3')).split(\", \")\n",
    "\n",
    "        # clean list of factors\n",
    "        cleaned_factors = []\n",
    "        for factor in factors: \n",
    "            cleaned_factor = factor.replace(\"[\",\"\").replace(\"]\",\"\").replace('<h3>', '').replace('<strong>', '').replace('</h3>', '').replace('</strong>', '').replace(\"Similar brands:\",\"\")\n",
    "           \n",
    "            # drop ':' from factor\n",
    "            if cleaned_factor.endswith(\":\"):\n",
    "                cleaned_factor = \"\".join(cleaned_factor[:-1])\n",
    "\n",
    "            # exclude headings with \"Conclusion\"\n",
    "            if \"Conclusion\" in cleaned_factor:\n",
    "                 cleaned_factor = \"\"\n",
    "\n",
    "            # append cleaned factor to list if the item is not emtpy\n",
    "            if cleaned_factor != \"\":\n",
    "                cleaned_factors.append(cleaned_factor)\n",
    "        \n",
    "        # update dataframe\n",
    "        sustainable_review_df.loc[len(sustainable_review_df.index)] = [brand, rating, \", \".join(cleaned_factors)]\n",
    "\n",
    "    else:\n",
    "        # update dataframe \n",
    "        sustainable_review_df.loc[len(sustainable_review_df.index)] = [brand, \"N/A\", \"N/A\"]"
   ]
  },
  {
   "cell_type": "code",
   "execution_count": null,
   "metadata": {},
   "outputs": [
    {
     "data": {
      "text/html": [
       "<div>\n",
       "<style scoped>\n",
       "    .dataframe tbody tr th:only-of-type {\n",
       "        vertical-align: middle;\n",
       "    }\n",
       "\n",
       "    .dataframe tbody tr th {\n",
       "        vertical-align: top;\n",
       "    }\n",
       "\n",
       "    .dataframe thead th {\n",
       "        text-align: right;\n",
       "    }\n",
       "</style>\n",
       "<table border=\"1\" class=\"dataframe\">\n",
       "  <thead>\n",
       "    <tr style=\"text-align: right;\">\n",
       "      <th></th>\n",
       "      <th>Brand</th>\n",
       "      <th>Rating</th>\n",
       "      <th>Factors</th>\n",
       "    </tr>\n",
       "  </thead>\n",
       "  <tbody>\n",
       "    <tr>\n",
       "      <th>0</th>\n",
       "      <td>Nike</td>\n",
       "      <td>3</td>\n",
       "      <td>Environmental Progress, Chemical Impact Mitiga...</td>\n",
       "    </tr>\n",
       "    <tr>\n",
       "      <th>1</th>\n",
       "      <td>Adidas</td>\n",
       "      <td>3</td>\n",
       "      <td>Adidas’ Global Recognition for Sustainability ...</td>\n",
       "    </tr>\n",
       "    <tr>\n",
       "      <th>2</th>\n",
       "      <td>The North Face</td>\n",
       "      <td>4</td>\n",
       "      <td>Greenhouse Gas Emissions Reduction on the Hori...</td>\n",
       "    </tr>\n",
       "    <tr>\n",
       "      <th>3</th>\n",
       "      <td>Victoria's Secret</td>\n",
       "      <td>Not Rated by Sustainable Review</td>\n",
       "      <td>None</td>\n",
       "    </tr>\n",
       "    <tr>\n",
       "      <th>4</th>\n",
       "      <td>ZuZu &amp; Co</td>\n",
       "      <td>4</td>\n",
       "      <td>Using Eco-Friendly Materials and Reducing Wast...</td>\n",
       "    </tr>\n",
       "  </tbody>\n",
       "</table>\n",
       "</div>"
      ],
      "text/plain": [
       "               Brand                           Rating  \\\n",
       "0               Nike                                3   \n",
       "1             Adidas                                3   \n",
       "2     The North Face                                4   \n",
       "3  Victoria's Secret  Not Rated by Sustainable Review   \n",
       "4          ZuZu & Co                                4   \n",
       "\n",
       "                                             Factors  \n",
       "0  Environmental Progress, Chemical Impact Mitiga...  \n",
       "1  Adidas’ Global Recognition for Sustainability ...  \n",
       "2  Greenhouse Gas Emissions Reduction on the Hori...  \n",
       "3                                               None  \n",
       "4  Using Eco-Friendly Materials and Reducing Wast...  "
      ]
     },
     "execution_count": 41,
     "metadata": {},
     "output_type": "execute_result"
    }
   ],
   "source": [
    "# check dataframe\n",
    "sustainable_review_df.head(5)"
   ]
  },
  {
   "cell_type": "code",
   "execution_count": null,
   "metadata": {},
   "outputs": [],
   "source": [
    "# export csv file\n",
    "sustainable_review_df.to_csv('../data/sustainable_review_ratings.csv')"
   ]
  }
 ],
 "metadata": {
  "kernelspec": {
   "display_name": "Python 3",
   "language": "python",
   "name": "python3"
  },
  "language_info": {
   "codemirror_mode": {
    "name": "ipython",
    "version": 3
   },
   "file_extension": ".py",
   "mimetype": "text/x-python",
   "name": "python",
   "nbconvert_exporter": "python",
   "pygments_lexer": "ipython3",
   "version": "3.11.5"
  }
 },
 "nbformat": 4,
 "nbformat_minor": 2
}
