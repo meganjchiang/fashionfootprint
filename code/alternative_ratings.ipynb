{
 "cells": [
  {
   "cell_type": "markdown",
   "metadata": {},
   "source": [
    "# Scraping Sustainability Ratings of Fashion Brands"
   ]
  },
  {
   "cell_type": "markdown",
   "metadata": {},
   "source": [
    "## Sustainable Review Org"
   ]
  },
  {
   "cell_type": "code",
   "execution_count": 38,
   "metadata": {},
   "outputs": [],
   "source": [
    "# imports\n",
    "import requests\n",
    "from bs4 import BeautifulSoup\n",
    "import pandas as pd\n",
    "import csv"
   ]
  },
  {
   "cell_type": "code",
   "execution_count": 39,
   "metadata": {},
   "outputs": [],
   "source": [
    "# create variables\n",
    "brands = [\"Nike\", \"Adidas\", \"The North Face\", \"Victoria's Secret\", \"ZuZu & Co\", \"Becci Boo's Custom Shoes\"]\n",
    "url = \"https://sustainablereview.com/brand-ratings/\"\n",
    "\n",
    "sustainable_review_df = pd.DataFrame(columns=['Brand', 'Rating', 'Factors'])"
   ]
  },
  {
   "cell_type": "markdown",
   "metadata": {},
   "source": [
    "IN-PROGRESS: scrape brands from website to create brands variable"
   ]
  },
  {
   "cell_type": "code",
   "execution_count": 40,
   "metadata": {},
   "outputs": [],
   "source": [
    "# scrape for brand data\n",
    "for brand in brands:\n",
    "    # normalize brand name\n",
    "    norm_brand = brand.lower().replace(' & ', '-').replace('&', '').replace(' - ','-').replace(\" '\",'-').replace(\"'\",'').replace(' / ','-').replace('/','-').replace('é', 'e').replace(\"ä\", 'a').replace('â','a').replace('ü', 'u').replace('ñ','n').replace('ø','o').replace('ö','o').replace('ò','o').replace('ó','o').replace('ç', 'c').replace(' + ', '-').replace('(','').replace(')','').replace('[','').replace(']','').replace('...','-').replace('. ','-').replace('.','-').replace(' ', '-')\n",
    "\n",
    "    # search for brand review\n",
    "    review = requests.get(url + norm_brand + \"/\")\n",
    "    \n",
    "    # check if brand review exists\n",
    "    if review.status_code == 200:\n",
    "        # content\n",
    "        content = BeautifulSoup(review.text, 'html.parser')\n",
    "\n",
    "        # rating\n",
    "        information = content.find('div', class_='InfoBox')\n",
    "        rating = information.find('p').get_text().split(\" \")[3]\n",
    "        \n",
    "        # factors\n",
    "        body = content.find('div', class_='col-md-12 col-lg-9')\n",
    "        factors = str(body.find_all('h3')).split(\", \")\n",
    "\n",
    "        # clean list of factors\n",
    "        cleaned_factors = []\n",
    "        for factor in factors: \n",
    "            cleaned_factor = factor.replace(\"[\",\"\").replace(\"]\",\"\").replace('<h3>', '').replace('<strong>', '').replace('</h3>', '').replace('</strong>', '').replace(\"Similar brands:\",\"\")\n",
    "           \n",
    "            # drop ':' from factor\n",
    "            if cleaned_factor.endswith(\":\"):\n",
    "                cleaned_factor = \"\".join(cleaned_factor[:-1])\n",
    "\n",
    "            # exclude headings with \"Conclusion\"\n",
    "            if \"Conclusion\" in cleaned_factor:\n",
    "                 cleaned_factor = \"\"\n",
    "\n",
    "            # append cleaned factor to list if the item is not emtpy\n",
    "            if cleaned_factor != \"\":\n",
    "                cleaned_factors.append(cleaned_factor)\n",
    "        \n",
    "        # update dataframe\n",
    "        sustainable_review_df.loc[len(sustainable_review_df.index)] = [brand, rating, \", \".join(cleaned_factors)]\n",
    "\n",
    "    else:\n",
    "        # update dataframe \n",
    "        sustainable_review_df.loc[len(sustainable_review_df.index)] = [brand, \"Not Rated by Sustainable Review\", \"None\"]"
   ]
  },
  {
   "cell_type": "code",
   "execution_count": 41,
   "metadata": {},
   "outputs": [
    {
     "data": {
      "text/html": [
       "<div>\n",
       "<style scoped>\n",
       "    .dataframe tbody tr th:only-of-type {\n",
       "        vertical-align: middle;\n",
       "    }\n",
       "\n",
       "    .dataframe tbody tr th {\n",
       "        vertical-align: top;\n",
       "    }\n",
       "\n",
       "    .dataframe thead th {\n",
       "        text-align: right;\n",
       "    }\n",
       "</style>\n",
       "<table border=\"1\" class=\"dataframe\">\n",
       "  <thead>\n",
       "    <tr style=\"text-align: right;\">\n",
       "      <th></th>\n",
       "      <th>Brand</th>\n",
       "      <th>Rating</th>\n",
       "      <th>Factors</th>\n",
       "    </tr>\n",
       "  </thead>\n",
       "  <tbody>\n",
       "    <tr>\n",
       "      <th>0</th>\n",
       "      <td>Nike</td>\n",
       "      <td>3</td>\n",
       "      <td>Environmental Progress, Chemical Impact Mitiga...</td>\n",
       "    </tr>\n",
       "    <tr>\n",
       "      <th>1</th>\n",
       "      <td>Adidas</td>\n",
       "      <td>3</td>\n",
       "      <td>Adidas’ Global Recognition for Sustainability ...</td>\n",
       "    </tr>\n",
       "    <tr>\n",
       "      <th>2</th>\n",
       "      <td>The North Face</td>\n",
       "      <td>4</td>\n",
       "      <td>Greenhouse Gas Emissions Reduction on the Hori...</td>\n",
       "    </tr>\n",
       "    <tr>\n",
       "      <th>3</th>\n",
       "      <td>Victoria's Secret</td>\n",
       "      <td>Not Rated by Sustainable Review</td>\n",
       "      <td>None</td>\n",
       "    </tr>\n",
       "    <tr>\n",
       "      <th>4</th>\n",
       "      <td>ZuZu &amp; Co</td>\n",
       "      <td>4</td>\n",
       "      <td>Using Eco-Friendly Materials and Reducing Wast...</td>\n",
       "    </tr>\n",
       "  </tbody>\n",
       "</table>\n",
       "</div>"
      ],
      "text/plain": [
       "               Brand                           Rating  \\\n",
       "0               Nike                                3   \n",
       "1             Adidas                                3   \n",
       "2     The North Face                                4   \n",
       "3  Victoria's Secret  Not Rated by Sustainable Review   \n",
       "4          ZuZu & Co                                4   \n",
       "\n",
       "                                             Factors  \n",
       "0  Environmental Progress, Chemical Impact Mitiga...  \n",
       "1  Adidas’ Global Recognition for Sustainability ...  \n",
       "2  Greenhouse Gas Emissions Reduction on the Hori...  \n",
       "3                                               None  \n",
       "4  Using Eco-Friendly Materials and Reducing Wast...  "
      ]
     },
     "execution_count": 41,
     "metadata": {},
     "output_type": "execute_result"
    }
   ],
   "source": [
    "# check dataframe\n",
    "sustainable_review_df.head(5)"
   ]
  },
  {
   "cell_type": "code",
   "execution_count": 42,
   "metadata": {},
   "outputs": [],
   "source": [
    "# export csv file\n",
    "sustainable_review_df.to_csv('../data/sustainable_review_ratings.csv')"
   ]
  }
 ],
 "metadata": {
  "kernelspec": {
   "display_name": "Python 3",
   "language": "python",
   "name": "python3"
  },
  "language_info": {
   "codemirror_mode": {
    "name": "ipython",
    "version": 3
   },
   "file_extension": ".py",
   "mimetype": "text/x-python",
   "name": "python",
   "nbconvert_exporter": "python",
   "pygments_lexer": "ipython3",
   "version": "3.11.5"
  }
 },
 "nbformat": 4,
 "nbformat_minor": 2
}
