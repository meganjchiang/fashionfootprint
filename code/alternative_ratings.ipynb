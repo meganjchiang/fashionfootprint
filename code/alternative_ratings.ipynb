{
 "cells": [
  {
   "cell_type": "markdown",
   "metadata": {},
   "source": [
    "# How do established organizations like Eco-Stylist and Sustainable Review rate fashion brand sustainability?\n",
    "\n",
    "While our team can collect information about brands directly from their websites, the information required to make an accurate assessment of brand sustainability is often unavailable. However, established organizations like Eco-Stylist and Sustainable Review have already dedicated time and resources to collect and analyze the relevant data for rating brand sustainability. They are also transparent about their review methodologies. Therefore, we are motivated to create datasets of the brands, sustainability ratings, and relevant factors available on their websites. Examining the criteria and methodologies used by each organization will help us develop our own formula for calculating sustainability ratings as well.\n",
    "\n",
    "Eco-Stylist behaves as a guide to ethical and eco-friendly fashion while Sustainability Review publishes sustainability content weekly. We will collect data from the websites via web scraping with the python library BeautifulSoup. We choose to use BeautifulSoup because it is well documented. However, we are relying on the assumption that all brands which the organizations have collected sustainability data on are publicly available. "
   ]
  },
  {
   "cell_type": "code",
   "execution_count": 13,
   "metadata": {},
   "outputs": [],
   "source": [
    "# imports\n",
    "import requests\n",
    "from requests.adapters import HTTPAdapter\n",
    "from urllib3.util.retry import Retry\n",
    "from bs4 import BeautifulSoup\n",
    "import pandas as pd\n",
    "import re\n",
    "import csv"
   ]
  },
  {
   "cell_type": "code",
   "execution_count": 14,
   "metadata": {},
   "outputs": [],
   "source": [
    "# create session\n",
    "session = requests.Session()\n",
    "# retry three times in case of exception\n",
    "retry = Retry(connect=3, backoff_factor=0.5)\n",
    "# apply delays between attempts\n",
    "adapter = HTTPAdapter(max_retries=retry)\n",
    "session.mount('https://', adapter)"
   ]
  },
  {
   "cell_type": "markdown",
   "metadata": {},
   "source": [
    "## Part 1. Scraping Brand Review from Eco-Stylist"
   ]
  },
  {
   "cell_type": "code",
   "execution_count": 15,
   "metadata": {},
   "outputs": [
    {
     "name": "stdout",
     "output_type": "stream",
     "text": [
      "{'https://www.eco-stylist.com/ethical-brand/taylor-stitch/', 'https://www.eco-stylist.com/ethical-brand/reprise/', 'https://www.eco-stylist.com/ethical-brand/unspun/', 'https://www.eco-stylist.com/ethical-brand/groceries-apparel/', 'https://www.eco-stylist.com/ethical-brand/po-zu/', 'https://www.eco-stylist.com/ethical-brand/kotn/', 'https://www.eco-stylist.com/ethical-brand/toadco/', 'https://www.eco-stylist.com/ethical-brand/hernest-project/', 'https://www.eco-stylist.com/ethical-brand/naadam/', 'https://www.eco-stylist.com/ethical-brand/edwin/', 'https://www.eco-stylist.com/ethical-brand/coalatree/', 'https://www.eco-stylist.com/ethical-brand/known-supply/', 'https://www.eco-stylist.com/ethical-brand/ten-thousand-villages/', 'https://www.eco-stylist.com/ethical-brand/isto/', 'https://www.eco-stylist.com/ethical-brand/kindom/', 'https://www.eco-stylist.com/ethical-brand/no-nasties/', 'https://www.eco-stylist.com/ethical-brand/beckett-simonon/', 'https://www.eco-stylist.com/ethical-brand/girlfriend-collective/', 'https://www.eco-stylist.com/ethical-brand/zero-waste-daniel/', 'https://www.eco-stylist.com/ethical-brand/save-the-duck/', 'https://www.eco-stylist.com/ethical-brand/frank-oak/', 'https://www.eco-stylist.com/ethical-brand/topiku/', 'https://www.eco-stylist.com/ethical-brand/outerknown/', 'https://www.eco-stylist.com/ethical-brand/thousand-fell/', 'https://www.eco-stylist.com/ethical-brand/asket/', 'https://www.eco-stylist.com/ethical-brand/lucy-yak/', 'https://www.eco-stylist.com/ethical-brand/reformation/', 'https://www.eco-stylist.com/ethical-brand/frankie-collective/', 'https://www.eco-stylist.com/ethical-brand/mate-the-label/', 'https://www.eco-stylist.com/ethical-brand/osom/', 'https://www.eco-stylist.com/ethical-brand/scotch-soda/', 'https://www.eco-stylist.com/ethical-brand/upfuse/', 'https://www.eco-stylist.com/ethical-brand/stella-mccartney/', 'https://www.eco-stylist.com/ethical-brand/marimekko/', 'https://www.eco-stylist.com/ethical-brand/arvin-goods/', 'https://www.eco-stylist.com/ethical-brand/vustra/', 'https://www.eco-stylist.com/ethical-brand/adelante-shoe-co/', 'https://www.eco-stylist.com/ethical-brand/soko/', 'https://www.eco-stylist.com/ethical-brand/amendi/', 'https://www.eco-stylist.com/ethical-brand/8000kicks/', 'https://www.eco-stylist.com/ethical-brand/knickey/', 'https://www.eco-stylist.com/ethical-brand/colorful-standard/', 'https://www.eco-stylist.com/ethical-brand/boyish-jeans/', 'https://www.eco-stylist.com/ethical-brand/whimsy-and-row/', 'https://www.eco-stylist.com/ethical-brand/etre-organic-underwear/', 'https://www.eco-stylist.com/ethical-brand/alterx-co/', 'https://www.eco-stylist.com/ethical-brand/kuyichi-pure-goods/', 'https://www.eco-stylist.com/ethical-brand/prana/', 'https://www.eco-stylist.com/ethical-brand/patagonia/', 'https://www.eco-stylist.com/ethical-brand/kowtow/', 'https://www.eco-stylist.com/ethical-brand/liila/', 'https://www.eco-stylist.com/ethical-brand/dillysocks/', 'https://www.eco-stylist.com/ethical-brand/ministry-of-supply/', 'https://www.eco-stylist.com/ethical-brand/people-tree/', 'https://www.eco-stylist.com/ethical-brand/the-classic-t-shirt-company/', 'https://www.eco-stylist.com/ethical-brand/veja/', 'https://www.eco-stylist.com/ethical-brand/fite-fashion/', 'https://www.eco-stylist.com/ethical-brand/ecoalf/', 'https://www.eco-stylist.com/ethical-brand/chnge/', 'https://www.eco-stylist.com/ethical-brand/finisterre/', 'https://www.eco-stylist.com/ethical-brand/tamga/', 'https://www.eco-stylist.com/ethical-brand/conscious-step/', 'https://www.eco-stylist.com/ethical-brand/mud-jeans/', 'https://www.eco-stylist.com/ethical-brand/parker-clay/', 'https://www.eco-stylist.com/ethical-brand/icebreaker/', 'https://www.eco-stylist.com/ethical-brand/suit-supply/', 'https://www.eco-stylist.com/ethical-brand/brilliant-earth/', 'https://www.eco-stylist.com/ethical-brand/kozm/', 'https://www.eco-stylist.com/ethical-brand/the-good-tee/', 'https://www.eco-stylist.com/ethical-brand/teemill/', 'https://www.eco-stylist.com/ethical-brand/voyce-threads/', 'https://www.eco-stylist.com/ethical-brand/adiff/', 'https://www.eco-stylist.com/ethical-brand/filippa-k/', 'https://www.eco-stylist.com/ethical-brand/triarchy/', 'https://www.eco-stylist.com/ethical-brand/armedangels/', 'https://www.eco-stylist.com/ethical-brand/ecologyst/', 'https://www.eco-stylist.com/ethical-brand/outland-denim/', 'https://www.eco-stylist.com/ethical-brand/indigenous/', 'https://www.eco-stylist.com/ethical-brand/cotopaxi/', 'https://www.eco-stylist.com/ethical-brand/etiko/', 'https://www.eco-stylist.com/ethical-brand/pact/', 'https://www.eco-stylist.com/ethical-brand/iron-roots/', 'https://www.eco-stylist.com/ethical-brand/nisolo/', 'https://www.eco-stylist.com/ethical-brand/dedicated/', 'https://www.eco-stylist.com/ethical-brand/united-by-blue/', 'https://www.eco-stylist.com/ethical-brand/wolven/', 'https://www.eco-stylist.com/ethical-brand/goex-apparel/', 'https://www.eco-stylist.com/ethical-brand/burning-heart/', 'https://www.eco-stylist.com/ethical-brand/rozenbroek/', 'https://www.eco-stylist.com/ethical-brand/warby-parker/', 'https://www.eco-stylist.com/ethical-brand/koio/', 'https://www.eco-stylist.com/ethical-brand/panafrica/', 'https://www.eco-stylist.com/ethical-brand/astor-orion/', 'https://www.eco-stylist.com/ethical-brand/selfmade/', 'https://www.eco-stylist.com/ethical-brand/organic-basics/', 'https://www.eco-stylist.com/ethical-brand/pangaia/', 'https://www.eco-stylist.com/ethical-brand/culthread/', 'https://www.eco-stylist.com/ethical-brand/sanvt/', 'https://www.eco-stylist.com/ethical-brand/ninety-percent/', 'https://www.eco-stylist.com/ethical-brand/nudie-jeans/', 'https://www.eco-stylist.com/ethical-brand/tentree/', 'https://www.eco-stylist.com/ethical-brand/bam-bamboo-clothing/'}\n"
     ]
    }
   ],
   "source": [
    "# scrape urls to brand reviews\n",
    "eco_stylist_brands = session.get(\"https://www.eco-stylist.com/sustainable-brands/\")\n",
    "content = BeautifulSoup(eco_stylist_brands.text, 'html.parser')\n",
    "# all links\n",
    "page_links = content.find_all(\"a\")\n",
    "# links to brand reviews\n",
    "brand_urls = set(link.get('href') for link in page_links if (\"https://www.eco-stylist.com/ethical-brand/\" in link.get('href')) and (link.get('href') != \"https://www.eco-stylist.com/ethical-brand/\"))\n",
    "\n",
    "print(brand_urls)"
   ]
  },
  {
   "cell_type": "code",
   "execution_count": 6,
   "metadata": {},
   "outputs": [],
   "source": [
    "# create dataframe \n",
    "eco_stylist_df = pd.DataFrame(columns=['Brand', 'Overall', 'Transparency', 'Fair Labor', 'Sustainably Made', 'URL'])"
   ]
  },
  {
   "cell_type": "code",
   "execution_count": 8,
   "metadata": {},
   "outputs": [],
   "source": [
    "# scrape for brand data\n",
    "for url in brand_urls:\n",
    "    # search for brand review\n",
    "    review = session.get(url)\n",
    "    \n",
    "    try:\n",
    "        # content\n",
    "        content = BeautifulSoup(review.text, 'html.parser')\n",
    "\n",
    "        # brand name\n",
    "        brand = content.find('h1').get_text()\n",
    "\n",
    "        # overall rating\n",
    "        overall = content.find(string=re.compile(\"Overall Rating:\")).split(\" \")[2]\n",
    "        \n",
    "        # transparency, fair labor, sustainably made\n",
    "        ratings = content.find_all(string=re.compile(\"Rated:\"))\n",
    "        transparency = ratings[0].split(\" \")[1]\n",
    "        fair_labor = ratings[1].split(\" \")[1]\n",
    "        sustainably_made = ratings[2].split(\" \")[1]\n",
    "\n",
    "        # update dataframe\n",
    "        eco_stylist_df.loc[len(eco_stylist_df.index)] = [brand, overall, transparency, fair_labor, sustainably_made, url]\n",
    "\n",
    "    except:\n",
    "        print(url + \" Failed to Load\")"
   ]
  },
  {
   "cell_type": "markdown",
   "metadata": {},
   "source": [
    "### Visualize the first 10 rows of the dataframe:"
   ]
  },
  {
   "cell_type": "code",
   "execution_count": 9,
   "metadata": {},
   "outputs": [
    {
     "data": {
      "text/html": [
       "<div>\n",
       "<style scoped>\n",
       "    .dataframe tbody tr th:only-of-type {\n",
       "        vertical-align: middle;\n",
       "    }\n",
       "\n",
       "    .dataframe tbody tr th {\n",
       "        vertical-align: top;\n",
       "    }\n",
       "\n",
       "    .dataframe thead th {\n",
       "        text-align: right;\n",
       "    }\n",
       "</style>\n",
       "<table border=\"1\" class=\"dataframe\">\n",
       "  <thead>\n",
       "    <tr style=\"text-align: right;\">\n",
       "      <th></th>\n",
       "      <th>Brand</th>\n",
       "      <th>Overall</th>\n",
       "      <th>Transparency</th>\n",
       "      <th>Fair Labor</th>\n",
       "      <th>Sustainably Made</th>\n",
       "      <th>URL</th>\n",
       "    </tr>\n",
       "  </thead>\n",
       "  <tbody>\n",
       "    <tr>\n",
       "      <th>0</th>\n",
       "      <td>Taylor Stitch</td>\n",
       "      <td>Silver</td>\n",
       "      <td>Good</td>\n",
       "      <td>Good</td>\n",
       "      <td>Excellent</td>\n",
       "      <td>https://www.eco-stylist.com/ethical-brand/tayl...</td>\n",
       "    </tr>\n",
       "    <tr>\n",
       "      <th>1</th>\n",
       "      <td>Reprise</td>\n",
       "      <td>Certified</td>\n",
       "      <td>Good</td>\n",
       "      <td>Good</td>\n",
       "      <td>Excellent</td>\n",
       "      <td>https://www.eco-stylist.com/ethical-brand/repr...</td>\n",
       "    </tr>\n",
       "    <tr>\n",
       "      <th>2</th>\n",
       "      <td>Unspun</td>\n",
       "      <td>Certified</td>\n",
       "      <td>Good</td>\n",
       "      <td>Fair</td>\n",
       "      <td>Excellent</td>\n",
       "      <td>https://www.eco-stylist.com/ethical-brand/unspun/</td>\n",
       "    </tr>\n",
       "    <tr>\n",
       "      <th>3</th>\n",
       "      <td>Groceries Apparel</td>\n",
       "      <td>Certified</td>\n",
       "      <td>Good</td>\n",
       "      <td>Good</td>\n",
       "      <td>Good</td>\n",
       "      <td>https://www.eco-stylist.com/ethical-brand/groc...</td>\n",
       "    </tr>\n",
       "    <tr>\n",
       "      <th>4</th>\n",
       "      <td>Po-Zu</td>\n",
       "      <td>Certified</td>\n",
       "      <td>Good</td>\n",
       "      <td>Good</td>\n",
       "      <td>Excellent</td>\n",
       "      <td>https://www.eco-stylist.com/ethical-brand/po-zu/</td>\n",
       "    </tr>\n",
       "    <tr>\n",
       "      <th>5</th>\n",
       "      <td>Kotn</td>\n",
       "      <td>Silver</td>\n",
       "      <td>Excellent</td>\n",
       "      <td>Good</td>\n",
       "      <td>Good</td>\n",
       "      <td>https://www.eco-stylist.com/ethical-brand/kotn/</td>\n",
       "    </tr>\n",
       "    <tr>\n",
       "      <th>6</th>\n",
       "      <td>Toad&amp;Co</td>\n",
       "      <td>Silver</td>\n",
       "      <td>Fair</td>\n",
       "      <td>Good</td>\n",
       "      <td>Excellent</td>\n",
       "      <td>https://www.eco-stylist.com/ethical-brand/toadco/</td>\n",
       "    </tr>\n",
       "    <tr>\n",
       "      <th>7</th>\n",
       "      <td>Hernest Project</td>\n",
       "      <td>Certified</td>\n",
       "      <td>Excellent</td>\n",
       "      <td>Good</td>\n",
       "      <td>Good</td>\n",
       "      <td>https://www.eco-stylist.com/ethical-brand/hern...</td>\n",
       "    </tr>\n",
       "    <tr>\n",
       "      <th>8</th>\n",
       "      <td>NAADAM</td>\n",
       "      <td>Certified</td>\n",
       "      <td>Good</td>\n",
       "      <td>Good</td>\n",
       "      <td>Excellent</td>\n",
       "      <td>https://www.eco-stylist.com/ethical-brand/naadam/</td>\n",
       "    </tr>\n",
       "    <tr>\n",
       "      <th>9</th>\n",
       "      <td>EDWIN</td>\n",
       "      <td>Certified</td>\n",
       "      <td>Excellent</td>\n",
       "      <td>Fair</td>\n",
       "      <td>Excellent</td>\n",
       "      <td>https://www.eco-stylist.com/ethical-brand/edwin/</td>\n",
       "    </tr>\n",
       "  </tbody>\n",
       "</table>\n",
       "</div>"
      ],
      "text/plain": [
       "               Brand    Overall Transparency Fair Labor Sustainably Made  \\\n",
       "0      Taylor Stitch     Silver         Good       Good        Excellent   \n",
       "1            Reprise  Certified         Good       Good        Excellent   \n",
       "2             Unspun  Certified         Good       Fair        Excellent   \n",
       "3  Groceries Apparel  Certified         Good       Good             Good   \n",
       "4              Po-Zu  Certified         Good       Good        Excellent   \n",
       "5               Kotn     Silver    Excellent       Good             Good   \n",
       "6            Toad&Co     Silver         Fair       Good        Excellent   \n",
       "7    Hernest Project  Certified    Excellent       Good             Good   \n",
       "8             NAADAM  Certified         Good       Good        Excellent   \n",
       "9              EDWIN  Certified    Excellent       Fair        Excellent   \n",
       "\n",
       "                                                 URL  \n",
       "0  https://www.eco-stylist.com/ethical-brand/tayl...  \n",
       "1  https://www.eco-stylist.com/ethical-brand/repr...  \n",
       "2  https://www.eco-stylist.com/ethical-brand/unspun/  \n",
       "3  https://www.eco-stylist.com/ethical-brand/groc...  \n",
       "4   https://www.eco-stylist.com/ethical-brand/po-zu/  \n",
       "5    https://www.eco-stylist.com/ethical-brand/kotn/  \n",
       "6  https://www.eco-stylist.com/ethical-brand/toadco/  \n",
       "7  https://www.eco-stylist.com/ethical-brand/hern...  \n",
       "8  https://www.eco-stylist.com/ethical-brand/naadam/  \n",
       "9   https://www.eco-stylist.com/ethical-brand/edwin/  "
      ]
     },
     "execution_count": 9,
     "metadata": {},
     "output_type": "execute_result"
    }
   ],
   "source": [
    "eco_stylist_df.head(10)"
   ]
  },
  {
   "cell_type": "code",
   "execution_count": 10,
   "metadata": {},
   "outputs": [],
   "source": [
    "# export csv file\n",
    "eco_stylist_df.to_csv('../data/eco_stylist_ratings.csv')"
   ]
  },
  {
   "cell_type": "markdown",
   "metadata": {},
   "source": [
    "## Part 2. Scraping Brand Review from Sustainable Review"
   ]
  },
  {
   "cell_type": "code",
   "execution_count": 16,
   "metadata": {},
   "outputs": [
    {
     "name": "stdout",
     "output_type": "stream",
     "text": [
      "38\n"
     ]
    }
   ],
   "source": [
    "# get page range\n",
    "first_page_url = \"https://sustainablereview.com/brand-ratings/\"\n",
    "first_page = session.get(first_page_url)\n",
    "content = BeautifulSoup(first_page.text, 'html.parser')\n",
    "# last page number out of all page numbers\n",
    "last_page_num = str(content.find_all('a', class_=\"page-numbers\")[-1]).split('>')[1].split('<')[0]\n",
    "\n",
    "print(last_page_num)"
   ]
  },
  {
   "cell_type": "code",
   "execution_count": 17,
   "metadata": {},
   "outputs": [
    {
     "name": "stdout",
     "output_type": "stream",
     "text": [
      "['https://sustainablereview.com/brand-ratings/division/', 'https://sustainablereview.com/brand-ratings/adidas/', 'https://sustainablereview.com/brand-ratings/adarche-clothing/', 'https://sustainablereview.com/brand-ratings/a-dam/', 'https://sustainablereview.com/brand-ratings/aestethic-london/', 'https://sustainablereview.com/brand-ratings/adelaide-c-ecoage/', 'https://sustainablereview.com/brand-ratings/337-brand/', 'https://sustainablereview.com/brand-ratings/a_c/', 'https://sustainablereview.com/brand-ratings/a-roege-hove/', 'https://sustainablereview.com/brand-ratings/adidas-by-stella-mccartney/', 'https://sustainablereview.com/brand-ratings/absolutely-bear/', 'https://sustainablereview.com/brand-ratings/acbc/', 'https://sustainablereview.com/brand-ratings/a-bch/', 'https://sustainablereview.com/brand-ratings/aeance/', 'https://sustainablereview.com/brand-ratings/afends/', 'https://sustainablereview.com/brand-ratings/a-happy-brand/', 'https://sustainablereview.com/brand-ratings/les-sublimes/', 'https://sustainablereview.com/brand-ratings/adele-dejak/', 'https://sustainablereview.com/brand-ratings/aera/', 'https://sustainablereview.com/brand-ratings/4kinship/', 'https://sustainablereview.com/brand-ratings/aarven/', 'https://sustainablereview.com/brand-ratings/agmes/', 'https://sustainablereview.com/brand-ratings/eyd/', 'https://sustainablereview.com/brand-ratings/7plis/', 'https://sustainablereview.com/brand-ratings/able/', 'https://sustainablereview.com/brand-ratings/afroblonde/', 'https://sustainablereview.com/brand-ratings/1-people/', 'https://sustainablereview.com/brand-ratings/a-a-k-s/', 'https://sustainablereview.com/brand-ratings/about-companions/', 'https://sustainablereview.com/brand-ratings/a-natural-connection/', 'https://sustainablereview.com/brand-ratings/aleem-yusuf/', 'https://sustainablereview.com/brand-ratings/alchemist/', 'https://sustainablereview.com/brand-ratings/amour-vert/', 'https://sustainablereview.com/brand-ratings/alighieri/', 'https://sustainablereview.com/brand-ratings/alkemie/', 'https://sustainablereview.com/brand-ratings/ambiletics/', 'https://sustainablereview.com/brand-ratings/altar/', 'https://sustainablereview.com/brand-ratings/allmade/', 'https://sustainablereview.com/brand-ratings/aiayu/', 'https://sustainablereview.com/brand-ratings/amadeus/', 'https://sustainablereview.com/brand-ratings/amber-days/', 'https://sustainablereview.com/brand-ratings/allthingsfi/', 'https://sustainablereview.com/brand-ratings/almost-there/', 'https://sustainablereview.com/brand-ratings/amber-goes-green/', 'https://sustainablereview.com/brand-ratings/amt/', 'https://sustainablereview.com/brand-ratings/alder/', 'https://sustainablereview.com/brand-ratings/all-blues/', 'https://sustainablereview.com/brand-ratings/ana-luisa/', 'https://sustainablereview.com/brand-ratings/akola/', 'https://sustainablereview.com/brand-ratings/ales-grey/', 'https://sustainablereview.com/brand-ratings/altra/', 'https://sustainablereview.com/brand-ratings/alter-x-company/', 'https://sustainablereview.com/brand-ratings/amaud/', 'https://sustainablereview.com/brand-ratings/alchemy-goods/', 'https://sustainablereview.com/brand-ratings/amble-outdoors/', 'https://sustainablereview.com/brand-ratings/amendi/', 'https://sustainablereview.com/brand-ratings/akoiaswim/', 'https://sustainablereview.com/brand-ratings/aks/', 'https://sustainablereview.com/brand-ratings/all-the-wild-roses/', 'https://sustainablereview.com/brand-ratings/akala/', 'https://sustainablereview.com/brand-ratings/another-tomorrow/', 'https://sustainablereview.com/brand-ratings/antti/', 'https://sustainablereview.com/brand-ratings/armedangels/', 'https://sustainablereview.com/brand-ratings/araks/', 'https://sustainablereview.com/brand-ratings/artichoke/', 'https://sustainablereview.com/brand-ratings/artknit-studios/', 'https://sustainablereview.com/brand-ratings/arnsdorf/', 'https://sustainablereview.com/brand-ratings/anthea-crawford/', 'https://sustainablereview.com/brand-ratings/anne-hermine/', 'https://sustainablereview.com/brand-ratings/ansea/', 'https://sustainablereview.com/brand-ratings/apres-studio/', 'https://sustainablereview.com/brand-ratings/artabaska/', 'https://sustainablereview.com/brand-ratings/anini/', 'https://sustainablereview.com/brand-ratings/antiform/', 'https://sustainablereview.com/brand-ratings/andorine/', 'https://sustainablereview.com/brand-ratings/arch4/', 'https://sustainablereview.com/brand-ratings/apple-oak-fibre-works/', 'https://sustainablereview.com/brand-ratings/andersen-andersen/', 'https://sustainablereview.com/brand-ratings/anabela-chan/', 'https://sustainablereview.com/brand-ratings/anywhere/', 'https://sustainablereview.com/brand-ratings/anekdot/', 'https://sustainablereview.com/brand-ratings/antonello-tedde/', 'https://sustainablereview.com/brand-ratings/arrels-barcelona/', 'https://sustainablereview.com/brand-ratings/anchal/', 'https://sustainablereview.com/brand-ratings/arcteryx/', 'https://sustainablereview.com/brand-ratings/angels-ambition/', 'https://sustainablereview.com/brand-ratings/arielle/', 'https://sustainablereview.com/brand-ratings/annie-hamilton/', 'https://sustainablereview.com/brand-ratings/article22/', 'https://sustainablereview.com/brand-ratings/andall/', 'https://sustainablereview.com/brand-ratings/bastet-noir/', 'https://sustainablereview.com/brand-ratings/baiia/', 'https://sustainablereview.com/brand-ratings/ball/', 'https://sustainablereview.com/brand-ratings/avani/', 'https://sustainablereview.com/brand-ratings/ask-scandinavia/', 'https://sustainablereview.com/brand-ratings/auterra/', 'https://sustainablereview.com/brand-ratings/avnier/', 'https://sustainablereview.com/brand-ratings/ay/', 'https://sustainablereview.com/brand-ratings/automic-gold/', 'https://sustainablereview.com/brand-ratings/atelier-lavoisier/', 'https://sustainablereview.com/brand-ratings/ayten-gasson/', 'https://sustainablereview.com/brand-ratings/bam-loves-boo/', 'https://sustainablereview.com/brand-ratings/asket/', 'https://sustainablereview.com/brand-ratings/bandsome/', 'https://sustainablereview.com/brand-ratings/aware-the-social-design-project/', 'https://sustainablereview.com/brand-ratings/auria-paris/', 'https://sustainablereview.com/brand-ratings/bam-bamboo-clothing/', 'https://sustainablereview.com/brand-ratings/band-of-rascals/', 'https://sustainablereview.com/brand-ratings/baggu/', 'https://sustainablereview.com/brand-ratings/balenciaga/', 'https://sustainablereview.com/brand-ratings/avila/', 'https://sustainablereview.com/brand-ratings/b-sides/', 'https://sustainablereview.com/brand-ratings/b_boheme/', 'https://sustainablereview.com/brand-ratings/b-l-a-h/', 'https://sustainablereview.com/brand-ratings/athleta/', 'https://sustainablereview.com/brand-ratings/aventura/', 'https://sustainablereview.com/brand-ratings/baserange/', 'https://sustainablereview.com/brand-ratings/autark/', 'https://sustainablereview.com/brand-ratings/aster-oak/', 'https://sustainablereview.com/brand-ratings/bario-neal/', 'https://sustainablereview.com/brand-ratings/bibico/', 'https://sustainablereview.com/brand-ratings/bellerose/', 'https://sustainablereview.com/brand-ratings/biehler/', 'https://sustainablereview.com/brand-ratings/blue-of-a-kind/', 'https://sustainablereview.com/brand-ratings/beezymama/', 'https://sustainablereview.com/brand-ratings/birdsong/', 'https://sustainablereview.com/brand-ratings/bleue-burnham/', 'https://sustainablereview.com/brand-ratings/better-world-fashion/', 'https://sustainablereview.com/brand-ratings/batch-1-uk/', 'https://sustainablereview.com/brand-ratings/blanche/', 'https://sustainablereview.com/brand-ratings/bleed/', 'https://sustainablereview.com/brand-ratings/baythe/', 'https://sustainablereview.com/brand-ratings/batoko/', 'https://sustainablereview.com/brand-ratings/bethany-williams/', 'https://sustainablereview.com/brand-ratings/bilboa/', 'https://sustainablereview.com/brand-ratings/bite/', 'https://sustainablereview.com/brand-ratings/blonde-gone-rogue/', 'https://sustainablereview.com/brand-ratings/bhumi/', 'https://sustainablereview.com/brand-ratings/billi-london/', 'https://sustainablereview.com/brand-ratings/biankina/', 'https://sustainablereview.com/brand-ratings/becci-boos-custom-shoes/', 'https://sustainablereview.com/brand-ratings/beyond-skin/', 'https://sustainablereview.com/brand-ratings/been-london/', 'https://sustainablereview.com/brand-ratings/bedi/', 'https://sustainablereview.com/brand-ratings/beekeeper-parade/', 'https://sustainablereview.com/brand-ratings/beulah/', 'https://sustainablereview.com/brand-ratings/bianca-spender/', 'https://sustainablereview.com/brand-ratings/behno/', 'https://sustainablereview.com/brand-ratings/baukjen/', 'https://sustainablereview.com/brand-ratings/beaumont-organic/', 'https://sustainablereview.com/brand-ratings/bogdar/', 'https://sustainablereview.com/brand-ratings/boma/', 'https://sustainablereview.com/brand-ratings/bottletop/', 'https://sustainablereview.com/brand-ratings/brothers-we-stand/', 'https://sustainablereview.com/brand-ratings/boob/', 'https://sustainablereview.com/brand-ratings/bunti/', 'https://sustainablereview.com/brand-ratings/buff/', 'https://sustainablereview.com/brand-ratings/brava-fabrics/', 'https://sustainablereview.com/brand-ratings/burgeon-outdoor/', 'https://sustainablereview.com/brand-ratings/boyish/', 'https://sustainablereview.com/brand-ratings/bower/', 'https://sustainablereview.com/brand-ratings/boa-basics/', 'https://sustainablereview.com/brand-ratings/bowbo/', 'https://sustainablereview.com/brand-ratings/blufruit/', 'https://sustainablereview.com/brand-ratings/bobo-global/', 'https://sustainablereview.com/brand-ratings/bring/', 'https://sustainablereview.com/brand-ratings/bolso/', 'https://sustainablereview.com/brand-ratings/boll-branch/', 'https://sustainablereview.com/brand-ratings/boody/', 'https://sustainablereview.com/brand-ratings/bozena-jankowska/', 'https://sustainablereview.com/brand-ratings/bonito/', 'https://sustainablereview.com/brand-ratings/bluebuck/', 'https://sustainablereview.com/brand-ratings/bon-label/', 'https://sustainablereview.com/brand-ratings/bougainvillea-london/', 'https://sustainablereview.com/brand-ratings/blue-wren-collective/', 'https://sustainablereview.com/brand-ratings/boucheron/', 'https://sustainablereview.com/brand-ratings/bobo-choses/', 'https://sustainablereview.com/brand-ratings/blutsgeschwister/', 'https://sustainablereview.com/brand-ratings/botto-giuseppe/', 'https://sustainablereview.com/brand-ratings/bondi-born/', 'https://sustainablereview.com/brand-ratings/casa-raki/', 'https://sustainablereview.com/brand-ratings/casagin/', 'https://sustainablereview.com/brand-ratings/chillax/', 'https://sustainablereview.com/brand-ratings/cafin/', 'https://sustainablereview.com/brand-ratings/by-walid/', 'https://sustainablereview.com/brand-ratings/bushy/', 'https://sustainablereview.com/brand-ratings/camp-cove-swim/', 'https://sustainablereview.com/brand-ratings/charlee-swim/', 'https://sustainablereview.com/brand-ratings/carlie-ballard/', 'https://sustainablereview.com/brand-ratings/charlie-mae-swimwear/', 'https://sustainablereview.com/brand-ratings/chick-lane/', 'https://sustainablereview.com/brand-ratings/care-by-me/', 'https://sustainablereview.com/brand-ratings/catarina-mina/', 'https://sustainablereview.com/brand-ratings/burnt-soul/', 'https://sustainablereview.com/brand-ratings/burton/', 'https://sustainablereview.com/brand-ratings/cageys-planet/', 'https://sustainablereview.com/brand-ratings/caes/', 'https://sustainablereview.com/brand-ratings/bybba/', 'https://sustainablereview.com/brand-ratings/carpasus/', 'https://sustainablereview.com/brand-ratings/carmina-campus/', 'https://sustainablereview.com/brand-ratings/capodimonti-cashmere/', 'https://sustainablereview.com/brand-ratings/charli-cohen/', 'https://sustainablereview.com/brand-ratings/casupo/', 'https://sustainablereview.com/brand-ratings/caftanii/', 'https://sustainablereview.com/brand-ratings/chelsea-bravo/', 'https://sustainablereview.com/brand-ratings/cariuma/', 'https://sustainablereview.com/brand-ratings/calle-del-mar/', 'https://sustainablereview.com/brand-ratings/casco-totes/', 'https://sustainablereview.com/brand-ratings/chic-made-consciously/', 'https://sustainablereview.com/brand-ratings/carcel/', 'https://sustainablereview.com/brand-ratings/cog/', 'https://sustainablereview.com/brand-ratings/classic-cotton-co/', 'https://sustainablereview.com/brand-ratings/coalatree/', 'https://sustainablereview.com/brand-ratings/club-chainstitch/', 'https://sustainablereview.com/brand-ratings/contessa-volpi/', 'https://sustainablereview.com/brand-ratings/coolawoola/', 'https://sustainablereview.com/brand-ratings/ciganka-artforms-from-nature/', 'https://sustainablereview.com/brand-ratings/cossac/', 'https://sustainablereview.com/brand-ratings/colieco/', 'https://sustainablereview.com/brand-ratings/coq-en-pate/', 'https://sustainablereview.com/brand-ratings/chnge/', 'https://sustainablereview.com/brand-ratings/chpo/', 'https://sustainablereview.com/brand-ratings/cingomma/', 'https://sustainablereview.com/brand-ratings/coco-kandy/', 'https://sustainablereview.com/brand-ratings/christy-dawn/', 'https://sustainablereview.com/brand-ratings/come-back-as-a-flower/', 'https://sustainablereview.com/brand-ratings/corkor/', 'https://sustainablereview.com/brand-ratings/circos/', 'https://sustainablereview.com/brand-ratings/citizen-wolf/', 'https://sustainablereview.com/brand-ratings/clubhouse-vintage/', 'https://sustainablereview.com/brand-ratings/continew/', 'https://sustainablereview.com/brand-ratings/cleobella/', 'https://sustainablereview.com/brand-ratings/cloudy/', 'https://sustainablereview.com/brand-ratings/circle-sportswear/', 'https://sustainablereview.com/brand-ratings/chopova-lowena/', 'https://sustainablereview.com/brand-ratings/conscious-step/', 'https://sustainablereview.com/brand-ratings/colorado-threads/', 'https://sustainablereview.com/brand-ratings/colorful-standard/', 'https://sustainablereview.com/brand-ratings/conscious-the-label/', 'https://sustainablereview.com/brand-ratings/converse/', 'https://sustainablereview.com/brand-ratings/dai/', 'https://sustainablereview.com/brand-ratings/deadwood/', 'https://sustainablereview.com/brand-ratings/dear-darling-berlin/', 'https://sustainablereview.com/brand-ratings/dedicated/', 'https://sustainablereview.com/brand-ratings/ddepartment/', 'https://sustainablereview.com/brand-ratings/day-won/', 'https://sustainablereview.com/brand-ratings/coyuchi/', 'https://sustainablereview.com/brand-ratings/diemonde/', 'https://sustainablereview.com/brand-ratings/dilli-grey/', 'https://sustainablereview.com/brand-ratings/desmond-dempsey/', 'https://sustainablereview.com/brand-ratings/dickies/', 'https://sustainablereview.com/brand-ratings/daywearlab/', 'https://sustainablereview.com/brand-ratings/dapper-alice/', 'https://sustainablereview.com/brand-ratings/desert-dyes/', 'https://sustainablereview.com/brand-ratings/deux-mains/', 'https://sustainablereview.com/brand-ratings/delayne-dixon/', 'https://sustainablereview.com/brand-ratings/crystalyn-kae/', 'https://sustainablereview.com/brand-ratings/dharma-bums/', 'https://sustainablereview.com/brand-ratings/cotopaxi/', 'https://sustainablereview.com/brand-ratings/cousin-billie/', 'https://sustainablereview.com/brand-ratings/dawn-denim/', 'https://sustainablereview.com/brand-ratings/dear-denier/', 'https://sustainablereview.com/brand-ratings/destination-dress/', 'https://sustainablereview.com/brand-ratings/delikate-rayne/', 'https://sustainablereview.com/brand-ratings/designers-remix/', 'https://sustainablereview.com/brand-ratings/culthread/', 'https://sustainablereview.com/brand-ratings/cuisse-de-grenouille/', 'https://sustainablereview.com/brand-ratings/dillysocks/', 'https://sustainablereview.com/brand-ratings/dazey-la/', 'https://sustainablereview.com/brand-ratings/cus/', 'https://sustainablereview.com/brand-ratings/econscious/', 'https://sustainablereview.com/brand-ratings/ecoright/', 'https://sustainablereview.com/brand-ratings/divine/', 'https://sustainablereview.com/brand-ratings/ecuvo/', 'https://sustainablereview.com/brand-ratings/e-l-v-denim/', 'https://sustainablereview.com/brand-ratings/eclipse/', 'https://sustainablereview.com/brand-ratings/donatella-fabio-beachwear/', 'https://sustainablereview.com/brand-ratings/eguzkilore/', 'https://sustainablereview.com/brand-ratings/eileen-fisher/', 'https://sustainablereview.com/brand-ratings/dominique-healy/', 'https://sustainablereview.com/brand-ratings/duchxfashion/', 'https://sustainablereview.com/brand-ratings/ecoology/', 'https://sustainablereview.com/brand-ratings/dimples/', 'https://sustainablereview.com/brand-ratings/dresden/', 'https://sustainablereview.com/brand-ratings/eco-intimates/', 'https://sustainablereview.com/brand-ratings/dirty-velvet/', 'https://sustainablereview.com/brand-ratings/dots-on-tots/', 'https://sustainablereview.com/brand-ratings/ekta-helsinki/', 'https://sustainablereview.com/brand-ratings/doen/', 'https://sustainablereview.com/brand-ratings/dora-larsen/', 'https://sustainablereview.com/brand-ratings/edeline-lee/', 'https://sustainablereview.com/brand-ratings/edwin-usa/', 'https://sustainablereview.com/brand-ratings/ecologie-by-awdis/', 'https://sustainablereview.com/brand-ratings/earth-divas/', 'https://sustainablereview.com/brand-ratings/dressarte-paris/', 'https://sustainablereview.com/brand-ratings/drivemebikini/', 'https://sustainablereview.com/brand-ratings/dreamers-drifters/', 'https://sustainablereview.com/brand-ratings/dorsu/', 'https://sustainablereview.com/brand-ratings/ecoalf/', 'https://sustainablereview.com/brand-ratings/dk-active/', 'https://sustainablereview.com/brand-ratings/encircled/', 'https://sustainablereview.com/brand-ratings/ettitude/', 'https://sustainablereview.com/brand-ratings/elk/', 'https://sustainablereview.com/brand-ratings/erlich-textil/', 'https://sustainablereview.com/brand-ratings/elle-evans/', 'https://sustainablereview.com/brand-ratings/everpress/', 'https://sustainablereview.com/brand-ratings/elkline/', 'https://sustainablereview.com/brand-ratings/ethletic/', 'https://sustainablereview.com/brand-ratings/etiko/', 'https://sustainablereview.com/brand-ratings/etq/', 'https://sustainablereview.com/brand-ratings/etica/', 'https://sustainablereview.com/brand-ratings/enfant-terrible/', 'https://sustainablereview.com/brand-ratings/elvis-kresse/', 'https://sustainablereview.com/brand-ratings/elegantees/', 'https://sustainablereview.com/brand-ratings/fabrik/', 'https://sustainablereview.com/brand-ratings/enter-the-e/', 'https://sustainablereview.com/brand-ratings/ella-witt/', 'https://sustainablereview.com/brand-ratings/elsien-gringhuis/', 'https://sustainablereview.com/brand-ratings/ella-fashion/', 'https://sustainablereview.com/brand-ratings/engel/', 'https://sustainablereview.com/brand-ratings/erin-draper/', 'https://sustainablereview.com/brand-ratings/endless-joy/', 'https://sustainablereview.com/brand-ratings/elliss/', 'https://sustainablereview.com/brand-ratings/elizabeth-suzann-studio/', 'https://sustainablereview.com/brand-ratings/emoi-emoi/', 'https://sustainablereview.com/brand-ratings/escama-studio/', 'https://sustainablereview.com/brand-ratings/eleven44/', 'https://sustainablereview.com/brand-ratings/erba/', 'https://sustainablereview.com/brand-ratings/endangered/', 'https://sustainablereview.com/brand-ratings/el-naturalista/', 'https://sustainablereview.com/brand-ratings/flamingos-life/', 'https://sustainablereview.com/brand-ratings/flowfold/', 'https://sustainablereview.com/brand-ratings/franc/', 'https://sustainablereview.com/brand-ratings/flare-street/', 'https://sustainablereview.com/brand-ratings/ftc-cashmere/', 'https://sustainablereview.com/brand-ratings/fjallraven/', 'https://sustainablereview.com/brand-ratings/florence-given/', 'https://sustainablereview.com/brand-ratings/flax-and-loom/', 'https://sustainablereview.com/brand-ratings/freitag/', 'https://sustainablereview.com/brand-ratings/foret/', 'https://sustainablereview.com/brand-ratings/fairechild/', 'https://sustainablereview.com/brand-ratings/frankie-collective/', 'https://sustainablereview.com/brand-ratings/floris-van-bommel/', 'https://sustainablereview.com/brand-ratings/for-love-and-lemons/', 'https://sustainablereview.com/brand-ratings/fm-669/', 'https://sustainablereview.com/brand-ratings/freed/', 'https://sustainablereview.com/brand-ratings/faithfull-the-brand/', 'https://sustainablereview.com/brand-ratings/fayettechill/', 'https://sustainablereview.com/brand-ratings/futura-jewelry/', 'https://sustainablereview.com/brand-ratings/fil-melange/', 'https://sustainablereview.com/brand-ratings/free-label/', 'https://sustainablereview.com/brand-ratings/fair-indigo/', 'https://sustainablereview.com/brand-ratings/fair-harbor/', 'https://sustainablereview.com/brand-ratings/frugi/', 'https://sustainablereview.com/brand-ratings/fresh-cuts-clothing/', 'https://sustainablereview.com/brand-ratings/fanfare/', 'https://sustainablereview.com/brand-ratings/farm-to-hanger/', 'https://sustainablereview.com/brand-ratings/finisterre/', 'https://sustainablereview.com/brand-ratings/finn-emma/', 'https://sustainablereview.com/brand-ratings/ftla-apparel/', 'https://sustainablereview.com/brand-ratings/general-sleep/', 'https://sustainablereview.com/brand-ratings/good-for-sunday/', 'https://sustainablereview.com/brand-ratings/graceful-district/', 'https://sustainablereview.com/brand-ratings/garcon-francais/', 'https://sustainablereview.com/brand-ratings/goodee/', 'https://sustainablereview.com/brand-ratings/galamaar/', 'https://sustainablereview.com/brand-ratings/gary-mash/', 'https://sustainablereview.com/brand-ratings/goddess-gear/', 'https://sustainablereview.com/brand-ratings/good-citizens-eyewear/', 'https://sustainablereview.com/brand-ratings/girlfriend-collective/', 'https://sustainablereview.com/brand-ratings/gailisva/', 'https://sustainablereview.com/brand-ratings/gaia-segattini-knotwear/', 'https://sustainablereview.com/brand-ratings/grammar/', 'https://sustainablereview.com/brand-ratings/greenfibres/', 'https://sustainablereview.com/brand-ratings/gina-marie-handbags/', 'https://sustainablereview.com/brand-ratings/gergana-ivanova/', 'https://sustainablereview.com/brand-ratings/good-guys/', 'https://sustainablereview.com/brand-ratings/got-bag/', 'https://sustainablereview.com/brand-ratings/goodsociety/', 'https://sustainablereview.com/brand-ratings/goodtrip/', 'https://sustainablereview.com/brand-ratings/goat-organic-apparel/', 'https://sustainablereview.com/brand-ratings/glass-onion/', 'https://sustainablereview.com/brand-ratings/go-gently-nation/', 'https://sustainablereview.com/brand-ratings/gr10k/', 'https://sustainablereview.com/brand-ratings/gray-label/', 'https://sustainablereview.com/brand-ratings/go-as-u-r/', 'https://sustainablereview.com/brand-ratings/gaia-conceptions/', 'https://sustainablereview.com/brand-ratings/greenpacha/', 'https://sustainablereview.com/brand-ratings/gazur/', 'https://sustainablereview.com/brand-ratings/granelito/', 'https://sustainablereview.com/brand-ratings/greg-lauren/', 'https://sustainablereview.com/brand-ratings/herdentier/', 'https://sustainablereview.com/brand-ratings/groundtruth/', 'https://sustainablereview.com/brand-ratings/guterstoff/', 'https://sustainablereview.com/brand-ratings/hara-the-label/', 'https://sustainablereview.com/brand-ratings/holly-ryan/', 'https://sustainablereview.com/brand-ratings/gunda-hafner/', 'https://sustainablereview.com/brand-ratings/hocosa/', 'https://sustainablereview.com/brand-ratings/hernest-project/', 'https://sustainablereview.com/brand-ratings/hindbag/', 'https://sustainablereview.com/brand-ratings/groceries-apparel/', 'https://sustainablereview.com/brand-ratings/herth/', 'https://sustainablereview.com/brand-ratings/gung-ho-design/', 'https://sustainablereview.com/brand-ratings/hackwith-design-house/', 'https://sustainablereview.com/brand-ratings/happy-earth-apparel/', 'https://sustainablereview.com/brand-ratings/harpersage/', 'https://sustainablereview.com/brand-ratings/hnst/', 'https://sustainablereview.com/brand-ratings/gugguu/', 'https://sustainablereview.com/brand-ratings/grounded-people/', 'https://sustainablereview.com/brand-ratings/grune-erde/', 'https://sustainablereview.com/brand-ratings/haikure/', 'https://sustainablereview.com/brand-ratings/harly-jae/', 'https://sustainablereview.com/brand-ratings/harvest-mill/', 'https://sustainablereview.com/brand-ratings/hemen-biarritz/', 'https://sustainablereview.com/brand-ratings/hailey-gerrits/', 'https://sustainablereview.com/brand-ratings/heiko/', 'https://sustainablereview.com/brand-ratings/gyre/', 'https://sustainablereview.com/brand-ratings/harriet-morris/', 'https://sustainablereview.com/brand-ratings/haglofs/', 'https://sustainablereview.com/brand-ratings/gunas/', 'https://sustainablereview.com/brand-ratings/indiebride/', 'https://sustainablereview.com/brand-ratings/hopaal/', 'https://sustainablereview.com/brand-ratings/isla-in-bloom/', 'https://sustainablereview.com/brand-ratings/ingmarson/', 'https://sustainablereview.com/brand-ratings/iron-roots/', 'https://sustainablereview.com/brand-ratings/jack-wolfskin/', 'https://sustainablereview.com/brand-ratings/honest-basics/', 'https://sustainablereview.com/brand-ratings/hopeless-lingerie/', 'https://sustainablereview.com/brand-ratings/iq-uv/', 'https://sustainablereview.com/brand-ratings/intoa-design/', 'https://sustainablereview.com/brand-ratings/icebug/', 'https://sustainablereview.com/brand-ratings/hyer-goods/', 'https://sustainablereview.com/brand-ratings/hoppidi-handmade/', 'https://sustainablereview.com/brand-ratings/infantium-victoria/', 'https://sustainablereview.com/brand-ratings/j-hannah/', 'https://sustainablereview.com/brand-ratings/in2green/', 'https://sustainablereview.com/brand-ratings/houdini/', 'https://sustainablereview.com/brand-ratings/indigenous/', 'https://sustainablereview.com/brand-ratings/horizon-athletic/', 'https://sustainablereview.com/brand-ratings/id-eight/', 'https://sustainablereview.com/brand-ratings/jackalo/', 'https://sustainablereview.com/brand-ratings/indego-africa/', 'https://sustainablereview.com/brand-ratings/in-the-soulshine/', 'https://sustainablereview.com/brand-ratings/i-was-a-sari/', 'https://sustainablereview.com/brand-ratings/icebreaker/', 'https://sustainablereview.com/brand-ratings/isto/', 'https://sustainablereview.com/brand-ratings/ilovemixtapes/', 'https://sustainablereview.com/brand-ratings/ilk-ernie/', 'https://sustainablereview.com/brand-ratings/homie/', 'https://sustainablereview.com/brand-ratings/imdividual/', 'https://sustainablereview.com/brand-ratings/kasurekids/', 'https://sustainablereview.com/brand-ratings/katharine-hamnett/', 'https://sustainablereview.com/brand-ratings/junk-studios/', 'https://sustainablereview.com/brand-ratings/jennifer-behr/', 'https://sustainablereview.com/brand-ratings/joyn/', 'https://sustainablereview.com/brand-ratings/jillian-boustred/', 'https://sustainablereview.com/brand-ratings/jaffic/', 'https://sustainablereview.com/brand-ratings/jackfruit-the-label/', 'https://sustainablereview.com/brand-ratings/joyya/', 'https://sustainablereview.com/brand-ratings/jamie-the-jones/', 'https://sustainablereview.com/brand-ratings/jan-n-june/', 'https://sustainablereview.com/brand-ratings/kapok-knot/', 'https://sustainablereview.com/brand-ratings/jenny-yoo/', 'https://sustainablereview.com/brand-ratings/kampos/', 'https://sustainablereview.com/brand-ratings/jungle-folk/', 'https://sustainablereview.com/brand-ratings/joslin/', 'https://sustainablereview.com/brand-ratings/johnstons-of-elgin/', 'https://sustainablereview.com/brand-ratings/juwelier-willer/', 'https://sustainablereview.com/brand-ratings/just-bee-queen/', 'https://sustainablereview.com/brand-ratings/kapten-son/', 'https://sustainablereview.com/brand-ratings/jamido/', 'https://sustainablereview.com/brand-ratings/jammacaps/', 'https://sustainablereview.com/brand-ratings/kalaurie/', 'https://sustainablereview.com/brand-ratings/kattan/', 'https://sustainablereview.com/brand-ratings/joanie/', 'https://sustainablereview.com/brand-ratings/jyoti-fair-works/', 'https://sustainablereview.com/brand-ratings/jem/', 'https://sustainablereview.com/brand-ratings/kay-konecna-studio/', 'https://sustainablereview.com/brand-ratings/katla/', 'https://sustainablereview.com/brand-ratings/josette-la-chouette/', 'https://sustainablereview.com/brand-ratings/kozii-swimwear/', 'https://sustainablereview.com/brand-ratings/kekai-swimwear/', 'https://sustainablereview.com/brand-ratings/kokoworld/', 'https://sustainablereview.com/brand-ratings/knowledgecotton-apparel/', 'https://sustainablereview.com/brand-ratings/kimoa/', 'https://sustainablereview.com/brand-ratings/kowtow/', 'https://sustainablereview.com/brand-ratings/knock-knock/', 'https://sustainablereview.com/brand-ratings/kings-of-indigo/', 'https://sustainablereview.com/brand-ratings/known-supply/', 'https://sustainablereview.com/brand-ratings/klattermusen/', 'https://sustainablereview.com/brand-ratings/krochet-kids/', 'https://sustainablereview.com/brand-ratings/knickey/', 'https://sustainablereview.com/brand-ratings/koio/', 'https://sustainablereview.com/brand-ratings/kotn/', 'https://sustainablereview.com/brand-ratings/know-the-origin/', 'https://sustainablereview.com/brand-ratings/kilomet109/', 'https://sustainablereview.com/brand-ratings/kent/', 'https://sustainablereview.com/brand-ratings/konges-slojd/', 'https://sustainablereview.com/brand-ratings/korali/', 'https://sustainablereview.com/brand-ratings/kiku-boutique/', 'https://sustainablereview.com/brand-ratings/kitikate/', 'https://sustainablereview.com/brand-ratings/kuyichi/', 'https://sustainablereview.com/brand-ratings/kids-worldwide/', 'https://sustainablereview.com/brand-ratings/kimai/', 'https://sustainablereview.com/brand-ratings/kuwaii/', 'https://sustainablereview.com/brand-ratings/kidsofbrokenfuture/', 'https://sustainablereview.com/brand-ratings/kordal-studio/', 'https://sustainablereview.com/brand-ratings/kizasi/', 'https://sustainablereview.com/brand-ratings/kohr/', 'https://sustainablereview.com/brand-ratings/komodo/', 'https://sustainablereview.com/brand-ratings/lazy-oaf/', 'https://sustainablereview.com/brand-ratings/labienhecha/', 'https://sustainablereview.com/brand-ratings/lana/', 'https://sustainablereview.com/brand-ratings/lemlem/', 'https://sustainablereview.com/brand-ratings/lauren-holloway/', 'https://sustainablereview.com/brand-ratings/lapuan-kankurit/', 'https://sustainablereview.com/brand-ratings/lanius/', 'https://sustainablereview.com/brand-ratings/la-fille-do/', 'https://sustainablereview.com/brand-ratings/leanne-marshall/', 'https://sustainablereview.com/brand-ratings/lenvers/', 'https://sustainablereview.com/brand-ratings/laura-lombardi/', 'https://sustainablereview.com/brand-ratings/ldp/', 'https://sustainablereview.com/brand-ratings/leni-swims/', 'https://sustainablereview.com/brand-ratings/laura-elizabeth-jewelry/', 'https://sustainablereview.com/brand-ratings/kzeniya/', 'https://sustainablereview.com/brand-ratings/la-methode/', 'https://sustainablereview.com/brand-ratings/lando-studio/', 'https://sustainablereview.com/brand-ratings/les-boutons/', 'https://sustainablereview.com/brand-ratings/lefrik/', 'https://sustainablereview.com/brand-ratings/la-bottega-di-brunella/', 'https://sustainablereview.com/brand-ratings/leisure-lab/', 'https://sustainablereview.com/brand-ratings/langerchen/', 'https://sustainablereview.com/brand-ratings/labante/', 'https://sustainablereview.com/brand-ratings/kysal/', 'https://sustainablereview.com/brand-ratings/laudae/', 'https://sustainablereview.com/brand-ratings/la-relaxed/', 'https://sustainablereview.com/brand-ratings/lamade-clothing/', 'https://sustainablereview.com/brand-ratings/le-loopas/', 'https://sustainablereview.com/brand-ratings/lacher-prise/', 'https://sustainablereview.com/brand-ratings/lestrange-london/', 'https://sustainablereview.com/brand-ratings/libeco/', 'https://sustainablereview.com/brand-ratings/little-man-happy/', 'https://sustainablereview.com/brand-ratings/loffler/', 'https://sustainablereview.com/brand-ratings/londre-bodywear/', 'https://sustainablereview.com/brand-ratings/little-green-radicals/', 'https://sustainablereview.com/brand-ratings/living-crafts/', 'https://sustainablereview.com/brand-ratings/lonely-kids-club/', 'https://sustainablereview.com/brand-ratings/london-w11/', 'https://sustainablereview.com/brand-ratings/lezat/', 'https://sustainablereview.com/brand-ratings/linenfox/', 'https://sustainablereview.com/brand-ratings/losano/', 'https://sustainablereview.com/brand-ratings/little-emperor/', 'https://sustainablereview.com/brand-ratings/loci/', 'https://sustainablereview.com/brand-ratings/looptworks/', 'https://sustainablereview.com/brand-ratings/lilian-von-trapp/', 'https://sustainablereview.com/brand-ratings/lndr/', 'https://sustainablereview.com/brand-ratings/lola-stella/', 'https://sustainablereview.com/brand-ratings/livra/', 'https://sustainablereview.com/brand-ratings/local-european/', 'https://sustainablereview.com/brand-ratings/linen-wedding-dress/', 'https://sustainablereview.com/brand-ratings/lilac-limited-crochet/', 'https://sustainablereview.com/brand-ratings/lost-in-paris/', 'https://sustainablereview.com/brand-ratings/loud-proud/', 'https://sustainablereview.com/brand-ratings/lionel-the-label/', 'https://sustainablereview.com/brand-ratings/linenbee/', 'https://sustainablereview.com/brand-ratings/longevity-london/', 'https://sustainablereview.com/brand-ratings/loop-swim/', 'https://sustainablereview.com/brand-ratings/les-recuperables/', 'https://sustainablereview.com/brand-ratings/licia-florio/', 'https://sustainablereview.com/brand-ratings/little-nature-lover/', 'https://sustainablereview.com/brand-ratings/lovjoi/', 'https://sustainablereview.com/brand-ratings/luna-rose/', 'https://sustainablereview.com/brand-ratings/luva-huva/', 'https://sustainablereview.com/brand-ratings/luxtra/', 'https://sustainablereview.com/brand-ratings/marks-spencer/', 'https://sustainablereview.com/brand-ratings/magiclinen/', 'https://sustainablereview.com/brand-ratings/magpie-goose/', 'https://sustainablereview.com/brand-ratings/manimekala/', 'https://sustainablereview.com/brand-ratings/love-and-confuse/', 'https://sustainablereview.com/brand-ratings/loyal-e-paris/', 'https://sustainablereview.com/brand-ratings/lucy-yak/', 'https://sustainablereview.com/brand-ratings/lusana/', 'https://sustainablereview.com/brand-ratings/malaika-new-york/', 'https://sustainablereview.com/brand-ratings/maggie-marilyn/', 'https://sustainablereview.com/brand-ratings/lunge/', 'https://sustainablereview.com/brand-ratings/love-brand-co/', 'https://sustainablereview.com/brand-ratings/mariclaro/', 'https://sustainablereview.com/brand-ratings/mamalicious/', 'https://sustainablereview.com/brand-ratings/mantis-world/', 'https://sustainablereview.com/brand-ratings/luna-sun/', 'https://sustainablereview.com/brand-ratings/make-an-impact/', 'https://sustainablereview.com/brand-ratings/mara-hoffman/', 'https://sustainablereview.com/brand-ratings/lovelux/', 'https://sustainablereview.com/brand-ratings/marcia/', 'https://sustainablereview.com/brand-ratings/madia-matilda/', 'https://sustainablereview.com/brand-ratings/mandala/', 'https://sustainablereview.com/brand-ratings/magenta-threads/', 'https://sustainablereview.com/brand-ratings/louisa-parris/', 'https://sustainablereview.com/brand-ratings/loudbodies/', 'https://sustainablereview.com/brand-ratings/mario-doni/', 'https://sustainablereview.com/brand-ratings/mate-the-label/', 'https://sustainablereview.com/brand-ratings/mimi-holvast/', 'https://sustainablereview.com/brand-ratings/martha-medeiros/', 'https://sustainablereview.com/brand-ratings/mars-loves-her/', 'https://sustainablereview.com/brand-ratings/mimikri/', 'https://sustainablereview.com/brand-ratings/materiel/', 'https://sustainablereview.com/brand-ratings/maxomorra/', 'https://sustainablereview.com/brand-ratings/miik/', 'https://sustainablereview.com/brand-ratings/meemoza/', 'https://sustainablereview.com/brand-ratings/marlies-dekkers/', 'https://sustainablereview.com/brand-ratings/merry-people/', 'https://sustainablereview.com/brand-ratings/mimi-prober/', 'https://sustainablereview.com/brand-ratings/mashu/', 'https://sustainablereview.com/brand-ratings/milkweed-baby/', 'https://sustainablereview.com/brand-ratings/mayamiko/', 'https://sustainablereview.com/brand-ratings/mata-traders/', 'https://sustainablereview.com/brand-ratings/melissa-joy-manning/', 'https://sustainablereview.com/brand-ratings/maya-magal/', 'https://sustainablereview.com/brand-ratings/miakoda/', 'https://sustainablereview.com/brand-ratings/milonicki/', 'https://sustainablereview.com/brand-ratings/mighty-good-basics/', 'https://sustainablereview.com/brand-ratings/mien/', 'https://sustainablereview.com/brand-ratings/matona/', 'https://sustainablereview.com/brand-ratings/megan-leone-designs/', 'https://sustainablereview.com/brand-ratings/miaou/', 'https://sustainablereview.com/brand-ratings/melawear/', 'https://sustainablereview.com/brand-ratings/mila-vert/', 'https://sustainablereview.com/brand-ratings/mightly/', 'https://sustainablereview.com/brand-ratings/miga-swimwear/', 'https://sustainablereview.com/brand-ratings/martina-spetlova/', 'https://sustainablereview.com/brand-ratings/muchachomalo/', 'https://sustainablereview.com/brand-ratings/mireia-playa/', 'https://sustainablereview.com/brand-ratings/mini-a-ture/', 'https://sustainablereview.com/brand-ratings/mother-of-pearl/', 'https://sustainablereview.com/brand-ratings/mori/', 'https://sustainablereview.com/brand-ratings/mini-rodini/', 'https://sustainablereview.com/brand-ratings/molo/', 'https://sustainablereview.com/brand-ratings/most-prominent-co/', 'https://sustainablereview.com/brand-ratings/mmb-by-hand/', 'https://sustainablereview.com/brand-ratings/mnmur/', 'https://sustainablereview.com/brand-ratings/monica-andy/', 'https://sustainablereview.com/brand-ratings/monkee-genes/', 'https://sustainablereview.com/brand-ratings/modallica/', 'https://sustainablereview.com/brand-ratings/mud-jeans/', 'https://sustainablereview.com/brand-ratings/monkind/', 'https://sustainablereview.com/brand-ratings/mirasa-design/', 'https://sustainablereview.com/brand-ratings/monsoon-blooms/', 'https://sustainablereview.com/brand-ratings/minimalist/', 'https://sustainablereview.com/brand-ratings/mochi/', 'https://sustainablereview.com/brand-ratings/miss-rose-sister-violet/', 'https://sustainablereview.com/brand-ratings/mworks/', 'https://sustainablereview.com/brand-ratings/ministry-of-supply/', 'https://sustainablereview.com/brand-ratings/moumout/', 'https://sustainablereview.com/brand-ratings/missing/', 'https://sustainablereview.com/brand-ratings/minimalisticlinen/', 'https://sustainablereview.com/brand-ratings/miusa/', 'https://sustainablereview.com/brand-ratings/monica-vinader/', 'https://sustainablereview.com/brand-ratings/mumutane/', 'https://sustainablereview.com/brand-ratings/modibodi/', 'https://sustainablereview.com/brand-ratings/morgan-lane/', 'https://sustainablereview.com/brand-ratings/natalie-perry/', 'https://sustainablereview.com/brand-ratings/nat-2/', 'https://sustainablereview.com/brand-ratings/neu-nomads/', 'https://sustainablereview.com/brand-ratings/natalie-rolt/', 'https://sustainablereview.com/brand-ratings/neem/', 'https://sustainablereview.com/brand-ratings/nago/', 'https://sustainablereview.com/brand-ratings/nightswim/', 'https://sustainablereview.com/brand-ratings/nae-vegan-shoes/', 'https://sustainablereview.com/brand-ratings/naadam/', 'https://sustainablereview.com/brand-ratings/nikin/', 'https://sustainablereview.com/brand-ratings/niciart/', 'https://sustainablereview.com/brand-ratings/myrrhia-fine-knitwear/', 'https://sustainablereview.com/brand-ratings/mymarini/', 'https://sustainablereview.com/brand-ratings/nena-co/', 'https://sustainablereview.com/brand-ratings/natalie-marie-jewellery/', 'https://sustainablereview.com/brand-ratings/naja/', 'https://sustainablereview.com/brand-ratings/natv-basics/', 'https://sustainablereview.com/brand-ratings/natascha-von-hirschhausen/', 'https://sustainablereview.com/brand-ratings/nina-nest/', 'https://sustainablereview.com/brand-ratings/naz/', 'https://sustainablereview.com/brand-ratings/nico/', 'https://sustainablereview.com/brand-ratings/natasha-tonic/', 'https://sustainablereview.com/brand-ratings/ndx/', 'https://sustainablereview.com/brand-ratings/napapijri/', 'https://sustainablereview.com/brand-ratings/nimble/', 'https://sustainablereview.com/brand-ratings/nike/', 'https://sustainablereview.com/brand-ratings/mykke-hoffmann/', 'https://sustainablereview.com/brand-ratings/neococo/', 'https://sustainablereview.com/brand-ratings/natalija/', 'https://sustainablereview.com/brand-ratings/nagnata/', 'https://sustainablereview.com/brand-ratings/noani/', 'https://sustainablereview.com/brand-ratings/nui-organics/', 'https://sustainablereview.com/brand-ratings/nina-yuun/', 'https://sustainablereview.com/brand-ratings/nominou/', 'https://sustainablereview.com/brand-ratings/niovi-organics/', 'https://sustainablereview.com/brand-ratings/nobody-denim/', 'https://sustainablereview.com/brand-ratings/nisa/', 'https://sustainablereview.com/brand-ratings/noctu/', 'https://sustainablereview.com/brand-ratings/nurture-the-nest/', 'https://sustainablereview.com/brand-ratings/nu-swim/', 'https://sustainablereview.com/brand-ratings/nomadic-state-of-mind/', 'https://sustainablereview.com/brand-ratings/nubikk/', 'https://sustainablereview.com/brand-ratings/o-my-bag/', 'https://sustainablereview.com/brand-ratings/ninety-percent/', 'https://sustainablereview.com/brand-ratings/nina-rein/', 'https://sustainablereview.com/brand-ratings/not-just-pajama/', 'https://sustainablereview.com/brand-ratings/nobodinoz/', 'https://sustainablereview.com/brand-ratings/nu-in/', 'https://sustainablereview.com/brand-ratings/nudie-jeans/', 'https://sustainablereview.com/brand-ratings/non/', 'https://sustainablereview.com/brand-ratings/norden/', 'https://sustainablereview.com/brand-ratings/no-nasties/', 'https://sustainablereview.com/brand-ratings/nisolo/', 'https://sustainablereview.com/brand-ratings/not-ours/', 'https://sustainablereview.com/brand-ratings/normal-knit/', 'https://sustainablereview.com/brand-ratings/noumenon/', 'https://sustainablereview.com/brand-ratings/noah/', 'https://sustainablereview.com/brand-ratings/nothing-new/', 'https://sustainablereview.com/brand-ratings/nomads-clothing/', 'https://sustainablereview.com/brand-ratings/nube/', 'https://sustainablereview.com/brand-ratings/organique/', 'https://sustainablereview.com/brand-ratings/ovs/', 'https://sustainablereview.com/brand-ratings/ognx/', 'https://sustainablereview.com/brand-ratings/oddish/', 'https://sustainablereview.com/brand-ratings/omnes/', 'https://sustainablereview.com/brand-ratings/olga-joan/', 'https://sustainablereview.com/brand-ratings/one-vintage/', 'https://sustainablereview.com/brand-ratings/okabashi/', 'https://sustainablereview.com/brand-ratings/opera-campi/', 'https://sustainablereview.com/brand-ratings/osei-duro/', 'https://sustainablereview.com/brand-ratings/o-t-a/', 'https://sustainablereview.com/brand-ratings/olmsted-outerwear/', 'https://sustainablereview.com/brand-ratings/outland-denim/', 'https://sustainablereview.com/brand-ratings/oshadi/', 'https://sustainablereview.com/brand-ratings/otiumberg/', 'https://sustainablereview.com/brand-ratings/original-weekend/', 'https://sustainablereview.com/brand-ratings/orit-elhanati/', 'https://sustainablereview.com/brand-ratings/olderbrother/', 'https://sustainablereview.com/brand-ratings/oy/', 'https://sustainablereview.com/brand-ratings/organic-crew/', 'https://sustainablereview.com/brand-ratings/origin/', 'https://sustainablereview.com/brand-ratings/oobi/', 'https://sustainablereview.com/brand-ratings/olistic-the-label/', 'https://sustainablereview.com/brand-ratings/orbasics/', 'https://sustainablereview.com/brand-ratings/ohoy-swim/', 'https://sustainablereview.com/brand-ratings/organic-basics/', 'https://sustainablereview.com/brand-ratings/offon/', 'https://sustainablereview.com/brand-ratings/offbeat-sweetie/', 'https://sustainablereview.com/brand-ratings/outerknown/', 'https://sustainablereview.com/brand-ratings/ohsevendays/', 'https://sustainablereview.com/brand-ratings/pansy/', 'https://sustainablereview.com/brand-ratings/parker-clay/', 'https://sustainablereview.com/brand-ratings/parva-studios/', 'https://sustainablereview.com/brand-ratings/pala-eyewear/', 'https://sustainablereview.com/brand-ratings/panafrica/', 'https://sustainablereview.com/brand-ratings/pantee/', 'https://sustainablereview.com/brand-ratings/patagonia/', 'https://sustainablereview.com/brand-ratings/philine-of-san-francisco/', 'https://sustainablereview.com/brand-ratings/peony/', 'https://sustainablereview.com/brand-ratings/pangaia/', 'https://sustainablereview.com/brand-ratings/phyne/', 'https://sustainablereview.com/brand-ratings/palava/', 'https://sustainablereview.com/brand-ratings/phoebe-english/', 'https://sustainablereview.com/brand-ratings/park-fifth-clothing-co/', 'https://sustainablereview.com/brand-ratings/peterson-stoop/', 'https://sustainablereview.com/brand-ratings/patrick-mcdowell/', 'https://sustainablereview.com/brand-ratings/petit-pli/', 'https://sustainablereview.com/brand-ratings/pecegueiro-f-os/', 'https://sustainablereview.com/brand-ratings/pareto/', 'https://sustainablereview.com/brand-ratings/paapii-design/', 'https://sustainablereview.com/brand-ratings/panamuna-project/', 'https://sustainablereview.com/brand-ratings/paparesta-accessories/', 'https://sustainablereview.com/brand-ratings/passion-lilie/', 'https://sustainablereview.com/brand-ratings/peninsula-swimwear/', 'https://sustainablereview.com/brand-ratings/people-tree/', 'https://sustainablereview.com/brand-ratings/parade/', 'https://sustainablereview.com/brand-ratings/petits-vilains/', 'https://sustainablereview.com/brand-ratings/par-moi/', 'https://sustainablereview.com/brand-ratings/pact/', 'https://sustainablereview.com/brand-ratings/ph5/', 'https://sustainablereview.com/brand-ratings/printfresh/', 'https://sustainablereview.com/brand-ratings/pressio/', 'https://sustainablereview.com/brand-ratings/pop-my-way/', 'https://sustainablereview.com/brand-ratings/prairie-underground/', 'https://sustainablereview.com/brand-ratings/pristine/', 'https://sustainablereview.com/brand-ratings/piccalilly/', 'https://sustainablereview.com/brand-ratings/proclaim/', 'https://sustainablereview.com/brand-ratings/pina/', 'https://sustainablereview.com/brand-ratings/plasticity/', 'https://sustainablereview.com/brand-ratings/prota-fiori/', 'https://sustainablereview.com/brand-ratings/psylo/', 'https://sustainablereview.com/brand-ratings/pinqponq/', 'https://sustainablereview.com/brand-ratings/picture/', 'https://sustainablereview.com/brand-ratings/pippa-holt/', 'https://sustainablereview.com/brand-ratings/pure-apparel/', 'https://sustainablereview.com/brand-ratings/pico/', 'https://sustainablereview.com/brand-ratings/protean-london/', 'https://sustainablereview.com/brand-ratings/pitupi/', 'https://sustainablereview.com/brand-ratings/puma/', 'https://sustainablereview.com/brand-ratings/pure-magnolia/', 'https://sustainablereview.com/brand-ratings/poppie-the-label/', 'https://sustainablereview.com/brand-ratings/pig-and-hen/', 'https://sustainablereview.com/brand-ratings/po-zu/', 'https://sustainablereview.com/brand-ratings/puffin-gear/', 'https://sustainablereview.com/brand-ratings/polly-wales/', 'https://sustainablereview.com/brand-ratings/plant-faced-clothing/', 'https://sustainablereview.com/brand-ratings/playful/', 'https://sustainablereview.com/brand-ratings/prim-stargazer/', 'https://sustainablereview.com/brand-ratings/poplinen/', 'https://sustainablereview.com/brand-ratings/pleatsmama/', 'https://sustainablereview.com/brand-ratings/qwstion/', 'https://sustainablereview.com/brand-ratings/reef/', 'https://sustainablereview.com/brand-ratings/rentrayage/', 'https://sustainablereview.com/brand-ratings/qeelin/', 'https://sustainablereview.com/brand-ratings/reformation/', 'https://sustainablereview.com/brand-ratings/real-deal-brazil/', 'https://sustainablereview.com/brand-ratings/quincy-mae/', 'https://sustainablereview.com/brand-ratings/redwood-classics-apparel/', 'https://sustainablereview.com/brand-ratings/purnama/', 'https://sustainablereview.com/brand-ratings/raani-the-label/', 'https://sustainablereview.com/brand-ratings/resap-paris/', 'https://sustainablereview.com/brand-ratings/raven-lily/', 'https://sustainablereview.com/brand-ratings/re-bello/', 'https://sustainablereview.com/brand-ratings/rapanui/', 'https://sustainablereview.com/brand-ratings/recreate/', 'https://sustainablereview.com/brand-ratings/purusha-people/', 'https://sustainablereview.com/brand-ratings/q-for-quinn/', 'https://sustainablereview.com/brand-ratings/redrew/', 'https://sustainablereview.com/brand-ratings/rains/', 'https://sustainablereview.com/brand-ratings/quazi-design/', 'https://sustainablereview.com/brand-ratings/pyrrha/', 'https://sustainablereview.com/brand-ratings/pure-pod/', 'https://sustainablereview.com/brand-ratings/rave-review/', 'https://sustainablereview.com/brand-ratings/reflexone/', 'https://sustainablereview.com/brand-ratings/reer3/', 'https://sustainablereview.com/brand-ratings/rathel-wolf/', 'https://sustainablereview.com/brand-ratings/recycledbags-co/', 'https://sustainablereview.com/brand-ratings/raeburn/', 'https://sustainablereview.com/brand-ratings/recolution/', 'https://sustainablereview.com/brand-ratings/pyua/', 'https://sustainablereview.com/brand-ratings/restyle/', 'https://sustainablereview.com/brand-ratings/riley-studio/', 'https://sustainablereview.com/brand-ratings/rudy-jude/', 'https://sustainablereview.com/brand-ratings/sage-larock/', 'https://sustainablereview.com/brand-ratings/reusefulthingsstudio/', 'https://sustainablereview.com/brand-ratings/safal-kids/', 'https://sustainablereview.com/brand-ratings/salt-gypsy/', 'https://sustainablereview.com/brand-ratings/rowan-grey/', 'https://sustainablereview.com/brand-ratings/rive-droite/', 'https://sustainablereview.com/brand-ratings/saint-basics/', 'https://sustainablereview.com/brand-ratings/roberts-wood/', 'https://sustainablereview.com/brand-ratings/s-a-y-a/', 'https://sustainablereview.com/brand-ratings/rotholz/', 'https://sustainablereview.com/brand-ratings/rupahaus/', 'https://sustainablereview.com/brand-ratings/rodebjer/', 'https://sustainablereview.com/brand-ratings/rose-reggie/', 'https://sustainablereview.com/brand-ratings/salomon/', 'https://sustainablereview.com/brand-ratings/saalt/', 'https://sustainablereview.com/brand-ratings/rifo/', 'https://sustainablereview.com/brand-ratings/saana-ja-olli/', 'https://sustainablereview.com/brand-ratings/residus/', 'https://sustainablereview.com/brand-ratings/rumpl/', 'https://sustainablereview.com/brand-ratings/rozenbroek/', 'https://sustainablereview.com/brand-ratings/sagebrush-surf-bags/', 'https://sustainablereview.com/brand-ratings/ruhe/', 'https://sustainablereview.com/brand-ratings/rokit-vintage/', 'https://sustainablereview.com/brand-ratings/rvdk/', 'https://sustainablereview.com/brand-ratings/salewa/', 'https://sustainablereview.com/brand-ratings/rice-carry/', 'https://sustainablereview.com/brand-ratings/s-threads-boutique/', 'https://sustainablereview.com/brand-ratings/sep/', 'https://sustainablereview.com/brand-ratings/seeker/', 'https://sustainablereview.com/brand-ratings/sealand/', 'https://sustainablereview.com/brand-ratings/saye/', 'https://sustainablereview.com/brand-ratings/santicler/', 'https://sustainablereview.com/brand-ratings/seegarn/', 'https://sustainablereview.com/brand-ratings/seek-dry-goods/', 'https://sustainablereview.com/brand-ratings/seventy-mochi/', 'https://sustainablereview.com/brand-ratings/sanchos/', 'https://sustainablereview.com/brand-ratings/sasta/', 'https://sustainablereview.com/brand-ratings/santos-by-monica/', 'https://sustainablereview.com/brand-ratings/seamsfriendly/', 'https://sustainablereview.com/brand-ratings/seea/', 'https://sustainablereview.com/brand-ratings/sanikai/', 'https://sustainablereview.com/brand-ratings/sarah-sue-design/', 'https://sustainablereview.com/brand-ratings/save-the-duck/', 'https://sustainablereview.com/brand-ratings/sand-snow-linen/', 'https://sustainablereview.com/brand-ratings/september/', 'https://sustainablereview.com/brand-ratings/self-cinema/', 'https://sustainablereview.com/brand-ratings/sandqvist/', 'https://sustainablereview.com/brand-ratings/seek-collective/', 'https://sustainablereview.com/brand-ratings/senorita-lemoniez/', 'https://sustainablereview.com/brand-ratings/sense-organics/', 'https://sustainablereview.com/brand-ratings/salty-swimwear/', 'https://sustainablereview.com/brand-ratings/sauths/', 'https://sustainablereview.com/brand-ratings/sans-beast/', 'https://sustainablereview.com/brand-ratings/samuji/', 'https://sustainablereview.com/brand-ratings/savannah-morrow-the-label/', 'https://sustainablereview.com/brand-ratings/sami-miro-vintage/', 'https://sustainablereview.com/brand-ratings/sardine-clothing-company/', 'https://sustainablereview.com/brand-ratings/son-of-a-tailor/', 'https://sustainablereview.com/brand-ratings/shakti-ism/', 'https://sustainablereview.com/brand-ratings/sinerji/', 'https://sustainablereview.com/brand-ratings/soleil-soleil/', 'https://sustainablereview.com/brand-ratings/societywild/', 'https://sustainablereview.com/brand-ratings/sister-organics/', 'https://sustainablereview.com/brand-ratings/silent-wave-indigo/', 'https://sustainablereview.com/brand-ratings/smalls-merino/', 'https://sustainablereview.com/brand-ratings/social-catalysts/', 'https://sustainablereview.com/brand-ratings/silkgenie/', 'https://sustainablereview.com/brand-ratings/slow-stitch-studio/', 'https://sustainablereview.com/brand-ratings/snap/', 'https://sustainablereview.com/brand-ratings/so-le-studio/', 'https://sustainablereview.com/brand-ratings/skall-studio/', 'https://sustainablereview.com/brand-ratings/sherris/', 'https://sustainablereview.com/brand-ratings/shola-branson/', 'https://sustainablereview.com/brand-ratings/sotela/', 'https://sustainablereview.com/brand-ratings/skfk/', 'https://sustainablereview.com/brand-ratings/shibui/', 'https://sustainablereview.com/brand-ratings/softandwet/', 'https://sustainablereview.com/brand-ratings/simply-grey/', 'https://sustainablereview.com/brand-ratings/slvrlake/', 'https://sustainablereview.com/brand-ratings/sisam/', 'https://sustainablereview.com/brand-ratings/silou/', 'https://sustainablereview.com/brand-ratings/sorella-organics/', 'https://sustainablereview.com/brand-ratings/solosix/', 'https://sustainablereview.com/brand-ratings/solstice-kids/', 'https://sustainablereview.com/brand-ratings/smycka/', 'https://sustainablereview.com/brand-ratings/solerebels/', 'https://sustainablereview.com/brand-ratings/sevya/', 'https://sustainablereview.com/brand-ratings/subset/', 'https://sustainablereview.com/brand-ratings/tatti-chic/', 'https://sustainablereview.com/brand-ratings/studio-189/', 'https://sustainablereview.com/brand-ratings/sun50/', 'https://sustainablereview.com/brand-ratings/soul-flower/', 'https://sustainablereview.com/brand-ratings/stay-wild/', 'https://sustainablereview.com/brand-ratings/souldaze/', 'https://sustainablereview.com/brand-ratings/suk-workwear/', 'https://sustainablereview.com/brand-ratings/sui/', 'https://sustainablereview.com/brand-ratings/tasi-travels/', 'https://sustainablereview.com/brand-ratings/spell/', 'https://sustainablereview.com/brand-ratings/svala/', 'https://sustainablereview.com/brand-ratings/tala/', 'https://sustainablereview.com/brand-ratings/superstainable/', 'https://sustainablereview.com/brand-ratings/stature/', 'https://sustainablereview.com/brand-ratings/sustain-by-kat/', 'https://sustainablereview.com/brand-ratings/swim-against/', 'https://sustainablereview.com/brand-ratings/swedish-stockings/', 'https://sustainablereview.com/brand-ratings/symbology/', 'https://sustainablereview.com/brand-ratings/stella-mccartney/', 'https://sustainablereview.com/brand-ratings/talia-collins/', 'https://sustainablereview.com/brand-ratings/stanley-stella/', 'https://sustainablereview.com/brand-ratings/studio-courtenay/', 'https://sustainablereview.com/brand-ratings/sukkhacitta/', 'https://sustainablereview.com/brand-ratings/sylven-new-york/', 'https://sustainablereview.com/brand-ratings/stephen-webster/', 'https://sustainablereview.com/brand-ratings/souple-luz/', 'https://sustainablereview.com/brand-ratings/tattered-eden/', 'https://sustainablereview.com/brand-ratings/tamga-designs/', 'https://sustainablereview.com/brand-ratings/story-mfg/', 'https://sustainablereview.com/brand-ratings/the-campamento/', 'https://sustainablereview.com/brand-ratings/the-crafty-bird/', 'https://sustainablereview.com/brand-ratings/terra-thread/', 'https://sustainablereview.com/brand-ratings/the-bonnie-mob/', 'https://sustainablereview.com/brand-ratings/teemill/', 'https://sustainablereview.com/brand-ratings/teatum-jones/', 'https://sustainablereview.com/brand-ratings/tauko/', 'https://sustainablereview.com/brand-ratings/the-classic-t-shirt-company/', 'https://sustainablereview.com/brand-ratings/the-kozm/', 'https://sustainablereview.com/brand-ratings/tekla/', 'https://sustainablereview.com/brand-ratings/the-blue-rabbit-house/', 'https://sustainablereview.com/brand-ratings/the-anjelms-project/', 'https://sustainablereview.com/brand-ratings/tentree/', 'https://sustainablereview.com/brand-ratings/the-common-good-company/', 'https://sustainablereview.com/brand-ratings/the-level-collective/', 'https://sustainablereview.com/brand-ratings/the-good-tee/', 'https://sustainablereview.com/brand-ratings/tetiana-k/', 'https://sustainablereview.com/brand-ratings/the-boyi/', 'https://sustainablereview.com/brand-ratings/the-knotty-ones/', 'https://sustainablereview.com/brand-ratings/the-ethical-silk-company/', 'https://sustainablereview.com/brand-ratings/teva/', 'https://sustainablereview.com/brand-ratings/ternua/', 'https://sustainablereview.com/brand-ratings/terra-dea/', 'https://sustainablereview.com/brand-ratings/thaely/', 'https://sustainablereview.com/brand-ratings/teras/', 'https://sustainablereview.com/brand-ratings/the-artful-mitten/', 'https://sustainablereview.com/brand-ratings/the-maker-collection/', 'https://sustainablereview.com/brand-ratings/taylor-stitch/', 'https://sustainablereview.com/brand-ratings/tehadesigns/', 'https://sustainablereview.com/brand-ratings/the-blue-suit/', 'https://sustainablereview.com/brand-ratings/the-moonrise-project/', 'https://sustainablereview.com/brand-ratings/the-recycled-planet/', 'https://sustainablereview.com/brand-ratings/the-social-outfit/', 'https://sustainablereview.com/brand-ratings/think-big-little-people/', 'https://sustainablereview.com/brand-ratings/the-north-face/', 'https://sustainablereview.com/brand-ratings/the-summer-house/', 'https://sustainablereview.com/brand-ratings/this-is-unfolded/', 'https://sustainablereview.com/brand-ratings/thought/', 'https://sustainablereview.com/brand-ratings/thunderpants-usa/', 'https://sustainablereview.com/brand-ratings/thea-with-love/', 'https://sustainablereview.com/brand-ratings/thiefbandit/', 'https://sustainablereview.com/brand-ratings/thela/', 'https://sustainablereview.com/brand-ratings/the-very-good-bra/', 'https://sustainablereview.com/brand-ratings/thunderpants-nz/', 'https://sustainablereview.com/brand-ratings/tiger-prints/', 'https://sustainablereview.com/brand-ratings/the-tiny-closet/', 'https://sustainablereview.com/brand-ratings/threads-4-thought/', 'https://sustainablereview.com/brand-ratings/thesus/', 'https://sustainablereview.com/brand-ratings/thokkthokk/', 'https://sustainablereview.com/brand-ratings/the-white-briefs/', 'https://sustainablereview.com/brand-ratings/the-r-collective/', 'https://sustainablereview.com/brand-ratings/the-rushing-hour/', 'https://sustainablereview.com/brand-ratings/thinking-mu/', 'https://sustainablereview.com/brand-ratings/the-suss-edit/', 'https://sustainablereview.com/brand-ratings/the-social-studio/', 'https://sustainablereview.com/brand-ratings/the-white-ribbon/', 'https://sustainablereview.com/brand-ratings/timberland/', 'https://sustainablereview.com/brand-ratings/the-morphbag-by-gsk/', 'https://sustainablereview.com/brand-ratings/the-spotted-quoll-studio/', 'https://sustainablereview.com/brand-ratings/the-standard-stitch/', 'https://sustainablereview.com/brand-ratings/tropicfeel/', 'https://sustainablereview.com/brand-ratings/two-little-beans-co/', 'https://sustainablereview.com/brand-ratings/twofold-clothing/', 'https://sustainablereview.com/brand-ratings/tortoise-the-label/', 'https://sustainablereview.com/brand-ratings/tree-of-life/', 'https://sustainablereview.com/brand-ratings/touch-me-not/', 'https://sustainablereview.com/brand-ratings/trendy-street/', 'https://sustainablereview.com/brand-ratings/titania-inglis/', 'https://sustainablereview.com/brand-ratings/triarchy/', 'https://sustainablereview.com/brand-ratings/tread-butter/', 'https://sustainablereview.com/brand-ratings/u-mask/', 'https://sustainablereview.com/brand-ratings/treekid/', 'https://sustainablereview.com/brand-ratings/toby-tiger/', 'https://sustainablereview.com/brand-ratings/toadco/', 'https://sustainablereview.com/brand-ratings/ucon-acrobatics/', 'https://sustainablereview.com/brand-ratings/tivoli/', 'https://sustainablereview.com/brand-ratings/two-sparrow-australia/', 'https://sustainablereview.com/brand-ratings/tripulse/', 'https://sustainablereview.com/brand-ratings/tuckerman-co/', 'https://sustainablereview.com/brand-ratings/true-tribe/', 'https://sustainablereview.com/brand-ratings/twothirds/', 'https://sustainablereview.com/brand-ratings/tultex/', 'https://sustainablereview.com/brand-ratings/tomo-edie/', 'https://sustainablereview.com/brand-ratings/tri-colour-federation/', 'https://sustainablereview.com/brand-ratings/tiny-twig/', 'https://sustainablereview.com/brand-ratings/toit-volant/', 'https://sustainablereview.com/brand-ratings/tzoma/', 'https://sustainablereview.com/brand-ratings/tommy-lottie/', 'https://sustainablereview.com/brand-ratings/tomorrow-denim/', 'https://sustainablereview.com/brand-ratings/turtledove-london/', 'https://sustainablereview.com/brand-ratings/vernisse/', 'https://sustainablereview.com/brand-ratings/vatter/', 'https://sustainablereview.com/brand-ratings/up-fuse/', 'https://sustainablereview.com/brand-ratings/veerah/', 'https://sustainablereview.com/brand-ratings/vege-threads/', 'https://sustainablereview.com/brand-ratings/ukiyo/', 'https://sustainablereview.com/brand-ratings/undeadmagpie/', 'https://sustainablereview.com/brand-ratings/vegasrabbitclothing/', 'https://sustainablereview.com/brand-ratings/veja/', 'https://sustainablereview.com/brand-ratings/unspun/', 'https://sustainablereview.com/brand-ratings/unrecorded/', 'https://sustainablereview.com/brand-ratings/untouched-world/', 'https://sustainablereview.com/brand-ratings/vanina/', 'https://sustainablereview.com/brand-ratings/vaude/', 'https://sustainablereview.com/brand-ratings/vietopia/', 'https://sustainablereview.com/brand-ratings/venim/', 'https://sustainablereview.com/brand-ratings/united-by-blue/', 'https://sustainablereview.com/brand-ratings/unrobe/', 'https://sustainablereview.com/brand-ratings/unbelts/', 'https://sustainablereview.com/brand-ratings/unoa/', 'https://sustainablereview.com/brand-ratings/ulalu/', 'https://sustainablereview.com/brand-ratings/untold-jewellery/', 'https://sustainablereview.com/brand-ratings/velvet-heartbeat/', 'https://sustainablereview.com/brand-ratings/variety-hour/', 'https://sustainablereview.com/brand-ratings/underprotection/', 'https://sustainablereview.com/brand-ratings/vesica-piscis/', 'https://sustainablereview.com/brand-ratings/under-the-nile/', 'https://sustainablereview.com/brand-ratings/velocio/', 'https://sustainablereview.com/brand-ratings/us-blanks/', 'https://sustainablereview.com/brand-ratings/uskees/', 'https://sustainablereview.com/brand-ratings/wild-country/', 'https://sustainablereview.com/brand-ratings/wayre/', 'https://sustainablereview.com/brand-ratings/vigo-swim/', 'https://sustainablereview.com/brand-ratings/wearenativ/', 'https://sustainablereview.com/brand-ratings/west-activewear/', 'https://sustainablereview.com/brand-ratings/where-does-it-come-from/', 'https://sustainablereview.com/brand-ratings/wildling/', 'https://sustainablereview.com/brand-ratings/vitamin-a/', 'https://sustainablereview.com/brand-ratings/vild-house-of-little/', 'https://sustainablereview.com/brand-ratings/wilson-and-frenchy/', 'https://sustainablereview.com/brand-ratings/viverano/', 'https://sustainablereview.com/brand-ratings/wellicious/', 'https://sustainablereview.com/brand-ratings/wemoto/', 'https://sustainablereview.com/brand-ratings/vyayama/', 'https://sustainablereview.com/brand-ratings/waccowacco/', 'https://sustainablereview.com/brand-ratings/wawwa/', 'https://sustainablereview.com/brand-ratings/wildflo-studio/', 'https://sustainablereview.com/brand-ratings/village-thrive/', 'https://sustainablereview.com/brand-ratings/walkinthroughflowers/', 'https://sustainablereview.com/brand-ratings/wear-your-love/', 'https://sustainablereview.com/brand-ratings/wama/', 'https://sustainablereview.com/brand-ratings/windsor-lane/', 'https://sustainablereview.com/brand-ratings/viron/', 'https://sustainablereview.com/brand-ratings/whimsy-row/', 'https://sustainablereview.com/brand-ratings/vrai/', 'https://sustainablereview.com/brand-ratings/voit/', 'https://sustainablereview.com/brand-ratings/we-ar4/', 'https://sustainablereview.com/brand-ratings/wills-vegan-store/', 'https://sustainablereview.com/brand-ratings/wald-berlin/', 'https://sustainablereview.com/brand-ratings/von-holzhausen/', 'https://sustainablereview.com/brand-ratings/wolf-and-zephyr/', 'https://sustainablereview.com/brand-ratings/woron/', 'https://sustainablereview.com/brand-ratings/wolven/', 'https://sustainablereview.com/brand-ratings/wuf-kids/', 'https://sustainablereview.com/brand-ratings/wwake/', 'https://sustainablereview.com/brand-ratings/zuzu-co/', 'https://sustainablereview.com/brand-ratings/winter-water-factory/', 'https://sustainablereview.com/brand-ratings/yuki-threads/', 'https://sustainablereview.com/brand-ratings/zero-waste-daniel/', 'https://sustainablereview.com/brand-ratings/yoro-naturals/', 'https://sustainablereview.com/brand-ratings/wouf/', 'https://sustainablereview.com/brand-ratings/y-o-u-underwear/', 'https://sustainablereview.com/brand-ratings/womsh/', 'https://sustainablereview.com/brand-ratings/world-of-crow/', 'https://sustainablereview.com/brand-ratings/zazi/', 'https://sustainablereview.com/brand-ratings/zulu-zephyr/', 'https://sustainablereview.com/brand-ratings/xzouix/', 'https://sustainablereview.com/brand-ratings/%e5%ae%9d%e5%b3%b6%e6%9f%93%e5%b7%a5-takarajima-senkou/', 'https://sustainablereview.com/brand-ratings/yes-friends/', 'https://sustainablereview.com/brand-ratings/yu-stepanel/', 'https://sustainablereview.com/brand-ratings/zilver/', 'https://sustainablereview.com/brand-ratings/wuxly-movement/', 'https://sustainablereview.com/brand-ratings/yes-and/', 'https://sustainablereview.com/brand-ratings/yanawara/', 'https://sustainablereview.com/brand-ratings/zuri/', 'https://sustainablereview.com/brand-ratings/zerobarracento/', 'https://sustainablereview.com/brand-ratings/wyatt-and-jack/', 'https://sustainablereview.com/brand-ratings/%e7%9f%b3%e5%be%b9%e7%99%bd%e6%b4%8b%e5%93%81%e5%ba%97-itoshiro-yohinten/', 'https://sustainablereview.com/brand-ratings/wires/', 'https://sustainablereview.com/brand-ratings/wunderwerk/']\n"
     ]
    }
   ],
   "source": [
    "# get brand links from all pages\n",
    "brand_urls = []\n",
    "# loop through all pages\n",
    "for i in range(1, int(last_page_num) + 1):\n",
    "    # scrape first page\n",
    "    if i == 1:\n",
    "        page = first_page\n",
    "    # scrape remaining pages\n",
    "    else:\n",
    "        next_page_url = \"https://sustainablereview.com/brand-ratings/?query-48-page=\"\n",
    "        page = session.get(next_page_url + str(i))\n",
    "\n",
    "    # content\n",
    "    content = BeautifulSoup(page.text, 'html.parser')\n",
    "\n",
    "    # links to brand reviews\n",
    "    page_links = content.find_all(\"a\")\n",
    "    brands = set(link.get('href') for link in page_links if (\"https://sustainablereview.com/brand-ratings/\" in link.get('href')) and (link.get('href') != \"https://sustainablereview.com/brand-ratings/\"))\n",
    "\n",
    "    # update brand urls list\n",
    "    brand_urls.extend(brands)\n",
    "\n",
    "print(brand_urls)"
   ]
  },
  {
   "cell_type": "code",
   "execution_count": 22,
   "metadata": {},
   "outputs": [],
   "source": [
    "# create dataframe\n",
    "sustainable_review_df = pd.DataFrame(columns=['Brand', 'Rating', 'Factors'])"
   ]
  },
  {
   "cell_type": "code",
   "execution_count": 26,
   "metadata": {},
   "outputs": [
    {
     "name": "stdout",
     "output_type": "stream",
     "text": [
      "https://sustainablereview.com/brand-ratings/the-social-studio/ Failed to Load\n",
      "https://sustainablereview.com/brand-ratings/the-white-ribbon/ Failed to Load\n"
     ]
    }
   ],
   "source": [
    "# scrape for brand data\n",
    "for url in brand_urls:\n",
    "    try: \n",
    "        # search for brand review\n",
    "        review = session.get(url)\n",
    "        \n",
    "        # content\n",
    "        content = BeautifulSoup(review.text, 'html.parser')\n",
    "\n",
    "        # brand\n",
    "        brand = content.find('h1', class_='post-title').get_text()\n",
    "\n",
    "        # rating\n",
    "        information = content.find('div', class_='InfoBox')\n",
    "        rating = information.find('p').get_text().split(\" \")[3]\n",
    "        \n",
    "        # factors\n",
    "        body = content.find('div', class_='col-md-12 col-lg-9')\n",
    "        factors = str(body.find_all('h3')).split(', ')\n",
    "\n",
    "        # clean list of factors\n",
    "        cleaned_factors = []\n",
    "        for factor in factors: \n",
    "            cleaned_factor = factor.replace(\"[\",\"\").replace(\"]\",\"\").replace('<h3>', '').replace('<strong>', '').replace('</h3>', '').replace('</strong>', '').replace(\"Similar brands:\",\"\")\n",
    "            \n",
    "            # drop ':' from factor\n",
    "            if cleaned_factor.endswith(\":\"):\n",
    "                cleaned_factor = cleaned_factor[:-1]\n",
    "\n",
    "            # exclude headings with \"Conclusion\"\n",
    "            if \"Conclusion\" in cleaned_factor:\n",
    "                cleaned_factor = \"\"\n",
    "\n",
    "            # append cleaned factor to list if the item is not emtpy\n",
    "            if cleaned_factor != \"\":\n",
    "                cleaned_factors.append(cleaned_factor)\n",
    "\n",
    "        # update dataframe\n",
    "        sustainable_review_df.loc[len(sustainable_review_df.index)] = [brand, rating, \", \".join(cleaned_factors)]\n",
    "    \n",
    "    except:\n",
    "        print(url + \" Failed to Load\")"
   ]
  },
  {
   "cell_type": "markdown",
   "metadata": {},
   "source": [
    "### Visualize the first 10 rows of the dataframe:"
   ]
  },
  {
   "cell_type": "code",
   "execution_count": 27,
   "metadata": {},
   "outputs": [
    {
     "data": {
      "text/html": [
       "<div>\n",
       "<style scoped>\n",
       "    .dataframe tbody tr th:only-of-type {\n",
       "        vertical-align: middle;\n",
       "    }\n",
       "\n",
       "    .dataframe tbody tr th {\n",
       "        vertical-align: top;\n",
       "    }\n",
       "\n",
       "    .dataframe thead th {\n",
       "        text-align: right;\n",
       "    }\n",
       "</style>\n",
       "<table border=\"1\" class=\"dataframe\">\n",
       "  <thead>\n",
       "    <tr style=\"text-align: right;\">\n",
       "      <th></th>\n",
       "      <th>Brand</th>\n",
       "      <th>Rating</th>\n",
       "      <th>Factors</th>\n",
       "    </tr>\n",
       "  </thead>\n",
       "  <tbody>\n",
       "    <tr>\n",
       "      <th>0</th>\n",
       "      <td>Modibodi</td>\n",
       "      <td>3</td>\n",
       "      <td></td>\n",
       "    </tr>\n",
       "    <tr>\n",
       "      <th>1</th>\n",
       "      <td>Natalie Perry</td>\n",
       "      <td>4</td>\n",
       "      <td></td>\n",
       "    </tr>\n",
       "    <tr>\n",
       "      <th>2</th>\n",
       "      <td>(di)vision</td>\n",
       "      <td>4</td>\n",
       "      <td></td>\n",
       "    </tr>\n",
       "    <tr>\n",
       "      <th>3</th>\n",
       "      <td>Adidas</td>\n",
       "      <td>3</td>\n",
       "      <td>Adidas’ Global Recognition for Sustainability ...</td>\n",
       "    </tr>\n",
       "    <tr>\n",
       "      <th>4</th>\n",
       "      <td>Adarche Clothing</td>\n",
       "      <td>4</td>\n",
       "      <td>Protecting the Planet with Adarche Clothing, E...</td>\n",
       "    </tr>\n",
       "    <tr>\n",
       "      <th>5</th>\n",
       "      <td>A-dam</td>\n",
       "      <td>4</td>\n",
       "      <td></td>\n",
       "    </tr>\n",
       "    <tr>\n",
       "      <th>6</th>\n",
       "      <td>Aestethic London</td>\n",
       "      <td>5</td>\n",
       "      <td></td>\n",
       "    </tr>\n",
       "    <tr>\n",
       "      <th>7</th>\n",
       "      <td>Adelaide C. Ecoage</td>\n",
       "      <td>4</td>\n",
       "      <td></td>\n",
       "    </tr>\n",
       "    <tr>\n",
       "      <th>8</th>\n",
       "      <td>337 BRAND</td>\n",
       "      <td>4</td>\n",
       "      <td></td>\n",
       "    </tr>\n",
       "    <tr>\n",
       "      <th>9</th>\n",
       "      <td>A_C</td>\n",
       "      <td>4</td>\n",
       "      <td></td>\n",
       "    </tr>\n",
       "  </tbody>\n",
       "</table>\n",
       "</div>"
      ],
      "text/plain": [
       "                Brand Rating  \\\n",
       "0            Modibodi      3   \n",
       "1       Natalie Perry      4   \n",
       "2          (di)vision      4   \n",
       "3              Adidas      3   \n",
       "4    Adarche Clothing      4   \n",
       "5               A-dam      4   \n",
       "6    Aestethic London      5   \n",
       "7  Adelaide C. Ecoage      4   \n",
       "8           337 BRAND      4   \n",
       "9                 A_C      4   \n",
       "\n",
       "                                             Factors  \n",
       "0                                                     \n",
       "1                                                     \n",
       "2                                                     \n",
       "3  Adidas’ Global Recognition for Sustainability ...  \n",
       "4  Protecting the Planet with Adarche Clothing, E...  \n",
       "5                                                     \n",
       "6                                                     \n",
       "7                                                     \n",
       "8                                                     \n",
       "9                                                     "
      ]
     },
     "execution_count": 27,
     "metadata": {},
     "output_type": "execute_result"
    }
   ],
   "source": [
    "# check dataframe\n",
    "sustainable_review_df.head(10)"
   ]
  },
  {
   "cell_type": "code",
   "execution_count": 28,
   "metadata": {},
   "outputs": [],
   "source": [
    "# export csv file\n",
    "sustainable_review_df.to_csv('../data/sustainable_review_ratings.csv')"
   ]
  },
  {
   "cell_type": "markdown",
   "metadata": {},
   "source": [
    "Eco-Stylist assess brand sustainability based on the criteria transparency, fair labor, and sustainably made. Then, it assigns an overall rating. Sustainable Review only generates an overall rating, but it provides a description of the research that went into calculating the score. While eco-stylist graded sustainability on a scale of bronze to gold, Sustainable Review graded sustainability numerically from 1-5. This method of collecting sustainability data on brands is limited by the number of brands each organization has rated. Going forward, we will scrape additional organizations which review fashion brands to increase the number of ratings we can sythesize or compare ours against.\n"
   ]
  }
 ],
 "metadata": {
  "kernelspec": {
   "display_name": "Python 3",
   "language": "python",
   "name": "python3"
  },
  "language_info": {
   "codemirror_mode": {
    "name": "ipython",
    "version": 3
   },
   "file_extension": ".py",
   "mimetype": "text/x-python",
   "name": "python",
   "nbconvert_exporter": "python",
   "pygments_lexer": "ipython3",
   "version": "3.11.5"
  }
 },
 "nbformat": 4,
 "nbformat_minor": 2
}
