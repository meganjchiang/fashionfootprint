{
 "cells": [
  {
   "cell_type": "markdown",
   "metadata": {},
   "source": [
    "## **Q3**  How can we scrape online store product's material composition/percentages? *(Jasmine)*\n",
    "\n",
    "### Qualitative:\n",
    "#### Problem -\n",
    "- How can we use web scraping to get the material composition for clothing on online stores?\n",
    "#### Hypothesis -\n",
    "- This should be easy, web scraping looks at the HTML and extracts elements\n",
    "#### Context, Motivation & Rationale -\n",
    "- We want the Chrome Extension to access the links provided in the description of YouTube hauls on clothing, so that we can find the material and generate a sustainability score for the items featured in the video\n",
    "#### Definitions, Data, and Methods -\n",
    "- Using online stores' clothing links\n",
    "- Using Python language and web scraping libraries (Beautiful Soup and Requests). "
   ]
  },
  {
   "cell_type": "markdown",
   "metadata": {
    "vscode": {
     "languageId": "plaintext"
    }
   },
   "source": [
    "### Quantitative:"
   ]
  },
  {
   "cell_type": "markdown",
   "metadata": {},
   "source": [
    "Step 1: we want to import the libraries"
   ]
  },
  {
   "cell_type": "code",
   "execution_count": 17,
   "metadata": {},
   "outputs": [],
   "source": [
    "from bs4 import BeautifulSoup\n",
    "import requests\n",
    "import time"
   ]
  },
  {
   "cell_type": "markdown",
   "metadata": {},
   "source": [
    "Step 2: then we find links that we want to scrape, for this I will use an American Eagle clothing item:\n",
    "https://www.ae.com/us/en/p/women/t-shirts/view-all-t-shirts-/ae-hey-baby-ribbed-t-shirt/2370_9630_275?menu=cat4840004\n"
   ]
  },
  {
   "cell_type": "code",
   "execution_count": 31,
   "metadata": {},
   "outputs": [],
   "source": [
    "url = \"https://www.ae.com/us/en/p/women/t-shirts/view-all-t-shirts-/ae-hey-baby-ribbed-t-shirt/2370_9630_275?menu=cat4840004\"\n"
   ]
  },
  {
   "cell_type": "markdown",
   "metadata": {},
   "source": [
    "Step 3: use basic web scraping to get the material percentage, search the html by looking for \"%\""
   ]
  },
  {
   "cell_type": "code",
   "execution_count": 32,
   "metadata": {},
   "outputs": [
    {
     "name": "stdout",
     "output_type": "stream",
     "text": [
      "none\n"
     ]
    }
   ],
   "source": [
    "page = requests.get(url)\n",
    "soup = BeautifulSoup(page.text, \"html.parser\")\n",
    "composition_elements = soup.find_all(string=lambda text: '% ' in str(text).lower())\n",
    "if composition_elements:\n",
    "    for element in composition_elements:\n",
    "        print(element)\n",
    "else:\n",
    "    print(\"none\")"
   ]
  },
  {
   "cell_type": "markdown",
   "metadata": {},
   "source": [
    "none"
   ]
  },
  {
   "cell_type": "markdown",
   "metadata": {},
   "source": [
    "### Qualitative (pt. 2):\n",
    "#### Answer/Update to Question/Claim\n",
    "- How can we use web scraping to get the material composition for clothing on online stores?\n",
    "    - We can use scraping to obtain the HTML page source, but it doesn't seem to be outputting what I want.\n",
    "    - My method cannot find \"%\" on the page why is that?\n",
    "#### Summary\n",
    "- We aren't able to find the materials.\n",
    "#### Uncertainty, Limitations & Caveats\n",
    "- The materials are on the page when I look at it manually.\n",
    "- Why does this method work for some websites and not others? (This simple method works for some sites/links but not all)\n",
    "- The content seems to be loaded in by JavaScript.\n",
    "#### New Problems & Next Steps\n",
    "- Is there a way to access the materials?\n",
    "- Find a way to access the materials when they are dynamically loaded."
   ]
  },
  {
   "cell_type": "markdown",
   "metadata": {},
   "source": [
    "## **Q4**  How can we scrape online store product's material composition/percentages that are dynamically loaded in by JavaScript? *(Jasmine)*\n",
    "\n",
    "### Qualitative:\n",
    "#### Problem -\n",
    "- Is there a way to access the materials that are loaded in by JavaScript?\n",
    "- Web Scraping is not as easy as I originally thought.\n",
    "#### Hypothesis -\n",
    "- If HTML page sources do not store JavaScript loaded content, I must be able to access it somehow.\n",
    "#### Context, Motivation & Rationale -\n",
    "- We want to obtain more material information for many brands not just be limited to a few based on the simple code from above.\n",
    "#### Definitions, Data, and Methods -\n",
    "- Using Selenium WebDriver, a library and tool used for automated web scraping that allows you to control a web browser, interact with dynamic elements, and scrape the resulting content. "
   ]
  },
  {
   "cell_type": "markdown",
   "metadata": {},
   "source": [
    "### Quantitative:"
   ]
  },
  {
   "cell_type": "markdown",
   "metadata": {},
   "source": [
    "Step 1: import relevant libraries and tools"
   ]
  },
  {
   "cell_type": "code",
   "execution_count": 18,
   "metadata": {},
   "outputs": [],
   "source": [
    "from selenium import webdriver\n",
    "from selenium.webdriver.chrome.options import Options\n",
    "from selenium.webdriver.common.by import By\n",
    "from selenium.webdriver.support.ui import WebDriverWait\n",
    "from selenium.webdriver.support import expected_conditions as EC\n",
    "from lxml import html"
   ]
  },
  {
   "cell_type": "markdown",
   "metadata": {},
   "source": [
    "Step 2: examine the website find what elements need to be interacted with, get the XPATH of the interactive and loaded in content."
   ]
  },
  {
   "cell_type": "code",
   "execution_count": 35,
   "metadata": {},
   "outputs": [],
   "source": [
    "url = \"https://www.ae.com/us/en/p/women/t-shirts/view-all-t-shirts-/ae-hey-baby-ribbed-t-shirt/2370_9630_275?menu=cat4840004\"\n",
    "interactive_element_xpath = '//*[@id=\"main-content-focus\"]/div[2]/div[2]/div[2]/div/div[3]/div/div[1]/div[1]'\n",
    "loaded_content_xpath = '//*[@id=\"main-content-focus\"]/div[2]/div[2]/div[2]/div/div[3]/div/div[1]/div[2]/div/div[2]'"
   ]
  },
  {
   "cell_type": "markdown",
   "metadata": {},
   "source": [
    "Step 3: use Selenium and WebDriver, interact with the page and scrape the loaded in material information"
   ]
  },
  {
   "cell_type": "code",
   "execution_count": 38,
   "metadata": {},
   "outputs": [
    {
     "name": "stdout",
     "output_type": "stream",
     "text": [
      "Materials & Care\n",
      "57% Cotton, 38% Recycled Polyester, 5% Elastane\n",
      "Machine wash\n",
      "Imported\n"
     ]
    }
   ],
   "source": [
    "def scrape_american_eagle(url, interactive_element_xpath, loaded_content_xpath, wait_time=10):\n",
    "    try:\n",
    "        # Set Chrome \n",
    "        chrome_options = Options()\n",
    "\n",
    "        # Initialize the WebDriver \n",
    "        driver = webdriver.Chrome(options=chrome_options)\n",
    "        \n",
    "        # Open the webpage\n",
    "        driver.get(url)\n",
    "\n",
    "        # Wait for the specified time before clicking the interactive element\n",
    "        time.sleep(wait_time)  # Wait for the specified time in seconds\n",
    "\n",
    "        # Find the interactive element\n",
    "        interactive_element = driver.find_element(By.XPATH, interactive_element_xpath)\n",
    "        \n",
    "        # Click the interactive element\n",
    "        interactive_element.click()\n",
    "\n",
    "        # Wait for the loaded content to be visible\n",
    "        loaded_element = WebDriverWait(driver, wait_time).until(\n",
    "            EC.visibility_of_element_located((By.XPATH, loaded_content_xpath))\n",
    "        )\n",
    "\n",
    "        # Once loaded, scrape the content\n",
    "        dynamic_content = loaded_element.text\n",
    "        \n",
    "        return dynamic_content\n",
    "        \n",
    "    except Exception as e:\n",
    "        print(f\"An error occurred: {str(e)}\")\n",
    "        return None\n",
    "        \n",
    "    finally:\n",
    "        # Close the WebDriver\n",
    "        driver.quit()\n",
    "\n",
    "\n",
    "dynamic_content = scrape_american_eagle(url, interactive_element_xpath, loaded_content_xpath)\n",
    "if dynamic_content:\n",
    "    print(dynamic_content)"
   ]
  },
  {
   "cell_type": "markdown",
   "metadata": {},
   "source": [
    "Materials & Care\n",
    "\n",
    "57% Cotton, 38% Recycled Polyester, 5% Elastane\n",
    "\n",
    "Machine wash\n",
    "\n",
    "Imported"
   ]
  },
  {
   "cell_type": "markdown",
   "metadata": {},
   "source": [
    "### Qualitative (pt. 2):\n",
    "#### Answer/Update to Question/Claim\n",
    "- Is there a way to access the materials that are loaded in by JavaScript?\n",
    "    - Yes!\n",
    "- Web Scraping is not as easy as I originally thought.\n",
    "    - Now I have learned about WebDriver and automation!\n",
    "#### Summary\n",
    "- I can now scrape dynamically loaded in content that I wasn't able to do before.\n",
    "#### Uncertainty, Limitations & Caveats\n",
    "- Not all websites are the same, I can't re-use this method for every single site.\n",
    "- Opens a test browser that can trigger bot detection (on some sites) and I can't scrape what I need.\n",
    "- Scrapes the relevant data but how can I extract it?\n",
    "#### New Problems & Next Steps\n",
    "- Scrape more websites!\n",
    "- Cannot scrape some sites because of bot detection, for ethics reasons I won't try to bypass bots, as it can be against the terms of use for some sites.\n",
    "- Use regular expressions to pull out the information into variables for sustainability score."
   ]
  }
 ],
 "metadata": {
  "kernelspec": {
   "display_name": "base",
   "language": "python",
   "name": "python3"
  },
  "language_info": {
   "codemirror_mode": {
    "name": "ipython",
    "version": 3
   },
   "file_extension": ".py",
   "mimetype": "text/x-python",
   "name": "python",
   "nbconvert_exporter": "python",
   "pygments_lexer": "ipython3",
   "version": "3.11.7"
  }
 },
 "nbformat": 4,
 "nbformat_minor": 2
}
