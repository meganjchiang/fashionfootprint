{
 "cells": [
  {
   "cell_type": "code",
   "execution_count": 4,
   "metadata": {},
   "outputs": [],
   "source": [
    "import requests\n",
    "from bs4 import BeautifulSoup\n",
    "from selenium import webdriver\n",
    "from selenium.webdriver.chrome.options import Options\n",
    "from selenium.webdriver.common.by import By\n",
    "from selenium.webdriver.support.ui import WebDriverWait\n",
    "from selenium.webdriver.support import expected_conditions as EC"
   ]
  },
  {
   "cell_type": "code",
   "execution_count": 8,
   "metadata": {},
   "outputs": [],
   "source": [
    "calculator = \"https://www.selflessclothes.com/blog/sustainability-calculator/?\""
   ]
  },
  {
   "cell_type": "code",
   "execution_count": 46,
   "metadata": {},
   "outputs": [],
   "source": [
    "goal = \"https://www.selflessclothes.com/blog/sustainability-calculator/?material=COTTON&material=POLYESTER&percentage=50&percentage=50\""
   ]
  },
  {
   "cell_type": "code",
   "execution_count": 1,
   "metadata": {},
   "outputs": [],
   "source": [
    "item = {'item': 'Linen Blend Belted Sleeveless Lapel Dress (JW Anderson)', 'silk': 53, 'linen': 33, 'cotton': 14}"
   ]
  },
  {
   "cell_type": "code",
   "execution_count": 6,
   "metadata": {},
   "outputs": [],
   "source": [
    "material_params = [\"COTTON\", \"RECYCLED_COTTON\", \"ORGANIC_COTTON\", \"POLYESTER\", \"RECYCLED_POLYESTER\", \"NYLON\", \"RECYCLED_NYLON\", \"ACRYLIC\", \"SPANDEX\", \"FLAX\", \"LINEN\", \"HEMP\", \"CUPRO\", \"LYOCELL\", \"TENCEL_LYOCELL_LENZING\", \"REFIBRA_TENCEL_LYOCELL_LENZING\", \"MODAL\", \"TENCEL_MODAL_LENZING\", \"VISCOSE\", \"VISCOSE_BAMBOO\", \"VISCOSE_ASIA_LENZING\", \"VISCOSE_EU_LENZING\", \"SILK\", \"ALPACA\", \"WOOL\", \"RECYCLED_WOOL\", \"CASHMERE\", \"RECYCLED_CASHMERE\"]"
   ]
  },
  {
   "cell_type": "code",
   "execution_count": 2,
   "metadata": {},
   "outputs": [
    {
     "data": {
      "text/plain": [
       "{'silk': 53, 'linen': 33, 'cotton': 14}"
      ]
     },
     "execution_count": 2,
     "metadata": {},
     "output_type": "execute_result"
    }
   ],
   "source": [
    "materials_and_percents = {key: value for key, value in item.items() if key != 'item'}\n",
    "materials_and_percents"
   ]
  },
  {
   "cell_type": "code",
   "execution_count": 9,
   "metadata": {},
   "outputs": [
    {
     "name": "stdout",
     "output_type": "stream",
     "text": [
      "https://www.selflessclothes.com/blog/sustainability-calculator/?material=SILK&material=LINEN&material=COTTON&percentage=53&percentage=33&percentage=14\n"
     ]
    }
   ],
   "source": [
    "goal_params = []\n",
    "for material, percent in materials_and_percents.items():\n",
    "    if material.upper() in material_params:\n",
    "        goal_params.extend([f\"material={material.upper()}\", f\"percentage={percent}\"])\n",
    "\n",
    "# Reorder the goal_params list to have materials first\n",
    "reordered_params = [goal_params[i] for i in range(0, len(goal_params), 2)] + [goal_params[i] for i in range(1, len(goal_params), 2)]\n",
    "\n",
    "goal_url = calculator + \"&\".join(reordered_params)\n",
    "print(goal_url)"
   ]
  },
  {
   "cell_type": "code",
   "execution_count": 12,
   "metadata": {},
   "outputs": [
    {
     "name": "stdout",
     "output_type": "stream",
     "text": [
      "Score: (0.2)\n"
     ]
    }
   ],
   "source": [
    "def get_score_using_selenium(goal_url):\n",
    "    # Configure Chrome options for headless mode\n",
    "    chrome_options = Options()\n",
    "    chrome_options.add_argument(\"--headless\")  # Run in headless mode\n",
    "\n",
    "    # Initialize Chrome WebDriver with configured options\n",
    "    driver = webdriver.Chrome(options=chrome_options)\n",
    "\n",
    "    try:\n",
    "        # Load the page\n",
    "        driver.get(goal_url)\n",
    "\n",
    "        # Wait for the score element to be present\n",
    "        score_element = WebDriverWait(driver, 10).until(\n",
    "            EC.presence_of_element_located((By.CLASS_NAME, \"ml-2\"))\n",
    "        )\n",
    "\n",
    "        # Extract the score text\n",
    "        score = score_element.text.strip()\n",
    "\n",
    "        return score\n",
    "    except Exception as e:\n",
    "        print(\"Error:\", e)\n",
    "        return None\n",
    "    finally:\n",
    "        # Close the WebDriver\n",
    "        driver.quit()\n",
    "\n",
    "# Example usage:\n",
    "# goal_url = \"https://www.selflessclothes.com/blog/sustainability-calculator/?material=COTTON&material=POLYESTER&percentage=50&percentage=50\"\n",
    "score = get_score_using_selenium(goal_url)\n",
    "if score:\n",
    "    print(\"Score:\", score)\n",
    "else:\n",
    "    print(\"Score not found\")"
   ]
  }
 ],
 "metadata": {
  "kernelspec": {
   "display_name": "base",
   "language": "python",
   "name": "python3"
  },
  "language_info": {
   "codemirror_mode": {
    "name": "ipython",
    "version": 3
   },
   "file_extension": ".py",
   "mimetype": "text/x-python",
   "name": "python",
   "nbconvert_exporter": "python",
   "pygments_lexer": "ipython3",
   "version": "3.11.7"
  }
 },
 "nbformat": 4,
 "nbformat_minor": 2
}
