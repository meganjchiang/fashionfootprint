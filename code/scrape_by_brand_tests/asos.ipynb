{
 "cells": [
  {
   "cell_type": "code",
   "execution_count": null,
   "metadata": {},
   "outputs": [],
   "source": []
  },
  {
   "cell_type": "code",
   "execution_count": 9,
   "metadata": {},
   "outputs": [],
   "source": [
    "# imports\n",
    "import requests\n",
    "from requests.adapters import HTTPAdapter\n",
    "from urllib3.util.retry import Retry\n",
    "from selenium import webdriver\n",
    "from selenium.webdriver.chrome.options import Options\n",
    "from selenium.webdriver.common.by import By\n",
    "from selenium.webdriver.support.ui import WebDriverWait\n",
    "from selenium.webdriver.support import expected_conditions as EC\n",
    "from lxml import html\n",
    "from bs4 import BeautifulSoup\n",
    "import time\n",
    "import pandas as pd\n",
    "import re"
   ]
  },
  {
   "cell_type": "code",
   "execution_count": 10,
   "metadata": {},
   "outputs": [
    {
     "data": {
      "text/html": [
       "<div>\n",
       "<style scoped>\n",
       "    .dataframe tbody tr th:only-of-type {\n",
       "        vertical-align: middle;\n",
       "    }\n",
       "\n",
       "    .dataframe tbody tr th {\n",
       "        vertical-align: top;\n",
       "    }\n",
       "\n",
       "    .dataframe thead th {\n",
       "        text-align: right;\n",
       "    }\n",
       "</style>\n",
       "<table border=\"1\" class=\"dataframe\">\n",
       "  <thead>\n",
       "    <tr style=\"text-align: right;\">\n",
       "      <th></th>\n",
       "      <th>Title</th>\n",
       "      <th>Links</th>\n",
       "      <th>VideoLink</th>\n",
       "    </tr>\n",
       "  </thead>\n",
       "  <tbody>\n",
       "    <tr>\n",
       "      <th>0</th>\n",
       "      <td>**NEW IN** ASOS SPRING 2024 HAUL + TRY ON | I ...</td>\n",
       "      <td>https://go.shopmy.us/p-4051450</td>\n",
       "      <td>https://www.youtube.com/watch?v=7bgLJhXuLJE</td>\n",
       "    </tr>\n",
       "    <tr>\n",
       "      <th>1</th>\n",
       "      <td>Huge EASTER Spring Dress TRY ON HAUL *ASOS, AW...</td>\n",
       "      <td>https://www.awbridal.com/aw-coralia-dress-lf22...</td>\n",
       "      <td>https://www.youtube.com/watch?v=xbd-nv6uEI4</td>\n",
       "    </tr>\n",
       "  </tbody>\n",
       "</table>\n",
       "</div>"
      ],
      "text/plain": [
       "                                               Title  \\\n",
       "0  **NEW IN** ASOS SPRING 2024 HAUL + TRY ON | I ...   \n",
       "1  Huge EASTER Spring Dress TRY ON HAUL *ASOS, AW...   \n",
       "\n",
       "                                               Links  \\\n",
       "0                     https://go.shopmy.us/p-4051450   \n",
       "1  https://www.awbridal.com/aw-coralia-dress-lf22...   \n",
       "\n",
       "                                     VideoLink  \n",
       "0  https://www.youtube.com/watch?v=7bgLJhXuLJE  \n",
       "1  https://www.youtube.com/watch?v=xbd-nv6uEI4  "
      ]
     },
     "execution_count": 10,
     "metadata": {},
     "output_type": "execute_result"
    }
   ],
   "source": [
    "df = pd.read_csv('../../data/youtube_data/asos_youtube_data.csv')\n",
    "\n",
    "df.head(2)"
   ]
  },
  {
   "cell_type": "code",
   "execution_count": 15,
   "metadata": {},
   "outputs": [],
   "source": [
    "def scrape_asos(url):\n",
    "    try:\n",
    "        chrome_options = Options()\n",
    "        driver = webdriver.Chrome(options=chrome_options)\n",
    "        \n",
    "        # Open the webpage\n",
    "        driver.get(url)\n",
    "\n",
    "        if 'asos' not in driver.current_url:\n",
    "            return {'item': 'Unsupported URL', 'url': url}\n",
    "\n",
    "        # Wait for the specified time before clicking the interactive element\n",
    "        time.sleep(10)  # Wait for the specified time in seconds\n",
    "\n",
    "        # Find the interactive element\n",
    "        interactive_element_xpath = '//*[@id=\"productDescription\"]/ul/li[5]/div/h2'\n",
    "        interactive_element = driver.find_element(By.XPATH, interactive_element_xpath)\n",
    "        \n",
    "        # Click the interactive element\n",
    "        interactive_element.click()\n",
    "\n",
    "        # Wait for the loaded content to be visible\n",
    "        loaded_content_xpath = '//*[@id=\"productDescriptionAboutMe\"]'\n",
    "        loaded_element = WebDriverWait(driver, 10).until(\n",
    "            EC.visibility_of_element_located((By.XPATH, loaded_content_xpath))\n",
    "        )\n",
    "\n",
    "        # Once loaded, scrape the content\n",
    "        product_info = loaded_element.text\n",
    "\n",
    "        # get title\n",
    "        title = (driver.find_element(By.CLASS_NAME, 'jcdpl')).text\n",
    "\n",
    "        # get list of materials and their percentages\n",
    "        fabric_percentages = ([elem for elem in product_info.split('\\n') if '%' in elem][0]).rstrip('.')\n",
    "\n",
    "        if fabric_percentages.count(':') > 1:\n",
    "            if 'Main' in fabric_percentages:\n",
    "                fabric_percentages = (fabric_percentages.split('Main: ')[1])\n",
    "            else:\n",
    "                fabric_percentages = (fabric_percentages.split('Body: ')[1])\n",
    "        elif fabric_percentages.count(':') == 1:\n",
    "            fabric_percentages = (fabric_percentages.split(': ')[1])\n",
    "        \n",
    "        fabric_percentages = fabric_percentages.split(', ')\n",
    "\n",
    "        materials = {}\n",
    "\n",
    "        for material_comp in fabric_percentages:\n",
    "            material_percentage = material_comp.split('% ') \n",
    "            percent = material_percentage[0]\n",
    "            fabric = (material_percentage[1]).lower()\n",
    "            materials[fabric] = percent\n",
    "\n",
    "            final_data = {'item': title}\n",
    "            final_data.update(materials)\n",
    "\n",
    "        return final_data\n",
    "        \n",
    "    except:\n",
    "        return {'item': 'No Data', 'url': url}\n",
    "        \n",
    "    finally:\n",
    "        # Close the WebDriver\n",
    "        driver.quit()"
   ]
  },
  {
   "cell_type": "code",
   "execution_count": 16,
   "metadata": {},
   "outputs": [
    {
     "name": "stdout",
     "output_type": "stream",
     "text": [
      "{'item': 'ASOS DESIGN pleated mini skirt in gray', 'polyester': '76', 'viscose': '18', 'elastane': '6'}\n"
     ]
    }
   ],
   "source": [
    "# Example usage:\n",
    "url = \"https://www.asos.com/us/asos-design/asos-design-pleated-mini-skirt-in-gray/prd/205661997#colourWayId-205661998\"\n",
    "\n",
    "material_info = scrape_asos(url)\n",
    "print(material_info)"
   ]
  },
  {
   "cell_type": "code",
   "execution_count": 17,
   "metadata": {},
   "outputs": [],
   "source": [
    "def scrape_and_update(row):\n",
    "    links_list = row[\"Links\"].split('\\n')\n",
    "    scraped_data_combined = \"\"\n",
    "\n",
    "    for link in links_list:\n",
    "        scraped_data = scrape_asos(link)\n",
    "        scraped_data_combined += str(scraped_data) + \"\\n\"\n",
    "\n",
    "    return scraped_data_combined"
   ]
  },
  {
   "cell_type": "code",
   "execution_count": null,
   "metadata": {},
   "outputs": [],
   "source": [
    "df['ScrapedData'] = df.apply(scrape_and_update, axis=1)"
   ]
  },
  {
   "cell_type": "code",
   "execution_count": 19,
   "metadata": {},
   "outputs": [],
   "source": [
    "df.to_csv('materials_data/asos_materials.csv', index=False)"
   ]
  }
 ],
 "metadata": {
  "kernelspec": {
   "display_name": "base",
   "language": "python",
   "name": "python3"
  },
  "language_info": {
   "codemirror_mode": {
    "name": "ipython",
    "version": 3
   },
   "file_extension": ".py",
   "mimetype": "text/x-python",
   "name": "python",
   "nbconvert_exporter": "python",
   "pygments_lexer": "ipython3",
   "version": "3.11.4"
  }
 },
 "nbformat": 4,
 "nbformat_minor": 2
}
