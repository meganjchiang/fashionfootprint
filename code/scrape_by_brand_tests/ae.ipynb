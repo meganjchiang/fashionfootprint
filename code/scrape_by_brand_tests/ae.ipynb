{
 "cells": [
  {
   "cell_type": "code",
   "execution_count": 34,
   "metadata": {},
   "outputs": [],
   "source": [
    "import pandas as pd\n",
    "from selenium import webdriver\n",
    "from selenium.webdriver.chrome.options import Options\n",
    "from selenium.webdriver.common.by import By\n",
    "from selenium.webdriver.support.ui import WebDriverWait\n",
    "from selenium.webdriver.support import expected_conditions as EC\n",
    "from lxml import html\n",
    "from bs4 import BeautifulSoup\n",
    "import requests\n",
    "import time\n",
    "import re\n",
    "from selenium.webdriver.common.action_chains import ActionChains\n"
   ]
  },
  {
   "cell_type": "code",
   "execution_count": 38,
   "metadata": {},
   "outputs": [
    {
     "name": "stdout",
     "output_type": "stream",
     "text": [
      "Materials & Care\n",
      "57% Cotton, 38% Recycled Polyester, 5% Elastane\n",
      "Machine wash\n",
      "Imported\n"
     ]
    }
   ],
   "source": [
    "def scrape_american_eagle(url, wait_time=1):\n",
    "    try:\n",
    "        # Set Chrome options for headless mode and define user agent\n",
    "        user_agent = \"Mozilla/5.0 (Windows NT 10.0; Win64; x64) AppleWebKit/537.36 (KHTML, like Gecko) Chrome/97.0.4692.71 Safari/537.36\"\n",
    "        chrome_options = Options()\n",
    "        chrome_options.add_argument(\"--headless\")\n",
    "        chrome_options.add_argument(f\"user-agent={user_agent}\")\n",
    "\n",
    "        # Initialize the WebDriver with headless mode\n",
    "        driver = webdriver.Chrome(options=chrome_options)\n",
    "        \n",
    "        # Open the webpage\n",
    "        driver.get(url)\n",
    "\n",
    "        # Save the source to extract item title\n",
    "        soup = BeautifulSoup(driver.page_source, 'html.parser')\n",
    "        product_name_element = soup.find('h1', class_='cms-ae-product-name _product-name_yysft6')\n",
    "        product_name = product_name_element.text.strip()\n",
    "\n",
    "        # Wait the time before interacting with the page\n",
    "        time.sleep(wait_time)\n",
    "\n",
    "        # Scroll to a specific position on the page\n",
    "        driver.execute_script(\"window.scrollTo(50, document.body.scrollHeight);\")\n",
    "\n",
    "        # Find the interactive element and move the mouse cursor to it\n",
    "        interactive_element_xpath = '//*[@id=\"main-content-focus\"]/div[2]/div[2]/div[2]/div/div[3]/div/div[1]/div[1]'\n",
    "        interactive_element = driver.find_element(By.XPATH, interactive_element_xpath)\n",
    "        actions = ActionChains(driver)\n",
    "        actions.move_to_element(interactive_element).perform()\n",
    "\n",
    "        # Click the interactive element\n",
    "        interactive_element.click()\n",
    "\n",
    "        # Wait for the loaded content to be visible\n",
    "        loaded_content_xpath = '//*[@id=\"main-content-focus\"]/div[2]/div[2]/div[2]/div/div[3]/div/div[1]/div[2]/div/div[2]'\n",
    "        loaded_element = WebDriverWait(driver, wait_time).until(\n",
    "            EC.visibility_of_element_located((By.XPATH, loaded_content_xpath))\n",
    "        )\n",
    "\n",
    "        # Once loaded, scrape the content\n",
    "        dynamic_content = loaded_element.text\n",
    "\n",
    "        # Make the item-material dictionary\n",
    "        \n",
    "        return dynamic_content\n",
    "        \n",
    "    except Exception as e:\n",
    "        print(f\"An error occurred: {str(e)}\")\n",
    "        return None\n",
    "        \n",
    "    finally:\n",
    "        # Close the WebDriver\n",
    "        driver.quit()\n",
    "\n",
    "# Example usage:\n",
    "url = \"https://www.ae.com/us/en/p/women/t/classic-t/ae-hey-baby-ribbed-t/2370_9516_430?menu=cat4840004\"\n",
    "\n",
    "dynamic_content = scrape_american_eagle(url)\n",
    "if dynamic_content:\n",
    "    print(dynamic_content)"
   ]
  }
 ],
 "metadata": {
  "kernelspec": {
   "display_name": "base",
   "language": "python",
   "name": "python3"
  },
  "language_info": {
   "codemirror_mode": {
    "name": "ipython",
    "version": 3
   },
   "file_extension": ".py",
   "mimetype": "text/x-python",
   "name": "python",
   "nbconvert_exporter": "python",
   "pygments_lexer": "ipython3",
   "version": "3.11.7"
  }
 },
 "nbformat": 4,
 "nbformat_minor": 2
}
