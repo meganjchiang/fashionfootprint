{
 "cells": [
  {
   "cell_type": "code",
   "execution_count": 3,
   "metadata": {},
   "outputs": [],
   "source": [
    "import pandas as pd\n",
    "from selenium import webdriver\n",
    "from selenium.webdriver.chrome.options import Options\n",
    "from selenium.webdriver.common.by import By\n",
    "from selenium.webdriver.support.ui import WebDriverWait\n",
    "from selenium.webdriver.support import expected_conditions as EC\n",
    "from lxml import html\n",
    "from bs4 import BeautifulSoup\n",
    "import requests\n",
    "import time"
   ]
  },
  {
   "cell_type": "code",
   "execution_count": 20,
   "metadata": {},
   "outputs": [],
   "source": [
    "## version 2\n",
    "def scrape_adidas(url, wait_time=20):\n",
    "    try:\n",
    "        user_agent = \"Mozilla/5.0 (Windows NT 10.0; Win64; x64) AppleWebKit/537.36 (KHTML, like Gecko) Chrome/97.0.4692.71 Safari/537.36\"\n",
    "        interactive_element_xpath = '//*[@id=\"navigation-target-specifications\"]/div/button'\n",
    "        loaded_content_xpath = '//*[@id=\"navigation-target-specifications\"]/div/div/div/div'\n",
    "\n",
    "        # Set Chrome options for headless mode\n",
    "        chrome_options = Options()\n",
    "        chrome_options.add_argument(f\"user-agent={user_agent}\")\n",
    "        chrome_options.add_argument(\"--headless\")\n",
    "\n",
    "        # Initialize the WebDriver with headless mode\n",
    "        driver = webdriver.Chrome(options=chrome_options)\n",
    "        \n",
    "        # Open the webpage\n",
    "        driver.get(url)\n",
    "\n",
    "        # Wait for the interactive element to be visible\n",
    "        WebDriverWait(driver, wait_time).until(\n",
    "            EC.visibility_of_element_located((By.XPATH, interactive_element_xpath))\n",
    "        )\n",
    "\n",
    "        # Find the interactive element\n",
    "        interactive_element = driver.find_element(By.XPATH, interactive_element_xpath)\n",
    "        \n",
    "        # Click the interactive element\n",
    "        interactive_element.click()\n",
    "\n",
    "        # Wait for the loaded content to be visible\n",
    "        loaded_element = WebDriverWait(driver, wait_time).until(\n",
    "            EC.visibility_of_element_located((By.XPATH, loaded_content_xpath))\n",
    "        )\n",
    "\n",
    "        # Once loaded, scrape the content\n",
    "        dynamic_content = loaded_element.text\n",
    "\n",
    "        # Once loaded, scrape the content\n",
    "        page_source = driver.page_source\n",
    "\n",
    "        # Use BeautifulSoup to parse the page source\n",
    "        soup = BeautifulSoup(page_source, \"html.parser\")\n",
    "\n",
    "        # Find the title element\n",
    "        title_element = soup.find(\"h1\", class_=\"name___120FN\")\n",
    "\n",
    "        # Extract the title text\n",
    "        title_text = title_element.text.strip() if title_element else None\n",
    "\n",
    "        \n",
    "        return title_text, dynamic_content\n",
    "        \n",
    "    except Exception as e:\n",
    "        print(\"An error occurred\")\n",
    "        return None\n",
    "        \n",
    "    finally:\n",
    "        # Close the WebDriver\n",
    "        driver.quit()"
   ]
  },
  {
   "cell_type": "code",
   "execution_count": 21,
   "metadata": {},
   "outputs": [
    {
     "data": {
      "text/plain": [
       "('Firebird Shorts',\n",
       " 'Loose fit\\nElastic waist\\n100% recycled polyester tricot\\nSide zip pockets\\nImported\\nProduct color: Black\\nProduct code: IU2425')"
      ]
     },
     "execution_count": 21,
     "metadata": {},
     "output_type": "execute_result"
    }
   ],
   "source": [
    "scrape_adidas(\"https://www.adidas.com/us/firebird-shorts/IU2425.html\")"
   ]
  },
  {
   "cell_type": "code",
   "execution_count": 22,
   "metadata": {},
   "outputs": [
    {
     "name": "stdout",
     "output_type": "stream",
     "text": [
      "Scraping data from Adidas link: https://bit.ly/3JzQGyE\n",
      "An error occurred\n",
      "Failed to scrape data from the link.\n",
      "\n",
      "Scraping data from Adidas link: https://bit.ly/3ZftJa0\n",
      "('Samba OG Shoes', 'Regular fit\\nLace closure\\nFull grain leather upper with gritty suede and gold foil details\\nSynthetic leather lining; Gum rubber cupsole\\nGum rubber midsole\\nImported\\nProduct color: Cloud White / Core Black / gum\\nProduct code: B75806')\n",
      "Scraping data from Adidas link: https://bit.ly/40r5Tcd\n",
      "('Ultraboost Light Running Shoes', 'Regular fit\\nLace closure\\nadidas PRIMEKNIT+ textile upper\\nTextile lining\\nLinear Energy Push system\\nLight BOOST\\nWeight: 10.5 ounces (size 9)\\nMidsole drop: 10 mm (heel: 30 mm, forefoot: 20 mm)\\nContinental™ Better Rubber outsole\\nYarn in upper contains at least 50% Parley Ocean Plastic and 50% recycled polyester / Minimum 10% less emissions per pair when compared to a previous version\\nImported\\nProduct color: Core Black / Core Black / Core Black\\nProduct code: GZ5159')\n",
      "Scraping data from Adidas link: https://bit.ly/3yWlWmr\n",
      "An error occurred\n",
      "Failed to scrape data from the link.\n",
      "\n",
      "Scraping data from Adidas link: https://bit.ly/3LDOhFS\n",
      "('Superstar Shoes', 'Lace closure\\nLeather upper\\nIconic leather shoes\\nRubber outsole\\nImported\\nProduct color: Cloud White / Core Black / Cloud White\\nProduct code: EG4958')\n",
      "Scraping data from Adidas link: https://bit.ly/42tCkZf\n",
      "('Ultraboost 1.0 Shoes', 'Regular fit\\nLace closure\\nadidas PRIMEKNIT textile upper\\nBOOST midsole\\nTextile lining\\nContinental™ Rubber outsole\\nYarn in upper contains at least 50% Parley Ocean Plastic and 50% recycled polyester\\nImported\\nProduct color: Wonder Taupe / Wonder Taupe / Cloud White\\nProduct code: HQ2195')\n",
      "Scraping data from Adidas link: https://bit.ly/40cGnHV\n",
      "('Stan Smith Shoes', 'Regular fit\\nLace closure\\nSynthetic lining\\nRubber outsole\\nVegan\\nImported\\nProduct color: Cloud White / Cloud White / Green\\nProduct code: FX5502')\n",
      "Scraping data from Adidas link: https://bit.ly/40e6Fd2\n"
     ]
    },
    {
     "ename": "KeyboardInterrupt",
     "evalue": "",
     "output_type": "error",
     "traceback": [
      "\u001b[0;31m---------------------------------------------------------------------------\u001b[0m",
      "\u001b[0;31mKeyboardInterrupt\u001b[0m                         Traceback (most recent call last)",
      "Cell \u001b[0;32mIn[22], line 7\u001b[0m\n\u001b[1;32m      5\u001b[0m \u001b[38;5;28;01mfor\u001b[39;00m link \u001b[38;5;129;01min\u001b[39;00m links_list:\n\u001b[1;32m      6\u001b[0m     \u001b[38;5;28mprint\u001b[39m(\u001b[38;5;124mf\u001b[39m\u001b[38;5;124m\"\u001b[39m\u001b[38;5;124mScraping data from Adidas link: \u001b[39m\u001b[38;5;132;01m{\u001b[39;00mlink\u001b[38;5;132;01m}\u001b[39;00m\u001b[38;5;124m\"\u001b[39m)\n\u001b[0;32m----> 7\u001b[0m     scraped_data \u001b[38;5;241m=\u001b[39m scrape_adidas(link)\n\u001b[1;32m      8\u001b[0m     \u001b[38;5;28;01mif\u001b[39;00m scraped_data:\n\u001b[1;32m      9\u001b[0m         \u001b[38;5;28mprint\u001b[39m(scraped_data)\n",
      "Cell \u001b[0;32mIn[20], line 20\u001b[0m, in \u001b[0;36mscrape_adidas\u001b[0;34m(url, wait_time)\u001b[0m\n\u001b[1;32m     17\u001b[0m driver\u001b[38;5;241m.\u001b[39mget(url)\n\u001b[1;32m     19\u001b[0m \u001b[38;5;66;03m# Wait for the interactive element to be visible\u001b[39;00m\n\u001b[0;32m---> 20\u001b[0m WebDriverWait(driver, wait_time)\u001b[38;5;241m.\u001b[39muntil(\n\u001b[1;32m     21\u001b[0m     EC\u001b[38;5;241m.\u001b[39mvisibility_of_element_located((By\u001b[38;5;241m.\u001b[39mXPATH, interactive_element_xpath))\n\u001b[1;32m     22\u001b[0m )\n\u001b[1;32m     24\u001b[0m \u001b[38;5;66;03m# Find the interactive element\u001b[39;00m\n\u001b[1;32m     25\u001b[0m interactive_element \u001b[38;5;241m=\u001b[39m driver\u001b[38;5;241m.\u001b[39mfind_element(By\u001b[38;5;241m.\u001b[39mXPATH, interactive_element_xpath)\n",
      "File \u001b[0;32m/opt/anaconda3/lib/python3.11/site-packages/selenium/webdriver/support/wait.py:102\u001b[0m, in \u001b[0;36mWebDriverWait.until\u001b[0;34m(self, method, message)\u001b[0m\n\u001b[1;32m    100\u001b[0m     screen \u001b[38;5;241m=\u001b[39m \u001b[38;5;28mgetattr\u001b[39m(exc, \u001b[38;5;124m\"\u001b[39m\u001b[38;5;124mscreen\u001b[39m\u001b[38;5;124m\"\u001b[39m, \u001b[38;5;28;01mNone\u001b[39;00m)\n\u001b[1;32m    101\u001b[0m     stacktrace \u001b[38;5;241m=\u001b[39m \u001b[38;5;28mgetattr\u001b[39m(exc, \u001b[38;5;124m\"\u001b[39m\u001b[38;5;124mstacktrace\u001b[39m\u001b[38;5;124m\"\u001b[39m, \u001b[38;5;28;01mNone\u001b[39;00m)\n\u001b[0;32m--> 102\u001b[0m time\u001b[38;5;241m.\u001b[39msleep(\u001b[38;5;28mself\u001b[39m\u001b[38;5;241m.\u001b[39m_poll)\n\u001b[1;32m    103\u001b[0m \u001b[38;5;28;01mif\u001b[39;00m time\u001b[38;5;241m.\u001b[39mmonotonic() \u001b[38;5;241m>\u001b[39m end_time:\n\u001b[1;32m    104\u001b[0m     \u001b[38;5;28;01mbreak\u001b[39;00m\n",
      "\u001b[0;31mKeyboardInterrupt\u001b[0m: "
     ]
    }
   ],
   "source": [
    "df = pd.read_csv(\"../../data/youtube_data/adidas_youtube_data.csv\")\n",
    "top_row = df.iloc[1]\n",
    "links_list = top_row[\"Links\"].split('\\n')\n",
    "\n",
    "for link in links_list:\n",
    "    print(f\"Scraping data from Adidas link: {link}\")\n",
    "    scraped_data = scrape_adidas(link)\n",
    "    if scraped_data:\n",
    "        print(scraped_data)\n",
    "    else:\n",
    "        print(\"Failed to scrape data from the link.\\n\")\n",
    "    time.sleep(3)"
   ]
  }
 ],
 "metadata": {
  "kernelspec": {
   "display_name": "base",
   "language": "python",
   "name": "python3"
  },
  "language_info": {
   "codemirror_mode": {
    "name": "ipython",
    "version": 3
   },
   "file_extension": ".py",
   "mimetype": "text/x-python",
   "name": "python",
   "nbconvert_exporter": "python",
   "pygments_lexer": "ipython3",
   "version": "3.11.7"
  }
 },
 "nbformat": 4,
 "nbformat_minor": 2
}
