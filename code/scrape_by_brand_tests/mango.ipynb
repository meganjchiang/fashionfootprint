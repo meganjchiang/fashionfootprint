{
 "cells": [
  {
   "cell_type": "code",
   "execution_count": 1,
   "metadata": {},
   "outputs": [],
   "source": [
    "# imports\n",
    "import requests\n",
    "from requests.adapters import HTTPAdapter\n",
    "from urllib3.util.retry import Retry\n",
    "from selenium import webdriver\n",
    "from selenium.webdriver.chrome.options import Options\n",
    "from selenium.webdriver.common.by import By\n",
    "from selenium.webdriver.support.ui import WebDriverWait\n",
    "from selenium.webdriver.support import expected_conditions as EC\n",
    "from lxml import html\n",
    "from bs4 import BeautifulSoup\n",
    "import time\n",
    "import pandas as pd\n",
    "import re"
   ]
  },
  {
   "cell_type": "code",
   "execution_count": 37,
   "metadata": {},
   "outputs": [
    {
     "data": {
      "text/html": [
       "<div>\n",
       "<style scoped>\n",
       "    .dataframe tbody tr th:only-of-type {\n",
       "        vertical-align: middle;\n",
       "    }\n",
       "\n",
       "    .dataframe tbody tr th {\n",
       "        vertical-align: top;\n",
       "    }\n",
       "\n",
       "    .dataframe thead th {\n",
       "        text-align: right;\n",
       "    }\n",
       "</style>\n",
       "<table border=\"1\" class=\"dataframe\">\n",
       "  <thead>\n",
       "    <tr style=\"text-align: right;\">\n",
       "      <th></th>\n",
       "      <th>Title</th>\n",
       "      <th>Links</th>\n",
       "      <th>VideoLink</th>\n",
       "    </tr>\n",
       "  </thead>\n",
       "  <tbody>\n",
       "    <tr>\n",
       "      <th>0</th>\n",
       "      <td>SPRING HAUL &amp;amp; TRY ON | inc. MANGO SEZANE &amp;...</td>\n",
       "      <td>https://rstyle.me/+2o8zucCxq7qCSZZUXYbA3g\\nhtt...</td>\n",
       "      <td>https://www.youtube.com/watch?v=mg9D_L0hmQI</td>\n",
       "    </tr>\n",
       "  </tbody>\n",
       "</table>\n",
       "</div>"
      ],
      "text/plain": [
       "                                               Title  \\\n",
       "0  SPRING HAUL &amp; TRY ON | inc. MANGO SEZANE &...   \n",
       "\n",
       "                                               Links  \\\n",
       "0  https://rstyle.me/+2o8zucCxq7qCSZZUXYbA3g\\nhtt...   \n",
       "\n",
       "                                     VideoLink  \n",
       "0  https://www.youtube.com/watch?v=mg9D_L0hmQI  "
      ]
     },
     "execution_count": 37,
     "metadata": {},
     "output_type": "execute_result"
    }
   ],
   "source": [
    "df = pd.read_csv('../../data/youtube_data/mango_youtube_data.csv')\n",
    "\n",
    "df.head(2)"
   ]
  },
  {
   "cell_type": "code",
   "execution_count": 44,
   "metadata": {},
   "outputs": [],
   "source": [
    "def scrape_mango(url):\n",
    "    try:\n",
    "        # Set Chrome options for headless mode\n",
    "        chrome_options = Options()\n",
    "        chrome_options.add_argument(\"--headless\")\n",
    "\n",
    "        # Initialize the WebDriver\n",
    "        driver = webdriver.Chrome(options=chrome_options)\n",
    "        \n",
    "        # Open the webpage\n",
    "        driver.get(url)\n",
    "\n",
    "        if 'mango' not in driver.current_url:\n",
    "            return {'item': 'Unsupported URL', 'url': url}\n",
    "        \n",
    "        # Wait for the page to fully load\n",
    "        time.sleep(5) \n",
    "        \n",
    "        # Get the page source after interactions\n",
    "        page_source = driver.page_source\n",
    "\n",
    "        # get title\n",
    "        title = (driver.find_element(By.CLASS_NAME, 'product-name')).text\n",
    "        \n",
    "        # Close the WebDriver once done to avoid multiple instances\n",
    "        driver.quit()\n",
    "        \n",
    "        # Parse the page source with lxml and XPath\n",
    "        tree = html.fromstring(page_source)\n",
    "        \n",
    "        # Extract data using XPath expressions\n",
    "        data_element = (tree.xpath('//*[@id=\"productDesktop\"]/main/div/div[3]/div[1]/div[2]/div/p[1]/text()'))[0]\n",
    "\n",
    "        composition = (data_element.split('.')[0]).split(': ')[1]\n",
    "\n",
    "        fabric_percentages = composition.split(',')\n",
    "\n",
    "        materials = {}\n",
    "\n",
    "        for material_comp in fabric_percentages:\n",
    "            material_percentage = material_comp.split('% ') \n",
    "            percent = material_percentage[0]\n",
    "            fabric = ((material_percentage[1]).lower()).strip()\n",
    "            materials[fabric] = percent\n",
    "\n",
    "            final_data = {'item': title}\n",
    "            final_data.update(materials)\n",
    "\n",
    "        return final_data\n",
    "\n",
    "            \n",
    "    except Exception as e:\n",
    "        return {'item': 'No Data', 'url': url}"
   ]
  },
  {
   "cell_type": "code",
   "execution_count": 36,
   "metadata": {},
   "outputs": [
    {
     "name": "stdout",
     "output_type": "stream",
     "text": [
      "{'item': 'Vest with tie closure', 'viscose': '51', 'linen': '26', 'cotton': '23'}\n"
     ]
    }
   ],
   "source": [
    "# URL of the webpage you want to scrape\n",
    "url = 'https://shop.mango.com/us/women/blazers-suit-jackets/vest-with-tie-closure_67067136.html?c=40'\n",
    "\n",
    "# Call the function to scrape the website\n",
    "data = scrape_mango(url)\n",
    "print(data)"
   ]
  },
  {
   "cell_type": "code",
   "execution_count": 38,
   "metadata": {},
   "outputs": [],
   "source": [
    "def scrape_and_update(row):\n",
    "    links_list = row[\"Links\"].split('\\n')\n",
    "    scraped_data_combined = \"\"\n",
    "\n",
    "    for link in links_list:\n",
    "        scraped_data = scrape_mango(link)\n",
    "        scraped_data_combined += str(scraped_data) + \"\\n\"\n",
    "\n",
    "    return scraped_data_combined"
   ]
  },
  {
   "cell_type": "code",
   "execution_count": 45,
   "metadata": {},
   "outputs": [],
   "source": [
    "df['ScrapedData'] = df.apply(scrape_and_update, axis=1)"
   ]
  },
  {
   "cell_type": "code",
   "execution_count": 46,
   "metadata": {},
   "outputs": [],
   "source": [
    "df.to_csv('materials_data/mango_materials.csv', index=False)"
   ]
  }
 ],
 "metadata": {
  "kernelspec": {
   "display_name": "base",
   "language": "python",
   "name": "python3"
  },
  "language_info": {
   "codemirror_mode": {
    "name": "ipython",
    "version": 3
   },
   "file_extension": ".py",
   "mimetype": "text/x-python",
   "name": "python",
   "nbconvert_exporter": "python",
   "pygments_lexer": "ipython3",
   "version": "3.11.4"
  }
 },
 "nbformat": 4,
 "nbformat_minor": 2
}
