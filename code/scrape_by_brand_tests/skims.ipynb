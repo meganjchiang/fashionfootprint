{
 "cells": [
  {
   "cell_type": "code",
   "execution_count": 1,
   "metadata": {},
   "outputs": [],
   "source": [
    "# imports\n",
    "import requests\n",
    "from requests.adapters import HTTPAdapter\n",
    "from urllib3.util.retry import Retry\n",
    "from selenium import webdriver\n",
    "from selenium.webdriver.chrome.options import Options\n",
    "from selenium.webdriver.common.by import By\n",
    "from selenium.webdriver.support.ui import WebDriverWait\n",
    "from selenium.webdriver.support import expected_conditions as EC\n",
    "from lxml import html\n",
    "from bs4 import BeautifulSoup\n",
    "import time\n",
    "import pandas as pd\n",
    "import re"
   ]
  },
  {
   "cell_type": "code",
   "execution_count": 2,
   "metadata": {},
   "outputs": [
    {
     "data": {
      "text/html": [
       "<div>\n",
       "<style scoped>\n",
       "    .dataframe tbody tr th:only-of-type {\n",
       "        vertical-align: middle;\n",
       "    }\n",
       "\n",
       "    .dataframe tbody tr th {\n",
       "        vertical-align: top;\n",
       "    }\n",
       "\n",
       "    .dataframe thead th {\n",
       "        text-align: right;\n",
       "    }\n",
       "</style>\n",
       "<table border=\"1\" class=\"dataframe\">\n",
       "  <thead>\n",
       "    <tr style=\"text-align: right;\">\n",
       "      <th></th>\n",
       "      <th>Title</th>\n",
       "      <th>Links</th>\n",
       "      <th>VideoLink</th>\n",
       "    </tr>\n",
       "  </thead>\n",
       "  <tbody>\n",
       "    <tr>\n",
       "      <th>0</th>\n",
       "      <td>HUGE SKIMS HAUL | I SPENT OVER $700 ON SKIMS| ...</td>\n",
       "      <td>https://skims.com/products/soft-lounge-long-sl...</td>\n",
       "      <td>https://www.youtube.com/watch?v=Fc8uSovM7KM</td>\n",
       "    </tr>\n",
       "    <tr>\n",
       "      <th>1</th>\n",
       "      <td>Skims Try-on Haul &amp;amp; Review | *New In* Marc...</td>\n",
       "      <td>https://skims.com/products/new-vintage-cropped...</td>\n",
       "      <td>https://www.youtube.com/watch?v=VJQWNVVCk6Y</td>\n",
       "    </tr>\n",
       "  </tbody>\n",
       "</table>\n",
       "</div>"
      ],
      "text/plain": [
       "                                               Title  \\\n",
       "0  HUGE SKIMS HAUL | I SPENT OVER $700 ON SKIMS| ...   \n",
       "1  Skims Try-on Haul &amp; Review | *New In* Marc...   \n",
       "\n",
       "                                               Links  \\\n",
       "0  https://skims.com/products/soft-lounge-long-sl...   \n",
       "1  https://skims.com/products/new-vintage-cropped...   \n",
       "\n",
       "                                     VideoLink  \n",
       "0  https://www.youtube.com/watch?v=Fc8uSovM7KM  \n",
       "1  https://www.youtube.com/watch?v=VJQWNVVCk6Y  "
      ]
     },
     "execution_count": 2,
     "metadata": {},
     "output_type": "execute_result"
    }
   ],
   "source": [
    "df = pd.read_csv('../../data/youtube_data/skims_youtube_data.csv')\n",
    "\n",
    "df.head(2)"
   ]
  },
  {
   "cell_type": "code",
   "execution_count": 3,
   "metadata": {},
   "outputs": [],
   "source": [
    "def scrape_skims(url):\n",
    "    try:\n",
    "        # Set Chrome options for headless mode\n",
    "        chrome_options = Options()\n",
    "        chrome_options.add_argument('--headless')\n",
    "\n",
    "        # Initialize the WebDriver with headless mode\n",
    "        driver = webdriver.Chrome(options=chrome_options)\n",
    "        \n",
    "        # Open the webpage\n",
    "        driver.get(url)\n",
    "\n",
    "        if not driver.current_url.startswith('https://skims.com'):\n",
    "            return {'item': 'Unsupported URL', 'url': url}\n",
    "\n",
    "        # Wait for the specified time before clicking the interactive element\n",
    "        time.sleep(3)\n",
    "\n",
    "        # Find the interactive element\n",
    "        # interactive_element_xpath = '//*[@id=\"essential\"]/div[3]/div/div[6]/div[2]/button'\n",
    "        interactive_element_xpath = '//button[h2[contains(text(), \"Fit & Fabric\")]]'\n",
    "\n",
    "        interactive_element = driver.find_element(By.XPATH, interactive_element_xpath)\n",
    "\n",
    "        driver.execute_script(\"arguments[0].scrollIntoView(true);\", interactive_element)\n",
    "\n",
    "        # in case \"Sign Up\" popup appears\n",
    "        try:\n",
    "            # get popup\n",
    "            attentive_creative = driver.find_element(By.ID, \"attentive_creative\")\n",
    "\n",
    "            # switch to the iframe\n",
    "            driver.switch_to.frame(attentive_creative)\n",
    "            \n",
    "            # click on close button\n",
    "            close_button_inside_iframe = WebDriverWait(driver, 10).until(EC.element_to_be_clickable((By.XPATH, '//*[@id=\"closeIconContainer\"]')))\n",
    "            close_button_inside_iframe.click()\n",
    "            \n",
    "            # switch back to the page\n",
    "            driver.switch_to.default_content()\n",
    "        except:\n",
    "            pass\n",
    "\n",
    "        # Click the interactive element\n",
    "        interactive_element.click()\n",
    "\n",
    "        # get all text inside \"FIT & FABRIC\" dropdown\n",
    "        fit_fabric_dropdown_elem = driver.find_element(By.CLASS_NAME, 'flex.flex-col.items-center.justify-center.pdp-translation-12')\n",
    "\n",
    "        # Get all the text within the div element\n",
    "        fit_fabric_text = fit_fabric_dropdown_elem.text\n",
    "\n",
    "        # get product name from url (since name on website isn't specific enough)\n",
    "        product_name = url.split('products/')[1]\n",
    "        product_name = product_name.split('?')[0]\n",
    "        title = ' '.join(word.capitalize() for word in product_name.split('-'))\n",
    "\n",
    "        materials = {}\n",
    "        \n",
    "        # get list of materials and their percentages\n",
    "        fabric_percentages = [elem for elem in fit_fabric_text.split('\\n') if '%' in elem][0]\n",
    "        \n",
    "        if ': ' in fabric_percentages:\n",
    "            fabric_percentages.split(': ')[1]\n",
    "\n",
    "        fabric_percentages = fabric_percentages.split(' / ')\n",
    "\n",
    "        for material_comp in fabric_percentages:\n",
    "            material_percentage = material_comp.split('% ') \n",
    "            percent = material_percentage[0]\n",
    "            fabric = (material_percentage[1]).lower()\n",
    "            materials[fabric] = percent\n",
    "\n",
    "            final_data = {'item': title}\n",
    "            final_data.update(materials)\n",
    "\n",
    "        return final_data\n",
    "        \n",
    "    except:\n",
    "        return {'item': 'No Data', 'url': url}\n",
    "        \n",
    "    finally:\n",
    "        # Close the WebDriver\n",
    "        driver.quit()"
   ]
  },
  {
   "cell_type": "code",
   "execution_count": 4,
   "metadata": {},
   "outputs": [
    {
     "name": "stdout",
     "output_type": "stream",
     "text": [
      "{'item': 'Boyfriend Boxer Lily', 'cotton': '47', 'modal': '48', 'spandex': '5'}\n"
     ]
    }
   ],
   "source": [
    "url = 'https://skims.com/products/boyfriend-boxer-lily'\n",
    "\n",
    "material_info = scrape_skims(url)\n",
    "print(material_info)"
   ]
  },
  {
   "cell_type": "code",
   "execution_count": 5,
   "metadata": {},
   "outputs": [
    {
     "name": "stdout",
     "output_type": "stream",
     "text": [
      "{'item': 'Fits Everybody Legging Onyx', 'polyamide': '76', 'elastane': '24'}\n"
     ]
    }
   ],
   "source": [
    "url = 'https://skims.com/products/fits-everybody-legging-onyx'\n",
    "\n",
    "material_info = scrape_skims(url)\n",
    "print(material_info)"
   ]
  },
  {
   "cell_type": "code",
   "execution_count": 6,
   "metadata": {},
   "outputs": [],
   "source": [
    "def scrape_and_update(row):\n",
    "    links_list = row[\"Links\"].split('\\n')\n",
    "    scraped_data_combined = \"\"\n",
    "\n",
    "    for link in links_list:\n",
    "        scraped_data = scrape_skims(link)\n",
    "        scraped_data_combined += str(scraped_data) + \"\\n\"\n",
    "\n",
    "    return scraped_data_combined"
   ]
  },
  {
   "cell_type": "code",
   "execution_count": null,
   "metadata": {},
   "outputs": [],
   "source": [
    "df['ScrapedData'] = df.apply(scrape_and_update, axis=1)"
   ]
  },
  {
   "cell_type": "code",
   "execution_count": 33,
   "metadata": {},
   "outputs": [],
   "source": [
    "df.to_csv('materials_data/skims_materials.csv', index=False)"
   ]
  }
 ],
 "metadata": {
  "kernelspec": {
   "display_name": "base",
   "language": "python",
   "name": "python3"
  },
  "language_info": {
   "codemirror_mode": {
    "name": "ipython",
    "version": 3
   },
   "file_extension": ".py",
   "mimetype": "text/x-python",
   "name": "python",
   "nbconvert_exporter": "python",
   "pygments_lexer": "ipython3",
   "version": "3.11.4"
  }
 },
 "nbformat": 4,
 "nbformat_minor": 2
}
