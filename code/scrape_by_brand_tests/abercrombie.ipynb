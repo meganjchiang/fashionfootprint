{
 "cells": [
  {
   "cell_type": "code",
   "execution_count": 3,
   "metadata": {},
   "outputs": [],
   "source": [
    "import pandas as pd"
   ]
  },
  {
   "cell_type": "code",
   "execution_count": 6,
   "metadata": {},
   "outputs": [],
   "source": [
    "from selenium import webdriver\n",
    "from selenium.webdriver.chrome.options import Options\n",
    "from selenium.webdriver.common.by import By\n",
    "from selenium.webdriver.support.ui import WebDriverWait\n",
    "from selenium.webdriver.support import expected_conditions as EC\n",
    "from lxml import html\n",
    "from bs4 import BeautifulSoup\n",
    "import requests\n",
    "import time"
   ]
  },
  {
   "cell_type": "code",
   "execution_count": 7,
   "metadata": {},
   "outputs": [],
   "source": [
    "def scrape_abercrombie(url):\n",
    "    try:\n",
    "        # Set Chrome options for headless mode\n",
    "        chrome_options = Options()\n",
    "        chrome_options.add_argument(\"--headless\")\n",
    "        \n",
    "        # Initialize the WebDriver\n",
    "        with webdriver.Chrome(options=chrome_options) as driver:\n",
    "            driver.get(url)\n",
    "            \n",
    "            # Wait for the page to fully load\n",
    "            WebDriverWait(driver, 25).until(EC.presence_of_element_located((By.CSS_SELECTOR, 'body')))\n",
    "            \n",
    "            # Get the page source after interactions\n",
    "            page_source = driver.page_source\n",
    "        \n",
    "        # Parse the page source with Beautiful Soup\n",
    "        soup = BeautifulSoup(page_source, \"html.parser\")\n",
    "        \n",
    "        data_title = soup.find(\"h1\", class_=\"product-title-component\")\n",
    "        # Find the <div> tag with class \"product__description rte\"\n",
    "        data_element = soup.find(\"h4\", class_=\"h4 fabric-care-mfe__label\")\n",
    "        \n",
    "        if data_element:\n",
    "            return data_title.text, data_element.text.strip()\n",
    "        else:\n",
    "            return \"Link no longer available.\"\n",
    "            \n",
    "    except Exception as e:\n",
    "        return f\"An error occurred: {str(e)}\""
   ]
  },
  {
   "cell_type": "code",
   "execution_count": 8,
   "metadata": {},
   "outputs": [],
   "source": [
    "abercrombie_videos = pd.read_csv(\"../../data/youtube_data/abercombie_youtube_data.csv\")\n"
   ]
  },
  {
   "cell_type": "code",
   "execution_count": 19,
   "metadata": {},
   "outputs": [],
   "source": [
    "def extract_links(links_str):\n",
    "    return links_str.split('\\n')"
   ]
  },
  {
   "cell_type": "code",
   "execution_count": 11,
   "metadata": {},
   "outputs": [
    {
     "name": "stdout",
     "output_type": "stream",
     "text": [
      "Scraping data from link: https://rstyle.me/+WRzqX5-AH-oR2gB_pKUUYw\n",
      "('Curve Love High Rise 90s Relaxed Jean', 'Pocket Bag:70% Polyester, 30% Cotton / Body:99% Cotton, 1% Elastane')\n",
      "Scraping data from link: https://rstyle.me/+Js6thosPvSR3LDBsbGquSQ\n",
      "Link no longer available.\n",
      "Scraping data from link: https://rstyle.me/+Z27ocdHpKhN8ooTp_e-3sQ\n",
      "Link no longer available.\n",
      "Scraping data from link: https://rstyle.me/+es1IN05es3_lCKR0HCpHTg\n",
      "('Essential Sunday Half-Zip', 'Body:70% Cotton, 30% Polyester')\n",
      "Scraping data from link: https://rstyle.me/+DORpnddCSEBxyL0gYV6thQ\n",
      "Link no longer available.\n"
     ]
    },
    {
     "ename": "KeyboardInterrupt",
     "evalue": "",
     "output_type": "error",
     "traceback": [
      "\u001b[0;31m---------------------------------------------------------------------------\u001b[0m",
      "\u001b[0;31mKeyboardInterrupt\u001b[0m                         Traceback (most recent call last)",
      "Cell \u001b[0;32mIn[11], line 9\u001b[0m\n\u001b[1;32m      7\u001b[0m scraped_data \u001b[38;5;241m=\u001b[39m scrape_abercrombie(link)\n\u001b[1;32m      8\u001b[0m \u001b[38;5;28mprint\u001b[39m(scraped_data)\n\u001b[0;32m----> 9\u001b[0m time\u001b[38;5;241m.\u001b[39msleep(\u001b[38;5;241m3\u001b[39m)\n",
      "\u001b[0;31mKeyboardInterrupt\u001b[0m: "
     ]
    }
   ],
   "source": [
    "df = pd.read_csv(\"../../data/youtube_data/abercombie_youtube_data.csv\")\n",
    "top_row = df.iloc[0]\n",
    "links_list = top_row[\"Links\"].split('\\n')\n",
    "\n",
    "for link in links_list:\n",
    "    print(f\"Scraping data from link: {link}\")\n",
    "    scraped_data = scrape_abercrombie(link)\n",
    "    print(scraped_data)\n",
    "    time.sleep(3)"
   ]
  }
 ],
 "metadata": {
  "kernelspec": {
   "display_name": "base",
   "language": "python",
   "name": "python3"
  },
  "language_info": {
   "codemirror_mode": {
    "name": "ipython",
    "version": 3
   },
   "file_extension": ".py",
   "mimetype": "text/x-python",
   "name": "python",
   "nbconvert_exporter": "python",
   "pygments_lexer": "ipython3",
   "version": "3.11.7"
  }
 },
 "nbformat": 4,
 "nbformat_minor": 2
}
