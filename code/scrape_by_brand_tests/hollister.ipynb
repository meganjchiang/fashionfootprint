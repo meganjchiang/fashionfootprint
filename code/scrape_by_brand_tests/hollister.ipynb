{
 "cells": [
  {
   "cell_type": "code",
   "execution_count": 3,
   "metadata": {},
   "outputs": [],
   "source": [
    "from selenium import webdriver\n",
    "from selenium.webdriver.chrome.options import Options\n",
    "from selenium.webdriver.common.by import By\n",
    "from selenium.webdriver.support.ui import WebDriverWait\n",
    "from selenium.webdriver.support import expected_conditions as EC\n",
    "from selenium.common.exceptions import NoSuchElementException, TimeoutException\n",
    "from lxml import html\n",
    "from bs4 import BeautifulSoup\n",
    "import requests\n",
    "import time"
   ]
  },
  {
   "cell_type": "code",
   "execution_count": 24,
   "metadata": {},
   "outputs": [
    {
     "name": "stdout",
     "output_type": "stream",
     "text": [
      "{'item': 'Low-Rise Dark Wash Baggy Jeans', 'cotton': 100}\n"
     ]
    }
   ],
   "source": [
    "def scrape_hollister(url):\n",
    "    try:\n",
    "        # Set Chrome options for headless mode\n",
    "        chrome_options = Options()\n",
    "        chrome_options.add_argument(\"--headless\")\n",
    "        # Initialize the WebDriver\n",
    "        driver = webdriver.Chrome(options=chrome_options)\n",
    "        driver.get(url)\n",
    "        # Get the page source after interactions\n",
    "        page_source = driver.page_source\n",
    "        # Close the WebDriver once done to avoid multiple instances\n",
    "        driver.quit()\n",
    "        # Parse the page source with Beautiful Soup\n",
    "        soup = BeautifulSoup(page_source, \"html.parser\")\n",
    "        # Extract data using Beautiful Soup methods\n",
    "        \n",
    "        item = \"\"\n",
    "        title_element = soup.find(\"h1\", class_=\"product-title-component\")\n",
    "        if title_element:\n",
    "            item = title_element.text\n",
    "        data_element = soup.find(\"h4\", class_=\"h4 fabric-care-mfe__label\")\n",
    "        if data_element:\n",
    "            materials = data_element.text\n",
    "            return process_item_data(item, materials)\n",
    "        else:\n",
    "            return \"Data element not found on the page.\"\n",
    "    except Exception as e:\n",
    "        return f\"An error occurred: {str(e)}\"\n",
    "\n",
    "# URL of the webpage you want to scrape\n",
    "url = \"https://www.hollisterco.com/shop/us/p/low-rise-dark-wash-baggy-jeans-56195470?categoryId=12552&faceout=model&seq=03\"\n",
    "# Call the function to scrape the website\n",
    "data = scrape_hollister(url)\n",
    "print(data)"
   ]
  },
  {
   "cell_type": "code",
   "execution_count": 25,
   "metadata": {},
   "outputs": [],
   "source": [
    "urls = [\n",
    "    \"https://www.hollisterco.com/shop/us/p/seamless-fabric-crew-baby-tee-55640321?categoryId=12552&faceout=model&seq=13\",\n",
    "    \"https://www.hollisterco.com/shop/us/p/ultra-high-rise-dad-jeans-50414962?categoryId=12552&faceout=model&seq=04\",\n",
    "    \"https://www.hollisterco.com/shop/us/p/hollister-sofia-side-smocked-maxi-dress-55640320?categoryId=12552&faceout=life&seq=02\",\n",
    "    \"https://www.hollisterco.com/shop/us/p/easy-open-stitch-crochet-cardigan-55639328?categoryId=12627&faceout=model&seq=02\"\n",
    "]"
   ]
  },
  {
   "cell_type": "code",
   "execution_count": 26,
   "metadata": {},
   "outputs": [
    {
     "name": "stdout",
     "output_type": "stream",
     "text": [
      "{'item': 'Soft Stretch Seamless Fabric Crew Baby Tee', 'polyester': 88, 'elastane': 12}\n",
      "{'item': 'Ultra High-Rise Ripped Light Wash Dad Jeans', 'cotton': 99, 'elastane': 1}\n",
      "{'item': 'Hollister Sofia Side-Smocked Maxi Dress', 'viscose': 100}\n",
      "{'item': 'Easy Open-Stitch Crochet-Style Cardigan', 'cotton': 100}\n"
     ]
    }
   ],
   "source": [
    "scraped_data = []\n",
    "for url in urls:\n",
    "    data = scrape_hollister(url)\n",
    "    scraped_data.append(data)\n",
    "    print(data)"
   ]
  },
  {
   "cell_type": "code",
   "execution_count": 20,
   "metadata": {},
   "outputs": [
    {
     "data": {
      "text/plain": [
       "[('Soft Stretch Seamless Fabric Crew Baby Tee',\n",
       "  'Body:88% Polyester, 12% Elastane'),\n",
       " ('Ultra High-Rise Ripped Light Wash Dad Jeans',\n",
       "  'Pocket Bag:80% Polyester, 20% Cotton / Body:99% Cotton, 1% Elastane'),\n",
       " ('Hollister Sofia Side-Smocked Maxi Dress',\n",
       "  'Lining:100% Polyester / Elastic:70% Polyester, 30% Rubber / Body:100% Viscose'),\n",
       " ('Easy Open-Stitch Crochet-Style Cardigan', 'Body:100% Cotton')]"
      ]
     },
     "execution_count": 20,
     "metadata": {},
     "output_type": "execute_result"
    }
   ],
   "source": [
    "scraped_data"
   ]
  },
  {
   "cell_type": "code",
   "execution_count": 23,
   "metadata": {},
   "outputs": [],
   "source": [
    "def process_item_data(item, materials):\n",
    "    item_dict = {'item': item}\n",
    "    \n",
    "    # Process materials\n",
    "    if 'Body:' in materials:\n",
    "        components = materials.split('/')\n",
    "        for component in components:\n",
    "            component = component.strip()\n",
    "            if component.startswith('Body:'):\n",
    "                _, composition = component.split(':', 1)\n",
    "                parts = composition.strip().split()\n",
    "                \n",
    "                for part in parts:\n",
    "                    if '%' in part:\n",
    "                        try:\n",
    "                            percentage = int(part.split('%')[0])\n",
    "                            material_index = parts.index(part) + 1\n",
    "                            if material_index < len(parts):\n",
    "                                material = parts[material_index].strip()\n",
    "                                material = ''.join(char for char in material if char.isalnum() or char.isspace())\n",
    "                                item_dict[material.lower()] = percentage\n",
    "                        except ValueError:\n",
    "                            continue\n",
    "    else:\n",
    "        item_dict['materials'] = \"No body material info available.\"\n",
    "        \n",
    "    return item_dict"
   ]
  }
 ],
 "metadata": {
  "kernelspec": {
   "display_name": "Python 3",
   "language": "python",
   "name": "python3"
  },
  "language_info": {
   "codemirror_mode": {
    "name": "ipython",
    "version": 3
   },
   "file_extension": ".py",
   "mimetype": "text/x-python",
   "name": "python",
   "nbconvert_exporter": "python",
   "pygments_lexer": "ipython3",
   "version": "3.9.16"
  }
 },
 "nbformat": 4,
 "nbformat_minor": 2
}
