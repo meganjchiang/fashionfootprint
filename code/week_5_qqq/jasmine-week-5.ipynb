{
 "cells": [
  {
   "cell_type": "markdown",
   "metadata": {},
   "source": [
    "## **Q#** How can I calculate a score based on the materials? *(Jasmine)*\n",
    "\n",
    "### Qualitative:\n",
    "#### Problem -\n",
    "- We have extracted the materials from 30 brands, how do we automatically calculate a score for the materials?\n",
    "- Is there a tool that exists that can calculate a score for materials?\n",
    "#### Hypothesis & Assumptions -\n",
    "- I am assuming that there are existing tools that can help calculate a sustainability score for materials.\n",
    "#### Context, Motivation & Rationale -\n",
    "- We want to use the materials used to make clothing and products pulled from webscraped brands to make a material score that will go into our overall sustainability score.\n",
    "- By using an existing tool we do not need to dive deeper into the research that goes into calculating a material score and can focus on data collection and data science processes, as well as, building our tool.\n",
    "#### Definitions, Data, and Methods -\n",
    "- [Material Score Calculator](https://www.selflessclothes.com/blog/sustainability-calculator/) - We were able to find this material score calculator that can be used to input materials and their percentages for a score based on the Higg Materials Sustainability Index (Higg MSI).\n",
    "- [Higg Materials Sustainability Index (Higg MSI)](https://howtohigg.org/higg-msi/an-introduction-to-msi/) - \"material assessment tool that calculates the environmental impacts of materials used in consumer goods industries.\"\n",
    "- Higg MSI measures environmental impact in 5 areas:\n",
    "    - Global warming\n",
    "    - Nutrient pollution in water (eutrophication)\n",
    "    - Water scarcity\n",
    "    - Abiotic resource depletion, use of fossil fuels\n",
    "    - Chemistry\n",
    "- Method:\n",
    "    - Using string concatenation and Selenium webscraping to pull the score from the score calculator website.\n",
    "#### Biases & Assumptions\n",
    "- We are assuming that the Selfless Clothes' material score calculator is an accurate and trust worthy resource.\n",
    "- There is a possibility of bias coming from the Selfless Clothes' material score calculator & Higg MSI where they have their own biases and limitations. \n",
    "- There is a possibility of selection bias with the brands that we decided to focus on."
   ]
  },
  {
   "cell_type": "markdown",
   "metadata": {},
   "source": [
    "### Quantitative:"
   ]
  },
  {
   "cell_type": "markdown",
   "metadata": {},
   "source": [
    "Step 1: Import necessary libraries "
   ]
  },
  {
   "cell_type": "code",
   "execution_count": 56,
   "metadata": {},
   "outputs": [],
   "source": [
    "import requests\n",
    "from bs4 import BeautifulSoup\n",
    "from selenium import webdriver\n",
    "from selenium.webdriver.chrome.options import Options\n",
    "from selenium.webdriver.common.by import By\n",
    "from selenium.webdriver.support.ui import WebDriverWait\n",
    "from selenium.webdriver.support import expected_conditions as EC\n",
    "import requests\n",
    "import time\n",
    "import re"
   ]
  },
  {
   "cell_type": "markdown",
   "metadata": {},
   "source": [
    "Step 2: Scrape the clothing item link and extract the item's name and the material composition"
   ]
  },
  {
   "cell_type": "code",
   "execution_count": 57,
   "metadata": {},
   "outputs": [],
   "source": [
    "clothing_item = \"https://www.uniqlo.com/us/en/products/E468788-000/00?colorDisplayCode=01&sizeDisplayCode=003\""
   ]
  },
  {
   "cell_type": "code",
   "execution_count": 58,
   "metadata": {},
   "outputs": [],
   "source": [
    "# Scrapes a Uniqlo item and returns the material makeup\n",
    "def scrape_uniqlo(url, wait_time=2):\n",
    "    try:\n",
    "        user_agent = \"Mozilla/5.0 (Windows NT 10.0; Win64; x64) AppleWebKit/537.36 (KHTML, like Gecko) Chrome/97.0.4692.71 Safari/537.36\"\n",
    "        # Set Chrome options for headless mode\n",
    "        chrome_options = Options()\n",
    "        chrome_options.add_argument(\"--headless\")\n",
    "        chrome_options.add_argument(f\"user-agent={user_agent}\")\n",
    "        interactive_element_xpath = '//*[@id=\"productMaterialDescription\"]'\n",
    "        loaded_content_xpath = '//*[@id=\"productMaterialDescription-content\"]/dl/dd[1]/p'\n",
    "        title_xpath = '//*[@id=\"root\"]/div[4]/div/section/div[2]/div[2]/div[1]/div/ul/li[1]/h1'\n",
    "\n",
    "        # Initialize the WebDriver with headless mode\n",
    "        driver = webdriver.Chrome(options=chrome_options)\n",
    "        \n",
    "        # Open the webpage\n",
    "        driver.get(url)\n",
    "\n",
    "        # Wait for the specified time before clicking the interactive element\n",
    "        time.sleep(wait_time)  # Wait for the specified time in seconds\n",
    "\n",
    "        # Find the interactive element\n",
    "        interactive_element = driver.find_element(By.XPATH, interactive_element_xpath)\n",
    "        \n",
    "        # Click the interactive element\n",
    "        interactive_element.click()\n",
    "\n",
    "        # Wait for the loaded content to be visible\n",
    "        loaded_element = WebDriverWait(driver, wait_time).until(\n",
    "            EC.visibility_of_element_located((By.XPATH, loaded_content_xpath))\n",
    "        )\n",
    "\n",
    "        # Once loaded, scrape the content\n",
    "        dynamic_content = loaded_element.text\n",
    "        \n",
    "        # Scrape the title\n",
    "        title_element = driver.find_element(By.XPATH, title_xpath)\n",
    "        title = title_element.text\n",
    "        \n",
    "        # Extract all material percentages from the dynamic content\n",
    "        material_pattern = r'(\\d+)%\\s*(\\w+)'\n",
    "        material_matches = re.findall(material_pattern, dynamic_content)\n",
    "        \n",
    "        # Create a dictionary to store the scraped data\n",
    "        scraped_data = {\"item\": title}\n",
    "        for percent, material in material_matches:\n",
    "            # Convert percentage to integer\n",
    "            percent = int(percent)\n",
    "            # Update the dictionary with the material percentage\n",
    "            scraped_data[material.lower()] = percent\n",
    "        \n",
    "        return scraped_data\n",
    "        \n",
    "    except Exception as e:\n",
    "        print(f\"An error occurred: {str(e)}\")\n",
    "        return None\n",
    "        \n",
    "    finally:\n",
    "        # Close the WebDriver\n",
    "        driver.quit()"
   ]
  },
  {
   "cell_type": "code",
   "execution_count": 72,
   "metadata": {},
   "outputs": [
    {
     "name": "stdout",
     "output_type": "stream",
     "text": [
      "{'item': 'Mesh Crew Neck Long-Sleeve Sweater', 'acrylic': 58, 'lyocell': 26, 'linen': 16}\n"
     ]
    }
   ],
   "source": [
    "# Save the scraped dictionary to an item variable\n",
    "item = scrape_uniqlo(clothing_item)\n",
    "print(item)"
   ]
  },
  {
   "cell_type": "markdown",
   "metadata": {},
   "source": [
    "Step 2: Create a method that accepts an item dictionary and creates a material calculator URL that can be scraped to obtain the material score"
   ]
  },
  {
   "cell_type": "code",
   "execution_count": 69,
   "metadata": {},
   "outputs": [],
   "source": [
    "# This is the base calculator URL\n",
    "calculator_url = \"https://www.selflessclothes.com/blog/sustainability-calculator/?\"\n",
    "\n",
    "# This is the goal url to obtain the scores based on the materials,\n",
    "# it uses query params like this:\n",
    "# material=ACRYLIC&material=LYOCELL&material=LINEN&percentage=58&percentage=26&percentage=16\n",
    "# to generate a score:\n",
    "goal = \"https://www.selflessclothes.com/blog/sustainability-calculator/?material=ACRYLIC&material=LYOCELL&material=LINEN&percentage=58&percentage=26&percentage=16\""
   ]
  },
  {
   "cell_type": "code",
   "execution_count": 70,
   "metadata": {},
   "outputs": [],
   "source": [
    "def get_material_score(item):\n",
    "    # List of accepted parameters by the calculator\n",
    "    material_params = [\"COTTON\", \"RECYCLED_COTTON\", \"ORGANIC_COTTON\", \n",
    "                    \"POLYESTER\", \"RECYCLED_POLYESTER\", \"NYLON\", \n",
    "                    \"RECYCLED_NYLON\", \"ACRYLIC\", \"SPANDEX\", \n",
    "                    \"FLAX\", \"LINEN\", \"HEMP\", \"CUPRO\", \n",
    "                    \"LYOCELL\", \"TENCEL_LYOCELL_LENZING\", \n",
    "                    \"REFIBRA_TENCEL_LYOCELL_LENZING\", \"MODAL\", \n",
    "                    \"TENCEL_MODAL_LENZING\", \"VISCOSE\", \"VISCOSE_BAMBOO\", \n",
    "                    \"VISCOSE_ASIA_LENZING\", \"VISCOSE_EU_LENZING\",\n",
    "                    \"SILK\", \"ALPACA\", \"WOOL\", \"RECYCLED_WOOL\", \n",
    "                    \"CASHMERE\", \"RECYCLED_CASHMERE\"]\n",
    "    \n",
    "    # Base calculator URL\n",
    "    calculator = \"https://www.selflessclothes.com/blog/sustainability-calculator/?\"\n",
    "\n",
    "    # Extract the materials out of the item dictionary for calculator URL's query parameters\n",
    "    materials_and_percents = {key: value for key, value in item.items() if key != 'item'}\n",
    "\n",
    "    goal_params = []\n",
    "\n",
    "    # Check if the materials are in the material parameters that the website uses\n",
    "    for material, percent in materials_and_percents.items():\n",
    "        if material.upper() in material_params:\n",
    "            goal_params.extend([f\"material={material.upper()}\", f\"percentage={percent}\"])\n",
    "\n",
    "    # Reorder the parameters so they match the score calculator\n",
    "    reordered_params = [goal_params[i] for i in range(0, len(goal_params), 2)] + [goal_params[i] for i in range(1, len(goal_params), 2)]\n",
    "\n",
    "    # String concatenation of the score calculator url\n",
    "    score_calculator = calculator + \"&\".join(reordered_params)\n",
    "\n",
    "    # Configure Chrome options for headless mode\n",
    "    chrome_options = Options()\n",
    "    chrome_options.add_argument(\"--headless\")  # Run in headless mode\n",
    "\n",
    "    # Initialize Chrome WebDriver with configured options\n",
    "    driver = webdriver.Chrome(options=chrome_options)\n",
    "\n",
    "    try:\n",
    "        # Load the score calculator page with the results\n",
    "        driver.get(score_calculator)\n",
    "\n",
    "        # Wait for the score element to be present\n",
    "        score_element = WebDriverWait(driver, 10).until(\n",
    "            EC.presence_of_element_located((By.CLASS_NAME, \"ml-2\"))\n",
    "        )\n",
    "\n",
    "        # Extract the score text\n",
    "        score_text = score_element.text.strip()\n",
    "\n",
    "        # Extract the score from the parentheses and convert it to a float\n",
    "        material_score = float(score_text[score_text.find('(') + 1: score_text.find(')')])\n",
    "\n",
    "        # Returns the clothing item's name and material score\n",
    "        return (item.get(\"item\"), f\"Material Score: {material_score}\")\n",
    "    except Exception as e:\n",
    "        print(\"Error:\", e)\n",
    "        return None\n",
    "    finally:\n",
    "        # Close the WebDriver\n",
    "        driver.quit()"
   ]
  },
  {
   "cell_type": "code",
   "execution_count": 71,
   "metadata": {},
   "outputs": [
    {
     "data": {
      "text/plain": [
       "('Mesh Crew Neck Long-Sleeve Sweater', 'Material Score: 0.9')"
      ]
     },
     "execution_count": 71,
     "metadata": {},
     "output_type": "execute_result"
    }
   ],
   "source": [
    "# Usage\n",
    "get_material_score(item)"
   ]
  },
  {
   "cell_type": "markdown",
   "metadata": {},
   "source": [
    "### Qualitative (pt. 2):\n",
    "#### Answer/Update to Question/Claim\n",
    "- We have extracted the materials from 30 brands, how do we automatically calculate a score for the materials? Is there a tool that exists that can calculate a score for materials?\n",
    "    - We can use an existing tool (Selfless Clothes' Material Sustainability Calculator) to calculate a score for the materials extracted from the web scraping of brands. We can automate the process by using string concatenation and webscraping to extract the score.\n",
    "- Domain Knowledge\n",
    "    - Learned how to utilize URL's query parameters to get results that I want and scrape them.\n",
    "#### Summary\n",
    "- Now I am able to extract scores from an existing tool through an automated process, this will simplify the sustainability score calculation for our final product.\n",
    "#### Uncertainty, Limitations & Caveats\n",
    "- The code does not run very quickly.\n",
    "- The score that is calculated is limited to the bias and research of Selfless Clothes' methodology and the Higg MSI.\n",
    "#### Next Steps\n",
    "- Next steps: scrape all the YouTube data and generate the scores for all of those videos so we can generate our final sustainability score."
   ]
  }
 ],
 "metadata": {
  "kernelspec": {
   "display_name": "base",
   "language": "python",
   "name": "python3"
  },
  "language_info": {
   "codemirror_mode": {
    "name": "ipython",
    "version": 3
   },
   "file_extension": ".py",
   "mimetype": "text/x-python",
   "name": "python",
   "nbconvert_exporter": "python",
   "pygments_lexer": "ipython3",
   "version": "3.11.7"
  }
 },
 "nbformat": 4,
 "nbformat_minor": 2
}
