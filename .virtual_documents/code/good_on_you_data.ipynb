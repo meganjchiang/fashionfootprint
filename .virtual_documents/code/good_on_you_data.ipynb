


import requests
from bs4 import BeautifulSoup
import pandas as pd
# import string

all_brand_info = []
cols = ['brand', 'overall_rating', 'planet_score', 'people_score', 'animals_score', 'description']

url = 'https://directory.goodonyou.eco/brand/'

brands = [
    'Princess Polly',
    'Brandy Melville',
    'Shein',
    'Nike',
    'Abercrombie & Fitch',
    'Amazon',
    'ASOS',
    'Forever 21', 
    'American Eagle'
]

for brand in brands:
    # convert brand name to url format
    brand_converted = brand.lower() # lowercase
    brand_converted = brand_converted.replace(' ', '-') # replace spaces with dashes
    brand_converted = brand_converted.replace('&', 'and') # replace '&' with 'and'
    # !! need to figure out a way to remove other punctuation like apostrophes (e.g., "Levi's") without removing the dashes we just added

    # get data on each brand's page
    response = requests.get(url+brand_converted)
    soup = BeautifulSoup(response.text, 'html.parser')

    # note: when finding classes on GOU's website, you might need to disable JavaScript (since BeautifulSoup can't load dynamic content)

    # get overall rating 
    overall_rating = soup.find('h6', class_='StyledHeading-sc-1rdh4aw-0 jNSEQB id__OverallRating-sc-12z6g46-7 cjSjNJ')
    overall_rating = overall_rating.text.split(': ')[1]

    # get subratings for planet, people, and animals
    subratings = soup.find_all('div', class_='id__RatingSingle-sc-12z6g46-9 ksJKxw')
 
    # remove category name from text 
    subratings[0] = subratings[0].text.split('Planet')[1]
    subratings[1] = subratings[1].text.split('People')[1]
    subratings[2] = subratings[2].text.split('Animals')[1]

    # if there's a rating, convert to int (makes it easier to analyze later)
    for i, rating in enumerate(subratings):
        if rating != 'Not applicable':
            subratings[i] = int(rating.split(' ')[0])

    # get description/justification
    text = soup.find('div', class_='id__BodyText-sc-12z6g46-15 eUqrmK').text
    
    # create new list of current brand info and add data
    brand_info = []
    brand_info.append(brand)
    brand_info.append(overall_rating)
    brand_info.append(subratings[0])
    brand_info.append(subratings[1])
    brand_info.append(subratings[2])
    brand_info.append(text)
    
    # add to overall list of brand info
    all_brand_info.append(brand_info)

brand_df = pd.DataFrame(all_brand_info, columns=cols)

# replace Good On You's categories with numerical ratings
# source: https://saturncloud.io/blog/how-to-convert-categorical-data-to-numerical-data-with-pandas
brand_df['overall_rating'] = brand_df['overall_rating'].replace({
    'We avoid': 1,
    'Not good enough': 2,
    "It's a start": 3,
    'Good': 4,
    'Great': 5
})

brand_df


# this CSV file is saved in the data folder
brand_df.to_csv('../data/brand_info.csv')





import requests
from bs4 import BeautifulSoup

url = 'https://directory.goodonyou.eco/categories/tops' # so far it's the tops category only, will work more on this later

response = requests.get(url)
soup = BeautifulSoup(response.text, 'html.parser')

brands = soup.find_all('a', class_='Link__LinkBody-sc-o1cqd2-1 ijSNSa')
        
recommended = []

scraping_url = 'https://directory.goodonyou.eco'

for brand in brands:
    brand_name = brand.text
    brand_href = brand.get('href')
    if brand.text != '': # need this if statement because it's sometimes storing empty values for the name
        # get data on each brand's page
        response = requests.get(scraping_url+brand_href)
        soup = BeautifulSoup(response.text, 'html.parser')

        # get overall rating 
        overall_rating = soup.find('h6', class_='StyledHeading-sc-1rdh4aw-0 jNSEQB id__OverallRating-sc-12z6g46-7 cjSjNJ')
        overall_rating = overall_rating.text.split(': ')[1]
        
        # get subratings for planet, people, and animals
        subratings = soup.find_all('div', class_='id__RatingSingle-sc-12z6g46-9 ksJKxw')
        
        # remove category name from text 
        subratings[0] = subratings[0].text.split('Planet')[1]
        subratings[1] = subratings[1].text.split('People')[1]
        subratings[2] = subratings[2].text.split('Animals')[1]

        # if there's a rating, convert to int (makes it easier to analyze later)
        for i, rating in enumerate(subratings):
            if rating != 'Not applicable':
                subratings[i] = int(rating.split(' ')[0])

        # get description/justification
        text = soup.find('div', class_='id__BodyText-sc-12z6g46-15 eUqrmK').text

        # create new list of current brand info and add data
        brand_info = []
        brand_info.append(brand_name)
        brand_info.append(overall_rating)
        brand_info.append(subratings[0])
        brand_info.append(subratings[1])
        brand_info.append(subratings[2])
        brand_info.append(text)
        
        # add to overall list of brand info
        recommended.append(brand_info)

recommended_df = pd.DataFrame(recommended, columns=cols)

# replace Good On You's categories with numerical ratings
# source: https://saturncloud.io/blog/how-to-convert-categorical-data-to-numerical-data-with-pandas
recommended_df['overall_rating'] = recommended_df['overall_rating'].replace({
    'We avoid': 1,
    'Not good enough': 2,
    "It's a start": 3,
    'Good': 4,
    'Great': 5
})

recommended_df


# this CSV file is saved in the data folder
recommended_df.to_csv('../data/gou_recommended.csv')
