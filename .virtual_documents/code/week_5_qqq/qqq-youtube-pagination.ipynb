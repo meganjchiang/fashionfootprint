








from googleapiclient.discovery import build
import pandas as pd
from datetime import datetime
import re
import os
import config

# set up YouTube Data API 
api_key = config.API_KEY
youtube = build('youtube', 'v3', developerKey=api_key)


def get_youtube_data(brand_name):
    published_after = datetime(2023, 9, 1).isoformat() + 'Z'
    published_before = datetime(2024, 4, 24).isoformat() + 'Z'
    keywords = ['haul', 'clothing', 'clothes', 'shop', 'shopping', 'try on', 'try-on', 'review', 'styling']
    social_media_links = ['pinterest', 'youtube', 'twitter', 'instagram', 'tiktok',
                          'reddit', 'twitch', 'facebook', 'thmatc', 'spotify']

    # fetch initial search results
    search_results = []
    request = youtube.search().list(
        q=brand_name,
        part='snippet',
        type='video',
        publishedAfter=published_after,
        publishedBefore=published_before,
        maxResults=10
    )
    response = request.execute()
    next_page_token = response.get('nextPageToken')
    
    while next_page_token is not None:
        # send request to YouTube API
        request = youtube.search().list(
            q=brand_name,
            part='snippet',
            type='video',
            publishedAfter=published_after,
            publishedBefore=published_before,
            maxResults=5,
            pageToken=next_page_token
        )
        response = request.execute()
        # add items from response 
        search_results.extend(response.get('items',[]))
        # get next page token for pagination
        next_page_token = response.get('nextPageToken')

    # process search results to extract relevant vid data
    brand_videos = []
    for search_result in search_results:
        # gets and stores video id
        video_id = search_result['id']['videoId']
        video_response = youtube.videos().list(
            # receive snippet part of data - title, description, tags, etc.
            part="snippet",
            id=video_id
        ).execute()

        # access description field of snipper
        description = video_response['items'][0]['snippet']['description']
        # extract links from description
        links = re.findall(r'(https?://\S+)', description)
        # makes all titles lowercase so code can match on any version of title:
        title = search_result['snippet']['title'].lower()

        # filters based on brand name and fashion related keywords
        if brand_name.lower() in title and any(keyword in title for keyword in keywords):
            # filters out social media links
            filtered_links = [link for link in links if not any(keyword in link for keyword in social_media_links)]
            # get link to video
            video_link = f"https://www.youtube.com/watch?v={video_id}"
            brand_videos.append({
                'title': search_result['snippet']['title'],
                'links': filtered_links,
                'videoLink': video_link
            })

    # process data and format for csv
    brand_youtube_data = []
    for video in brand_videos:
        if video['links']:
            brand_youtube_data.append({
                'Title': video['title'],
                'Links': '\n'.join(video['links']),
                'VideoLink': video['videoLink']
            })

    return brand_youtube_data


youtube_data = get_youtube_data('Uniqlo')

for video in youtube_data:
    print(f"Title: {video['Title']}")
    print(f"Links: {video['Links']}")
    print(f"Video Link: {video['VideoLink']}")
    print()
print()


# reads uniqlo CSV into a pandas df
uniqlo_df = pd.read_csv("../data/youtube_data/uniqlo_youtube_data.csv")

# display the first 5 rows
print("First 5 rows of Uniqlo YouTube data:")
print(uniqlo_df.head())














# <!DOCTYPE html>
# <html lang="en">
# <head>
#     <meta charset="UTF-8">
#     <meta name="viewport" content="width=device-width, initial-scale=1.0">
#     <title>Sustainability Score Finder</title>
#     <link rel="stylesheet" href="style.css">
# </head>
# <body>
#     <div class="video-link-box">
#         <h1>Sustainability Score Finder</h1>
#         <input type="text" id="videoLinkInput" placeholder="Enter video link here">
#         <button onclick="findScores()" id="findButton">Find Scores!</button>
#         <div id="result"></div>
#     </div>
#     <script src="basic-webpage.js"></script>
# </body>
# </html>





# async function findScores() {
#     // retrieves inputted vid link from input field
#     var videoLink = document.getElementById("videoLinkInput").value;

#     try {
#         // get data from brand json file
#         var response = await fetch('uniqlo-data.json');
#         var brandDataset = await response.json();
        
#         // retrieves reference to result element (from html)
#         var resultDiv = document.getElementById("result");
#         // if link is found...
#         var found = false;

#         // basic table to display results
#         var itemScoreTable = `
#             <table>
#                 <tr>
#                     <th>Item</th>
#                     <th>Material Score</th>
#                     <th>Overall Score</th>
#                     <th>People Score</th>
#                     <th>Planet Score</th>
#                 </tr>
#         `;

#         for (var i=0; i < brandDataset.length; i++) {
#             // finds matching video link in brand dataset
#             // find more efficient way of doing this later...
#             if (brandDataset[i].VideoLink === videoLink) {
#                 found = true;
#                 // retrieves links to items in the vid's description
#                 var items = brandDataset[i].Links;
#                 // retrieves item name and scores
#                 for (var j=0; j < items.length; j++) {
#                     var item = items[j].ScrapedData.item;
#                     var materialScore = items[j].MaterialScore;
#                     var overallScore = items[j].overall_score;
#                     var peopleScore = items[j].people_score;
#                     var planetScore = items[j].planet_score;
#                     // adds each item to table 
#                     // MAKE LOOK BETTER
#                     itemScoreTable += `
#                         <tr>
#                             <td>${item}</td>
#                             <td>${materialScore}</td>
#                             <td>${overallScore}</td>
#                             <td>${peopleScore}</td>
#                             <td>${planetScore}</td>
#                         </tr>
#                     `;
#                 }
#             }
#         }
#         itemScoreTable += `</table>`;

#         if (found) {
#             resultDiv.innerHTML = itemScoreTable;
#         } else {
#             resultDiv.innerHTML = "Video link not found in the brandDataset.";
#         }
#     } catch (error) {
#         console.error('Error fetching or parsing data:', error);
#     }
# }





# {
#       "Title": "Uniqlo U Spring/Summer 2023 Styling Haul + Monthly Favourites",
#       "ShortTitle": "Uniqlo U Spring/Summer 2023 Styling Haul",
#       "VideoLink": "https://www.youtube.com/watch?v=9hktZEc3Vhs",
#       "Links": [
#         {
#           "URL": "https://rstyle.me/+CZM_fbUHWdR5PT9pvIqK8Q",
#           "ScrapedData": {
#             "item": "U Oversized Single Breasted Coat",
#             "cotton": 35,
#             "nylon": 30,
#             "polyester": 65
#           },
#           "CleanScrapedData": {
#             "item": "U Oversized Single Breasted Coat",
#             "cotton": 70,
#             "nylon": 30
#           },
#           "MaterialScore": 0.3,
#           "overall_score": 3,
#           "people_score": 3,
#           "planet_score": 3
#         },
#         {
#           "URL": "https://rstyle.me/+MAdavWCUzekigB04gtAKaw",
#           "ScrapedData": {
#             "item": "U Short Jacket",
#             "cotton": 100,
#             "polyester": 65
#           },
#           "CleanScrapedData": {
#             "item": "U Short Jacket",
#             "cotton": 100
#           },
#           "MaterialScore": 0.9,
#           "overall_score": 3,
#           "people_score": 3,
#           "planet_score": 3
#         }
#       ]
#     }



