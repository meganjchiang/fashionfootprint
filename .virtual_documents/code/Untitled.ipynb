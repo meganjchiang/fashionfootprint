import pandas as pd
import matplotlib.pyplot as plt
import matplotlib.patches as mpatches
import os


# read csv file in youtube_data folder and count
# number of rows it contains
def get_csv_row_count(path):
    row_count = {}
    for file in os.listdir(path):
        if (file.endswith('.csv')):
            file_path = os.path.join(path, file)
            df = pd.read_csv(file_path)
            row_count[file] = len(df)
    return row_count


# plot histogram w/matplotlib
def plot_hist(row_count):
    # just get brand name, replace underscore with space
    # capitalize first letter of each word in brand name
    brand_names = []
    for name in row_count.keys():
        # just get brand name
        brand = name.split('_youtube_data')[0]
        # replace underscore w/space
        brand = brand.replace('_', ' ')
        # capitalize each word
        brand = brand.title()
        brand_names.append(brand)

    # bars are diff colors based on number of rows
    color_map = []
    for count in row_count.values():
        if count <= 50:
            color_map.append('darkseagreen')
        elif count <= 100:
            color_map.append('cadetblue')  
        elif count <= 150:
            color_map.append('mediumseagreen')
        else:
            color_map.append('darkslategray')
            
    legend_handles = [
        mpatches.Patch(color='darkseagreen', label='0-50 rows'),
        mpatches.Patch(color='cadetblue', label='51-100 rows'),
        mpatches.Patch(color='mediumseagreen', label='101-150 rows'),
        mpatches.Patch(color='darkslategray', label='151+ rows')
    ]

    _ = plt.figure(figsize=(10,6))
    _ = plt.bar(brand_names, row_count.values(), color=color_map)
    _ = plt.xlabel('Brand Names')
    _ = plt.ylabel('Number of Rows')
    _ = plt.title('Number of Rows in YouTube Data Files')
    _ = plt.xticks(rotation=45, ha='right')
    _ = plt.legend(handles=legend_handles,
                   title="Row Count Colors")
    _ = plt.tight_layout()


# TO DO: combined brand names that are the same...
# American Eagle, Ae
# Brandy Melville, Brandy
# North Face, The North Face
# Alo, Alo Yoga
# Abercrombie, Abercrombie And Fitch
# also organize by number of rows


if __name__ == "__main__":
    path = f"../data/youtube_data"
    row_count = get_csv_row_count(path)
    plot_hist(row_count)



