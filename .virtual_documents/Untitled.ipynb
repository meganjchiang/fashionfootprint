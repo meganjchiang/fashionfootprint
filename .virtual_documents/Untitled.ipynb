import csv
import json
import os


def csv_to_json(csv_file_path, json_file_path):
    with open(csv_file_path, 'r') as csv_file:
        csv_reader = csv.DictReader(csv_file)
        json_data = [row for row in csv_reader]

    with open(json_file_path, 'w') as json_file:
        json.dump(json_data, json_file, indent=4)


# input csv file path
csv_file_path = '../data/small_aritzia_scores.csv'

# output folder path
output_folder = '../data/json_data/'
json_file_path = os.path.join(output_folder, 'small_aritzia_scores.json')

csv_to_json(csv_file_path, json_file_path)



